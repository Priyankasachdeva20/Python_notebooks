{
 "cells": [
  {
   "cell_type": "code",
   "execution_count": 7,
   "metadata": {},
   "outputs": [],
   "source": [
    "import pandas as pd\n",
    "import numpy as np\n",
    "%matplotlib inline\n",
    "from plotly import __version__\n",
    "import cufflinks as cf\n",
    "from plotly.offline import download_plotlyjs,init_notebook_mode,plot,iplot"
   ]
  },
  {
   "cell_type": "code",
   "execution_count": 3,
   "metadata": {},
   "outputs": [
    {
     "data": {
      "text/html": [
       "        <script type=\"text/javascript\">\n",
       "        window.PlotlyConfig = {MathJaxConfig: 'local'};\n",
       "        if (window.MathJax) {MathJax.Hub.Config({SVG: {font: \"STIX-Web\"}});}\n",
       "        if (typeof require !== 'undefined') {\n",
       "        require.undef(\"plotly\");\n",
       "        requirejs.config({\n",
       "            paths: {\n",
       "                'plotly': ['https://cdn.plot.ly/plotly-latest.min']\n",
       "            }\n",
       "        });\n",
       "        require(['plotly'], function(Plotly) {\n",
       "            window._Plotly = Plotly;\n",
       "        });\n",
       "        }\n",
       "        </script>\n",
       "        "
      ]
     },
     "metadata": {},
     "output_type": "display_data"
    }
   ],
   "source": [
    "init_notebook_mode(connected=True)"
   ]
  },
  {
   "cell_type": "code",
   "execution_count": 4,
   "metadata": {},
   "outputs": [
    {
     "data": {
      "text/html": [
       "        <script type=\"text/javascript\">\n",
       "        window.PlotlyConfig = {MathJaxConfig: 'local'};\n",
       "        if (window.MathJax) {MathJax.Hub.Config({SVG: {font: \"STIX-Web\"}});}\n",
       "        if (typeof require !== 'undefined') {\n",
       "        require.undef(\"plotly\");\n",
       "        requirejs.config({\n",
       "            paths: {\n",
       "                'plotly': ['https://cdn.plot.ly/plotly-latest.min']\n",
       "            }\n",
       "        });\n",
       "        require(['plotly'], function(Plotly) {\n",
       "            window._Plotly = Plotly;\n",
       "        });\n",
       "        }\n",
       "        </script>\n",
       "        "
      ]
     },
     "metadata": {},
     "output_type": "display_data"
    }
   ],
   "source": [
    "cf.go_offline()"
   ]
  },
  {
   "cell_type": "code",
   "execution_count": 6,
   "metadata": {},
   "outputs": [
    {
     "data": {
      "text/html": [
       "<div>\n",
       "<style scoped>\n",
       "    .dataframe tbody tr th:only-of-type {\n",
       "        vertical-align: middle;\n",
       "    }\n",
       "\n",
       "    .dataframe tbody tr th {\n",
       "        vertical-align: top;\n",
       "    }\n",
       "\n",
       "    .dataframe thead th {\n",
       "        text-align: right;\n",
       "    }\n",
       "</style>\n",
       "<table border=\"1\" class=\"dataframe\">\n",
       "  <thead>\n",
       "    <tr style=\"text-align: right;\">\n",
       "      <th></th>\n",
       "      <th>A</th>\n",
       "      <th>B</th>\n",
       "      <th>C</th>\n",
       "      <th>D</th>\n",
       "    </tr>\n",
       "  </thead>\n",
       "  <tbody>\n",
       "    <tr>\n",
       "      <th>0</th>\n",
       "      <td>-0.377822</td>\n",
       "      <td>-1.316495</td>\n",
       "      <td>1.406776</td>\n",
       "      <td>-0.782865</td>\n",
       "    </tr>\n",
       "    <tr>\n",
       "      <th>1</th>\n",
       "      <td>0.092280</td>\n",
       "      <td>0.286672</td>\n",
       "      <td>1.149700</td>\n",
       "      <td>-0.359653</td>\n",
       "    </tr>\n",
       "    <tr>\n",
       "      <th>2</th>\n",
       "      <td>0.303149</td>\n",
       "      <td>1.047857</td>\n",
       "      <td>-0.326307</td>\n",
       "      <td>2.434719</td>\n",
       "    </tr>\n",
       "    <tr>\n",
       "      <th>3</th>\n",
       "      <td>-1.724720</td>\n",
       "      <td>-0.493553</td>\n",
       "      <td>-1.296833</td>\n",
       "      <td>-0.976035</td>\n",
       "    </tr>\n",
       "    <tr>\n",
       "      <th>4</th>\n",
       "      <td>-1.058807</td>\n",
       "      <td>-0.354245</td>\n",
       "      <td>-0.538967</td>\n",
       "      <td>-1.586224</td>\n",
       "    </tr>\n",
       "  </tbody>\n",
       "</table>\n",
       "</div>"
      ],
      "text/plain": [
       "          A         B         C         D\n",
       "0 -0.377822 -1.316495  1.406776 -0.782865\n",
       "1  0.092280  0.286672  1.149700 -0.359653\n",
       "2  0.303149  1.047857 -0.326307  2.434719\n",
       "3 -1.724720 -0.493553 -1.296833 -0.976035\n",
       "4 -1.058807 -0.354245 -0.538967 -1.586224"
      ]
     },
     "execution_count": 6,
     "metadata": {},
     "output_type": "execute_result"
    }
   ],
   "source": [
    "df=pd.DataFrame(np.random.randn(100,4),columns='A B C D'.split())\n",
    "df.head()"
   ]
  },
  {
   "cell_type": "code",
   "execution_count": 8,
   "metadata": {},
   "outputs": [
    {
     "data": {
      "text/plain": [
       "<AxesSubplot:>"
      ]
     },
     "execution_count": 8,
     "metadata": {},
     "output_type": "execute_result"
    },
    {
     "data": {
      "image/png": "[encoded data removed]",
      "text/plain": [
       "<Figure size 432x288 with 1 Axes>"
      ]
     },
     "metadata": {
      "needs_background": "light"
     },
     "output_type": "display_data"
    }
   ],
   "source": [
    "df.plot()"
   ]
  },
  {
   "cell_type": "code",
   "execution_count": 9,
   "metadata": {},
   "outputs": [
    {
     "data": {
      "application/vnd.plotly.v1+json": {
       "config": {
        "linkText": "Export to plot.ly",
        "plotlyServerURL": "https://plot.ly",
        "showLink": true
       },
       "data": [
        {
         "line": {
          "color": "rgba(255, 153, 51, 1.0)",
          "dash": "solid",
          "shape": "linear",
          "width": 1.3
         },
         "mode": "lines",
         "name": "A",
         "text": "",
         "type": "scatter",
         "x": [
          0,
          1,
          2,
          3,
          4,
          5,
          6,
          7,
          8,
          9,
          10,
          11,
          12,
          13,
          14,
          15,
          16,
          17,
          18,
          19,
          20,
          21,
          22,
          23,
          24,
          25,
          26,
          27,
          28,
          29,
          30,
          31,
          32,
          33,
          34,
          35,
          36,
          37,
          38,
          39,
          40,
          41,
          42,
          43,
          44,
          45,
          46,
          47,
          48,
          49,
          50,
          51,
          52,
          53,
          54,
          55,
          56,
          57,
          58,
          59,
          60,
          61,
          62,
          63,
          64,
          65,
          66,
          67,
          68,
          69,
          70,
          71,
          72,
          73,
          74,
          75,
          76,
          77,
          78,
          79,
          80,
          81,
          82,
          83,
          84,
          85,
          86,
          87,
          88,
          89,
          90,
          91,
          92,
          93,
          94,
          95,
          96,
          97,
          98,
          99
         ],
         "y": [
          -0.3778223188637527,
          0.0922801329148354,
          0.30314941242763466,
          -1.7247202757361555,
          -1.058806603088048,
          0.3562706846101683,
          0.5893574103570001,
          0.4585923583725432,
          1.1037945473464486,
          -0.3797924361831625,
          -1.0427165172979118,
          -2.353686639099532,
          -0.29509732902435676,
          -1.2329854565647862,
          -1.126512415797739,
          -2.7475965594656078,
          -1.2320765599446821,
          1.1960796864242584,
          -1.5053003537604794,
          1.4120424256808577,
          0.44528925065892605,
          0.9407256226239445,
          0.3346734763472071,
          0.6271526760473892,
          0.8580570503239457,
          -1.5932250845668334,
          -1.899147120460595,
          -0.5867413973285835,
          -0.9077758388365309,
          -0.8265399131304081,
          -0.48541987181432733,
          -1.9699390955796718,
          0.30671395224387316,
          -0.09814400017825455,
          0.6194420460243791,
          0.19192157796057446,
          0.26127009853054683,
          0.5934868937468604,
          1.3023689503304985,
          -0.557661021363899,
          1.3935040980784998,
          0.6095413707122774,
          0.19800162145167038,
          0.17773739624827156,
          0.1044704890515966,
          0.7366235446387637,
          0.12357136991878583,
          0.09574507787250311,
          0.4229303615159778,
          -0.05638478718449256,
          0.0524134147976591,
          -0.32084851794570013,
          3.323544545394268,
          -1.31951123577791,
          -1.0284774655531908,
          -0.4095367186350242,
          -0.9588002136398506,
          -0.12650654004935413,
          -0.860830501797706,
          -1.1880220044268255,
          0.00549830950166235,
          2.5233899814560115,
          -0.3659869477806698,
          0.2246642533450928,
          2.4174169231965945,
          -0.7850206563893745,
          1.1952085514381636,
          -1.625831633350626,
          0.8500313495956225,
          0.1359891984288151,
          -0.30049628523290484,
          -0.5408007451983162,
          1.156569580879917,
          -1.130335538700787,
          0.009621902777194428,
          -0.4915624184966093,
          0.8101057700385709,
          -0.3735203108248807,
          1.8487969495407632,
          -1.218057266502291,
          0.8398393241662376,
          2.4987094763734685,
          0.011469559294633237,
          1.1906179842714053,
          0.06397273787221386,
          1.5721334359149062,
          -0.40219610269343364,
          -1.5792141027986448,
          0.8781210937978811,
          -0.11279078387832467,
          -0.7966050137612551,
          -0.7811050635977146,
          1.1377100099162374,
          0.9886447210219727,
          -0.024892387637142906,
          0.9431513722593761,
          -0.11290888417369738,
          0.2128077746776085,
          -1.1045250270455622,
          -1.376879949847616
         ]
        },
        {
         "line": {
          "color": "rgba(55, 128, 191, 1.0)",
          "dash": "solid",
          "shape": "linear",
          "width": 1.3
         },
         "mode": "lines",
         "name": "B",
         "text": "",
         "type": "scatter",
         "x": [
          0,
          1,
          2,
          3,
          4,
          5,
          6,
          7,
          8,
          9,
          10,
          11,
          12,
          13,
          14,
          15,
          16,
          17,
          18,
          19,
          20,
          21,
          22,
          23,
          24,
          25,
          26,
          27,
          28,
          29,
          30,
          31,
          32,
          33,
          34,
          35,
          36,
          37,
          38,
          39,
          40,
          41,
          42,
          43,
          44,
          45,
          46,
          47,
          48,
          49,
          50,
          51,
          52,
          53,
          54,
          55,
          56,
          57,
          58,
          59,
          60,
          61,
          62,
          63,
          64,
          65,
          66,
          67,
          68,
          69,
          70,
          71,
          72,
          73,
          74,
          75,
          76,
          77,
          78,
          79,
          80,
          81,
          82,
          83,
          84,
          85,
          86,
          87,
          88,
          89,
          90,
          91,
          92,
          93,
          94,
          95,
          96,
          97,
          98,
          99
         ],
         "y": [
          -1.316494825844439,
          0.2866719465461037,
          1.0478572119460632,
          -0.49355271897014624,
          -0.3542447919084635,
          -0.32650917113074646,
          1.1327673099908224,
          -0.8284119403094422,
          -0.7922051809940646,
          -0.42267745324087386,
          -1.0574974112458024,
          0.05540325977674381,
          -1.1224762575973932,
          -0.017964883564133848,
          -0.1682330830079046,
          1.8673751650772215,
          0.08004730349155705,
          -1.1250216343133097,
          1.025612290218689,
          -0.16745276111172824,
          1.1195894693054642,
          0.8560878889882733,
          -0.689496796712005,
          -0.10834697650456812,
          -0.7416035670698498,
          -1.4275386276737139,
          -0.8358930796699012,
          -1.6783958713333986,
          0.5156163219565989,
          0.4071645719782639,
          2.6641197458789834,
          0.6289898980658927,
          -2.745439843907141,
          -2.911319180158229,
          -0.4990510898715183,
          0.3534404282333845,
          -1.1448283539966881,
          -0.08782184871280074,
          1.286134650626389,
          -1.0219268738584983,
          0.8533706050813746,
          -0.9101654435552414,
          -0.1944663516311447,
          0.023407873628503623,
          -0.19119742997980924,
          -1.0047286399715987,
          -0.015257653555950003,
          -0.0056296678451680906,
          -0.11364674997934227,
          -0.3164297329600258,
          -1.1884782853636806,
          0.5297264880579176,
          -0.5977201879104943,
          -0.10328709441783887,
          -0.40190680822729946,
          -0.015150400733030547,
          1.6259239440798234,
          -0.9176223687265888,
          0.09035423193074928,
          0.5215540259689497,
          -1.5100934159184967,
          -0.5617412384064335,
          1.9055962539223812,
          0.03140965475767426,
          -1.3191667111676395,
          0.15372129450845587,
          0.6213905285187237,
          1.4181655536798619,
          1.1127703081989955,
          -0.0009139932771381095,
          0.37146688251936105,
          1.8410188890021395,
          0.31324377589728125,
          1.7741866034599767,
          0.6860842020791837,
          -0.48426173373315584,
          -2.3158113012427592,
          2.1987352884004943,
          0.5909603338530436,
          0.06152588978596741,
          -0.47230935828592624,
          0.011882187395418206,
          0.057482546270307536,
          -0.313899116576255,
          0.8110275578864159,
          0.31186695155541283,
          0.017627978391445108,
          1.0691785570143704,
          1.6416457276834544,
          1.4965106491758011,
          -0.5416788112901813,
          -0.599576260609268,
          0.21003831009666457,
          0.15285166599823136,
          1.8531387222782865,
          -1.7774255813400108,
          0.24270874088554262,
          0.1685323107914805,
          -0.4263276741178543,
          -1.1424089489759095
         ]
        },
        {
         "line": {
          "color": "rgba(50, 171, 96, 1.0)",
          "dash": "solid",
          "shape": "linear",
          "width": 1.3
         },
         "mode": "lines",
         "name": "C",
         "text": "",
         "type": "scatter",
         "x": [
          0,
          1,
          2,
          3,
          4,
          5,
          6,
          7,
          8,
          9,
          10,
          11,
          12,
          13,
          14,
          15,
          16,
          17,
          18,
          19,
          20,
          21,
          22,
          23,
          24,
          25,
          26,
          27,
          28,
          29,
          30,
          31,
          32,
          33,
          34,
          35,
          36,
          37,
          38,
          39,
          40,
          41,
          42,
          43,
          44,
          45,
          46,
          47,
          48,
          49,
          50,
          51,
          52,
          53,
          54,
          55,
          56,
          57,
          58,
          59,
          60,
          61,
          62,
          63,
          64,
          65,
          66,
          67,
          68,
          69,
          70,
          71,
          72,
          73,
          74,
          75,
          76,
          77,
          78,
          79,
          80,
          81,
          82,
          83,
          84,
          85,
          86,
          87,
          88,
          89,
          90,
          91,
          92,
          93,
          94,
          95,
          96,
          97,
          98,
          99
         ],
         "y": [
          1.406775720046884,
          1.1496996192746953,
          -0.32630697549626747,
          -1.296832523493453,
          -0.5389668297279848,
          0.493404219081789,
          0.43584985082044786,
          -0.8214194987178164,
          1.0786653759968017,
          -1.2983206517755435,
          -2.5881414790267026,
          -1.7753004429759662,
          -0.21644596706932792,
          -1.0042188960197214,
          0.5757291561543383,
          -0.5239132916002543,
          -0.772747927796187,
          -0.46812940826066063,
          1.4521343103982036,
          1.2846326654255793,
          0.04504784799893927,
          -1.893576967991285,
          0.3919703444042239,
          -0.48642321199236016,
          -0.5437908861394942,
          -0.2792570281533198,
          1.4133221039855208,
          1.6976634794530043,
          1.4567259108246078,
          -1.8221214160932686,
          0.20003524706278106,
          0.1983044868834503,
          0.14911029729587455,
          -1.346467447568015,
          0.43398946401134586,
          0.22233685214677837,
          0.47957669586758106,
          -1.102331238917154,
          -0.4998942192434582,
          -0.521068698854739,
          0.8973733424337166,
          -0.7816245886464664,
          0.22537260587342783,
          -0.8787885822828528,
          1.4230446901233393,
          0.34987293086009996,
          1.3911796291059848,
          1.2403794662202954,
          0.5114066728728492,
          -2.0166321273917736,
          0.7856861588247765,
          0.13691720786003714,
          -0.7880673590618453,
          0.03716769157101709,
          0.7799372126487223,
          1.7985491905038886,
          -0.19659818359663062,
          -0.012702577323151937,
          -0.8626960422069377,
          0.3597157395604989,
          0.6265896221927325,
          -0.9308715158558263,
          1.3464372604156218,
          0.6498728187409063,
          -1.6511662689241349,
          -0.9229299197376384,
          -1.2478417510711537,
          1.5227750396514883,
          -0.6311981482876451,
          1.551260004036639,
          -0.10502460554637756,
          -0.8493628839047709,
          2.027302413088894,
          -2.7934070100435475,
          0.6446845621352232,
          0.22071236826477122,
          1.0616860404591533,
          0.7467718877024979,
          0.0707552703298251,
          -1.1786996958286515,
          0.5243730244208548,
          0.39007878937880947,
          -0.5946194961721954,
          0.639070916937189,
          -0.7160141695559963,
          0.2456768588349713,
          0.5563854384232808,
          0.564420226858298,
          -0.0690448547947384,
          -1.2593419532553742,
          0.6374531147193259,
          1.2207630578986564,
          0.11105879218861575,
          0.12374607949375441,
          -2.2355297017644813,
          0.9520764800263771,
          -0.0453887598932331,
          0.09024937485326473,
          -0.3105849048692074,
          -0.668433153781252
         ]
        },
        {
         "line": {
          "color": "rgba(128, 0, 128, 1.0)",
          "dash": "solid",
          "shape": "linear",
          "width": 1.3
         },
         "mode": "lines",
         "name": "D",
         "text": "",
         "type": "scatter",
         "x": [
          0,
          1,
          2,
          3,
          4,
          5,
          6,
          7,
          8,
          9,
          10,
          11,
          12,
          13,
          14,
          15,
          16,
          17,
          18,
          19,
          20,
          21,
          22,
          23,
          24,
          25,
          26,
          27,
          28,
          29,
          30,
          31,
          32,
          33,
          34,
          35,
          36,
          37,
          38,
          39,
          40,
          41,
          42,
          43,
          44,
          45,
          46,
          47,
          48,
          49,
          50,
          51,
          52,
          53,
          54,
          55,
          56,
          57,
          58,
          59,
          60,
          61,
          62,
          63,
          64,
          65,
          66,
          67,
          68,
          69,
          70,
          71,
          72,
          73,
          74,
          75,
          76,
          77,
          78,
          79,
          80,
          81,
          82,
          83,
          84,
          85,
          86,
          87,
          88,
          89,
          90,
          91,
          92,
          93,
          94,
          95,
          96,
          97,
          98,
          99
         ],
         "y": [
          -0.7828650546033424,
          -0.3596533224921512,
          2.434719466250771,
          -0.9760353510297209,
          -1.586223995581084,
          0.3433342180231897,
          -0.31836419405528904,
          -0.5890956005205258,
          -0.7323000953439843,
          0.5769436208430118,
          1.0130015446224054,
          2.6356901709872482,
          -0.8638788997042456,
          -0.018631462990366488,
          1.4687779876612514,
          0.5617108204276043,
          0.4415436167544604,
          1.179320520273603,
          0.44805899141703515,
          0.9478082903689579,
          -0.5370436644028713,
          -0.4731704080052558,
          0.31223709024066526,
          -0.5060976754902158,
          0.07033654950523442,
          0.3960105865413948,
          -0.424067082278597,
          1.0751328588786822,
          0.7736680128061073,
          -0.4259995984742435,
          2.3006358449268127,
          -2.1192105641547876,
          -0.8880452412793026,
          0.3337262950860996,
          0.8153607065240488,
          1.7043940134934612,
          0.920540277767794,
          0.4234086995152187,
          0.4079448723600171,
          1.75499020536987,
          -0.33330185707420723,
          -0.9145116511004463,
          0.20006830351177876,
          -2.1140128038847243,
          -0.5977221954328469,
          0.060721644402041634,
          -0.018137439504961928,
          0.3196159992873991,
          0.47730693769300037,
          -0.5384123818186065,
          0.093217833984639,
          -0.09918326283418104,
          0.6638592384521873,
          -1.641643122886323,
          -1.0076183003204213,
          -1.0455237773603263,
          -1.3559854330219154,
          1.2553785663067567,
          0.04446140211217297,
          0.17890724289904997,
          0.5141432214794293,
          0.6733623595289793,
          0.0017206586771053502,
          1.7002385173305798,
          0.3766576304553358,
          1.6828371294794315,
          0.12107287487108928,
          -0.5385881907425488,
          0.6373655957718737,
          2.1318433715940754,
          -1.0880384152907472,
          0.32166878175520086,
          1.4445937515436955,
          0.1568411213201166,
          -1.226161112722581,
          0.514702914050513,
          1.0750421171304343,
          -0.9812992268141888,
          -0.5516496428257325,
          0.40064604570951057,
          -2.1041721784953715,
          1.3671390546573465,
          0.24634804179867126,
          -1.0944570399758755,
          -1.4450080892781683,
          -0.7421966077271516,
          -0.6343872745838302,
          0.36836371271043256,
          -0.6519255392459694,
          -0.2474436412537946,
          -0.9071546146833869,
          -1.0249724944144538,
          -1.6963961761097375,
          -0.4012714947050643,
          -0.1521446041864467,
          -0.4959909750493157,
          0.532628405005131,
          -0.6717570080851565,
          0.00844951382232753,
          -1.0177919469853345
         ]
        }
       ],
       "layout": {
        "legend": {
         "bgcolor": "#F5F6F9",
         "font": {
          "color": "#4D5663"
         }
        },
        "paper_bgcolor": "#F5F6F9",
        "plot_bgcolor": "#F5F6F9",
        "template": {
         "data": {
          "bar": [
           {
            "error_x": {
             "color": "#2a3f5f"
            },
            "error_y": {
             "color": "#2a3f5f"
            },
            "marker": {
             "line": {
              "color": "#E5ECF6",
              "width": 0.5
             }
            },
            "type": "bar"
           }
          ],
          "barpolar": [
           {
            "marker": {
             "line": {
              "color": "#E5ECF6",
              "width": 0.5
             }
            },
            "type": "barpolar"
           }
          ],
          "carpet": [
           {
            "aaxis": {
             "endlinecolor": "#2a3f5f",
             "gridcolor": "white",
             "linecolor": "white",
             "minorgridcolor": "white",
             "startlinecolor": "#2a3f5f"
            },
            "baxis": {
             "endlinecolor": "#2a3f5f",
             "gridcolor": "white",
             "linecolor": "white",
             "minorgridcolor": "white",
             "startlinecolor": "#2a3f5f"
            },
            "type": "carpet"
           }
          ],
          "choropleth": [
           {
            "colorbar": {
             "outlinewidth": 0,
             "ticks": ""
            },
            "type": "choropleth"
           }
          ],
          "contour": [
           {
            "colorbar": {
             "outlinewidth": 0,
             "ticks": ""
            },
            "colorscale": [
             [
              0,
              "#0d0887"
             ],
             [
              0.1111111111111111,
              "#46039f"
             ],
             [
              0.2222222222222222,
              "#7201a8"
             ],
             [
              0.3333333333333333,
              "#9c179e"
             ],
             [
              0.4444444444444444,
              "#bd3786"
             ],
             [
              0.5555555555555556,
              "#d8576b"
             ],
             [
              0.6666666666666666,
              "#ed7953"
             ],
             [
              0.7777777777777778,
              "#fb9f3a"
             ],
             [
              0.8888888888888888,
              "#fdca26"
             ],
             [
              1,
              "#f0f921"
             ]
            ],
            "type": "contour"
           }
          ],
          "contourcarpet": [
           {
            "colorbar": {
             "outlinewidth": 0,
             "ticks": ""
            },
            "type": "contourcarpet"
           }
          ],
          "heatmap": [
           {
            "colorbar": {
             "outlinewidth": 0,
             "ticks": ""
            },
            "colorscale": [
             [
              0,
              "#0d0887"
             ],
             [
              0.1111111111111111,
              "#46039f"
             ],
             [
              0.2222222222222222,
              "#7201a8"
             ],
             [
              0.3333333333333333,
              "#9c179e"
             ],
             [
              0.4444444444444444,
              "#bd3786"
             ],
             [
              0.5555555555555556,
              "#d8576b"
             ],
             [
              0.6666666666666666,
              "#ed7953"
             ],
             [
              0.7777777777777778,
              "#fb9f3a"
             ],
             [
              0.8888888888888888,
              "#fdca26"
             ],
             [
              1,
              "#f0f921"
             ]
            ],
            "type": "heatmap"
           }
          ],
          "heatmapgl": [
           {
            "colorbar": {
             "outlinewidth": 0,
             "ticks": ""
            },
            "colorscale": [
             [
              0,
              "#0d0887"
             ],
             [
              0.1111111111111111,
              "#46039f"
             ],
             [
              0.2222222222222222,
              "#7201a8"
             ],
             [
              0.3333333333333333,
              "#9c179e"
             ],
             [
              0.4444444444444444,
              "#bd3786"
             ],
             [
              0.5555555555555556,
              "#d8576b"
             ],
             [
              0.6666666666666666,
              "#ed7953"
             ],
             [
              0.7777777777777778,
              "#fb9f3a"
             ],
             [
              0.8888888888888888,
              "#fdca26"
             ],
             [
              1,
              "#f0f921"
             ]
            ],
            "type": "heatmapgl"
           }
          ],
          "histogram": [
           {
            "marker": {
             "colorbar": {
              "outlinewidth": 0,
              "ticks": ""
             }
            },
            "type": "histogram"
           }
          ],
          "histogram2d": [
           {
            "colorbar": {
             "outlinewidth": 0,
             "ticks": ""
            },
            "colorscale": [
             [
              0,
              "#0d0887"
             ],
             [
              0.1111111111111111,
              "#46039f"
             ],
             [
              0.2222222222222222,
              "#7201a8"
             ],
             [
              0.3333333333333333,
              "#9c179e"
             ],
             [
              0.4444444444444444,
              "#bd3786"
             ],
             [
              0.5555555555555556,
              "#d8576b"
             ],
             [
              0.6666666666666666,
              "#ed7953"
             ],
             [
              0.7777777777777778,
              "#fb9f3a"
             ],
             [
              0.8888888888888888,
              "#fdca26"
             ],
             [
              1,
              "#f0f921"
             ]
            ],
            "type": "histogram2d"
           }
          ],
          "histogram2dcontour": [
           {
            "colorbar": {
             "outlinewidth": 0,
             "ticks": ""
            },
            "colorscale": [
             [
              0,
              "#0d0887"
             ],
             [
              0.1111111111111111,
              "#46039f"
             ],
             [
              0.2222222222222222,
              "#7201a8"
             ],
             [
              0.3333333333333333,
              "#9c179e"
             ],
             [
              0.4444444444444444,
              "#bd3786"
             ],
             [
              0.5555555555555556,
              "#d8576b"
             ],
             [
              0.6666666666666666,
              "#ed7953"
             ],
             [
              0.7777777777777778,
              "#fb9f3a"
             ],
             [
              0.8888888888888888,
              "#fdca26"
             ],
             [
              1,
              "#f0f921"
             ]
            ],
            "type": "histogram2dcontour"
           }
          ],
          "mesh3d": [
           {
            "colorbar": {
             "outlinewidth": 0,
             "ticks": ""
            },
            "type": "mesh3d"
           }
          ],
          "parcoords": [
           {
            "line": {
             "colorbar": {
              "outlinewidth": 0,
              "ticks": ""
             }
            },
            "type": "parcoords"
           }
          ],
          "pie": [
           {
            "automargin": true,
            "type": "pie"
           }
          ],
          "scatter": [
           {
            "marker": {
             "colorbar": {
              "outlinewidth": 0,
              "ticks": ""
             }
            },
            "type": "scatter"
           }
          ],
          "scatter3d": [
           {
            "line": {
             "colorbar": {
              "outlinewidth": 0,
              "ticks": ""
             }
            },
            "marker": {
             "colorbar": {
              "outlinewidth": 0,
              "ticks": ""
             }
            },
            "type": "scatter3d"
           }
          ],
          "scattercarpet": [
           {
            "marker": {
             "colorbar": {
              "outlinewidth": 0,
              "ticks": ""
             }
            },
            "type": "scattercarpet"
           }
          ],
          "scattergeo": [
           {
            "marker": {
             "colorbar": {
              "outlinewidth": 0,
              "ticks": ""
             }
            },
            "type": "scattergeo"
           }
          ],
          "scattergl": [
           {
            "marker": {
             "colorbar": {
              "outlinewidth": 0,
              "ticks": ""
             }
            },
            "type": "scattergl"
           }
          ],
          "scattermapbox": [
           {
            "marker": {
             "colorbar": {
              "outlinewidth": 0,
              "ticks": ""
             }
            },
            "type": "scattermapbox"
           }
          ],
          "scatterpolar": [
           {
            "marker": {
             "colorbar": {
              "outlinewidth": 0,
              "ticks": ""
             }
            },
            "type": "scatterpolar"
           }
          ],
          "scatterpolargl": [
           {
            "marker": {
             "colorbar": {
              "outlinewidth": 0,
              "ticks": ""
             }
            },
            "type": "scatterpolargl"
           }
          ],
          "scatterternary": [
           {
            "marker": {
             "colorbar": {
              "outlinewidth": 0,
              "ticks": ""
             }
            },
            "type": "scatterternary"
           }
          ],
          "surface": [
           {
            "colorbar": {
             "outlinewidth": 0,
             "ticks": ""
            },
            "colorscale": [
             [
              0,
              "#0d0887"
             ],
             [
              0.1111111111111111,
              "#46039f"
             ],
             [
              0.2222222222222222,
              "#7201a8"
             ],
             [
              0.3333333333333333,
              "#9c179e"
             ],
             [
              0.4444444444444444,
              "#bd3786"
             ],
             [
              0.5555555555555556,
              "#d8576b"
             ],
             [
              0.6666666666666666,
              "#ed7953"
             ],
             [
              0.7777777777777778,
              "#fb9f3a"
             ],
             [
              0.8888888888888888,
              "#fdca26"
             ],
             [
              1,
              "#f0f921"
             ]
            ],
            "type": "surface"
           }
          ],
          "table": [
           {
            "cells": {
             "fill": {
              "color": "#EBF0F8"
             },
             "line": {
              "color": "white"
             }
            },
            "header": {
             "fill": {
              "color": "#C8D4E3"
             },
             "line": {
              "color": "white"
             }
            },
            "type": "table"
           }
          ]
         },
         "layout": {
          "annotationdefaults": {
           "arrowcolor": "#2a3f5f",
           "arrowhead": 0,
           "arrowwidth": 1
          },
          "coloraxis": {
           "colorbar": {
            "outlinewidth": 0,
            "ticks": ""
           }
          },
          "colorscale": {
           "diverging": [
            [
             0,
             "#8e0152"
            ],
            [
             0.1,
             "#c51b7d"
            ],
            [
             0.2,
             "#de77ae"
            ],
            [
             0.3,
             "#f1b6da"
            ],
            [
             0.4,
             "#fde0ef"
            ],
            [
             0.5,
             "#f7f7f7"
            ],
            [
             0.6,
             "#e6f5d0"
            ],
            [
             0.7,
             "#b8e186"
            ],
            [
             0.8,
             "#7fbc41"
            ],
            [
             0.9,
             "#4d9221"
            ],
            [
             1,
             "#276419"
            ]
           ],
           "sequential": [
            [
             0,
             "#0d0887"
            ],
            [
             0.1111111111111111,
             "#46039f"
            ],
            [
             0.2222222222222222,
             "#7201a8"
            ],
            [
             0.3333333333333333,
             "#9c179e"
            ],
            [
             0.4444444444444444,
             "#bd3786"
            ],
            [
             0.5555555555555556,
             "#d8576b"
            ],
            [
             0.6666666666666666,
             "#ed7953"
            ],
            [
             0.7777777777777778,
             "#fb9f3a"
            ],
            [
             0.8888888888888888,
             "#fdca26"
            ],
            [
             1,
             "#f0f921"
            ]
           ],
           "sequentialminus": [
            [
             0,
             "#0d0887"
            ],
            [
             0.1111111111111111,
             "#46039f"
            ],
            [
             0.2222222222222222,
             "#7201a8"
            ],
            [
             0.3333333333333333,
             "#9c179e"
            ],
            [
             0.4444444444444444,
             "#bd3786"
            ],
            [
             0.5555555555555556,
             "#d8576b"
            ],
            [
             0.6666666666666666,
             "#ed7953"
            ],
            [
             0.7777777777777778,
             "#fb9f3a"
            ],
            [
             0.8888888888888888,
             "#fdca26"
            ],
            [
             1,
             "#f0f921"
            ]
           ]
          },
          "colorway": [
           "#636efa",
           "#EF553B",
           "#00cc96",
           "#ab63fa",
           "#FFA15A",
           "#19d3f3",
           "#FF6692",
           "#B6E880",
           "#FF97FF",
           "#FECB52"
          ],
          "font": {
           "color": "#2a3f5f"
          },
          "geo": {
           "bgcolor": "white",
           "lakecolor": "white",
           "landcolor": "#E5ECF6",
           "showlakes": true,
           "showland": true,
           "subunitcolor": "white"
          },
          "hoverlabel": {
           "align": "left"
          },
          "hovermode": "closest",
          "mapbox": {
           "style": "light"
          },
          "paper_bgcolor": "white",
          "plot_bgcolor": "#E5ECF6",
          "polar": {
           "angularaxis": {
            "gridcolor": "white",
            "linecolor": "white",
            "ticks": ""
           },
           "bgcolor": "#E5ECF6",
           "radialaxis": {
            "gridcolor": "white",
            "linecolor": "white",
            "ticks": ""
           }
          },
          "scene": {
           "xaxis": {
            "backgroundcolor": "#E5ECF6",
            "gridcolor": "white",
            "gridwidth": 2,
            "linecolor": "white",
            "showbackground": true,
            "ticks": "",
            "zerolinecolor": "white"
           },
           "yaxis": {
            "backgroundcolor": "#E5ECF6",
            "gridcolor": "white",
            "gridwidth": 2,
            "linecolor": "white",
            "showbackground": true,
            "ticks": "",
            "zerolinecolor": "white"
           },
           "zaxis": {
            "backgroundcolor": "#E5ECF6",
            "gridcolor": "white",
            "gridwidth": 2,
            "linecolor": "white",
            "showbackground": true,
            "ticks": "",
            "zerolinecolor": "white"
           }
          },
          "shapedefaults": {
           "line": {
            "color": "#2a3f5f"
           }
          },
          "ternary": {
           "aaxis": {
            "gridcolor": "white",
            "linecolor": "white",
            "ticks": ""
           },
           "baxis": {
            "gridcolor": "white",
            "linecolor": "white",
            "ticks": ""
           },
           "bgcolor": "#E5ECF6",
           "caxis": {
            "gridcolor": "white",
            "linecolor": "white",
            "ticks": ""
           }
          },
          "title": {
           "x": 0.05
          },
          "xaxis": {
           "automargin": true,
           "gridcolor": "white",
           "linecolor": "white",
           "ticks": "",
           "title": {
            "standoff": 15
           },
           "zerolinecolor": "white",
           "zerolinewidth": 2
          },
          "yaxis": {
           "automargin": true,
           "gridcolor": "white",
           "linecolor": "white",
           "ticks": "",
           "title": {
            "standoff": 15
           },
           "zerolinecolor": "white",
           "zerolinewidth": 2
          }
         }
        },
        "title": {
         "font": {
          "color": "#4D5663"
         }
        },
        "xaxis": {
         "gridcolor": "#E1E5ED",
         "showgrid": true,
         "tickfont": {
          "color": "#4D5663"
         },
         "title": {
          "font": {
           "color": "#4D5663"
          },
          "text": ""
         },
         "zerolinecolor": "#E1E5ED"
        },
        "yaxis": {
         "gridcolor": "#E1E5ED",
         "showgrid": true,
         "tickfont": {
          "color": "#4D5663"
         },
         "title": {
          "font": {
           "color": "#4D5663"
          },
          "text": ""
         },
         "zerolinecolor": "#E1E5ED"
        }
       }
      },
      "text/html": [
       "<div>\n",
       "        \n",
       "        \n",
       "            <div id=\"39b2ae54-ed69-4e87-a200-17f347c7ed70\" class=\"plotly-graph-div\" style=\"height:525px; width:100%;\"></div>\n",
       "            <script type=\"text/javascript\">\n",
       "                require([\"plotly\"], function(Plotly) {\n",
       "                    window.PLOTLYENV=window.PLOTLYENV || {};\n",
       "                    window.PLOTLYENV.BASE_URL='https://plot.ly';\n",
       "                    \n",
       "                if (document.getElementById(\"39b2ae54-ed69-4e87-a200-17f347c7ed70\")) {\n",
       "                    Plotly.newPlot(\n",
       "                        '39b2ae54-ed69-4e87-a200-17f347c7ed70',\n",
       "                        [{\"line\": {\"color\": \"rgba(255, 153, 51, 1.0)\", \"dash\": \"solid\", \"shape\": \"linear\", \"width\": 1.3}, \"mode\": \"lines\", \"name\": \"A\", \"text\": \"\", \"type\": \"scatter\", \"x\": [0, 1, 2, 3, 4, 5, 6, 7, 8, 9, 10, 11, 12, 13, 14, 15, 16, 17, 18, 19, 20, 21, 22, 23, 24, 25, 26, 27, 28, 29, 30, 31, 32, 33, 34, 35, 36, 37, 38, 39, 40, 41, 42, 43, 44, 45, 46, 47, 48, 49, 50, 51, 52, 53, 54, 55, 56, 57, 58, 59, 60, 61, 62, 63, 64, 65, 66, 67, 68, 69, 70, 71, 72, 73, 74, 75, 76, 77, 78, 79, 80, 81, 82, 83, 84, 85, 86, 87, 88, 89, 90, 91, 92, 93, 94, 95, 96, 97, 98, 99], \"y\": [-0.3778223188637527, 0.0922801329148354, 0.30314941242763466, -1.7247202757361555, -1.058806603088048, 0.3562706846101683, 0.5893574103570001, 0.4585923583725432, 1.1037945473464486, -0.3797924361831625, -1.0427165172979118, -2.353686639099532, -0.29509732902435676, -1.2329854565647862, -1.126512415797739, -2.7475965594656078, -1.2320765599446821, 1.1960796864242584, -1.5053003537604794, 1.4120424256808577, 0.44528925065892605, 0.9407256226239445, 0.3346734763472071, 0.6271526760473892, 0.8580570503239457, -1.5932250845668334, -1.899147120460595, -0.5867413973285835, -0.9077758388365309, -0.8265399131304081, -0.48541987181432733, -1.9699390955796718, 0.30671395224387316, -0.09814400017825455, 0.6194420460243791, 0.19192157796057446, 0.26127009853054683, 0.5934868937468604, 1.3023689503304985, -0.557661021363899, 1.3935040980784998, 0.6095413707122774, 0.19800162145167038, 0.17773739624827156, 0.1044704890515966, 0.7366235446387637, 0.12357136991878583, 0.09574507787250311, 0.4229303615159778, -0.05638478718449256, 0.0524134147976591, -0.32084851794570013, 3.323544545394268, -1.31951123577791, -1.0284774655531908, -0.4095367186350242, -0.9588002136398506, -0.12650654004935413, -0.860830501797706, -1.1880220044268255, 0.00549830950166235, 2.5233899814560115, -0.3659869477806698, 0.2246642533450928, 2.4174169231965945, -0.7850206563893745, 1.1952085514381636, -1.625831633350626, 0.8500313495956225, 0.1359891984288151, -0.30049628523290484, -0.5408007451983162, 1.156569580879917, -1.130335538700787, 0.009621902777194428, -0.4915624184966093, 0.8101057700385709, -0.3735203108248807, 1.8487969495407632, -1.218057266502291, 0.8398393241662376, 2.4987094763734685, 0.011469559294633237, 1.1906179842714053, 0.06397273787221386, 1.5721334359149062, -0.40219610269343364, -1.5792141027986448, 0.8781210937978811, -0.11279078387832467, -0.7966050137612551, -0.7811050635977146, 1.1377100099162374, 0.9886447210219727, -0.024892387637142906, 0.9431513722593761, -0.11290888417369738, 0.2128077746776085, -1.1045250270455622, -1.376879949847616]}, {\"line\": {\"color\": \"rgba(55, 128, 191, 1.0)\", \"dash\": \"solid\", \"shape\": \"linear\", \"width\": 1.3}, \"mode\": \"lines\", \"name\": \"B\", \"text\": \"\", \"type\": \"scatter\", \"x\": [0, 1, 2, 3, 4, 5, 6, 7, 8, 9, 10, 11, 12, 13, 14, 15, 16, 17, 18, 19, 20, 21, 22, 23, 24, 25, 26, 27, 28, 29, 30, 31, 32, 33, 34, 35, 36, 37, 38, 39, 40, 41, 42, 43, 44, 45, 46, 47, 48, 49, 50, 51, 52, 53, 54, 55, 56, 57, 58, 59, 60, 61, 62, 63, 64, 65, 66, 67, 68, 69, 70, 71, 72, 73, 74, 75, 76, 77, 78, 79, 80, 81, 82, 83, 84, 85, 86, 87, 88, 89, 90, 91, 92, 93, 94, 95, 96, 97, 98, 99], \"y\": [-1.316494825844439, 0.2866719465461037, 1.0478572119460632, -0.49355271897014624, -0.3542447919084635, -0.32650917113074646, 1.1327673099908224, -0.8284119403094422, -0.7922051809940646, -0.42267745324087386, -1.0574974112458024, 0.05540325977674381, -1.1224762575973932, -0.017964883564133848, -0.1682330830079046, 1.8673751650772215, 0.08004730349155705, -1.1250216343133097, 1.025612290218689, -0.16745276111172824, 1.1195894693054642, 0.8560878889882733, -0.689496796712005, -0.10834697650456812, -0.7416035670698498, -1.4275386276737139, -0.8358930796699012, -1.6783958713333986, 0.5156163219565989, 0.4071645719782639, 2.6641197458789834, 0.6289898980658927, -2.745439843907141, -2.911319180158229, -0.4990510898715183, 0.3534404282333845, -1.1448283539966881, -0.08782184871280074, 1.286134650626389, -1.0219268738584983, 0.8533706050813746, -0.9101654435552414, -0.1944663516311447, 0.023407873628503623, -0.19119742997980924, -1.0047286399715987, -0.015257653555950003, -0.0056296678451680906, -0.11364674997934227, -0.3164297329600258, -1.1884782853636806, 0.5297264880579176, -0.5977201879104943, -0.10328709441783887, -0.40190680822729946, -0.015150400733030547, 1.6259239440798234, -0.9176223687265888, 0.09035423193074928, 0.5215540259689497, -1.5100934159184967, -0.5617412384064335, 1.9055962539223812, 0.03140965475767426, -1.3191667111676395, 0.15372129450845587, 0.6213905285187237, 1.4181655536798619, 1.1127703081989955, -0.0009139932771381095, 0.37146688251936105, 1.8410188890021395, 0.31324377589728125, 1.7741866034599767, 0.6860842020791837, -0.48426173373315584, -2.3158113012427592, 2.1987352884004943, 0.5909603338530436, 0.06152588978596741, -0.47230935828592624, 0.011882187395418206, 0.057482546270307536, -0.313899116576255, 0.8110275578864159, 0.31186695155541283, 0.017627978391445108, 1.0691785570143704, 1.6416457276834544, 1.4965106491758011, -0.5416788112901813, -0.599576260609268, 0.21003831009666457, 0.15285166599823136, 1.8531387222782865, -1.7774255813400108, 0.24270874088554262, 0.1685323107914805, -0.4263276741178543, -1.1424089489759095]}, {\"line\": {\"color\": \"rgba(50, 171, 96, 1.0)\", \"dash\": \"solid\", \"shape\": \"linear\", \"width\": 1.3}, \"mode\": \"lines\", \"name\": \"C\", \"text\": \"\", \"type\": \"scatter\", \"x\": [0, 1, 2, 3, 4, 5, 6, 7, 8, 9, 10, 11, 12, 13, 14, 15, 16, 17, 18, 19, 20, 21, 22, 23, 24, 25, 26, 27, 28, 29, 30, 31, 32, 33, 34, 35, 36, 37, 38, 39, 40, 41, 42, 43, 44, 45, 46, 47, 48, 49, 50, 51, 52, 53, 54, 55, 56, 57, 58, 59, 60, 61, 62, 63, 64, 65, 66, 67, 68, 69, 70, 71, 72, 73, 74, 75, 76, 77, 78, 79, 80, 81, 82, 83, 84, 85, 86, 87, 88, 89, 90, 91, 92, 93, 94, 95, 96, 97, 98, 99], \"y\": [1.406775720046884, 1.1496996192746953, -0.32630697549626747, -1.296832523493453, -0.5389668297279848, 0.493404219081789, 0.43584985082044786, -0.8214194987178164, 1.0786653759968017, -1.2983206517755435, -2.5881414790267026, -1.7753004429759662, -0.21644596706932792, -1.0042188960197214, 0.5757291561543383, -0.5239132916002543, -0.772747927796187, -0.46812940826066063, 1.4521343103982036, 1.2846326654255793, 0.04504784799893927, -1.893576967991285, 0.3919703444042239, -0.48642321199236016, -0.5437908861394942, -0.2792570281533198, 1.4133221039855208, 1.6976634794530043, 1.4567259108246078, -1.8221214160932686, 0.20003524706278106, 0.1983044868834503, 0.14911029729587455, -1.346467447568015, 0.43398946401134586, 0.22233685214677837, 0.47957669586758106, -1.102331238917154, -0.4998942192434582, -0.521068698854739, 0.8973733424337166, -0.7816245886464664, 0.22537260587342783, -0.8787885822828528, 1.4230446901233393, 0.34987293086009996, 1.3911796291059848, 1.2403794662202954, 0.5114066728728492, -2.0166321273917736, 0.7856861588247765, 0.13691720786003714, -0.7880673590618453, 0.03716769157101709, 0.7799372126487223, 1.7985491905038886, -0.19659818359663062, -0.012702577323151937, -0.8626960422069377, 0.3597157395604989, 0.6265896221927325, -0.9308715158558263, 1.3464372604156218, 0.6498728187409063, -1.6511662689241349, -0.9229299197376384, -1.2478417510711537, 1.5227750396514883, -0.6311981482876451, 1.551260004036639, -0.10502460554637756, -0.8493628839047709, 2.027302413088894, -2.7934070100435475, 0.6446845621352232, 0.22071236826477122, 1.0616860404591533, 0.7467718877024979, 0.0707552703298251, -1.1786996958286515, 0.5243730244208548, 0.39007878937880947, -0.5946194961721954, 0.639070916937189, -0.7160141695559963, 0.2456768588349713, 0.5563854384232808, 0.564420226858298, -0.0690448547947384, -1.2593419532553742, 0.6374531147193259, 1.2207630578986564, 0.11105879218861575, 0.12374607949375441, -2.2355297017644813, 0.9520764800263771, -0.0453887598932331, 0.09024937485326473, -0.3105849048692074, -0.668433153781252]}, {\"line\": {\"color\": \"rgba(128, 0, 128, 1.0)\", \"dash\": \"solid\", \"shape\": \"linear\", \"width\": 1.3}, \"mode\": \"lines\", \"name\": \"D\", \"text\": \"\", \"type\": \"scatter\", \"x\": [0, 1, 2, 3, 4, 5, 6, 7, 8, 9, 10, 11, 12, 13, 14, 15, 16, 17, 18, 19, 20, 21, 22, 23, 24, 25, 26, 27, 28, 29, 30, 31, 32, 33, 34, 35, 36, 37, 38, 39, 40, 41, 42, 43, 44, 45, 46, 47, 48, 49, 50, 51, 52, 53, 54, 55, 56, 57, 58, 59, 60, 61, 62, 63, 64, 65, 66, 67, 68, 69, 70, 71, 72, 73, 74, 75, 76, 77, 78, 79, 80, 81, 82, 83, 84, 85, 86, 87, 88, 89, 90, 91, 92, 93, 94, 95, 96, 97, 98, 99], \"y\": [-0.7828650546033424, -0.3596533224921512, 2.434719466250771, -0.9760353510297209, -1.586223995581084, 0.3433342180231897, -0.31836419405528904, -0.5890956005205258, -0.7323000953439843, 0.5769436208430118, 1.0130015446224054, 2.6356901709872482, -0.8638788997042456, -0.018631462990366488, 1.4687779876612514, 0.5617108204276043, 0.4415436167544604, 1.179320520273603, 0.44805899141703515, 0.9478082903689579, -0.5370436644028713, -0.4731704080052558, 0.31223709024066526, -0.5060976754902158, 0.07033654950523442, 0.3960105865413948, -0.424067082278597, 1.0751328588786822, 0.7736680128061073, -0.4259995984742435, 2.3006358449268127, -2.1192105641547876, -0.8880452412793026, 0.3337262950860996, 0.8153607065240488, 1.7043940134934612, 0.920540277767794, 0.4234086995152187, 0.4079448723600171, 1.75499020536987, -0.33330185707420723, -0.9145116511004463, 0.20006830351177876, -2.1140128038847243, -0.5977221954328469, 0.060721644402041634, -0.018137439504961928, 0.3196159992873991, 0.47730693769300037, -0.5384123818186065, 0.093217833984639, -0.09918326283418104, 0.6638592384521873, -1.641643122886323, -1.0076183003204213, -1.0455237773603263, -1.3559854330219154, 1.2553785663067567, 0.04446140211217297, 0.17890724289904997, 0.5141432214794293, 0.6733623595289793, 0.0017206586771053502, 1.7002385173305798, 0.3766576304553358, 1.6828371294794315, 0.12107287487108928, -0.5385881907425488, 0.6373655957718737, 2.1318433715940754, -1.0880384152907472, 0.32166878175520086, 1.4445937515436955, 0.1568411213201166, -1.226161112722581, 0.514702914050513, 1.0750421171304343, -0.9812992268141888, -0.5516496428257325, 0.40064604570951057, -2.1041721784953715, 1.3671390546573465, 0.24634804179867126, -1.0944570399758755, -1.4450080892781683, -0.7421966077271516, -0.6343872745838302, 0.36836371271043256, -0.6519255392459694, -0.2474436412537946, -0.9071546146833869, -1.0249724944144538, -1.6963961761097375, -0.4012714947050643, -0.1521446041864467, -0.4959909750493157, 0.532628405005131, -0.6717570080851565, 0.00844951382232753, -1.0177919469853345]}],\n",
       "                        {\"legend\": {\"bgcolor\": \"#F5F6F9\", \"font\": {\"color\": \"#4D5663\"}}, \"paper_bgcolor\": \"#F5F6F9\", \"plot_bgcolor\": \"#F5F6F9\", \"template\": {\"data\": {\"bar\": [{\"error_x\": {\"color\": \"#2a3f5f\"}, \"error_y\": {\"color\": \"#2a3f5f\"}, \"marker\": {\"line\": {\"color\": \"#E5ECF6\", \"width\": 0.5}}, \"type\": \"bar\"}], \"barpolar\": [{\"marker\": {\"line\": {\"color\": \"#E5ECF6\", \"width\": 0.5}}, \"type\": \"barpolar\"}], \"carpet\": [{\"aaxis\": {\"endlinecolor\": \"#2a3f5f\", \"gridcolor\": \"white\", \"linecolor\": \"white\", \"minorgridcolor\": \"white\", \"startlinecolor\": \"#2a3f5f\"}, \"baxis\": {\"endlinecolor\": \"#2a3f5f\", \"gridcolor\": \"white\", \"linecolor\": \"white\", \"minorgridcolor\": \"white\", \"startlinecolor\": \"#2a3f5f\"}, \"type\": \"carpet\"}], \"choropleth\": [{\"colorbar\": {\"outlinewidth\": 0, \"ticks\": \"\"}, \"type\": \"choropleth\"}], \"contour\": [{\"colorbar\": {\"outlinewidth\": 0, \"ticks\": \"\"}, \"colorscale\": [[0.0, \"#0d0887\"], [0.1111111111111111, \"#46039f\"], [0.2222222222222222, \"#7201a8\"], [0.3333333333333333, \"#9c179e\"], [0.4444444444444444, \"#bd3786\"], [0.5555555555555556, \"#d8576b\"], [0.6666666666666666, \"#ed7953\"], [0.7777777777777778, \"#fb9f3a\"], [0.8888888888888888, \"#fdca26\"], [1.0, \"#f0f921\"]], \"type\": \"contour\"}], \"contourcarpet\": [{\"colorbar\": {\"outlinewidth\": 0, \"ticks\": \"\"}, \"type\": \"contourcarpet\"}], \"heatmap\": [{\"colorbar\": {\"outlinewidth\": 0, \"ticks\": \"\"}, \"colorscale\": [[0.0, \"#0d0887\"], [0.1111111111111111, \"#46039f\"], [0.2222222222222222, \"#7201a8\"], [0.3333333333333333, \"#9c179e\"], [0.4444444444444444, \"#bd3786\"], [0.5555555555555556, \"#d8576b\"], [0.6666666666666666, \"#ed7953\"], [0.7777777777777778, \"#fb9f3a\"], [0.8888888888888888, \"#fdca26\"], [1.0, \"#f0f921\"]], \"type\": \"heatmap\"}], \"heatmapgl\": [{\"colorbar\": {\"outlinewidth\": 0, \"ticks\": \"\"}, \"colorscale\": [[0.0, \"#0d0887\"], [0.1111111111111111, \"#46039f\"], [0.2222222222222222, \"#7201a8\"], [0.3333333333333333, \"#9c179e\"], [0.4444444444444444, \"#bd3786\"], [0.5555555555555556, \"#d8576b\"], [0.6666666666666666, \"#ed7953\"], [0.7777777777777778, \"#fb9f3a\"], [0.8888888888888888, \"#fdca26\"], [1.0, \"#f0f921\"]], \"type\": \"heatmapgl\"}], \"histogram\": [{\"marker\": {\"colorbar\": {\"outlinewidth\": 0, \"ticks\": \"\"}}, \"type\": \"histogram\"}], \"histogram2d\": [{\"colorbar\": {\"outlinewidth\": 0, \"ticks\": \"\"}, \"colorscale\": [[0.0, \"#0d0887\"], [0.1111111111111111, \"#46039f\"], [0.2222222222222222, \"#7201a8\"], [0.3333333333333333, \"#9c179e\"], [0.4444444444444444, \"#bd3786\"], [0.5555555555555556, \"#d8576b\"], [0.6666666666666666, \"#ed7953\"], [0.7777777777777778, \"#fb9f3a\"], [0.8888888888888888, \"#fdca26\"], [1.0, \"#f0f921\"]], \"type\": \"histogram2d\"}], \"histogram2dcontour\": [{\"colorbar\": {\"outlinewidth\": 0, \"ticks\": \"\"}, \"colorscale\": [[0.0, \"#0d0887\"], [0.1111111111111111, \"#46039f\"], [0.2222222222222222, \"#7201a8\"], [0.3333333333333333, \"#9c179e\"], [0.4444444444444444, \"#bd3786\"], [0.5555555555555556, \"#d8576b\"], [0.6666666666666666, \"#ed7953\"], [0.7777777777777778, \"#fb9f3a\"], [0.8888888888888888, \"#fdca26\"], [1.0, \"#f0f921\"]], \"type\": \"histogram2dcontour\"}], \"mesh3d\": [{\"colorbar\": {\"outlinewidth\": 0, \"ticks\": \"\"}, \"type\": \"mesh3d\"}], \"parcoords\": [{\"line\": {\"colorbar\": {\"outlinewidth\": 0, \"ticks\": \"\"}}, \"type\": \"parcoords\"}], \"pie\": [{\"automargin\": true, \"type\": \"pie\"}], \"scatter\": [{\"marker\": {\"colorbar\": {\"outlinewidth\": 0, \"ticks\": \"\"}}, \"type\": \"scatter\"}], \"scatter3d\": [{\"line\": {\"colorbar\": {\"outlinewidth\": 0, \"ticks\": \"\"}}, \"marker\": {\"colorbar\": {\"outlinewidth\": 0, \"ticks\": \"\"}}, \"type\": \"scatter3d\"}], \"scattercarpet\": [{\"marker\": {\"colorbar\": {\"outlinewidth\": 0, \"ticks\": \"\"}}, \"type\": \"scattercarpet\"}], \"scattergeo\": [{\"marker\": {\"colorbar\": {\"outlinewidth\": 0, \"ticks\": \"\"}}, \"type\": \"scattergeo\"}], \"scattergl\": [{\"marker\": {\"colorbar\": {\"outlinewidth\": 0, \"ticks\": \"\"}}, \"type\": \"scattergl\"}], \"scattermapbox\": [{\"marker\": {\"colorbar\": {\"outlinewidth\": 0, \"ticks\": \"\"}}, \"type\": \"scattermapbox\"}], \"scatterpolar\": [{\"marker\": {\"colorbar\": {\"outlinewidth\": 0, \"ticks\": \"\"}}, \"type\": \"scatterpolar\"}], \"scatterpolargl\": [{\"marker\": {\"colorbar\": {\"outlinewidth\": 0, \"ticks\": \"\"}}, \"type\": \"scatterpolargl\"}], \"scatterternary\": [{\"marker\": {\"colorbar\": {\"outlinewidth\": 0, \"ticks\": \"\"}}, \"type\": \"scatterternary\"}], \"surface\": [{\"colorbar\": {\"outlinewidth\": 0, \"ticks\": \"\"}, \"colorscale\": [[0.0, \"#0d0887\"], [0.1111111111111111, \"#46039f\"], [0.2222222222222222, \"#7201a8\"], [0.3333333333333333, \"#9c179e\"], [0.4444444444444444, \"#bd3786\"], [0.5555555555555556, \"#d8576b\"], [0.6666666666666666, \"#ed7953\"], [0.7777777777777778, \"#fb9f3a\"], [0.8888888888888888, \"#fdca26\"], [1.0, \"#f0f921\"]], \"type\": \"surface\"}], \"table\": [{\"cells\": {\"fill\": {\"color\": \"#EBF0F8\"}, \"line\": {\"color\": \"white\"}}, \"header\": {\"fill\": {\"color\": \"#C8D4E3\"}, \"line\": {\"color\": \"white\"}}, \"type\": \"table\"}]}, \"layout\": {\"annotationdefaults\": {\"arrowcolor\": \"#2a3f5f\", \"arrowhead\": 0, \"arrowwidth\": 1}, \"coloraxis\": {\"colorbar\": {\"outlinewidth\": 0, \"ticks\": \"\"}}, \"colorscale\": {\"diverging\": [[0, \"#8e0152\"], [0.1, \"#c51b7d\"], [0.2, \"#de77ae\"], [0.3, \"#f1b6da\"], [0.4, \"#fde0ef\"], [0.5, \"#f7f7f7\"], [0.6, \"#e6f5d0\"], [0.7, \"#b8e186\"], [0.8, \"#7fbc41\"], [0.9, \"#4d9221\"], [1, \"#276419\"]], \"sequential\": [[0.0, \"#0d0887\"], [0.1111111111111111, \"#46039f\"], [0.2222222222222222, \"#7201a8\"], [0.3333333333333333, \"#9c179e\"], [0.4444444444444444, \"#bd3786\"], [0.5555555555555556, \"#d8576b\"], [0.6666666666666666, \"#ed7953\"], [0.7777777777777778, \"#fb9f3a\"], [0.8888888888888888, \"#fdca26\"], [1.0, \"#f0f921\"]], \"sequentialminus\": [[0.0, \"#0d0887\"], [0.1111111111111111, \"#46039f\"], [0.2222222222222222, \"#7201a8\"], [0.3333333333333333, \"#9c179e\"], [0.4444444444444444, \"#bd3786\"], [0.5555555555555556, \"#d8576b\"], [0.6666666666666666, \"#ed7953\"], [0.7777777777777778, \"#fb9f3a\"], [0.8888888888888888, \"#fdca26\"], [1.0, \"#f0f921\"]]}, \"colorway\": [\"#636efa\", \"#EF553B\", \"#00cc96\", \"#ab63fa\", \"#FFA15A\", \"#19d3f3\", \"#FF6692\", \"#B6E880\", \"#FF97FF\", \"#FECB52\"], \"font\": {\"color\": \"#2a3f5f\"}, \"geo\": {\"bgcolor\": \"white\", \"lakecolor\": \"white\", \"landcolor\": \"#E5ECF6\", \"showlakes\": true, \"showland\": true, \"subunitcolor\": \"white\"}, \"hoverlabel\": {\"align\": \"left\"}, \"hovermode\": \"closest\", \"mapbox\": {\"style\": \"light\"}, \"paper_bgcolor\": \"white\", \"plot_bgcolor\": \"#E5ECF6\", \"polar\": {\"angularaxis\": {\"gridcolor\": \"white\", \"linecolor\": \"white\", \"ticks\": \"\"}, \"bgcolor\": \"#E5ECF6\", \"radialaxis\": {\"gridcolor\": \"white\", \"linecolor\": \"white\", \"ticks\": \"\"}}, \"scene\": {\"xaxis\": {\"backgroundcolor\": \"#E5ECF6\", \"gridcolor\": \"white\", \"gridwidth\": 2, \"linecolor\": \"white\", \"showbackground\": true, \"ticks\": \"\", \"zerolinecolor\": \"white\"}, \"yaxis\": {\"backgroundcolor\": \"#E5ECF6\", \"gridcolor\": \"white\", \"gridwidth\": 2, \"linecolor\": \"white\", \"showbackground\": true, \"ticks\": \"\", \"zerolinecolor\": \"white\"}, \"zaxis\": {\"backgroundcolor\": \"#E5ECF6\", \"gridcolor\": \"white\", \"gridwidth\": 2, \"linecolor\": \"white\", \"showbackground\": true, \"ticks\": \"\", \"zerolinecolor\": \"white\"}}, \"shapedefaults\": {\"line\": {\"color\": \"#2a3f5f\"}}, \"ternary\": {\"aaxis\": {\"gridcolor\": \"white\", \"linecolor\": \"white\", \"ticks\": \"\"}, \"baxis\": {\"gridcolor\": \"white\", \"linecolor\": \"white\", \"ticks\": \"\"}, \"bgcolor\": \"#E5ECF6\", \"caxis\": {\"gridcolor\": \"white\", \"linecolor\": \"white\", \"ticks\": \"\"}}, \"title\": {\"x\": 0.05}, \"xaxis\": {\"automargin\": true, \"gridcolor\": \"white\", \"linecolor\": \"white\", \"ticks\": \"\", \"title\": {\"standoff\": 15}, \"zerolinecolor\": \"white\", \"zerolinewidth\": 2}, \"yaxis\": {\"automargin\": true, \"gridcolor\": \"white\", \"linecolor\": \"white\", \"ticks\": \"\", \"title\": {\"standoff\": 15}, \"zerolinecolor\": \"white\", \"zerolinewidth\": 2}}}, \"title\": {\"font\": {\"color\": \"#4D5663\"}}, \"xaxis\": {\"gridcolor\": \"#E1E5ED\", \"showgrid\": true, \"tickfont\": {\"color\": \"#4D5663\"}, \"title\": {\"font\": {\"color\": \"#4D5663\"}, \"text\": \"\"}, \"zerolinecolor\": \"#E1E5ED\"}, \"yaxis\": {\"gridcolor\": \"#E1E5ED\", \"showgrid\": true, \"tickfont\": {\"color\": \"#4D5663\"}, \"title\": {\"font\": {\"color\": \"#4D5663\"}, \"text\": \"\"}, \"zerolinecolor\": \"#E1E5ED\"}},\n",
       "                        {\"showLink\": true, \"linkText\": \"Export to plot.ly\", \"plotlyServerURL\": \"https://plot.ly\", \"responsive\": true}\n",
       "                    ).then(function(){\n",
       "                            \n",
       "var gd = document.getElementById('39b2ae54-ed69-4e87-a200-17f347c7ed70');\n",
       "var x = new MutationObserver(function (mutations, observer) {{\n",
       "        var display = window.getComputedStyle(gd).display;\n",
       "        if (!display || display === 'none') {{\n",
       "            console.log([gd, 'removed!']);\n",
       "            Plotly.purge(gd);\n",
       "            observer.disconnect();\n",
       "        }}\n",
       "}});\n",
       "\n",
       "// Listen for the removal of the full notebook cells\n",
       "var notebookContainer = gd.closest('#notebook-container');\n",
       "if (notebookContainer) {{\n",
       "    x.observe(notebookContainer, {childList: true});\n",
       "}}\n",
       "\n",
       "// Listen for the clearing of the current output cell\n",
       "var outputEl = gd.closest('.output');\n",
       "if (outputEl) {{\n",
       "    x.observe(outputEl, {childList: true});\n",
       "}}\n",
       "\n",
       "                        })\n",
       "                };\n",
       "                });\n",
       "            </script>\n",
       "        </div>"
      ]
     },
     "metadata": {},
     "output_type": "display_data"
    }
   ],
   "source": [
    "df.iplot()"
   ]
  },
  {
   "cell_type": "code",
   "execution_count": 13,
   "metadata": {},
   "outputs": [
    {
     "data": {
      "application/vnd.plotly.v1+json": {
       "config": {
        "linkText": "Export to plot.ly",
        "plotlyServerURL": "https://plot.ly",
        "showLink": true
       },
       "data": [
        {
         "boxpoints": false,
         "line": {
          "width": 1.3
         },
         "marker": {
          "color": "rgba(255, 153, 51, 1.0)"
         },
         "name": "A",
         "orientation": "v",
         "type": "box",
         "y": [
          -0.3778223188637527,
          0.0922801329148354,
          0.30314941242763466,
          -1.7247202757361555,
          -1.058806603088048,
          0.3562706846101683,
          0.5893574103570001,
          0.4585923583725432,
          1.1037945473464486,
          -0.3797924361831625,
          -1.0427165172979118,
          -2.353686639099532,
          -0.29509732902435676,
          -1.2329854565647862,
          -1.126512415797739,
          -2.7475965594656078,
          -1.2320765599446821,
          1.1960796864242584,
          -1.5053003537604794,
          1.4120424256808577,
          0.44528925065892605,
          0.9407256226239445,
          0.3346734763472071,
          0.6271526760473892,
          0.8580570503239457,
          -1.5932250845668334,
          -1.899147120460595,
          -0.5867413973285835,
          -0.9077758388365309,
          -0.8265399131304081,
          -0.48541987181432733,
          -1.9699390955796718,
          0.30671395224387316,
          -0.09814400017825455,
          0.6194420460243791,
          0.19192157796057446,
          0.26127009853054683,
          0.5934868937468604,
          1.3023689503304985,
          -0.557661021363899,
          1.3935040980784998,
          0.6095413707122774,
          0.19800162145167038,
          0.17773739624827156,
          0.1044704890515966,
          0.7366235446387637,
          0.12357136991878583,
          0.09574507787250311,
          0.4229303615159778,
          -0.05638478718449256,
          0.0524134147976591,
          -0.32084851794570013,
          3.323544545394268,
          -1.31951123577791,
          -1.0284774655531908,
          -0.4095367186350242,
          -0.9588002136398506,
          -0.12650654004935413,
          -0.860830501797706,
          -1.1880220044268255,
          0.00549830950166235,
          2.5233899814560115,
          -0.3659869477806698,
          0.2246642533450928,
          2.4174169231965945,
          -0.7850206563893745,
          1.1952085514381636,
          -1.625831633350626,
          0.8500313495956225,
          0.1359891984288151,
          -0.30049628523290484,
          -0.5408007451983162,
          1.156569580879917,
          -1.130335538700787,
          0.009621902777194428,
          -0.4915624184966093,
          0.8101057700385709,
          -0.3735203108248807,
          1.8487969495407632,
          -1.218057266502291,
          0.8398393241662376,
          2.4987094763734685,
          0.011469559294633237,
          1.1906179842714053,
          0.06397273787221386,
          1.5721334359149062,
          -0.40219610269343364,
          -1.5792141027986448,
          0.8781210937978811,
          -0.11279078387832467,
          -0.7966050137612551,
          -0.7811050635977146,
          1.1377100099162374,
          0.9886447210219727,
          -0.024892387637142906,
          0.9431513722593761,
          -0.11290888417369738,
          0.2128077746776085,
          -1.1045250270455622,
          -1.376879949847616
         ]
        },
        {
         "boxpoints": false,
         "line": {
          "width": 1.3
         },
         "marker": {
          "color": "rgba(55, 128, 191, 1.0)"
         },
         "name": "B",
         "orientation": "v",
         "type": "box",
         "y": [
          -1.316494825844439,
          0.2866719465461037,
          1.0478572119460632,
          -0.49355271897014624,
          -0.3542447919084635,
          -0.32650917113074646,
          1.1327673099908224,
          -0.8284119403094422,
          -0.7922051809940646,
          -0.42267745324087386,
          -1.0574974112458024,
          0.05540325977674381,
          -1.1224762575973932,
          -0.017964883564133848,
          -0.1682330830079046,
          1.8673751650772215,
          0.08004730349155705,
          -1.1250216343133097,
          1.025612290218689,
          -0.16745276111172824,
          1.1195894693054642,
          0.8560878889882733,
          -0.689496796712005,
          -0.10834697650456812,
          -0.7416035670698498,
          -1.4275386276737139,
          -0.8358930796699012,
          -1.6783958713333986,
          0.5156163219565989,
          0.4071645719782639,
          2.6641197458789834,
          0.6289898980658927,
          -2.745439843907141,
          -2.911319180158229,
          -0.4990510898715183,
          0.3534404282333845,
          -1.1448283539966881,
          -0.08782184871280074,
          1.286134650626389,
          -1.0219268738584983,
          0.8533706050813746,
          -0.9101654435552414,
          -0.1944663516311447,
          0.023407873628503623,
          -0.19119742997980924,
          -1.0047286399715987,
          -0.015257653555950003,
          -0.0056296678451680906,
          -0.11364674997934227,
          -0.3164297329600258,
          -1.1884782853636806,
          0.5297264880579176,
          -0.5977201879104943,
          -0.10328709441783887,
          -0.40190680822729946,
          -0.015150400733030547,
          1.6259239440798234,
          -0.9176223687265888,
          0.09035423193074928,
          0.5215540259689497,
          -1.5100934159184967,
          -0.5617412384064335,
          1.9055962539223812,
          0.03140965475767426,
          -1.3191667111676395,
          0.15372129450845587,
          0.6213905285187237,
          1.4181655536798619,
          1.1127703081989955,
          -0.0009139932771381095,
          0.37146688251936105,
          1.8410188890021395,
          0.31324377589728125,
          1.7741866034599767,
          0.6860842020791837,
          -0.48426173373315584,
          -2.3158113012427592,
          2.1987352884004943,
          0.5909603338530436,
          0.06152588978596741,
          -0.47230935828592624,
          0.011882187395418206,
          0.057482546270307536,
          -0.313899116576255,
          0.8110275578864159,
          0.31186695155541283,
          0.017627978391445108,
          1.0691785570143704,
          1.6416457276834544,
          1.4965106491758011,
          -0.5416788112901813,
          -0.599576260609268,
          0.21003831009666457,
          0.15285166599823136,
          1.8531387222782865,
          -1.7774255813400108,
          0.24270874088554262,
          0.1685323107914805,
          -0.4263276741178543,
          -1.1424089489759095
         ]
        },
        {
         "boxpoints": false,
         "line": {
          "width": 1.3
         },
         "marker": {
          "color": "rgba(50, 171, 96, 1.0)"
         },
         "name": "C",
         "orientation": "v",
         "type": "box",
         "y": [
          1.406775720046884,
          1.1496996192746953,
          -0.32630697549626747,
          -1.296832523493453,
          -0.5389668297279848,
          0.493404219081789,
          0.43584985082044786,
          -0.8214194987178164,
          1.0786653759968017,
          -1.2983206517755435,
          -2.5881414790267026,
          -1.7753004429759662,
          -0.21644596706932792,
          -1.0042188960197214,
          0.5757291561543383,
          -0.5239132916002543,
          -0.772747927796187,
          -0.46812940826066063,
          1.4521343103982036,
          1.2846326654255793,
          0.04504784799893927,
          -1.893576967991285,
          0.3919703444042239,
          -0.48642321199236016,
          -0.5437908861394942,
          -0.2792570281533198,
          1.4133221039855208,
          1.6976634794530043,
          1.4567259108246078,
          -1.8221214160932686,
          0.20003524706278106,
          0.1983044868834503,
          0.14911029729587455,
          -1.346467447568015,
          0.43398946401134586,
          0.22233685214677837,
          0.47957669586758106,
          -1.102331238917154,
          -0.4998942192434582,
          -0.521068698854739,
          0.8973733424337166,
          -0.7816245886464664,
          0.22537260587342783,
          -0.8787885822828528,
          1.4230446901233393,
          0.34987293086009996,
          1.3911796291059848,
          1.2403794662202954,
          0.5114066728728492,
          -2.0166321273917736,
          0.7856861588247765,
          0.13691720786003714,
          -0.7880673590618453,
          0.03716769157101709,
          0.7799372126487223,
          1.7985491905038886,
          -0.19659818359663062,
          -0.012702577323151937,
          -0.8626960422069377,
          0.3597157395604989,
          0.6265896221927325,
          -0.9308715158558263,
          1.3464372604156218,
          0.6498728187409063,
          -1.6511662689241349,
          -0.9229299197376384,
          -1.2478417510711537,
          1.5227750396514883,
          -0.6311981482876451,
          1.551260004036639,
          -0.10502460554637756,
          -0.8493628839047709,
          2.027302413088894,
          -2.7934070100435475,
          0.6446845621352232,
          0.22071236826477122,
          1.0616860404591533,
          0.7467718877024979,
          0.0707552703298251,
          -1.1786996958286515,
          0.5243730244208548,
          0.39007878937880947,
          -0.5946194961721954,
          0.639070916937189,
          -0.7160141695559963,
          0.2456768588349713,
          0.5563854384232808,
          0.564420226858298,
          -0.0690448547947384,
          -1.2593419532553742,
          0.6374531147193259,
          1.2207630578986564,
          0.11105879218861575,
          0.12374607949375441,
          -2.2355297017644813,
          0.9520764800263771,
          -0.0453887598932331,
          0.09024937485326473,
          -0.3105849048692074,
          -0.668433153781252
         ]
        },
        {
         "boxpoints": false,
         "line": {
          "width": 1.3
         },
         "marker": {
          "color": "rgba(128, 0, 128, 1.0)"
         },
         "name": "D",
         "orientation": "v",
         "type": "box",
         "y": [
          -0.7828650546033424,
          -0.3596533224921512,
          2.434719466250771,
          -0.9760353510297209,
          -1.586223995581084,
          0.3433342180231897,
          -0.31836419405528904,
          -0.5890956005205258,
          -0.7323000953439843,
          0.5769436208430118,
          1.0130015446224054,
          2.6356901709872482,
          -0.8638788997042456,
          -0.018631462990366488,
          1.4687779876612514,
          0.5617108204276043,
          0.4415436167544604,
          1.179320520273603,
          0.44805899141703515,
          0.9478082903689579,
          -0.5370436644028713,
          -0.4731704080052558,
          0.31223709024066526,
          -0.5060976754902158,
          0.07033654950523442,
          0.3960105865413948,
          -0.424067082278597,
          1.0751328588786822,
          0.7736680128061073,
          -0.4259995984742435,
          2.3006358449268127,
          -2.1192105641547876,
          -0.8880452412793026,
          0.3337262950860996,
          0.8153607065240488,
          1.7043940134934612,
          0.920540277767794,
          0.4234086995152187,
          0.4079448723600171,
          1.75499020536987,
          -0.33330185707420723,
          -0.9145116511004463,
          0.20006830351177876,
          -2.1140128038847243,
          -0.5977221954328469,
          0.060721644402041634,
          -0.018137439504961928,
          0.3196159992873991,
          0.47730693769300037,
          -0.5384123818186065,
          0.093217833984639,
          -0.09918326283418104,
          0.6638592384521873,
          -1.641643122886323,
          -1.0076183003204213,
          -1.0455237773603263,
          -1.3559854330219154,
          1.2553785663067567,
          0.04446140211217297,
          0.17890724289904997,
          0.5141432214794293,
          0.6733623595289793,
          0.0017206586771053502,
          1.7002385173305798,
          0.3766576304553358,
          1.6828371294794315,
          0.12107287487108928,
          -0.5385881907425488,
          0.6373655957718737,
          2.1318433715940754,
          -1.0880384152907472,
          0.32166878175520086,
          1.4445937515436955,
          0.1568411213201166,
          -1.226161112722581,
          0.514702914050513,
          1.0750421171304343,
          -0.9812992268141888,
          -0.5516496428257325,
          0.40064604570951057,
          -2.1041721784953715,
          1.3671390546573465,
          0.24634804179867126,
          -1.0944570399758755,
          -1.4450080892781683,
          -0.7421966077271516,
          -0.6343872745838302,
          0.36836371271043256,
          -0.6519255392459694,
          -0.2474436412537946,
          -0.9071546146833869,
          -1.0249724944144538,
          -1.6963961761097375,
          -0.4012714947050643,
          -0.1521446041864467,
          -0.4959909750493157,
          0.532628405005131,
          -0.6717570080851565,
          0.00844951382232753,
          -1.0177919469853345
         ]
        }
       ],
       "layout": {
        "legend": {
         "bgcolor": "#F5F6F9",
         "font": {
          "color": "#4D5663"
         }
        },
        "paper_bgcolor": "#F5F6F9",
        "plot_bgcolor": "#F5F6F9",
        "template": {
         "data": {
          "bar": [
           {
            "error_x": {
             "color": "#2a3f5f"
            },
            "error_y": {
             "color": "#2a3f5f"
            },
            "marker": {
             "line": {
              "color": "#E5ECF6",
              "width": 0.5
             }
            },
            "type": "bar"
           }
          ],
          "barpolar": [
           {
            "marker": {
             "line": {
              "color": "#E5ECF6",
              "width": 0.5
             }
            },
            "type": "barpolar"
           }
          ],
          "carpet": [
           {
            "aaxis": {
             "endlinecolor": "#2a3f5f",
             "gridcolor": "white",
             "linecolor": "white",
             "minorgridcolor": "white",
             "startlinecolor": "#2a3f5f"
            },
            "baxis": {
             "endlinecolor": "#2a3f5f",
             "gridcolor": "white",
             "linecolor": "white",
             "minorgridcolor": "white",
             "startlinecolor": "#2a3f5f"
            },
            "type": "carpet"
           }
          ],
          "choropleth": [
           {
            "colorbar": {
             "outlinewidth": 0,
             "ticks": ""
            },
            "type": "choropleth"
           }
          ],
          "contour": [
           {
            "colorbar": {
             "outlinewidth": 0,
             "ticks": ""
            },
            "colorscale": [
             [
              0,
              "#0d0887"
             ],
             [
              0.1111111111111111,
              "#46039f"
             ],
             [
              0.2222222222222222,
              "#7201a8"
             ],
             [
              0.3333333333333333,
              "#9c179e"
             ],
             [
              0.4444444444444444,
              "#bd3786"
             ],
             [
              0.5555555555555556,
              "#d8576b"
             ],
             [
              0.6666666666666666,
              "#ed7953"
             ],
             [
              0.7777777777777778,
              "#fb9f3a"
             ],
             [
              0.8888888888888888,
              "#fdca26"
             ],
             [
              1,
              "#f0f921"
             ]
            ],
            "type": "contour"
           }
          ],
          "contourcarpet": [
           {
            "colorbar": {
             "outlinewidth": 0,
             "ticks": ""
            },
            "type": "contourcarpet"
           }
          ],
          "heatmap": [
           {
            "colorbar": {
             "outlinewidth": 0,
             "ticks": ""
            },
            "colorscale": [
             [
              0,
              "#0d0887"
             ],
             [
              0.1111111111111111,
              "#46039f"
             ],
             [
              0.2222222222222222,
              "#7201a8"
             ],
             [
              0.3333333333333333,
              "#9c179e"
             ],
             [
              0.4444444444444444,
              "#bd3786"
             ],
             [
              0.5555555555555556,
              "#d8576b"
             ],
             [
              0.6666666666666666,
              "#ed7953"
             ],
             [
              0.7777777777777778,
              "#fb9f3a"
             ],
             [
              0.8888888888888888,
              "#fdca26"
             ],
             [
              1,
              "#f0f921"
             ]
            ],
            "type": "heatmap"
           }
          ],
          "heatmapgl": [
           {
            "colorbar": {
             "outlinewidth": 0,
             "ticks": ""
            },
            "colorscale": [
             [
              0,
              "#0d0887"
             ],
             [
              0.1111111111111111,
              "#46039f"
             ],
             [
              0.2222222222222222,
              "#7201a8"
             ],
             [
              0.3333333333333333,
              "#9c179e"
             ],
             [
              0.4444444444444444,
              "#bd3786"
             ],
             [
              0.5555555555555556,
              "#d8576b"
             ],
             [
              0.6666666666666666,
              "#ed7953"
             ],
             [
              0.7777777777777778,
              "#fb9f3a"
             ],
             [
              0.8888888888888888,
              "#fdca26"
             ],
             [
              1,
              "#f0f921"
             ]
            ],
            "type": "heatmapgl"
           }
          ],
          "histogram": [
           {
            "marker": {
             "colorbar": {
              "outlinewidth": 0,
              "ticks": ""
             }
            },
            "type": "histogram"
           }
          ],
          "histogram2d": [
           {
            "colorbar": {
             "outlinewidth": 0,
             "ticks": ""
            },
            "colorscale": [
             [
              0,
              "#0d0887"
             ],
             [
              0.1111111111111111,
              "#46039f"
             ],
             [
              0.2222222222222222,
              "#7201a8"
             ],
             [
              0.3333333333333333,
              "#9c179e"
             ],
             [
              0.4444444444444444,
              "#bd3786"
             ],
             [
              0.5555555555555556,
              "#d8576b"
             ],
             [
              0.6666666666666666,
              "#ed7953"
             ],
             [
              0.7777777777777778,
              "#fb9f3a"
             ],
             [
              0.8888888888888888,
              "#fdca26"
             ],
             [
              1,
              "#f0f921"
             ]
            ],
            "type": "histogram2d"
           }
          ],
          "histogram2dcontour": [
           {
            "colorbar": {
             "outlinewidth": 0,
             "ticks": ""
            },
            "colorscale": [
             [
              0,
              "#0d0887"
             ],
             [
              0.1111111111111111,
              "#46039f"
             ],
             [
              0.2222222222222222,
              "#7201a8"
             ],
             [
              0.3333333333333333,
              "#9c179e"
             ],
             [
              0.4444444444444444,
              "#bd3786"
             ],
             [
              0.5555555555555556,
              "#d8576b"
             ],
             [
              0.6666666666666666,
              "#ed7953"
             ],
             [
              0.7777777777777778,
              "#fb9f3a"
             ],
             [
              0.8888888888888888,
              "#fdca26"
             ],
             [
              1,
              "#f0f921"
             ]
            ],
            "type": "histogram2dcontour"
           }
          ],
          "mesh3d": [
           {
            "colorbar": {
             "outlinewidth": 0,
             "ticks": ""
            },
            "type": "mesh3d"
           }
          ],
          "parcoords": [
           {
            "line": {
             "colorbar": {
              "outlinewidth": 0,
              "ticks": ""
             }
            },
            "type": "parcoords"
           }
          ],
          "pie": [
           {
            "automargin": true,
            "type": "pie"
           }
          ],
          "scatter": [
           {
            "marker": {
             "colorbar": {
              "outlinewidth": 0,
              "ticks": ""
             }
            },
            "type": "scatter"
           }
          ],
          "scatter3d": [
           {
            "line": {
             "colorbar": {
              "outlinewidth": 0,
              "ticks": ""
             }
            },
            "marker": {
             "colorbar": {
              "outlinewidth": 0,
              "ticks": ""
             }
            },
            "type": "scatter3d"
           }
          ],
          "scattercarpet": [
           {
            "marker": {
             "colorbar": {
              "outlinewidth": 0,
              "ticks": ""
             }
            },
            "type": "scattercarpet"
           }
          ],
          "scattergeo": [
           {
            "marker": {
             "colorbar": {
              "outlinewidth": 0,
              "ticks": ""
             }
            },
            "type": "scattergeo"
           }
          ],
          "scattergl": [
           {
            "marker": {
             "colorbar": {
              "outlinewidth": 0,
              "ticks": ""
             }
            },
            "type": "scattergl"
           }
          ],
          "scattermapbox": [
           {
            "marker": {
             "colorbar": {
              "outlinewidth": 0,
              "ticks": ""
             }
            },
            "type": "scattermapbox"
           }
          ],
          "scatterpolar": [
           {
            "marker": {
             "colorbar": {
              "outlinewidth": 0,
              "ticks": ""
             }
            },
            "type": "scatterpolar"
           }
          ],
          "scatterpolargl": [
           {
            "marker": {
             "colorbar": {
              "outlinewidth": 0,
              "ticks": ""
             }
            },
            "type": "scatterpolargl"
           }
          ],
          "scatterternary": [
           {
            "marker": {
             "colorbar": {
              "outlinewidth": 0,
              "ticks": ""
             }
            },
            "type": "scatterternary"
           }
          ],
          "surface": [
           {
            "colorbar": {
             "outlinewidth": 0,
             "ticks": ""
            },
            "colorscale": [
             [
              0,
              "#0d0887"
             ],
             [
              0.1111111111111111,
              "#46039f"
             ],
             [
              0.2222222222222222,
              "#7201a8"
             ],
             [
              0.3333333333333333,
              "#9c179e"
             ],
             [
              0.4444444444444444,
              "#bd3786"
             ],
             [
              0.5555555555555556,
              "#d8576b"
             ],
             [
              0.6666666666666666,
              "#ed7953"
             ],
             [
              0.7777777777777778,
              "#fb9f3a"
             ],
             [
              0.8888888888888888,
              "#fdca26"
             ],
             [
              1,
              "#f0f921"
             ]
            ],
            "type": "surface"
           }
          ],
          "table": [
           {
            "cells": {
             "fill": {
              "color": "#EBF0F8"
             },
             "line": {
              "color": "white"
             }
            },
            "header": {
             "fill": {
              "color": "#C8D4E3"
             },
             "line": {
              "color": "white"
             }
            },
            "type": "table"
           }
          ]
         },
         "layout": {
          "annotationdefaults": {
           "arrowcolor": "#2a3f5f",
           "arrowhead": 0,
           "arrowwidth": 1
          },
          "coloraxis": {
           "colorbar": {
            "outlinewidth": 0,
            "ticks": ""
           }
          },
          "colorscale": {
           "diverging": [
            [
             0,
             "#8e0152"
            ],
            [
             0.1,
             "#c51b7d"
            ],
            [
             0.2,
             "#de77ae"
            ],
            [
             0.3,
             "#f1b6da"
            ],
            [
             0.4,
             "#fde0ef"
            ],
            [
             0.5,
             "#f7f7f7"
            ],
            [
             0.6,
             "#e6f5d0"
            ],
            [
             0.7,
             "#b8e186"
            ],
            [
             0.8,
             "#7fbc41"
            ],
            [
             0.9,
             "#4d9221"
            ],
            [
             1,
             "#276419"
            ]
           ],
           "sequential": [
            [
             0,
             "#0d0887"
            ],
            [
             0.1111111111111111,
             "#46039f"
            ],
            [
             0.2222222222222222,
             "#7201a8"
            ],
            [
             0.3333333333333333,
             "#9c179e"
            ],
            [
             0.4444444444444444,
             "#bd3786"
            ],
            [
             0.5555555555555556,
             "#d8576b"
            ],
            [
             0.6666666666666666,
             "#ed7953"
            ],
            [
             0.7777777777777778,
             "#fb9f3a"
            ],
            [
             0.8888888888888888,
             "#fdca26"
            ],
            [
             1,
             "#f0f921"
            ]
           ],
           "sequentialminus": [
            [
             0,
             "#0d0887"
            ],
            [
             0.1111111111111111,
             "#46039f"
            ],
            [
             0.2222222222222222,
             "#7201a8"
            ],
            [
             0.3333333333333333,
             "#9c179e"
            ],
            [
             0.4444444444444444,
             "#bd3786"
            ],
            [
             0.5555555555555556,
             "#d8576b"
            ],
            [
             0.6666666666666666,
             "#ed7953"
            ],
            [
             0.7777777777777778,
             "#fb9f3a"
            ],
            [
             0.8888888888888888,
             "#fdca26"
            ],
            [
             1,
             "#f0f921"
            ]
           ]
          },
          "colorway": [
           "#636efa",
           "#EF553B",
           "#00cc96",
           "#ab63fa",
           "#FFA15A",
           "#19d3f3",
           "#FF6692",
           "#B6E880",
           "#FF97FF",
           "#FECB52"
          ],
          "font": {
           "color": "#2a3f5f"
          },
          "geo": {
           "bgcolor": "white",
           "lakecolor": "white",
           "landcolor": "#E5ECF6",
           "showlakes": true,
           "showland": true,
           "subunitcolor": "white"
          },
          "hoverlabel": {
           "align": "left"
          },
          "hovermode": "closest",
          "mapbox": {
           "style": "light"
          },
          "paper_bgcolor": "white",
          "plot_bgcolor": "#E5ECF6",
          "polar": {
           "angularaxis": {
            "gridcolor": "white",
            "linecolor": "white",
            "ticks": ""
           },
           "bgcolor": "#E5ECF6",
           "radialaxis": {
            "gridcolor": "white",
            "linecolor": "white",
            "ticks": ""
           }
          },
          "scene": {
           "xaxis": {
            "backgroundcolor": "#E5ECF6",
            "gridcolor": "white",
            "gridwidth": 2,
            "linecolor": "white",
            "showbackground": true,
            "ticks": "",
            "zerolinecolor": "white"
           },
           "yaxis": {
            "backgroundcolor": "#E5ECF6",
            "gridcolor": "white",
            "gridwidth": 2,
            "linecolor": "white",
            "showbackground": true,
            "ticks": "",
            "zerolinecolor": "white"
           },
           "zaxis": {
            "backgroundcolor": "#E5ECF6",
            "gridcolor": "white",
            "gridwidth": 2,
            "linecolor": "white",
            "showbackground": true,
            "ticks": "",
            "zerolinecolor": "white"
           }
          },
          "shapedefaults": {
           "line": {
            "color": "#2a3f5f"
           }
          },
          "ternary": {
           "aaxis": {
            "gridcolor": "white",
            "linecolor": "white",
            "ticks": ""
           },
           "baxis": {
            "gridcolor": "white",
            "linecolor": "white",
            "ticks": ""
           },
           "bgcolor": "#E5ECF6",
           "caxis": {
            "gridcolor": "white",
            "linecolor": "white",
            "ticks": ""
           }
          },
          "title": {
           "x": 0.05
          },
          "xaxis": {
           "automargin": true,
           "gridcolor": "white",
           "linecolor": "white",
           "ticks": "",
           "title": {
            "standoff": 15
           },
           "zerolinecolor": "white",
           "zerolinewidth": 2
          },
          "yaxis": {
           "automargin": true,
           "gridcolor": "white",
           "linecolor": "white",
           "ticks": "",
           "title": {
            "standoff": 15
           },
           "zerolinecolor": "white",
           "zerolinewidth": 2
          }
         }
        },
        "title": {
         "font": {
          "color": "#4D5663"
         }
        },
        "xaxis": {
         "gridcolor": "#E1E5ED",
         "showgrid": true,
         "tickfont": {
          "color": "#4D5663"
         },
         "title": {
          "font": {
           "color": "#4D5663"
          },
          "text": ""
         },
         "zerolinecolor": "#E1E5ED"
        },
        "yaxis": {
         "gridcolor": "#E1E5ED",
         "showgrid": true,
         "tickfont": {
          "color": "#4D5663"
         },
         "title": {
          "font": {
           "color": "#4D5663"
          },
          "text": ""
         },
         "zerolinecolor": "#E1E5ED"
        }
       }
      },
      "text/html": [
       "<div>\n",
       "        \n",
       "        \n",
       "            <div id=\"0ca3c3f0-fa25-43a5-98c8-4502831cf02a\" class=\"plotly-graph-div\" style=\"height:525px; width:100%;\"></div>\n",
       "            <script type=\"text/javascript\">\n",
       "                require([\"plotly\"], function(Plotly) {\n",
       "                    window.PLOTLYENV=window.PLOTLYENV || {};\n",
       "                    window.PLOTLYENV.BASE_URL='https://plot.ly';\n",
       "                    \n",
       "                if (document.getElementById(\"0ca3c3f0-fa25-43a5-98c8-4502831cf02a\")) {\n",
       "                    Plotly.newPlot(\n",
       "                        '0ca3c3f0-fa25-43a5-98c8-4502831cf02a',\n",
       "                        [{\"boxpoints\": false, \"line\": {\"width\": 1.3}, \"marker\": {\"color\": \"rgba(255, 153, 51, 1.0)\"}, \"name\": \"A\", \"orientation\": \"v\", \"type\": \"box\", \"y\": [-0.3778223188637527, 0.0922801329148354, 0.30314941242763466, -1.7247202757361555, -1.058806603088048, 0.3562706846101683, 0.5893574103570001, 0.4585923583725432, 1.1037945473464486, -0.3797924361831625, -1.0427165172979118, -2.353686639099532, -0.29509732902435676, -1.2329854565647862, -1.126512415797739, -2.7475965594656078, -1.2320765599446821, 1.1960796864242584, -1.5053003537604794, 1.4120424256808577, 0.44528925065892605, 0.9407256226239445, 0.3346734763472071, 0.6271526760473892, 0.8580570503239457, -1.5932250845668334, -1.899147120460595, -0.5867413973285835, -0.9077758388365309, -0.8265399131304081, -0.48541987181432733, -1.9699390955796718, 0.30671395224387316, -0.09814400017825455, 0.6194420460243791, 0.19192157796057446, 0.26127009853054683, 0.5934868937468604, 1.3023689503304985, -0.557661021363899, 1.3935040980784998, 0.6095413707122774, 0.19800162145167038, 0.17773739624827156, 0.1044704890515966, 0.7366235446387637, 0.12357136991878583, 0.09574507787250311, 0.4229303615159778, -0.05638478718449256, 0.0524134147976591, -0.32084851794570013, 3.323544545394268, -1.31951123577791, -1.0284774655531908, -0.4095367186350242, -0.9588002136398506, -0.12650654004935413, -0.860830501797706, -1.1880220044268255, 0.00549830950166235, 2.5233899814560115, -0.3659869477806698, 0.2246642533450928, 2.4174169231965945, -0.7850206563893745, 1.1952085514381636, -1.625831633350626, 0.8500313495956225, 0.1359891984288151, -0.30049628523290484, -0.5408007451983162, 1.156569580879917, -1.130335538700787, 0.009621902777194428, -0.4915624184966093, 0.8101057700385709, -0.3735203108248807, 1.8487969495407632, -1.218057266502291, 0.8398393241662376, 2.4987094763734685, 0.011469559294633237, 1.1906179842714053, 0.06397273787221386, 1.5721334359149062, -0.40219610269343364, -1.5792141027986448, 0.8781210937978811, -0.11279078387832467, -0.7966050137612551, -0.7811050635977146, 1.1377100099162374, 0.9886447210219727, -0.024892387637142906, 0.9431513722593761, -0.11290888417369738, 0.2128077746776085, -1.1045250270455622, -1.376879949847616]}, {\"boxpoints\": false, \"line\": {\"width\": 1.3}, \"marker\": {\"color\": \"rgba(55, 128, 191, 1.0)\"}, \"name\": \"B\", \"orientation\": \"v\", \"type\": \"box\", \"y\": [-1.316494825844439, 0.2866719465461037, 1.0478572119460632, -0.49355271897014624, -0.3542447919084635, -0.32650917113074646, 1.1327673099908224, -0.8284119403094422, -0.7922051809940646, -0.42267745324087386, -1.0574974112458024, 0.05540325977674381, -1.1224762575973932, -0.017964883564133848, -0.1682330830079046, 1.8673751650772215, 0.08004730349155705, -1.1250216343133097, 1.025612290218689, -0.16745276111172824, 1.1195894693054642, 0.8560878889882733, -0.689496796712005, -0.10834697650456812, -0.7416035670698498, -1.4275386276737139, -0.8358930796699012, -1.6783958713333986, 0.5156163219565989, 0.4071645719782639, 2.6641197458789834, 0.6289898980658927, -2.745439843907141, -2.911319180158229, -0.4990510898715183, 0.3534404282333845, -1.1448283539966881, -0.08782184871280074, 1.286134650626389, -1.0219268738584983, 0.8533706050813746, -0.9101654435552414, -0.1944663516311447, 0.023407873628503623, -0.19119742997980924, -1.0047286399715987, -0.015257653555950003, -0.0056296678451680906, -0.11364674997934227, -0.3164297329600258, -1.1884782853636806, 0.5297264880579176, -0.5977201879104943, -0.10328709441783887, -0.40190680822729946, -0.015150400733030547, 1.6259239440798234, -0.9176223687265888, 0.09035423193074928, 0.5215540259689497, -1.5100934159184967, -0.5617412384064335, 1.9055962539223812, 0.03140965475767426, -1.3191667111676395, 0.15372129450845587, 0.6213905285187237, 1.4181655536798619, 1.1127703081989955, -0.0009139932771381095, 0.37146688251936105, 1.8410188890021395, 0.31324377589728125, 1.7741866034599767, 0.6860842020791837, -0.48426173373315584, -2.3158113012427592, 2.1987352884004943, 0.5909603338530436, 0.06152588978596741, -0.47230935828592624, 0.011882187395418206, 0.057482546270307536, -0.313899116576255, 0.8110275578864159, 0.31186695155541283, 0.017627978391445108, 1.0691785570143704, 1.6416457276834544, 1.4965106491758011, -0.5416788112901813, -0.599576260609268, 0.21003831009666457, 0.15285166599823136, 1.8531387222782865, -1.7774255813400108, 0.24270874088554262, 0.1685323107914805, -0.4263276741178543, -1.1424089489759095]}, {\"boxpoints\": false, \"line\": {\"width\": 1.3}, \"marker\": {\"color\": \"rgba(50, 171, 96, 1.0)\"}, \"name\": \"C\", \"orientation\": \"v\", \"type\": \"box\", \"y\": [1.406775720046884, 1.1496996192746953, -0.32630697549626747, -1.296832523493453, -0.5389668297279848, 0.493404219081789, 0.43584985082044786, -0.8214194987178164, 1.0786653759968017, -1.2983206517755435, -2.5881414790267026, -1.7753004429759662, -0.21644596706932792, -1.0042188960197214, 0.5757291561543383, -0.5239132916002543, -0.772747927796187, -0.46812940826066063, 1.4521343103982036, 1.2846326654255793, 0.04504784799893927, -1.893576967991285, 0.3919703444042239, -0.48642321199236016, -0.5437908861394942, -0.2792570281533198, 1.4133221039855208, 1.6976634794530043, 1.4567259108246078, -1.8221214160932686, 0.20003524706278106, 0.1983044868834503, 0.14911029729587455, -1.346467447568015, 0.43398946401134586, 0.22233685214677837, 0.47957669586758106, -1.102331238917154, -0.4998942192434582, -0.521068698854739, 0.8973733424337166, -0.7816245886464664, 0.22537260587342783, -0.8787885822828528, 1.4230446901233393, 0.34987293086009996, 1.3911796291059848, 1.2403794662202954, 0.5114066728728492, -2.0166321273917736, 0.7856861588247765, 0.13691720786003714, -0.7880673590618453, 0.03716769157101709, 0.7799372126487223, 1.7985491905038886, -0.19659818359663062, -0.012702577323151937, -0.8626960422069377, 0.3597157395604989, 0.6265896221927325, -0.9308715158558263, 1.3464372604156218, 0.6498728187409063, -1.6511662689241349, -0.9229299197376384, -1.2478417510711537, 1.5227750396514883, -0.6311981482876451, 1.551260004036639, -0.10502460554637756, -0.8493628839047709, 2.027302413088894, -2.7934070100435475, 0.6446845621352232, 0.22071236826477122, 1.0616860404591533, 0.7467718877024979, 0.0707552703298251, -1.1786996958286515, 0.5243730244208548, 0.39007878937880947, -0.5946194961721954, 0.639070916937189, -0.7160141695559963, 0.2456768588349713, 0.5563854384232808, 0.564420226858298, -0.0690448547947384, -1.2593419532553742, 0.6374531147193259, 1.2207630578986564, 0.11105879218861575, 0.12374607949375441, -2.2355297017644813, 0.9520764800263771, -0.0453887598932331, 0.09024937485326473, -0.3105849048692074, -0.668433153781252]}, {\"boxpoints\": false, \"line\": {\"width\": 1.3}, \"marker\": {\"color\": \"rgba(128, 0, 128, 1.0)\"}, \"name\": \"D\", \"orientation\": \"v\", \"type\": \"box\", \"y\": [-0.7828650546033424, -0.3596533224921512, 2.434719466250771, -0.9760353510297209, -1.586223995581084, 0.3433342180231897, -0.31836419405528904, -0.5890956005205258, -0.7323000953439843, 0.5769436208430118, 1.0130015446224054, 2.6356901709872482, -0.8638788997042456, -0.018631462990366488, 1.4687779876612514, 0.5617108204276043, 0.4415436167544604, 1.179320520273603, 0.44805899141703515, 0.9478082903689579, -0.5370436644028713, -0.4731704080052558, 0.31223709024066526, -0.5060976754902158, 0.07033654950523442, 0.3960105865413948, -0.424067082278597, 1.0751328588786822, 0.7736680128061073, -0.4259995984742435, 2.3006358449268127, -2.1192105641547876, -0.8880452412793026, 0.3337262950860996, 0.8153607065240488, 1.7043940134934612, 0.920540277767794, 0.4234086995152187, 0.4079448723600171, 1.75499020536987, -0.33330185707420723, -0.9145116511004463, 0.20006830351177876, -2.1140128038847243, -0.5977221954328469, 0.060721644402041634, -0.018137439504961928, 0.3196159992873991, 0.47730693769300037, -0.5384123818186065, 0.093217833984639, -0.09918326283418104, 0.6638592384521873, -1.641643122886323, -1.0076183003204213, -1.0455237773603263, -1.3559854330219154, 1.2553785663067567, 0.04446140211217297, 0.17890724289904997, 0.5141432214794293, 0.6733623595289793, 0.0017206586771053502, 1.7002385173305798, 0.3766576304553358, 1.6828371294794315, 0.12107287487108928, -0.5385881907425488, 0.6373655957718737, 2.1318433715940754, -1.0880384152907472, 0.32166878175520086, 1.4445937515436955, 0.1568411213201166, -1.226161112722581, 0.514702914050513, 1.0750421171304343, -0.9812992268141888, -0.5516496428257325, 0.40064604570951057, -2.1041721784953715, 1.3671390546573465, 0.24634804179867126, -1.0944570399758755, -1.4450080892781683, -0.7421966077271516, -0.6343872745838302, 0.36836371271043256, -0.6519255392459694, -0.2474436412537946, -0.9071546146833869, -1.0249724944144538, -1.6963961761097375, -0.4012714947050643, -0.1521446041864467, -0.4959909750493157, 0.532628405005131, -0.6717570080851565, 0.00844951382232753, -1.0177919469853345]}],\n",
       "                        {\"legend\": {\"bgcolor\": \"#F5F6F9\", \"font\": {\"color\": \"#4D5663\"}}, \"paper_bgcolor\": \"#F5F6F9\", \"plot_bgcolor\": \"#F5F6F9\", \"template\": {\"data\": {\"bar\": [{\"error_x\": {\"color\": \"#2a3f5f\"}, \"error_y\": {\"color\": \"#2a3f5f\"}, \"marker\": {\"line\": {\"color\": \"#E5ECF6\", \"width\": 0.5}}, \"type\": \"bar\"}], \"barpolar\": [{\"marker\": {\"line\": {\"color\": \"#E5ECF6\", \"width\": 0.5}}, \"type\": \"barpolar\"}], \"carpet\": [{\"aaxis\": {\"endlinecolor\": \"#2a3f5f\", \"gridcolor\": \"white\", \"linecolor\": \"white\", \"minorgridcolor\": \"white\", \"startlinecolor\": \"#2a3f5f\"}, \"baxis\": {\"endlinecolor\": \"#2a3f5f\", \"gridcolor\": \"white\", \"linecolor\": \"white\", \"minorgridcolor\": \"white\", \"startlinecolor\": \"#2a3f5f\"}, \"type\": \"carpet\"}], \"choropleth\": [{\"colorbar\": {\"outlinewidth\": 0, \"ticks\": \"\"}, \"type\": \"choropleth\"}], \"contour\": [{\"colorbar\": {\"outlinewidth\": 0, \"ticks\": \"\"}, \"colorscale\": [[0.0, \"#0d0887\"], [0.1111111111111111, \"#46039f\"], [0.2222222222222222, \"#7201a8\"], [0.3333333333333333, \"#9c179e\"], [0.4444444444444444, \"#bd3786\"], [0.5555555555555556, \"#d8576b\"], [0.6666666666666666, \"#ed7953\"], [0.7777777777777778, \"#fb9f3a\"], [0.8888888888888888, \"#fdca26\"], [1.0, \"#f0f921\"]], \"type\": \"contour\"}], \"contourcarpet\": [{\"colorbar\": {\"outlinewidth\": 0, \"ticks\": \"\"}, \"type\": \"contourcarpet\"}], \"heatmap\": [{\"colorbar\": {\"outlinewidth\": 0, \"ticks\": \"\"}, \"colorscale\": [[0.0, \"#0d0887\"], [0.1111111111111111, \"#46039f\"], [0.2222222222222222, \"#7201a8\"], [0.3333333333333333, \"#9c179e\"], [0.4444444444444444, \"#bd3786\"], [0.5555555555555556, \"#d8576b\"], [0.6666666666666666, \"#ed7953\"], [0.7777777777777778, \"#fb9f3a\"], [0.8888888888888888, \"#fdca26\"], [1.0, \"#f0f921\"]], \"type\": \"heatmap\"}], \"heatmapgl\": [{\"colorbar\": {\"outlinewidth\": 0, \"ticks\": \"\"}, \"colorscale\": [[0.0, \"#0d0887\"], [0.1111111111111111, \"#46039f\"], [0.2222222222222222, \"#7201a8\"], [0.3333333333333333, \"#9c179e\"], [0.4444444444444444, \"#bd3786\"], [0.5555555555555556, \"#d8576b\"], [0.6666666666666666, \"#ed7953\"], [0.7777777777777778, \"#fb9f3a\"], [0.8888888888888888, \"#fdca26\"], [1.0, \"#f0f921\"]], \"type\": \"heatmapgl\"}], \"histogram\": [{\"marker\": {\"colorbar\": {\"outlinewidth\": 0, \"ticks\": \"\"}}, \"type\": \"histogram\"}], \"histogram2d\": [{\"colorbar\": {\"outlinewidth\": 0, \"ticks\": \"\"}, \"colorscale\": [[0.0, \"#0d0887\"], [0.1111111111111111, \"#46039f\"], [0.2222222222222222, \"#7201a8\"], [0.3333333333333333, \"#9c179e\"], [0.4444444444444444, \"#bd3786\"], [0.5555555555555556, \"#d8576b\"], [0.6666666666666666, \"#ed7953\"], [0.7777777777777778, \"#fb9f3a\"], [0.8888888888888888, \"#fdca26\"], [1.0, \"#f0f921\"]], \"type\": \"histogram2d\"}], \"histogram2dcontour\": [{\"colorbar\": {\"outlinewidth\": 0, \"ticks\": \"\"}, \"colorscale\": [[0.0, \"#0d0887\"], [0.1111111111111111, \"#46039f\"], [0.2222222222222222, \"#7201a8\"], [0.3333333333333333, \"#9c179e\"], [0.4444444444444444, \"#bd3786\"], [0.5555555555555556, \"#d8576b\"], [0.6666666666666666, \"#ed7953\"], [0.7777777777777778, \"#fb9f3a\"], [0.8888888888888888, \"#fdca26\"], [1.0, \"#f0f921\"]], \"type\": \"histogram2dcontour\"}], \"mesh3d\": [{\"colorbar\": {\"outlinewidth\": 0, \"ticks\": \"\"}, \"type\": \"mesh3d\"}], \"parcoords\": [{\"line\": {\"colorbar\": {\"outlinewidth\": 0, \"ticks\": \"\"}}, \"type\": \"parcoords\"}], \"pie\": [{\"automargin\": true, \"type\": \"pie\"}], \"scatter\": [{\"marker\": {\"colorbar\": {\"outlinewidth\": 0, \"ticks\": \"\"}}, \"type\": \"scatter\"}], \"scatter3d\": [{\"line\": {\"colorbar\": {\"outlinewidth\": 0, \"ticks\": \"\"}}, \"marker\": {\"colorbar\": {\"outlinewidth\": 0, \"ticks\": \"\"}}, \"type\": \"scatter3d\"}], \"scattercarpet\": [{\"marker\": {\"colorbar\": {\"outlinewidth\": 0, \"ticks\": \"\"}}, \"type\": \"scattercarpet\"}], \"scattergeo\": [{\"marker\": {\"colorbar\": {\"outlinewidth\": 0, \"ticks\": \"\"}}, \"type\": \"scattergeo\"}], \"scattergl\": [{\"marker\": {\"colorbar\": {\"outlinewidth\": 0, \"ticks\": \"\"}}, \"type\": \"scattergl\"}], \"scattermapbox\": [{\"marker\": {\"colorbar\": {\"outlinewidth\": 0, \"ticks\": \"\"}}, \"type\": \"scattermapbox\"}], \"scatterpolar\": [{\"marker\": {\"colorbar\": {\"outlinewidth\": 0, \"ticks\": \"\"}}, \"type\": \"scatterpolar\"}], \"scatterpolargl\": [{\"marker\": {\"colorbar\": {\"outlinewidth\": 0, \"ticks\": \"\"}}, \"type\": \"scatterpolargl\"}], \"scatterternary\": [{\"marker\": {\"colorbar\": {\"outlinewidth\": 0, \"ticks\": \"\"}}, \"type\": \"scatterternary\"}], \"surface\": [{\"colorbar\": {\"outlinewidth\": 0, \"ticks\": \"\"}, \"colorscale\": [[0.0, \"#0d0887\"], [0.1111111111111111, \"#46039f\"], [0.2222222222222222, \"#7201a8\"], [0.3333333333333333, \"#9c179e\"], [0.4444444444444444, \"#bd3786\"], [0.5555555555555556, \"#d8576b\"], [0.6666666666666666, \"#ed7953\"], [0.7777777777777778, \"#fb9f3a\"], [0.8888888888888888, \"#fdca26\"], [1.0, \"#f0f921\"]], \"type\": \"surface\"}], \"table\": [{\"cells\": {\"fill\": {\"color\": \"#EBF0F8\"}, \"line\": {\"color\": \"white\"}}, \"header\": {\"fill\": {\"color\": \"#C8D4E3\"}, \"line\": {\"color\": \"white\"}}, \"type\": \"table\"}]}, \"layout\": {\"annotationdefaults\": {\"arrowcolor\": \"#2a3f5f\", \"arrowhead\": 0, \"arrowwidth\": 1}, \"coloraxis\": {\"colorbar\": {\"outlinewidth\": 0, \"ticks\": \"\"}}, \"colorscale\": {\"diverging\": [[0, \"#8e0152\"], [0.1, \"#c51b7d\"], [0.2, \"#de77ae\"], [0.3, \"#f1b6da\"], [0.4, \"#fde0ef\"], [0.5, \"#f7f7f7\"], [0.6, \"#e6f5d0\"], [0.7, \"#b8e186\"], [0.8, \"#7fbc41\"], [0.9, \"#4d9221\"], [1, \"#276419\"]], \"sequential\": [[0.0, \"#0d0887\"], [0.1111111111111111, \"#46039f\"], [0.2222222222222222, \"#7201a8\"], [0.3333333333333333, \"#9c179e\"], [0.4444444444444444, \"#bd3786\"], [0.5555555555555556, \"#d8576b\"], [0.6666666666666666, \"#ed7953\"], [0.7777777777777778, \"#fb9f3a\"], [0.8888888888888888, \"#fdca26\"], [1.0, \"#f0f921\"]], \"sequentialminus\": [[0.0, \"#0d0887\"], [0.1111111111111111, \"#46039f\"], [0.2222222222222222, \"#7201a8\"], [0.3333333333333333, \"#9c179e\"], [0.4444444444444444, \"#bd3786\"], [0.5555555555555556, \"#d8576b\"], [0.6666666666666666, \"#ed7953\"], [0.7777777777777778, \"#fb9f3a\"], [0.8888888888888888, \"#fdca26\"], [1.0, \"#f0f921\"]]}, \"colorway\": [\"#636efa\", \"#EF553B\", \"#00cc96\", \"#ab63fa\", \"#FFA15A\", \"#19d3f3\", \"#FF6692\", \"#B6E880\", \"#FF97FF\", \"#FECB52\"], \"font\": {\"color\": \"#2a3f5f\"}, \"geo\": {\"bgcolor\": \"white\", \"lakecolor\": \"white\", \"landcolor\": \"#E5ECF6\", \"showlakes\": true, \"showland\": true, \"subunitcolor\": \"white\"}, \"hoverlabel\": {\"align\": \"left\"}, \"hovermode\": \"closest\", \"mapbox\": {\"style\": \"light\"}, \"paper_bgcolor\": \"white\", \"plot_bgcolor\": \"#E5ECF6\", \"polar\": {\"angularaxis\": {\"gridcolor\": \"white\", \"linecolor\": \"white\", \"ticks\": \"\"}, \"bgcolor\": \"#E5ECF6\", \"radialaxis\": {\"gridcolor\": \"white\", \"linecolor\": \"white\", \"ticks\": \"\"}}, \"scene\": {\"xaxis\": {\"backgroundcolor\": \"#E5ECF6\", \"gridcolor\": \"white\", \"gridwidth\": 2, \"linecolor\": \"white\", \"showbackground\": true, \"ticks\": \"\", \"zerolinecolor\": \"white\"}, \"yaxis\": {\"backgroundcolor\": \"#E5ECF6\", \"gridcolor\": \"white\", \"gridwidth\": 2, \"linecolor\": \"white\", \"showbackground\": true, \"ticks\": \"\", \"zerolinecolor\": \"white\"}, \"zaxis\": {\"backgroundcolor\": \"#E5ECF6\", \"gridcolor\": \"white\", \"gridwidth\": 2, \"linecolor\": \"white\", \"showbackground\": true, \"ticks\": \"\", \"zerolinecolor\": \"white\"}}, \"shapedefaults\": {\"line\": {\"color\": \"#2a3f5f\"}}, \"ternary\": {\"aaxis\": {\"gridcolor\": \"white\", \"linecolor\": \"white\", \"ticks\": \"\"}, \"baxis\": {\"gridcolor\": \"white\", \"linecolor\": \"white\", \"ticks\": \"\"}, \"bgcolor\": \"#E5ECF6\", \"caxis\": {\"gridcolor\": \"white\", \"linecolor\": \"white\", \"ticks\": \"\"}}, \"title\": {\"x\": 0.05}, \"xaxis\": {\"automargin\": true, \"gridcolor\": \"white\", \"linecolor\": \"white\", \"ticks\": \"\", \"title\": {\"standoff\": 15}, \"zerolinecolor\": \"white\", \"zerolinewidth\": 2}, \"yaxis\": {\"automargin\": true, \"gridcolor\": \"white\", \"linecolor\": \"white\", \"ticks\": \"\", \"title\": {\"standoff\": 15}, \"zerolinecolor\": \"white\", \"zerolinewidth\": 2}}}, \"title\": {\"font\": {\"color\": \"#4D5663\"}}, \"xaxis\": {\"gridcolor\": \"#E1E5ED\", \"showgrid\": true, \"tickfont\": {\"color\": \"#4D5663\"}, \"title\": {\"font\": {\"color\": \"#4D5663\"}, \"text\": \"\"}, \"zerolinecolor\": \"#E1E5ED\"}, \"yaxis\": {\"gridcolor\": \"#E1E5ED\", \"showgrid\": true, \"tickfont\": {\"color\": \"#4D5663\"}, \"title\": {\"font\": {\"color\": \"#4D5663\"}, \"text\": \"\"}, \"zerolinecolor\": \"#E1E5ED\"}},\n",
       "                        {\"showLink\": true, \"linkText\": \"Export to plot.ly\", \"plotlyServerURL\": \"https://plot.ly\", \"responsive\": true}\n",
       "                    ).then(function(){\n",
       "                            \n",
       "var gd = document.getElementById('0ca3c3f0-fa25-43a5-98c8-4502831cf02a');\n",
       "var x = new MutationObserver(function (mutations, observer) {{\n",
       "        var display = window.getComputedStyle(gd).display;\n",
       "        if (!display || display === 'none') {{\n",
       "            console.log([gd, 'removed!']);\n",
       "            Plotly.purge(gd);\n",
       "            observer.disconnect();\n",
       "        }}\n",
       "}});\n",
       "\n",
       "// Listen for the removal of the full notebook cells\n",
       "var notebookContainer = gd.closest('#notebook-container');\n",
       "if (notebookContainer) {{\n",
       "    x.observe(notebookContainer, {childList: true});\n",
       "}}\n",
       "\n",
       "// Listen for the clearing of the current output cell\n",
       "var outputEl = gd.closest('.output');\n",
       "if (outputEl) {{\n",
       "    x.observe(outputEl, {childList: true});\n",
       "}}\n",
       "\n",
       "                        })\n",
       "                };\n",
       "                });\n",
       "            </script>\n",
       "        </div>"
      ]
     },
     "metadata": {},
     "output_type": "display_data"
    }
   ],
   "source": [
    "df.iplot(kind='box')"
   ]
  },
  {
   "cell_type": "code",
   "execution_count": 15,
   "metadata": {},
   "outputs": [
    {
     "data": {
      "text/html": [
       "<div>\n",
       "<style scoped>\n",
       "    .dataframe tbody tr th:only-of-type {\n",
       "        vertical-align: middle;\n",
       "    }\n",
       "\n",
       "    .dataframe tbody tr th {\n",
       "        vertical-align: top;\n",
       "    }\n",
       "\n",
       "    .dataframe thead th {\n",
       "        text-align: right;\n",
       "    }\n",
       "</style>\n",
       "<table border=\"1\" class=\"dataframe\">\n",
       "  <thead>\n",
       "    <tr style=\"text-align: right;\">\n",
       "      <th></th>\n",
       "      <th>X</th>\n",
       "      <th>Y</th>\n",
       "      <th>Z</th>\n",
       "    </tr>\n",
       "  </thead>\n",
       "  <tbody>\n",
       "    <tr>\n",
       "      <th>0</th>\n",
       "      <td>1</td>\n",
       "      <td>10</td>\n",
       "      <td>100</td>\n",
       "    </tr>\n",
       "    <tr>\n",
       "      <th>1</th>\n",
       "      <td>2</td>\n",
       "      <td>20</td>\n",
       "      <td>200</td>\n",
       "    </tr>\n",
       "    <tr>\n",
       "      <th>2</th>\n",
       "      <td>3</td>\n",
       "      <td>30</td>\n",
       "      <td>300</td>\n",
       "    </tr>\n",
       "    <tr>\n",
       "      <th>3</th>\n",
       "      <td>4</td>\n",
       "      <td>40</td>\n",
       "      <td>400</td>\n",
       "    </tr>\n",
       "    <tr>\n",
       "      <th>4</th>\n",
       "      <td>5</td>\n",
       "      <td>50</td>\n",
       "      <td>500</td>\n",
       "    </tr>\n",
       "  </tbody>\n",
       "</table>\n",
       "</div>"
      ],
      "text/plain": [
       "   X   Y    Z\n",
       "0  1  10  100\n",
       "1  2  20  200\n",
       "2  3  30  300\n",
       "3  4  40  400\n",
       "4  5  50  500"
      ]
     },
     "execution_count": 15,
     "metadata": {},
     "output_type": "execute_result"
    }
   ],
   "source": [
    "df3=pd.DataFrame({'X': [1,2,3,4,5], 'Y': [10,20,30,40,50], 'Z':[100,200,300,400,500]})\n",
    "df3.head()"
   ]
  },
  {
   "cell_type": "code",
   "execution_count": 17,
   "metadata": {},
   "outputs": [
    {
     "data": {
      "application/vnd.plotly.v1+json": {
       "config": {
        "linkText": "Export to plot.ly",
        "plotlyServerURL": "https://plot.ly",
        "showLink": true
       },
       "data": [
        {
         "colorscale": [
          [
           0,
           "rgb(165,0,38)"
          ],
          [
           0.1,
           "rgb(215,48,39)"
          ],
          [
           0.2,
           "rgb(244,109,67)"
          ],
          [
           0.3,
           "rgb(253,174,97)"
          ],
          [
           0.4,
           "rgb(254,224,144)"
          ],
          [
           0.5,
           "rgb(255,255,191)"
          ],
          [
           0.6,
           "rgb(224,243,248)"
          ],
          [
           0.7,
           "rgb(171,217,233)"
          ],
          [
           0.8,
           "rgb(116,173,209)"
          ],
          [
           0.9,
           "rgb(69,117,180)"
          ],
          [
           1,
           "rgb(49,54,149)"
          ]
         ],
         "type": "surface",
         "x": [
          0,
          1,
          2,
          3,
          4
         ],
         "y": [
          "X",
          "Y",
          "Z"
         ],
         "z": [
          [
           1,
           2,
           3,
           4,
           5
          ],
          [
           10,
           20,
           30,
           40,
           50
          ],
          [
           100,
           200,
           300,
           400,
           500
          ]
         ]
        }
       ],
       "layout": {
        "legend": {
         "bgcolor": "#F5F6F9",
         "font": {
          "color": "#4D5663"
         }
        },
        "paper_bgcolor": "#F5F6F9",
        "plot_bgcolor": "#F5F6F9",
        "template": {
         "data": {
          "bar": [
           {
            "error_x": {
             "color": "#2a3f5f"
            },
            "error_y": {
             "color": "#2a3f5f"
            },
            "marker": {
             "line": {
              "color": "#E5ECF6",
              "width": 0.5
             }
            },
            "type": "bar"
           }
          ],
          "barpolar": [
           {
            "marker": {
             "line": {
              "color": "#E5ECF6",
              "width": 0.5
             }
            },
            "type": "barpolar"
           }
          ],
          "carpet": [
           {
            "aaxis": {
             "endlinecolor": "#2a3f5f",
             "gridcolor": "white",
             "linecolor": "white",
             "minorgridcolor": "white",
             "startlinecolor": "#2a3f5f"
            },
            "baxis": {
             "endlinecolor": "#2a3f5f",
             "gridcolor": "white",
             "linecolor": "white",
             "minorgridcolor": "white",
             "startlinecolor": "#2a3f5f"
            },
            "type": "carpet"
           }
          ],
          "choropleth": [
           {
            "colorbar": {
             "outlinewidth": 0,
             "ticks": ""
            },
            "type": "choropleth"
           }
          ],
          "contour": [
           {
            "colorbar": {
             "outlinewidth": 0,
             "ticks": ""
            },
            "colorscale": [
             [
              0,
              "#0d0887"
             ],
             [
              0.1111111111111111,
              "#46039f"
             ],
             [
              0.2222222222222222,
              "#7201a8"
             ],
             [
              0.3333333333333333,
              "#9c179e"
             ],
             [
              0.4444444444444444,
              "#bd3786"
             ],
             [
              0.5555555555555556,
              "#d8576b"
             ],
             [
              0.6666666666666666,
              "#ed7953"
             ],
             [
              0.7777777777777778,
              "#fb9f3a"
             ],
             [
              0.8888888888888888,
              "#fdca26"
             ],
             [
              1,
              "#f0f921"
             ]
            ],
            "type": "contour"
           }
          ],
          "contourcarpet": [
           {
            "colorbar": {
             "outlinewidth": 0,
             "ticks": ""
            },
            "type": "contourcarpet"
           }
          ],
          "heatmap": [
           {
            "colorbar": {
             "outlinewidth": 0,
             "ticks": ""
            },
            "colorscale": [
             [
              0,
              "#0d0887"
             ],
             [
              0.1111111111111111,
              "#46039f"
             ],
             [
              0.2222222222222222,
              "#7201a8"
             ],
             [
              0.3333333333333333,
              "#9c179e"
             ],
             [
              0.4444444444444444,
              "#bd3786"
             ],
             [
              0.5555555555555556,
              "#d8576b"
             ],
             [
              0.6666666666666666,
              "#ed7953"
             ],
             [
              0.7777777777777778,
              "#fb9f3a"
             ],
             [
              0.8888888888888888,
              "#fdca26"
             ],
             [
              1,
              "#f0f921"
             ]
            ],
            "type": "heatmap"
           }
          ],
          "heatmapgl": [
           {
            "colorbar": {
             "outlinewidth": 0,
             "ticks": ""
            },
            "colorscale": [
             [
              0,
              "#0d0887"
             ],
             [
              0.1111111111111111,
              "#46039f"
             ],
             [
              0.2222222222222222,
              "#7201a8"
             ],
             [
              0.3333333333333333,
              "#9c179e"
             ],
             [
              0.4444444444444444,
              "#bd3786"
             ],
             [
              0.5555555555555556,
              "#d8576b"
             ],
             [
              0.6666666666666666,
              "#ed7953"
             ],
             [
              0.7777777777777778,
              "#fb9f3a"
             ],
             [
              0.8888888888888888,
              "#fdca26"
             ],
             [
              1,
              "#f0f921"
             ]
            ],
            "type": "heatmapgl"
           }
          ],
          "histogram": [
           {
            "marker": {
             "colorbar": {
              "outlinewidth": 0,
              "ticks": ""
             }
            },
            "type": "histogram"
           }
          ],
          "histogram2d": [
           {
            "colorbar": {
             "outlinewidth": 0,
             "ticks": ""
            },
            "colorscale": [
             [
              0,
              "#0d0887"
             ],
             [
              0.1111111111111111,
              "#46039f"
             ],
             [
              0.2222222222222222,
              "#7201a8"
             ],
             [
              0.3333333333333333,
              "#9c179e"
             ],
             [
              0.4444444444444444,
              "#bd3786"
             ],
             [
              0.5555555555555556,
              "#d8576b"
             ],
             [
              0.6666666666666666,
              "#ed7953"
             ],
             [
              0.7777777777777778,
              "#fb9f3a"
             ],
             [
              0.8888888888888888,
              "#fdca26"
             ],
             [
              1,
              "#f0f921"
             ]
            ],
            "type": "histogram2d"
           }
          ],
          "histogram2dcontour": [
           {
            "colorbar": {
             "outlinewidth": 0,
             "ticks": ""
            },
            "colorscale": [
             [
              0,
              "#0d0887"
             ],
             [
              0.1111111111111111,
              "#46039f"
             ],
             [
              0.2222222222222222,
              "#7201a8"
             ],
             [
              0.3333333333333333,
              "#9c179e"
             ],
             [
              0.4444444444444444,
              "#bd3786"
             ],
             [
              0.5555555555555556,
              "#d8576b"
             ],
             [
              0.6666666666666666,
              "#ed7953"
             ],
             [
              0.7777777777777778,
              "#fb9f3a"
             ],
             [
              0.8888888888888888,
              "#fdca26"
             ],
             [
              1,
              "#f0f921"
             ]
            ],
            "type": "histogram2dcontour"
           }
          ],
          "mesh3d": [
           {
            "colorbar": {
             "outlinewidth": 0,
             "ticks": ""
            },
            "type": "mesh3d"
           }
          ],
          "parcoords": [
           {
            "line": {
             "colorbar": {
              "outlinewidth": 0,
              "ticks": ""
             }
            },
            "type": "parcoords"
           }
          ],
          "pie": [
           {
            "automargin": true,
            "type": "pie"
           }
          ],
          "scatter": [
           {
            "marker": {
             "colorbar": {
              "outlinewidth": 0,
              "ticks": ""
             }
            },
            "type": "scatter"
           }
          ],
          "scatter3d": [
           {
            "line": {
             "colorbar": {
              "outlinewidth": 0,
              "ticks": ""
             }
            },
            "marker": {
             "colorbar": {
              "outlinewidth": 0,
              "ticks": ""
             }
            },
            "type": "scatter3d"
           }
          ],
          "scattercarpet": [
           {
            "marker": {
             "colorbar": {
              "outlinewidth": 0,
              "ticks": ""
             }
            },
            "type": "scattercarpet"
           }
          ],
          "scattergeo": [
           {
            "marker": {
             "colorbar": {
              "outlinewidth": 0,
              "ticks": ""
             }
            },
            "type": "scattergeo"
           }
          ],
          "scattergl": [
           {
            "marker": {
             "colorbar": {
              "outlinewidth": 0,
              "ticks": ""
             }
            },
            "type": "scattergl"
           }
          ],
          "scattermapbox": [
           {
            "marker": {
             "colorbar": {
              "outlinewidth": 0,
              "ticks": ""
             }
            },
            "type": "scattermapbox"
           }
          ],
          "scatterpolar": [
           {
            "marker": {
             "colorbar": {
              "outlinewidth": 0,
              "ticks": ""
             }
            },
            "type": "scatterpolar"
           }
          ],
          "scatterpolargl": [
           {
            "marker": {
             "colorbar": {
              "outlinewidth": 0,
              "ticks": ""
             }
            },
            "type": "scatterpolargl"
           }
          ],
          "scatterternary": [
           {
            "marker": {
             "colorbar": {
              "outlinewidth": 0,
              "ticks": ""
             }
            },
            "type": "scatterternary"
           }
          ],
          "surface": [
           {
            "colorbar": {
             "outlinewidth": 0,
             "ticks": ""
            },
            "colorscale": [
             [
              0,
              "#0d0887"
             ],
             [
              0.1111111111111111,
              "#46039f"
             ],
             [
              0.2222222222222222,
              "#7201a8"
             ],
             [
              0.3333333333333333,
              "#9c179e"
             ],
             [
              0.4444444444444444,
              "#bd3786"
             ],
             [
              0.5555555555555556,
              "#d8576b"
             ],
             [
              0.6666666666666666,
              "#ed7953"
             ],
             [
              0.7777777777777778,
              "#fb9f3a"
             ],
             [
              0.8888888888888888,
              "#fdca26"
             ],
             [
              1,
              "#f0f921"
             ]
            ],
            "type": "surface"
           }
          ],
          "table": [
           {
            "cells": {
             "fill": {
              "color": "#EBF0F8"
             },
             "line": {
              "color": "white"
             }
            },
            "header": {
             "fill": {
              "color": "#C8D4E3"
             },
             "line": {
              "color": "white"
             }
            },
            "type": "table"
           }
          ]
         },
         "layout": {
          "annotationdefaults": {
           "arrowcolor": "#2a3f5f",
           "arrowhead": 0,
           "arrowwidth": 1
          },
          "coloraxis": {
           "colorbar": {
            "outlinewidth": 0,
            "ticks": ""
           }
          },
          "colorscale": {
           "diverging": [
            [
             0,
             "#8e0152"
            ],
            [
             0.1,
             "#c51b7d"
            ],
            [
             0.2,
             "#de77ae"
            ],
            [
             0.3,
             "#f1b6da"
            ],
            [
             0.4,
             "#fde0ef"
            ],
            [
             0.5,
             "#f7f7f7"
            ],
            [
             0.6,
             "#e6f5d0"
            ],
            [
             0.7,
             "#b8e186"
            ],
            [
             0.8,
             "#7fbc41"
            ],
            [
             0.9,
             "#4d9221"
            ],
            [
             1,
             "#276419"
            ]
           ],
           "sequential": [
            [
             0,
             "#0d0887"
            ],
            [
             0.1111111111111111,
             "#46039f"
            ],
            [
             0.2222222222222222,
             "#7201a8"
            ],
            [
             0.3333333333333333,
             "#9c179e"
            ],
            [
             0.4444444444444444,
             "#bd3786"
            ],
            [
             0.5555555555555556,
             "#d8576b"
            ],
            [
             0.6666666666666666,
             "#ed7953"
            ],
            [
             0.7777777777777778,
             "#fb9f3a"
            ],
            [
             0.8888888888888888,
             "#fdca26"
            ],
            [
             1,
             "#f0f921"
            ]
           ],
           "sequentialminus": [
            [
             0,
             "#0d0887"
            ],
            [
             0.1111111111111111,
             "#46039f"
            ],
            [
             0.2222222222222222,
             "#7201a8"
            ],
            [
             0.3333333333333333,
             "#9c179e"
            ],
            [
             0.4444444444444444,
             "#bd3786"
            ],
            [
             0.5555555555555556,
             "#d8576b"
            ],
            [
             0.6666666666666666,
             "#ed7953"
            ],
            [
             0.7777777777777778,
             "#fb9f3a"
            ],
            [
             0.8888888888888888,
             "#fdca26"
            ],
            [
             1,
             "#f0f921"
            ]
           ]
          },
          "colorway": [
           "#636efa",
           "#EF553B",
           "#00cc96",
           "#ab63fa",
           "#FFA15A",
           "#19d3f3",
           "#FF6692",
           "#B6E880",
           "#FF97FF",
           "#FECB52"
          ],
          "font": {
           "color": "#2a3f5f"
          },
          "geo": {
           "bgcolor": "white",
           "lakecolor": "white",
           "landcolor": "#E5ECF6",
           "showlakes": true,
           "showland": true,
           "subunitcolor": "white"
          },
          "hoverlabel": {
           "align": "left"
          },
          "hovermode": "closest",
          "mapbox": {
           "style": "light"
          },
          "paper_bgcolor": "white",
          "plot_bgcolor": "#E5ECF6",
          "polar": {
           "angularaxis": {
            "gridcolor": "white",
            "linecolor": "white",
            "ticks": ""
           },
           "bgcolor": "#E5ECF6",
           "radialaxis": {
            "gridcolor": "white",
            "linecolor": "white",
            "ticks": ""
           }
          },
          "scene": {
           "xaxis": {
            "backgroundcolor": "#E5ECF6",
            "gridcolor": "white",
            "gridwidth": 2,
            "linecolor": "white",
            "showbackground": true,
            "ticks": "",
            "zerolinecolor": "white"
           },
           "yaxis": {
            "backgroundcolor": "#E5ECF6",
            "gridcolor": "white",
            "gridwidth": 2,
            "linecolor": "white",
            "showbackground": true,
            "ticks": "",
            "zerolinecolor": "white"
           },
           "zaxis": {
            "backgroundcolor": "#E5ECF6",
            "gridcolor": "white",
            "gridwidth": 2,
            "linecolor": "white",
            "showbackground": true,
            "ticks": "",
            "zerolinecolor": "white"
           }
          },
          "shapedefaults": {
           "line": {
            "color": "#2a3f5f"
           }
          },
          "ternary": {
           "aaxis": {
            "gridcolor": "white",
            "linecolor": "white",
            "ticks": ""
           },
           "baxis": {
            "gridcolor": "white",
            "linecolor": "white",
            "ticks": ""
           },
           "bgcolor": "#E5ECF6",
           "caxis": {
            "gridcolor": "white",
            "linecolor": "white",
            "ticks": ""
           }
          },
          "title": {
           "x": 0.05
          },
          "xaxis": {
           "automargin": true,
           "gridcolor": "white",
           "linecolor": "white",
           "ticks": "",
           "title": {
            "standoff": 15
           },
           "zerolinecolor": "white",
           "zerolinewidth": 2
          },
          "yaxis": {
           "automargin": true,
           "gridcolor": "white",
           "linecolor": "white",
           "ticks": "",
           "title": {
            "standoff": 15
           },
           "zerolinecolor": "white",
           "zerolinewidth": 2
          }
         }
        },
        "title": {
         "font": {
          "color": "#4D5663"
         }
        },
        "xaxis": {
         "gridcolor": "#E1E5ED",
         "showgrid": true,
         "tickfont": {
          "color": "#4D5663"
         },
         "title": {
          "font": {
           "color": "#4D5663"
          },
          "text": ""
         },
         "zerolinecolor": "#E1E5ED"
        },
        "yaxis": {
         "gridcolor": "#E1E5ED",
         "showgrid": true,
         "tickfont": {
          "color": "#4D5663"
         },
         "title": {
          "font": {
           "color": "#4D5663"
          },
          "text": ""
         },
         "zerolinecolor": "#E1E5ED"
        }
       }
      },
      "text/html": [
       "<div>\n",
       "        \n",
       "        \n",
       "            <div id=\"0e1e8f2d-21a2-4209-bfc4-dfb94c654b2a\" class=\"plotly-graph-div\" style=\"height:525px; width:100%;\"></div>\n",
       "            <script type=\"text/javascript\">\n",
       "                require([\"plotly\"], function(Plotly) {\n",
       "                    window.PLOTLYENV=window.PLOTLYENV || {};\n",
       "                    window.PLOTLYENV.BASE_URL='https://plot.ly';\n",
       "                    \n",
       "                if (document.getElementById(\"0e1e8f2d-21a2-4209-bfc4-dfb94c654b2a\")) {\n",
       "                    Plotly.newPlot(\n",
       "                        '0e1e8f2d-21a2-4209-bfc4-dfb94c654b2a',\n",
       "                        [{\"colorscale\": [[0.0, \"rgb(165,0,38)\"], [0.1, \"rgb(215,48,39)\"], [0.2, \"rgb(244,109,67)\"], [0.3, \"rgb(253,174,97)\"], [0.4, \"rgb(254,224,144)\"], [0.5, \"rgb(255,255,191)\"], [0.6, \"rgb(224,243,248)\"], [0.7, \"rgb(171,217,233)\"], [0.8, \"rgb(116,173,209)\"], [0.9, \"rgb(69,117,180)\"], [1.0, \"rgb(49,54,149)\"]], \"type\": \"surface\", \"x\": [0, 1, 2, 3, 4], \"y\": [\"X\", \"Y\", \"Z\"], \"z\": [[1, 2, 3, 4, 5], [10, 20, 30, 40, 50], [100, 200, 300, 400, 500]]}],\n",
       "                        {\"legend\": {\"bgcolor\": \"#F5F6F9\", \"font\": {\"color\": \"#4D5663\"}}, \"paper_bgcolor\": \"#F5F6F9\", \"plot_bgcolor\": \"#F5F6F9\", \"template\": {\"data\": {\"bar\": [{\"error_x\": {\"color\": \"#2a3f5f\"}, \"error_y\": {\"color\": \"#2a3f5f\"}, \"marker\": {\"line\": {\"color\": \"#E5ECF6\", \"width\": 0.5}}, \"type\": \"bar\"}], \"barpolar\": [{\"marker\": {\"line\": {\"color\": \"#E5ECF6\", \"width\": 0.5}}, \"type\": \"barpolar\"}], \"carpet\": [{\"aaxis\": {\"endlinecolor\": \"#2a3f5f\", \"gridcolor\": \"white\", \"linecolor\": \"white\", \"minorgridcolor\": \"white\", \"startlinecolor\": \"#2a3f5f\"}, \"baxis\": {\"endlinecolor\": \"#2a3f5f\", \"gridcolor\": \"white\", \"linecolor\": \"white\", \"minorgridcolor\": \"white\", \"startlinecolor\": \"#2a3f5f\"}, \"type\": \"carpet\"}], \"choropleth\": [{\"colorbar\": {\"outlinewidth\": 0, \"ticks\": \"\"}, \"type\": \"choropleth\"}], \"contour\": [{\"colorbar\": {\"outlinewidth\": 0, \"ticks\": \"\"}, \"colorscale\": [[0.0, \"#0d0887\"], [0.1111111111111111, \"#46039f\"], [0.2222222222222222, \"#7201a8\"], [0.3333333333333333, \"#9c179e\"], [0.4444444444444444, \"#bd3786\"], [0.5555555555555556, \"#d8576b\"], [0.6666666666666666, \"#ed7953\"], [0.7777777777777778, \"#fb9f3a\"], [0.8888888888888888, \"#fdca26\"], [1.0, \"#f0f921\"]], \"type\": \"contour\"}], \"contourcarpet\": [{\"colorbar\": {\"outlinewidth\": 0, \"ticks\": \"\"}, \"type\": \"contourcarpet\"}], \"heatmap\": [{\"colorbar\": {\"outlinewidth\": 0, \"ticks\": \"\"}, \"colorscale\": [[0.0, \"#0d0887\"], [0.1111111111111111, \"#46039f\"], [0.2222222222222222, \"#7201a8\"], [0.3333333333333333, \"#9c179e\"], [0.4444444444444444, \"#bd3786\"], [0.5555555555555556, \"#d8576b\"], [0.6666666666666666, \"#ed7953\"], [0.7777777777777778, \"#fb9f3a\"], [0.8888888888888888, \"#fdca26\"], [1.0, \"#f0f921\"]], \"type\": \"heatmap\"}], \"heatmapgl\": [{\"colorbar\": {\"outlinewidth\": 0, \"ticks\": \"\"}, \"colorscale\": [[0.0, \"#0d0887\"], [0.1111111111111111, \"#46039f\"], [0.2222222222222222, \"#7201a8\"], [0.3333333333333333, \"#9c179e\"], [0.4444444444444444, \"#bd3786\"], [0.5555555555555556, \"#d8576b\"], [0.6666666666666666, \"#ed7953\"], [0.7777777777777778, \"#fb9f3a\"], [0.8888888888888888, \"#fdca26\"], [1.0, \"#f0f921\"]], \"type\": \"heatmapgl\"}], \"histogram\": [{\"marker\": {\"colorbar\": {\"outlinewidth\": 0, \"ticks\": \"\"}}, \"type\": \"histogram\"}], \"histogram2d\": [{\"colorbar\": {\"outlinewidth\": 0, \"ticks\": \"\"}, \"colorscale\": [[0.0, \"#0d0887\"], [0.1111111111111111, \"#46039f\"], [0.2222222222222222, \"#7201a8\"], [0.3333333333333333, \"#9c179e\"], [0.4444444444444444, \"#bd3786\"], [0.5555555555555556, \"#d8576b\"], [0.6666666666666666, \"#ed7953\"], [0.7777777777777778, \"#fb9f3a\"], [0.8888888888888888, \"#fdca26\"], [1.0, \"#f0f921\"]], \"type\": \"histogram2d\"}], \"histogram2dcontour\": [{\"colorbar\": {\"outlinewidth\": 0, \"ticks\": \"\"}, \"colorscale\": [[0.0, \"#0d0887\"], [0.1111111111111111, \"#46039f\"], [0.2222222222222222, \"#7201a8\"], [0.3333333333333333, \"#9c179e\"], [0.4444444444444444, \"#bd3786\"], [0.5555555555555556, \"#d8576b\"], [0.6666666666666666, \"#ed7953\"], [0.7777777777777778, \"#fb9f3a\"], [0.8888888888888888, \"#fdca26\"], [1.0, \"#f0f921\"]], \"type\": \"histogram2dcontour\"}], \"mesh3d\": [{\"colorbar\": {\"outlinewidth\": 0, \"ticks\": \"\"}, \"type\": \"mesh3d\"}], \"parcoords\": [{\"line\": {\"colorbar\": {\"outlinewidth\": 0, \"ticks\": \"\"}}, \"type\": \"parcoords\"}], \"pie\": [{\"automargin\": true, \"type\": \"pie\"}], \"scatter\": [{\"marker\": {\"colorbar\": {\"outlinewidth\": 0, \"ticks\": \"\"}}, \"type\": \"scatter\"}], \"scatter3d\": [{\"line\": {\"colorbar\": {\"outlinewidth\": 0, \"ticks\": \"\"}}, \"marker\": {\"colorbar\": {\"outlinewidth\": 0, \"ticks\": \"\"}}, \"type\": \"scatter3d\"}], \"scattercarpet\": [{\"marker\": {\"colorbar\": {\"outlinewidth\": 0, \"ticks\": \"\"}}, \"type\": \"scattercarpet\"}], \"scattergeo\": [{\"marker\": {\"colorbar\": {\"outlinewidth\": 0, \"ticks\": \"\"}}, \"type\": \"scattergeo\"}], \"scattergl\": [{\"marker\": {\"colorbar\": {\"outlinewidth\": 0, \"ticks\": \"\"}}, \"type\": \"scattergl\"}], \"scattermapbox\": [{\"marker\": {\"colorbar\": {\"outlinewidth\": 0, \"ticks\": \"\"}}, \"type\": \"scattermapbox\"}], \"scatterpolar\": [{\"marker\": {\"colorbar\": {\"outlinewidth\": 0, \"ticks\": \"\"}}, \"type\": \"scatterpolar\"}], \"scatterpolargl\": [{\"marker\": {\"colorbar\": {\"outlinewidth\": 0, \"ticks\": \"\"}}, \"type\": \"scatterpolargl\"}], \"scatterternary\": [{\"marker\": {\"colorbar\": {\"outlinewidth\": 0, \"ticks\": \"\"}}, \"type\": \"scatterternary\"}], \"surface\": [{\"colorbar\": {\"outlinewidth\": 0, \"ticks\": \"\"}, \"colorscale\": [[0.0, \"#0d0887\"], [0.1111111111111111, \"#46039f\"], [0.2222222222222222, \"#7201a8\"], [0.3333333333333333, \"#9c179e\"], [0.4444444444444444, \"#bd3786\"], [0.5555555555555556, \"#d8576b\"], [0.6666666666666666, \"#ed7953\"], [0.7777777777777778, \"#fb9f3a\"], [0.8888888888888888, \"#fdca26\"], [1.0, \"#f0f921\"]], \"type\": \"surface\"}], \"table\": [{\"cells\": {\"fill\": {\"color\": \"#EBF0F8\"}, \"line\": {\"color\": \"white\"}}, \"header\": {\"fill\": {\"color\": \"#C8D4E3\"}, \"line\": {\"color\": \"white\"}}, \"type\": \"table\"}]}, \"layout\": {\"annotationdefaults\": {\"arrowcolor\": \"#2a3f5f\", \"arrowhead\": 0, \"arrowwidth\": 1}, \"coloraxis\": {\"colorbar\": {\"outlinewidth\": 0, \"ticks\": \"\"}}, \"colorscale\": {\"diverging\": [[0, \"#8e0152\"], [0.1, \"#c51b7d\"], [0.2, \"#de77ae\"], [0.3, \"#f1b6da\"], [0.4, \"#fde0ef\"], [0.5, \"#f7f7f7\"], [0.6, \"#e6f5d0\"], [0.7, \"#b8e186\"], [0.8, \"#7fbc41\"], [0.9, \"#4d9221\"], [1, \"#276419\"]], \"sequential\": [[0.0, \"#0d0887\"], [0.1111111111111111, \"#46039f\"], [0.2222222222222222, \"#7201a8\"], [0.3333333333333333, \"#9c179e\"], [0.4444444444444444, \"#bd3786\"], [0.5555555555555556, \"#d8576b\"], [0.6666666666666666, \"#ed7953\"], [0.7777777777777778, \"#fb9f3a\"], [0.8888888888888888, \"#fdca26\"], [1.0, \"#f0f921\"]], \"sequentialminus\": [[0.0, \"#0d0887\"], [0.1111111111111111, \"#46039f\"], [0.2222222222222222, \"#7201a8\"], [0.3333333333333333, \"#9c179e\"], [0.4444444444444444, \"#bd3786\"], [0.5555555555555556, \"#d8576b\"], [0.6666666666666666, \"#ed7953\"], [0.7777777777777778, \"#fb9f3a\"], [0.8888888888888888, \"#fdca26\"], [1.0, \"#f0f921\"]]}, \"colorway\": [\"#636efa\", \"#EF553B\", \"#00cc96\", \"#ab63fa\", \"#FFA15A\", \"#19d3f3\", \"#FF6692\", \"#B6E880\", \"#FF97FF\", \"#FECB52\"], \"font\": {\"color\": \"#2a3f5f\"}, \"geo\": {\"bgcolor\": \"white\", \"lakecolor\": \"white\", \"landcolor\": \"#E5ECF6\", \"showlakes\": true, \"showland\": true, \"subunitcolor\": \"white\"}, \"hoverlabel\": {\"align\": \"left\"}, \"hovermode\": \"closest\", \"mapbox\": {\"style\": \"light\"}, \"paper_bgcolor\": \"white\", \"plot_bgcolor\": \"#E5ECF6\", \"polar\": {\"angularaxis\": {\"gridcolor\": \"white\", \"linecolor\": \"white\", \"ticks\": \"\"}, \"bgcolor\": \"#E5ECF6\", \"radialaxis\": {\"gridcolor\": \"white\", \"linecolor\": \"white\", \"ticks\": \"\"}}, \"scene\": {\"xaxis\": {\"backgroundcolor\": \"#E5ECF6\", \"gridcolor\": \"white\", \"gridwidth\": 2, \"linecolor\": \"white\", \"showbackground\": true, \"ticks\": \"\", \"zerolinecolor\": \"white\"}, \"yaxis\": {\"backgroundcolor\": \"#E5ECF6\", \"gridcolor\": \"white\", \"gridwidth\": 2, \"linecolor\": \"white\", \"showbackground\": true, \"ticks\": \"\", \"zerolinecolor\": \"white\"}, \"zaxis\": {\"backgroundcolor\": \"#E5ECF6\", \"gridcolor\": \"white\", \"gridwidth\": 2, \"linecolor\": \"white\", \"showbackground\": true, \"ticks\": \"\", \"zerolinecolor\": \"white\"}}, \"shapedefaults\": {\"line\": {\"color\": \"#2a3f5f\"}}, \"ternary\": {\"aaxis\": {\"gridcolor\": \"white\", \"linecolor\": \"white\", \"ticks\": \"\"}, \"baxis\": {\"gridcolor\": \"white\", \"linecolor\": \"white\", \"ticks\": \"\"}, \"bgcolor\": \"#E5ECF6\", \"caxis\": {\"gridcolor\": \"white\", \"linecolor\": \"white\", \"ticks\": \"\"}}, \"title\": {\"x\": 0.05}, \"xaxis\": {\"automargin\": true, \"gridcolor\": \"white\", \"linecolor\": \"white\", \"ticks\": \"\", \"title\": {\"standoff\": 15}, \"zerolinecolor\": \"white\", \"zerolinewidth\": 2}, \"yaxis\": {\"automargin\": true, \"gridcolor\": \"white\", \"linecolor\": \"white\", \"ticks\": \"\", \"title\": {\"standoff\": 15}, \"zerolinecolor\": \"white\", \"zerolinewidth\": 2}}}, \"title\": {\"font\": {\"color\": \"#4D5663\"}}, \"xaxis\": {\"gridcolor\": \"#E1E5ED\", \"showgrid\": true, \"tickfont\": {\"color\": \"#4D5663\"}, \"title\": {\"font\": {\"color\": \"#4D5663\"}, \"text\": \"\"}, \"zerolinecolor\": \"#E1E5ED\"}, \"yaxis\": {\"gridcolor\": \"#E1E5ED\", \"showgrid\": true, \"tickfont\": {\"color\": \"#4D5663\"}, \"title\": {\"font\": {\"color\": \"#4D5663\"}, \"text\": \"\"}, \"zerolinecolor\": \"#E1E5ED\"}},\n",
       "                        {\"showLink\": true, \"linkText\": \"Export to plot.ly\", \"plotlyServerURL\": \"https://plot.ly\", \"responsive\": true}\n",
       "                    ).then(function(){\n",
       "                            \n",
       "var gd = document.getElementById('0e1e8f2d-21a2-4209-bfc4-dfb94c654b2a');\n",
       "var x = new MutationObserver(function (mutations, observer) {{\n",
       "        var display = window.getComputedStyle(gd).display;\n",
       "        if (!display || display === 'none') {{\n",
       "            console.log([gd, 'removed!']);\n",
       "            Plotly.purge(gd);\n",
       "            observer.disconnect();\n",
       "        }}\n",
       "}});\n",
       "\n",
       "// Listen for the removal of the full notebook cells\n",
       "var notebookContainer = gd.closest('#notebook-container');\n",
       "if (notebookContainer) {{\n",
       "    x.observe(notebookContainer, {childList: true});\n",
       "}}\n",
       "\n",
       "// Listen for the clearing of the current output cell\n",
       "var outputEl = gd.closest('.output');\n",
       "if (outputEl) {{\n",
       "    x.observe(outputEl, {childList: true});\n",
       "}}\n",
       "\n",
       "                        })\n",
       "                };\n",
       "                });\n",
       "            </script>\n",
       "        </div>"
      ]
     },
     "metadata": {},
     "output_type": "display_data"
    }
   ],
   "source": [
    "df3.iplot(kind='surface',colorscale='rdylbu')"
   ]
  },
  {
   "cell_type": "code",
   "execution_count": 21,
   "metadata": {},
   "outputs": [
    {
     "data": {
      "application/vnd.plotly.v1+json": {
       "config": {
        "linkText": "Export to plot.ly",
        "plotlyServerURL": "https://plot.ly",
        "showLink": true
       },
       "data": [
        {
         "histfunc": "count",
         "histnorm": "",
         "marker": {
          "color": "rgba(255, 153, 51, 1.0)",
          "line": {
           "color": "#4D5663",
           "width": 1.3
          }
         },
         "name": "A",
         "opacity": 0.8,
         "orientation": "v",
         "type": "histogram",
         "x": [
          -0.3778223188637527,
          0.0922801329148354,
          0.30314941242763466,
          -1.7247202757361555,
          -1.058806603088048,
          0.3562706846101683,
          0.5893574103570001,
          0.4585923583725432,
          1.1037945473464486,
          -0.3797924361831625,
          -1.0427165172979118,
          -2.353686639099532,
          -0.29509732902435676,
          -1.2329854565647862,
          -1.126512415797739,
          -2.7475965594656078,
          -1.2320765599446821,
          1.1960796864242584,
          -1.5053003537604794,
          1.4120424256808577,
          0.44528925065892605,
          0.9407256226239445,
          0.3346734763472071,
          0.6271526760473892,
          0.8580570503239457,
          -1.5932250845668334,
          -1.899147120460595,
          -0.5867413973285835,
          -0.9077758388365309,
          -0.8265399131304081,
          -0.48541987181432733,
          -1.9699390955796718,
          0.30671395224387316,
          -0.09814400017825455,
          0.6194420460243791,
          0.19192157796057446,
          0.26127009853054683,
          0.5934868937468604,
          1.3023689503304985,
          -0.557661021363899,
          1.3935040980784998,
          0.6095413707122774,
          0.19800162145167038,
          0.17773739624827156,
          0.1044704890515966,
          0.7366235446387637,
          0.12357136991878583,
          0.09574507787250311,
          0.4229303615159778,
          -0.05638478718449256,
          0.0524134147976591,
          -0.32084851794570013,
          3.323544545394268,
          -1.31951123577791,
          -1.0284774655531908,
          -0.4095367186350242,
          -0.9588002136398506,
          -0.12650654004935413,
          -0.860830501797706,
          -1.1880220044268255,
          0.00549830950166235,
          2.5233899814560115,
          -0.3659869477806698,
          0.2246642533450928,
          2.4174169231965945,
          -0.7850206563893745,
          1.1952085514381636,
          -1.625831633350626,
          0.8500313495956225,
          0.1359891984288151,
          -0.30049628523290484,
          -0.5408007451983162,
          1.156569580879917,
          -1.130335538700787,
          0.009621902777194428,
          -0.4915624184966093,
          0.8101057700385709,
          -0.3735203108248807,
          1.8487969495407632,
          -1.218057266502291,
          0.8398393241662376,
          2.4987094763734685,
          0.011469559294633237,
          1.1906179842714053,
          0.06397273787221386,
          1.5721334359149062,
          -0.40219610269343364,
          -1.5792141027986448,
          0.8781210937978811,
          -0.11279078387832467,
          -0.7966050137612551,
          -0.7811050635977146,
          1.1377100099162374,
          0.9886447210219727,
          -0.024892387637142906,
          0.9431513722593761,
          -0.11290888417369738,
          0.2128077746776085,
          -1.1045250270455622,
          -1.376879949847616
         ]
        },
        {
         "histfunc": "count",
         "histnorm": "",
         "marker": {
          "color": "rgba(55, 128, 191, 1.0)",
          "line": {
           "color": "#4D5663",
           "width": 1.3
          }
         },
         "name": "B",
         "opacity": 0.8,
         "orientation": "v",
         "type": "histogram",
         "x": [
          -1.316494825844439,
          0.2866719465461037,
          1.0478572119460632,
          -0.49355271897014624,
          -0.3542447919084635,
          -0.32650917113074646,
          1.1327673099908224,
          -0.8284119403094422,
          -0.7922051809940646,
          -0.42267745324087386,
          -1.0574974112458024,
          0.05540325977674381,
          -1.1224762575973932,
          -0.017964883564133848,
          -0.1682330830079046,
          1.8673751650772215,
          0.08004730349155705,
          -1.1250216343133097,
          1.025612290218689,
          -0.16745276111172824,
          1.1195894693054642,
          0.8560878889882733,
          -0.689496796712005,
          -0.10834697650456812,
          -0.7416035670698498,
          -1.4275386276737139,
          -0.8358930796699012,
          -1.6783958713333986,
          0.5156163219565989,
          0.4071645719782639,
          2.6641197458789834,
          0.6289898980658927,
          -2.745439843907141,
          -2.911319180158229,
          -0.4990510898715183,
          0.3534404282333845,
          -1.1448283539966881,
          -0.08782184871280074,
          1.286134650626389,
          -1.0219268738584983,
          0.8533706050813746,
          -0.9101654435552414,
          -0.1944663516311447,
          0.023407873628503623,
          -0.19119742997980924,
          -1.0047286399715987,
          -0.015257653555950003,
          -0.0056296678451680906,
          -0.11364674997934227,
          -0.3164297329600258,
          -1.1884782853636806,
          0.5297264880579176,
          -0.5977201879104943,
          -0.10328709441783887,
          -0.40190680822729946,
          -0.015150400733030547,
          1.6259239440798234,
          -0.9176223687265888,
          0.09035423193074928,
          0.5215540259689497,
          -1.5100934159184967,
          -0.5617412384064335,
          1.9055962539223812,
          0.03140965475767426,
          -1.3191667111676395,
          0.15372129450845587,
          0.6213905285187237,
          1.4181655536798619,
          1.1127703081989955,
          -0.0009139932771381095,
          0.37146688251936105,
          1.8410188890021395,
          0.31324377589728125,
          1.7741866034599767,
          0.6860842020791837,
          -0.48426173373315584,
          -2.3158113012427592,
          2.1987352884004943,
          0.5909603338530436,
          0.06152588978596741,
          -0.47230935828592624,
          0.011882187395418206,
          0.057482546270307536,
          -0.313899116576255,
          0.8110275578864159,
          0.31186695155541283,
          0.017627978391445108,
          1.0691785570143704,
          1.6416457276834544,
          1.4965106491758011,
          -0.5416788112901813,
          -0.599576260609268,
          0.21003831009666457,
          0.15285166599823136,
          1.8531387222782865,
          -1.7774255813400108,
          0.24270874088554262,
          0.1685323107914805,
          -0.4263276741178543,
          -1.1424089489759095
         ]
        },
        {
         "histfunc": "count",
         "histnorm": "",
         "marker": {
          "color": "rgba(50, 171, 96, 1.0)",
          "line": {
           "color": "#4D5663",
           "width": 1.3
          }
         },
         "name": "C",
         "opacity": 0.8,
         "orientation": "v",
         "type": "histogram",
         "x": [
          1.406775720046884,
          1.1496996192746953,
          -0.32630697549626747,
          -1.296832523493453,
          -0.5389668297279848,
          0.493404219081789,
          0.43584985082044786,
          -0.8214194987178164,
          1.0786653759968017,
          -1.2983206517755435,
          -2.5881414790267026,
          -1.7753004429759662,
          -0.21644596706932792,
          -1.0042188960197214,
          0.5757291561543383,
          -0.5239132916002543,
          -0.772747927796187,
          -0.46812940826066063,
          1.4521343103982036,
          1.2846326654255793,
          0.04504784799893927,
          -1.893576967991285,
          0.3919703444042239,
          -0.48642321199236016,
          -0.5437908861394942,
          -0.2792570281533198,
          1.4133221039855208,
          1.6976634794530043,
          1.4567259108246078,
          -1.8221214160932686,
          0.20003524706278106,
          0.1983044868834503,
          0.14911029729587455,
          -1.346467447568015,
          0.43398946401134586,
          0.22233685214677837,
          0.47957669586758106,
          -1.102331238917154,
          -0.4998942192434582,
          -0.521068698854739,
          0.8973733424337166,
          -0.7816245886464664,
          0.22537260587342783,
          -0.8787885822828528,
          1.4230446901233393,
          0.34987293086009996,
          1.3911796291059848,
          1.2403794662202954,
          0.5114066728728492,
          -2.0166321273917736,
          0.7856861588247765,
          0.13691720786003714,
          -0.7880673590618453,
          0.03716769157101709,
          0.7799372126487223,
          1.7985491905038886,
          -0.19659818359663062,
          -0.012702577323151937,
          -0.8626960422069377,
          0.3597157395604989,
          0.6265896221927325,
          -0.9308715158558263,
          1.3464372604156218,
          0.6498728187409063,
          -1.6511662689241349,
          -0.9229299197376384,
          -1.2478417510711537,
          1.5227750396514883,
          -0.6311981482876451,
          1.551260004036639,
          -0.10502460554637756,
          -0.8493628839047709,
          2.027302413088894,
          -2.7934070100435475,
          0.6446845621352232,
          0.22071236826477122,
          1.0616860404591533,
          0.7467718877024979,
          0.0707552703298251,
          -1.1786996958286515,
          0.5243730244208548,
          0.39007878937880947,
          -0.5946194961721954,
          0.639070916937189,
          -0.7160141695559963,
          0.2456768588349713,
          0.5563854384232808,
          0.564420226858298,
          -0.0690448547947384,
          -1.2593419532553742,
          0.6374531147193259,
          1.2207630578986564,
          0.11105879218861575,
          0.12374607949375441,
          -2.2355297017644813,
          0.9520764800263771,
          -0.0453887598932331,
          0.09024937485326473,
          -0.3105849048692074,
          -0.668433153781252
         ]
        },
        {
         "histfunc": "count",
         "histnorm": "",
         "marker": {
          "color": "rgba(128, 0, 128, 1.0)",
          "line": {
           "color": "#4D5663",
           "width": 1.3
          }
         },
         "name": "D",
         "opacity": 0.8,
         "orientation": "v",
         "type": "histogram",
         "x": [
          -0.7828650546033424,
          -0.3596533224921512,
          2.434719466250771,
          -0.9760353510297209,
          -1.586223995581084,
          0.3433342180231897,
          -0.31836419405528904,
          -0.5890956005205258,
          -0.7323000953439843,
          0.5769436208430118,
          1.0130015446224054,
          2.6356901709872482,
          -0.8638788997042456,
          -0.018631462990366488,
          1.4687779876612514,
          0.5617108204276043,
          0.4415436167544604,
          1.179320520273603,
          0.44805899141703515,
          0.9478082903689579,
          -0.5370436644028713,
          -0.4731704080052558,
          0.31223709024066526,
          -0.5060976754902158,
          0.07033654950523442,
          0.3960105865413948,
          -0.424067082278597,
          1.0751328588786822,
          0.7736680128061073,
          -0.4259995984742435,
          2.3006358449268127,
          -2.1192105641547876,
          -0.8880452412793026,
          0.3337262950860996,
          0.8153607065240488,
          1.7043940134934612,
          0.920540277767794,
          0.4234086995152187,
          0.4079448723600171,
          1.75499020536987,
          -0.33330185707420723,
          -0.9145116511004463,
          0.20006830351177876,
          -2.1140128038847243,
          -0.5977221954328469,
          0.060721644402041634,
          -0.018137439504961928,
          0.3196159992873991,
          0.47730693769300037,
          -0.5384123818186065,
          0.093217833984639,
          -0.09918326283418104,
          0.6638592384521873,
          -1.641643122886323,
          -1.0076183003204213,
          -1.0455237773603263,
          -1.3559854330219154,
          1.2553785663067567,
          0.04446140211217297,
          0.17890724289904997,
          0.5141432214794293,
          0.6733623595289793,
          0.0017206586771053502,
          1.7002385173305798,
          0.3766576304553358,
          1.6828371294794315,
          0.12107287487108928,
          -0.5385881907425488,
          0.6373655957718737,
          2.1318433715940754,
          -1.0880384152907472,
          0.32166878175520086,
          1.4445937515436955,
          0.1568411213201166,
          -1.226161112722581,
          0.514702914050513,
          1.0750421171304343,
          -0.9812992268141888,
          -0.5516496428257325,
          0.40064604570951057,
          -2.1041721784953715,
          1.3671390546573465,
          0.24634804179867126,
          -1.0944570399758755,
          -1.4450080892781683,
          -0.7421966077271516,
          -0.6343872745838302,
          0.36836371271043256,
          -0.6519255392459694,
          -0.2474436412537946,
          -0.9071546146833869,
          -1.0249724944144538,
          -1.6963961761097375,
          -0.4012714947050643,
          -0.1521446041864467,
          -0.4959909750493157,
          0.532628405005131,
          -0.6717570080851565,
          0.00844951382232753,
          -1.0177919469853345
         ]
        }
       ],
       "layout": {
        "barmode": "overlay",
        "legend": {
         "bgcolor": "#F5F6F9",
         "font": {
          "color": "#4D5663"
         }
        },
        "paper_bgcolor": "#F5F6F9",
        "plot_bgcolor": "#F5F6F9",
        "template": {
         "data": {
          "bar": [
           {
            "error_x": {
             "color": "#2a3f5f"
            },
            "error_y": {
             "color": "#2a3f5f"
            },
            "marker": {
             "line": {
              "color": "#E5ECF6",
              "width": 0.5
             }
            },
            "type": "bar"
           }
          ],
          "barpolar": [
           {
            "marker": {
             "line": {
              "color": "#E5ECF6",
              "width": 0.5
             }
            },
            "type": "barpolar"
           }
          ],
          "carpet": [
           {
            "aaxis": {
             "endlinecolor": "#2a3f5f",
             "gridcolor": "white",
             "linecolor": "white",
             "minorgridcolor": "white",
             "startlinecolor": "#2a3f5f"
            },
            "baxis": {
             "endlinecolor": "#2a3f5f",
             "gridcolor": "white",
             "linecolor": "white",
             "minorgridcolor": "white",
             "startlinecolor": "#2a3f5f"
            },
            "type": "carpet"
           }
          ],
          "choropleth": [
           {
            "colorbar": {
             "outlinewidth": 0,
             "ticks": ""
            },
            "type": "choropleth"
           }
          ],
          "contour": [
           {
            "colorbar": {
             "outlinewidth": 0,
             "ticks": ""
            },
            "colorscale": [
             [
              0,
              "#0d0887"
             ],
             [
              0.1111111111111111,
              "#46039f"
             ],
             [
              0.2222222222222222,
              "#7201a8"
             ],
             [
              0.3333333333333333,
              "#9c179e"
             ],
             [
              0.4444444444444444,
              "#bd3786"
             ],
             [
              0.5555555555555556,
              "#d8576b"
             ],
             [
              0.6666666666666666,
              "#ed7953"
             ],
             [
              0.7777777777777778,
              "#fb9f3a"
             ],
             [
              0.8888888888888888,
              "#fdca26"
             ],
             [
              1,
              "#f0f921"
             ]
            ],
            "type": "contour"
           }
          ],
          "contourcarpet": [
           {
            "colorbar": {
             "outlinewidth": 0,
             "ticks": ""
            },
            "type": "contourcarpet"
           }
          ],
          "heatmap": [
           {
            "colorbar": {
             "outlinewidth": 0,
             "ticks": ""
            },
            "colorscale": [
             [
              0,
              "#0d0887"
             ],
             [
              0.1111111111111111,
              "#46039f"
             ],
             [
              0.2222222222222222,
              "#7201a8"
             ],
             [
              0.3333333333333333,
              "#9c179e"
             ],
             [
              0.4444444444444444,
              "#bd3786"
             ],
             [
              0.5555555555555556,
              "#d8576b"
             ],
             [
              0.6666666666666666,
              "#ed7953"
             ],
             [
              0.7777777777777778,
              "#fb9f3a"
             ],
             [
              0.8888888888888888,
              "#fdca26"
             ],
             [
              1,
              "#f0f921"
             ]
            ],
            "type": "heatmap"
           }
          ],
          "heatmapgl": [
           {
            "colorbar": {
             "outlinewidth": 0,
             "ticks": ""
            },
            "colorscale": [
             [
              0,
              "#0d0887"
             ],
             [
              0.1111111111111111,
              "#46039f"
             ],
             [
              0.2222222222222222,
              "#7201a8"
             ],
             [
              0.3333333333333333,
              "#9c179e"
             ],
             [
              0.4444444444444444,
              "#bd3786"
             ],
             [
              0.5555555555555556,
              "#d8576b"
             ],
             [
              0.6666666666666666,
              "#ed7953"
             ],
             [
              0.7777777777777778,
              "#fb9f3a"
             ],
             [
              0.8888888888888888,
              "#fdca26"
             ],
             [
              1,
              "#f0f921"
             ]
            ],
            "type": "heatmapgl"
           }
          ],
          "histogram": [
           {
            "marker": {
             "colorbar": {
              "outlinewidth": 0,
              "ticks": ""
             }
            },
            "type": "histogram"
           }
          ],
          "histogram2d": [
           {
            "colorbar": {
             "outlinewidth": 0,
             "ticks": ""
            },
            "colorscale": [
             [
              0,
              "#0d0887"
             ],
             [
              0.1111111111111111,
              "#46039f"
             ],
             [
              0.2222222222222222,
              "#7201a8"
             ],
             [
              0.3333333333333333,
              "#9c179e"
             ],
             [
              0.4444444444444444,
              "#bd3786"
             ],
             [
              0.5555555555555556,
              "#d8576b"
             ],
             [
              0.6666666666666666,
              "#ed7953"
             ],
             [
              0.7777777777777778,
              "#fb9f3a"
             ],
             [
              0.8888888888888888,
              "#fdca26"
             ],
             [
              1,
              "#f0f921"
             ]
            ],
            "type": "histogram2d"
           }
          ],
          "histogram2dcontour": [
           {
            "colorbar": {
             "outlinewidth": 0,
             "ticks": ""
            },
            "colorscale": [
             [
              0,
              "#0d0887"
             ],
             [
              0.1111111111111111,
              "#46039f"
             ],
             [
              0.2222222222222222,
              "#7201a8"
             ],
             [
              0.3333333333333333,
              "#9c179e"
             ],
             [
              0.4444444444444444,
              "#bd3786"
             ],
             [
              0.5555555555555556,
              "#d8576b"
             ],
             [
              0.6666666666666666,
              "#ed7953"
             ],
             [
              0.7777777777777778,
              "#fb9f3a"
             ],
             [
              0.8888888888888888,
              "#fdca26"
             ],
             [
              1,
              "#f0f921"
             ]
            ],
            "type": "histogram2dcontour"
           }
          ],
          "mesh3d": [
           {
            "colorbar": {
             "outlinewidth": 0,
             "ticks": ""
            },
            "type": "mesh3d"
           }
          ],
          "parcoords": [
           {
            "line": {
             "colorbar": {
              "outlinewidth": 0,
              "ticks": ""
             }
            },
            "type": "parcoords"
           }
          ],
          "pie": [
           {
            "automargin": true,
            "type": "pie"
           }
          ],
          "scatter": [
           {
            "marker": {
             "colorbar": {
              "outlinewidth": 0,
              "ticks": ""
             }
            },
            "type": "scatter"
           }
          ],
          "scatter3d": [
           {
            "line": {
             "colorbar": {
              "outlinewidth": 0,
              "ticks": ""
             }
            },
            "marker": {
             "colorbar": {
              "outlinewidth": 0,
              "ticks": ""
             }
            },
            "type": "scatter3d"
           }
          ],
          "scattercarpet": [
           {
            "marker": {
             "colorbar": {
              "outlinewidth": 0,
              "ticks": ""
             }
            },
            "type": "scattercarpet"
           }
          ],
          "scattergeo": [
           {
            "marker": {
             "colorbar": {
              "outlinewidth": 0,
              "ticks": ""
             }
            },
            "type": "scattergeo"
           }
          ],
          "scattergl": [
           {
            "marker": {
             "colorbar": {
              "outlinewidth": 0,
              "ticks": ""
             }
            },
            "type": "scattergl"
           }
          ],
          "scattermapbox": [
           {
            "marker": {
             "colorbar": {
              "outlinewidth": 0,
              "ticks": ""
             }
            },
            "type": "scattermapbox"
           }
          ],
          "scatterpolar": [
           {
            "marker": {
             "colorbar": {
              "outlinewidth": 0,
              "ticks": ""
             }
            },
            "type": "scatterpolar"
           }
          ],
          "scatterpolargl": [
           {
            "marker": {
             "colorbar": {
              "outlinewidth": 0,
              "ticks": ""
             }
            },
            "type": "scatterpolargl"
           }
          ],
          "scatterternary": [
           {
            "marker": {
             "colorbar": {
              "outlinewidth": 0,
              "ticks": ""
             }
            },
            "type": "scatterternary"
           }
          ],
          "surface": [
           {
            "colorbar": {
             "outlinewidth": 0,
             "ticks": ""
            },
            "colorscale": [
             [
              0,
              "#0d0887"
             ],
             [
              0.1111111111111111,
              "#46039f"
             ],
             [
              0.2222222222222222,
              "#7201a8"
             ],
             [
              0.3333333333333333,
              "#9c179e"
             ],
             [
              0.4444444444444444,
              "#bd3786"
             ],
             [
              0.5555555555555556,
              "#d8576b"
             ],
             [
              0.6666666666666666,
              "#ed7953"
             ],
             [
              0.7777777777777778,
              "#fb9f3a"
             ],
             [
              0.8888888888888888,
              "#fdca26"
             ],
             [
              1,
              "#f0f921"
             ]
            ],
            "type": "surface"
           }
          ],
          "table": [
           {
            "cells": {
             "fill": {
              "color": "#EBF0F8"
             },
             "line": {
              "color": "white"
             }
            },
            "header": {
             "fill": {
              "color": "#C8D4E3"
             },
             "line": {
              "color": "white"
             }
            },
            "type": "table"
           }
          ]
         },
         "layout": {
          "annotationdefaults": {
           "arrowcolor": "#2a3f5f",
           "arrowhead": 0,
           "arrowwidth": 1
          },
          "coloraxis": {
           "colorbar": {
            "outlinewidth": 0,
            "ticks": ""
           }
          },
          "colorscale": {
           "diverging": [
            [
             0,
             "#8e0152"
            ],
            [
             0.1,
             "#c51b7d"
            ],
            [
             0.2,
             "#de77ae"
            ],
            [
             0.3,
             "#f1b6da"
            ],
            [
             0.4,
             "#fde0ef"
            ],
            [
             0.5,
             "#f7f7f7"
            ],
            [
             0.6,
             "#e6f5d0"
            ],
            [
             0.7,
             "#b8e186"
            ],
            [
             0.8,
             "#7fbc41"
            ],
            [
             0.9,
             "#4d9221"
            ],
            [
             1,
             "#276419"
            ]
           ],
           "sequential": [
            [
             0,
             "#0d0887"
            ],
            [
             0.1111111111111111,
             "#46039f"
            ],
            [
             0.2222222222222222,
             "#7201a8"
            ],
            [
             0.3333333333333333,
             "#9c179e"
            ],
            [
             0.4444444444444444,
             "#bd3786"
            ],
            [
             0.5555555555555556,
             "#d8576b"
            ],
            [
             0.6666666666666666,
             "#ed7953"
            ],
            [
             0.7777777777777778,
             "#fb9f3a"
            ],
            [
             0.8888888888888888,
             "#fdca26"
            ],
            [
             1,
             "#f0f921"
            ]
           ],
           "sequentialminus": [
            [
             0,
             "#0d0887"
            ],
            [
             0.1111111111111111,
             "#46039f"
            ],
            [
             0.2222222222222222,
             "#7201a8"
            ],
            [
             0.3333333333333333,
             "#9c179e"
            ],
            [
             0.4444444444444444,
             "#bd3786"
            ],
            [
             0.5555555555555556,
             "#d8576b"
            ],
            [
             0.6666666666666666,
             "#ed7953"
            ],
            [
             0.7777777777777778,
             "#fb9f3a"
            ],
            [
             0.8888888888888888,
             "#fdca26"
            ],
            [
             1,
             "#f0f921"
            ]
           ]
          },
          "colorway": [
           "#636efa",
           "#EF553B",
           "#00cc96",
           "#ab63fa",
           "#FFA15A",
           "#19d3f3",
           "#FF6692",
           "#B6E880",
           "#FF97FF",
           "#FECB52"
          ],
          "font": {
           "color": "#2a3f5f"
          },
          "geo": {
           "bgcolor": "white",
           "lakecolor": "white",
           "landcolor": "#E5ECF6",
           "showlakes": true,
           "showland": true,
           "subunitcolor": "white"
          },
          "hoverlabel": {
           "align": "left"
          },
          "hovermode": "closest",
          "mapbox": {
           "style": "light"
          },
          "paper_bgcolor": "white",
          "plot_bgcolor": "#E5ECF6",
          "polar": {
           "angularaxis": {
            "gridcolor": "white",
            "linecolor": "white",
            "ticks": ""
           },
           "bgcolor": "#E5ECF6",
           "radialaxis": {
            "gridcolor": "white",
            "linecolor": "white",
            "ticks": ""
           }
          },
          "scene": {
           "xaxis": {
            "backgroundcolor": "#E5ECF6",
            "gridcolor": "white",
            "gridwidth": 2,
            "linecolor": "white",
            "showbackground": true,
            "ticks": "",
            "zerolinecolor": "white"
           },
           "yaxis": {
            "backgroundcolor": "#E5ECF6",
            "gridcolor": "white",
            "gridwidth": 2,
            "linecolor": "white",
            "showbackground": true,
            "ticks": "",
            "zerolinecolor": "white"
           },
           "zaxis": {
            "backgroundcolor": "#E5ECF6",
            "gridcolor": "white",
            "gridwidth": 2,
            "linecolor": "white",
            "showbackground": true,
            "ticks": "",
            "zerolinecolor": "white"
           }
          },
          "shapedefaults": {
           "line": {
            "color": "#2a3f5f"
           }
          },
          "ternary": {
           "aaxis": {
            "gridcolor": "white",
            "linecolor": "white",
            "ticks": ""
           },
           "baxis": {
            "gridcolor": "white",
            "linecolor": "white",
            "ticks": ""
           },
           "bgcolor": "#E5ECF6",
           "caxis": {
            "gridcolor": "white",
            "linecolor": "white",
            "ticks": ""
           }
          },
          "title": {
           "x": 0.05
          },
          "xaxis": {
           "automargin": true,
           "gridcolor": "white",
           "linecolor": "white",
           "ticks": "",
           "title": {
            "standoff": 15
           },
           "zerolinecolor": "white",
           "zerolinewidth": 2
          },
          "yaxis": {
           "automargin": true,
           "gridcolor": "white",
           "linecolor": "white",
           "ticks": "",
           "title": {
            "standoff": 15
           },
           "zerolinecolor": "white",
           "zerolinewidth": 2
          }
         }
        },
        "title": {
         "font": {
          "color": "#4D5663"
         }
        },
        "xaxis": {
         "gridcolor": "#E1E5ED",
         "showgrid": true,
         "tickfont": {
          "color": "#4D5663"
         },
         "title": {
          "font": {
           "color": "#4D5663"
          },
          "text": ""
         },
         "zerolinecolor": "#E1E5ED"
        },
        "yaxis": {
         "gridcolor": "#E1E5ED",
         "showgrid": true,
         "tickfont": {
          "color": "#4D5663"
         },
         "title": {
          "font": {
           "color": "#4D5663"
          },
          "text": ""
         },
         "zerolinecolor": "#E1E5ED"
        }
       }
      },
      "text/html": [
       "<div>\n",
       "        \n",
       "        \n",
       "            <div id=\"72c11b11-9d35-4fb3-9cf2-babae36512d9\" class=\"plotly-graph-div\" style=\"height:525px; width:100%;\"></div>\n",
       "            <script type=\"text/javascript\">\n",
       "                require([\"plotly\"], function(Plotly) {\n",
       "                    window.PLOTLYENV=window.PLOTLYENV || {};\n",
       "                    window.PLOTLYENV.BASE_URL='https://plot.ly';\n",
       "                    \n",
       "                if (document.getElementById(\"72c11b11-9d35-4fb3-9cf2-babae36512d9\")) {\n",
       "                    Plotly.newPlot(\n",
       "                        '72c11b11-9d35-4fb3-9cf2-babae36512d9',\n",
       "                        [{\"histfunc\": \"count\", \"histnorm\": \"\", \"marker\": {\"color\": \"rgba(255, 153, 51, 1.0)\", \"line\": {\"color\": \"#4D5663\", \"width\": 1.3}}, \"name\": \"A\", \"opacity\": 0.8, \"orientation\": \"v\", \"type\": \"histogram\", \"x\": [-0.3778223188637527, 0.0922801329148354, 0.30314941242763466, -1.7247202757361555, -1.058806603088048, 0.3562706846101683, 0.5893574103570001, 0.4585923583725432, 1.1037945473464486, -0.3797924361831625, -1.0427165172979118, -2.353686639099532, -0.29509732902435676, -1.2329854565647862, -1.126512415797739, -2.7475965594656078, -1.2320765599446821, 1.1960796864242584, -1.5053003537604794, 1.4120424256808577, 0.44528925065892605, 0.9407256226239445, 0.3346734763472071, 0.6271526760473892, 0.8580570503239457, -1.5932250845668334, -1.899147120460595, -0.5867413973285835, -0.9077758388365309, -0.8265399131304081, -0.48541987181432733, -1.9699390955796718, 0.30671395224387316, -0.09814400017825455, 0.6194420460243791, 0.19192157796057446, 0.26127009853054683, 0.5934868937468604, 1.3023689503304985, -0.557661021363899, 1.3935040980784998, 0.6095413707122774, 0.19800162145167038, 0.17773739624827156, 0.1044704890515966, 0.7366235446387637, 0.12357136991878583, 0.09574507787250311, 0.4229303615159778, -0.05638478718449256, 0.0524134147976591, -0.32084851794570013, 3.323544545394268, -1.31951123577791, -1.0284774655531908, -0.4095367186350242, -0.9588002136398506, -0.12650654004935413, -0.860830501797706, -1.1880220044268255, 0.00549830950166235, 2.5233899814560115, -0.3659869477806698, 0.2246642533450928, 2.4174169231965945, -0.7850206563893745, 1.1952085514381636, -1.625831633350626, 0.8500313495956225, 0.1359891984288151, -0.30049628523290484, -0.5408007451983162, 1.156569580879917, -1.130335538700787, 0.009621902777194428, -0.4915624184966093, 0.8101057700385709, -0.3735203108248807, 1.8487969495407632, -1.218057266502291, 0.8398393241662376, 2.4987094763734685, 0.011469559294633237, 1.1906179842714053, 0.06397273787221386, 1.5721334359149062, -0.40219610269343364, -1.5792141027986448, 0.8781210937978811, -0.11279078387832467, -0.7966050137612551, -0.7811050635977146, 1.1377100099162374, 0.9886447210219727, -0.024892387637142906, 0.9431513722593761, -0.11290888417369738, 0.2128077746776085, -1.1045250270455622, -1.376879949847616]}, {\"histfunc\": \"count\", \"histnorm\": \"\", \"marker\": {\"color\": \"rgba(55, 128, 191, 1.0)\", \"line\": {\"color\": \"#4D5663\", \"width\": 1.3}}, \"name\": \"B\", \"opacity\": 0.8, \"orientation\": \"v\", \"type\": \"histogram\", \"x\": [-1.316494825844439, 0.2866719465461037, 1.0478572119460632, -0.49355271897014624, -0.3542447919084635, -0.32650917113074646, 1.1327673099908224, -0.8284119403094422, -0.7922051809940646, -0.42267745324087386, -1.0574974112458024, 0.05540325977674381, -1.1224762575973932, -0.017964883564133848, -0.1682330830079046, 1.8673751650772215, 0.08004730349155705, -1.1250216343133097, 1.025612290218689, -0.16745276111172824, 1.1195894693054642, 0.8560878889882733, -0.689496796712005, -0.10834697650456812, -0.7416035670698498, -1.4275386276737139, -0.8358930796699012, -1.6783958713333986, 0.5156163219565989, 0.4071645719782639, 2.6641197458789834, 0.6289898980658927, -2.745439843907141, -2.911319180158229, -0.4990510898715183, 0.3534404282333845, -1.1448283539966881, -0.08782184871280074, 1.286134650626389, -1.0219268738584983, 0.8533706050813746, -0.9101654435552414, -0.1944663516311447, 0.023407873628503623, -0.19119742997980924, -1.0047286399715987, -0.015257653555950003, -0.0056296678451680906, -0.11364674997934227, -0.3164297329600258, -1.1884782853636806, 0.5297264880579176, -0.5977201879104943, -0.10328709441783887, -0.40190680822729946, -0.015150400733030547, 1.6259239440798234, -0.9176223687265888, 0.09035423193074928, 0.5215540259689497, -1.5100934159184967, -0.5617412384064335, 1.9055962539223812, 0.03140965475767426, -1.3191667111676395, 0.15372129450845587, 0.6213905285187237, 1.4181655536798619, 1.1127703081989955, -0.0009139932771381095, 0.37146688251936105, 1.8410188890021395, 0.31324377589728125, 1.7741866034599767, 0.6860842020791837, -0.48426173373315584, -2.3158113012427592, 2.1987352884004943, 0.5909603338530436, 0.06152588978596741, -0.47230935828592624, 0.011882187395418206, 0.057482546270307536, -0.313899116576255, 0.8110275578864159, 0.31186695155541283, 0.017627978391445108, 1.0691785570143704, 1.6416457276834544, 1.4965106491758011, -0.5416788112901813, -0.599576260609268, 0.21003831009666457, 0.15285166599823136, 1.8531387222782865, -1.7774255813400108, 0.24270874088554262, 0.1685323107914805, -0.4263276741178543, -1.1424089489759095]}, {\"histfunc\": \"count\", \"histnorm\": \"\", \"marker\": {\"color\": \"rgba(50, 171, 96, 1.0)\", \"line\": {\"color\": \"#4D5663\", \"width\": 1.3}}, \"name\": \"C\", \"opacity\": 0.8, \"orientation\": \"v\", \"type\": \"histogram\", \"x\": [1.406775720046884, 1.1496996192746953, -0.32630697549626747, -1.296832523493453, -0.5389668297279848, 0.493404219081789, 0.43584985082044786, -0.8214194987178164, 1.0786653759968017, -1.2983206517755435, -2.5881414790267026, -1.7753004429759662, -0.21644596706932792, -1.0042188960197214, 0.5757291561543383, -0.5239132916002543, -0.772747927796187, -0.46812940826066063, 1.4521343103982036, 1.2846326654255793, 0.04504784799893927, -1.893576967991285, 0.3919703444042239, -0.48642321199236016, -0.5437908861394942, -0.2792570281533198, 1.4133221039855208, 1.6976634794530043, 1.4567259108246078, -1.8221214160932686, 0.20003524706278106, 0.1983044868834503, 0.14911029729587455, -1.346467447568015, 0.43398946401134586, 0.22233685214677837, 0.47957669586758106, -1.102331238917154, -0.4998942192434582, -0.521068698854739, 0.8973733424337166, -0.7816245886464664, 0.22537260587342783, -0.8787885822828528, 1.4230446901233393, 0.34987293086009996, 1.3911796291059848, 1.2403794662202954, 0.5114066728728492, -2.0166321273917736, 0.7856861588247765, 0.13691720786003714, -0.7880673590618453, 0.03716769157101709, 0.7799372126487223, 1.7985491905038886, -0.19659818359663062, -0.012702577323151937, -0.8626960422069377, 0.3597157395604989, 0.6265896221927325, -0.9308715158558263, 1.3464372604156218, 0.6498728187409063, -1.6511662689241349, -0.9229299197376384, -1.2478417510711537, 1.5227750396514883, -0.6311981482876451, 1.551260004036639, -0.10502460554637756, -0.8493628839047709, 2.027302413088894, -2.7934070100435475, 0.6446845621352232, 0.22071236826477122, 1.0616860404591533, 0.7467718877024979, 0.0707552703298251, -1.1786996958286515, 0.5243730244208548, 0.39007878937880947, -0.5946194961721954, 0.639070916937189, -0.7160141695559963, 0.2456768588349713, 0.5563854384232808, 0.564420226858298, -0.0690448547947384, -1.2593419532553742, 0.6374531147193259, 1.2207630578986564, 0.11105879218861575, 0.12374607949375441, -2.2355297017644813, 0.9520764800263771, -0.0453887598932331, 0.09024937485326473, -0.3105849048692074, -0.668433153781252]}, {\"histfunc\": \"count\", \"histnorm\": \"\", \"marker\": {\"color\": \"rgba(128, 0, 128, 1.0)\", \"line\": {\"color\": \"#4D5663\", \"width\": 1.3}}, \"name\": \"D\", \"opacity\": 0.8, \"orientation\": \"v\", \"type\": \"histogram\", \"x\": [-0.7828650546033424, -0.3596533224921512, 2.434719466250771, -0.9760353510297209, -1.586223995581084, 0.3433342180231897, -0.31836419405528904, -0.5890956005205258, -0.7323000953439843, 0.5769436208430118, 1.0130015446224054, 2.6356901709872482, -0.8638788997042456, -0.018631462990366488, 1.4687779876612514, 0.5617108204276043, 0.4415436167544604, 1.179320520273603, 0.44805899141703515, 0.9478082903689579, -0.5370436644028713, -0.4731704080052558, 0.31223709024066526, -0.5060976754902158, 0.07033654950523442, 0.3960105865413948, -0.424067082278597, 1.0751328588786822, 0.7736680128061073, -0.4259995984742435, 2.3006358449268127, -2.1192105641547876, -0.8880452412793026, 0.3337262950860996, 0.8153607065240488, 1.7043940134934612, 0.920540277767794, 0.4234086995152187, 0.4079448723600171, 1.75499020536987, -0.33330185707420723, -0.9145116511004463, 0.20006830351177876, -2.1140128038847243, -0.5977221954328469, 0.060721644402041634, -0.018137439504961928, 0.3196159992873991, 0.47730693769300037, -0.5384123818186065, 0.093217833984639, -0.09918326283418104, 0.6638592384521873, -1.641643122886323, -1.0076183003204213, -1.0455237773603263, -1.3559854330219154, 1.2553785663067567, 0.04446140211217297, 0.17890724289904997, 0.5141432214794293, 0.6733623595289793, 0.0017206586771053502, 1.7002385173305798, 0.3766576304553358, 1.6828371294794315, 0.12107287487108928, -0.5385881907425488, 0.6373655957718737, 2.1318433715940754, -1.0880384152907472, 0.32166878175520086, 1.4445937515436955, 0.1568411213201166, -1.226161112722581, 0.514702914050513, 1.0750421171304343, -0.9812992268141888, -0.5516496428257325, 0.40064604570951057, -2.1041721784953715, 1.3671390546573465, 0.24634804179867126, -1.0944570399758755, -1.4450080892781683, -0.7421966077271516, -0.6343872745838302, 0.36836371271043256, -0.6519255392459694, -0.2474436412537946, -0.9071546146833869, -1.0249724944144538, -1.6963961761097375, -0.4012714947050643, -0.1521446041864467, -0.4959909750493157, 0.532628405005131, -0.6717570080851565, 0.00844951382232753, -1.0177919469853345]}],\n",
       "                        {\"barmode\": \"overlay\", \"legend\": {\"bgcolor\": \"#F5F6F9\", \"font\": {\"color\": \"#4D5663\"}}, \"paper_bgcolor\": \"#F5F6F9\", \"plot_bgcolor\": \"#F5F6F9\", \"template\": {\"data\": {\"bar\": [{\"error_x\": {\"color\": \"#2a3f5f\"}, \"error_y\": {\"color\": \"#2a3f5f\"}, \"marker\": {\"line\": {\"color\": \"#E5ECF6\", \"width\": 0.5}}, \"type\": \"bar\"}], \"barpolar\": [{\"marker\": {\"line\": {\"color\": \"#E5ECF6\", \"width\": 0.5}}, \"type\": \"barpolar\"}], \"carpet\": [{\"aaxis\": {\"endlinecolor\": \"#2a3f5f\", \"gridcolor\": \"white\", \"linecolor\": \"white\", \"minorgridcolor\": \"white\", \"startlinecolor\": \"#2a3f5f\"}, \"baxis\": {\"endlinecolor\": \"#2a3f5f\", \"gridcolor\": \"white\", \"linecolor\": \"white\", \"minorgridcolor\": \"white\", \"startlinecolor\": \"#2a3f5f\"}, \"type\": \"carpet\"}], \"choropleth\": [{\"colorbar\": {\"outlinewidth\": 0, \"ticks\": \"\"}, \"type\": \"choropleth\"}], \"contour\": [{\"colorbar\": {\"outlinewidth\": 0, \"ticks\": \"\"}, \"colorscale\": [[0.0, \"#0d0887\"], [0.1111111111111111, \"#46039f\"], [0.2222222222222222, \"#7201a8\"], [0.3333333333333333, \"#9c179e\"], [0.4444444444444444, \"#bd3786\"], [0.5555555555555556, \"#d8576b\"], [0.6666666666666666, \"#ed7953\"], [0.7777777777777778, \"#fb9f3a\"], [0.8888888888888888, \"#fdca26\"], [1.0, \"#f0f921\"]], \"type\": \"contour\"}], \"contourcarpet\": [{\"colorbar\": {\"outlinewidth\": 0, \"ticks\": \"\"}, \"type\": \"contourcarpet\"}], \"heatmap\": [{\"colorbar\": {\"outlinewidth\": 0, \"ticks\": \"\"}, \"colorscale\": [[0.0, \"#0d0887\"], [0.1111111111111111, \"#46039f\"], [0.2222222222222222, \"#7201a8\"], [0.3333333333333333, \"#9c179e\"], [0.4444444444444444, \"#bd3786\"], [0.5555555555555556, \"#d8576b\"], [0.6666666666666666, \"#ed7953\"], [0.7777777777777778, \"#fb9f3a\"], [0.8888888888888888, \"#fdca26\"], [1.0, \"#f0f921\"]], \"type\": \"heatmap\"}], \"heatmapgl\": [{\"colorbar\": {\"outlinewidth\": 0, \"ticks\": \"\"}, \"colorscale\": [[0.0, \"#0d0887\"], [0.1111111111111111, \"#46039f\"], [0.2222222222222222, \"#7201a8\"], [0.3333333333333333, \"#9c179e\"], [0.4444444444444444, \"#bd3786\"], [0.5555555555555556, \"#d8576b\"], [0.6666666666666666, \"#ed7953\"], [0.7777777777777778, \"#fb9f3a\"], [0.8888888888888888, \"#fdca26\"], [1.0, \"#f0f921\"]], \"type\": \"heatmapgl\"}], \"histogram\": [{\"marker\": {\"colorbar\": {\"outlinewidth\": 0, \"ticks\": \"\"}}, \"type\": \"histogram\"}], \"histogram2d\": [{\"colorbar\": {\"outlinewidth\": 0, \"ticks\": \"\"}, \"colorscale\": [[0.0, \"#0d0887\"], [0.1111111111111111, \"#46039f\"], [0.2222222222222222, \"#7201a8\"], [0.3333333333333333, \"#9c179e\"], [0.4444444444444444, \"#bd3786\"], [0.5555555555555556, \"#d8576b\"], [0.6666666666666666, \"#ed7953\"], [0.7777777777777778, \"#fb9f3a\"], [0.8888888888888888, \"#fdca26\"], [1.0, \"#f0f921\"]], \"type\": \"histogram2d\"}], \"histogram2dcontour\": [{\"colorbar\": {\"outlinewidth\": 0, \"ticks\": \"\"}, \"colorscale\": [[0.0, \"#0d0887\"], [0.1111111111111111, \"#46039f\"], [0.2222222222222222, \"#7201a8\"], [0.3333333333333333, \"#9c179e\"], [0.4444444444444444, \"#bd3786\"], [0.5555555555555556, \"#d8576b\"], [0.6666666666666666, \"#ed7953\"], [0.7777777777777778, \"#fb9f3a\"], [0.8888888888888888, \"#fdca26\"], [1.0, \"#f0f921\"]], \"type\": \"histogram2dcontour\"}], \"mesh3d\": [{\"colorbar\": {\"outlinewidth\": 0, \"ticks\": \"\"}, \"type\": \"mesh3d\"}], \"parcoords\": [{\"line\": {\"colorbar\": {\"outlinewidth\": 0, \"ticks\": \"\"}}, \"type\": \"parcoords\"}], \"pie\": [{\"automargin\": true, \"type\": \"pie\"}], \"scatter\": [{\"marker\": {\"colorbar\": {\"outlinewidth\": 0, \"ticks\": \"\"}}, \"type\": \"scatter\"}], \"scatter3d\": [{\"line\": {\"colorbar\": {\"outlinewidth\": 0, \"ticks\": \"\"}}, \"marker\": {\"colorbar\": {\"outlinewidth\": 0, \"ticks\": \"\"}}, \"type\": \"scatter3d\"}], \"scattercarpet\": [{\"marker\": {\"colorbar\": {\"outlinewidth\": 0, \"ticks\": \"\"}}, \"type\": \"scattercarpet\"}], \"scattergeo\": [{\"marker\": {\"colorbar\": {\"outlinewidth\": 0, \"ticks\": \"\"}}, \"type\": \"scattergeo\"}], \"scattergl\": [{\"marker\": {\"colorbar\": {\"outlinewidth\": 0, \"ticks\": \"\"}}, \"type\": \"scattergl\"}], \"scattermapbox\": [{\"marker\": {\"colorbar\": {\"outlinewidth\": 0, \"ticks\": \"\"}}, \"type\": \"scattermapbox\"}], \"scatterpolar\": [{\"marker\": {\"colorbar\": {\"outlinewidth\": 0, \"ticks\": \"\"}}, \"type\": \"scatterpolar\"}], \"scatterpolargl\": [{\"marker\": {\"colorbar\": {\"outlinewidth\": 0, \"ticks\": \"\"}}, \"type\": \"scatterpolargl\"}], \"scatterternary\": [{\"marker\": {\"colorbar\": {\"outlinewidth\": 0, \"ticks\": \"\"}}, \"type\": \"scatterternary\"}], \"surface\": [{\"colorbar\": {\"outlinewidth\": 0, \"ticks\": \"\"}, \"colorscale\": [[0.0, \"#0d0887\"], [0.1111111111111111, \"#46039f\"], [0.2222222222222222, \"#7201a8\"], [0.3333333333333333, \"#9c179e\"], [0.4444444444444444, \"#bd3786\"], [0.5555555555555556, \"#d8576b\"], [0.6666666666666666, \"#ed7953\"], [0.7777777777777778, \"#fb9f3a\"], [0.8888888888888888, \"#fdca26\"], [1.0, \"#f0f921\"]], \"type\": \"surface\"}], \"table\": [{\"cells\": {\"fill\": {\"color\": \"#EBF0F8\"}, \"line\": {\"color\": \"white\"}}, \"header\": {\"fill\": {\"color\": \"#C8D4E3\"}, \"line\": {\"color\": \"white\"}}, \"type\": \"table\"}]}, \"layout\": {\"annotationdefaults\": {\"arrowcolor\": \"#2a3f5f\", \"arrowhead\": 0, \"arrowwidth\": 1}, \"coloraxis\": {\"colorbar\": {\"outlinewidth\": 0, \"ticks\": \"\"}}, \"colorscale\": {\"diverging\": [[0, \"#8e0152\"], [0.1, \"#c51b7d\"], [0.2, \"#de77ae\"], [0.3, \"#f1b6da\"], [0.4, \"#fde0ef\"], [0.5, \"#f7f7f7\"], [0.6, \"#e6f5d0\"], [0.7, \"#b8e186\"], [0.8, \"#7fbc41\"], [0.9, \"#4d9221\"], [1, \"#276419\"]], \"sequential\": [[0.0, \"#0d0887\"], [0.1111111111111111, \"#46039f\"], [0.2222222222222222, \"#7201a8\"], [0.3333333333333333, \"#9c179e\"], [0.4444444444444444, \"#bd3786\"], [0.5555555555555556, \"#d8576b\"], [0.6666666666666666, \"#ed7953\"], [0.7777777777777778, \"#fb9f3a\"], [0.8888888888888888, \"#fdca26\"], [1.0, \"#f0f921\"]], \"sequentialminus\": [[0.0, \"#0d0887\"], [0.1111111111111111, \"#46039f\"], [0.2222222222222222, \"#7201a8\"], [0.3333333333333333, \"#9c179e\"], [0.4444444444444444, \"#bd3786\"], [0.5555555555555556, \"#d8576b\"], [0.6666666666666666, \"#ed7953\"], [0.7777777777777778, \"#fb9f3a\"], [0.8888888888888888, \"#fdca26\"], [1.0, \"#f0f921\"]]}, \"colorway\": [\"#636efa\", \"#EF553B\", \"#00cc96\", \"#ab63fa\", \"#FFA15A\", \"#19d3f3\", \"#FF6692\", \"#B6E880\", \"#FF97FF\", \"#FECB52\"], \"font\": {\"color\": \"#2a3f5f\"}, \"geo\": {\"bgcolor\": \"white\", \"lakecolor\": \"white\", \"landcolor\": \"#E5ECF6\", \"showlakes\": true, \"showland\": true, \"subunitcolor\": \"white\"}, \"hoverlabel\": {\"align\": \"left\"}, \"hovermode\": \"closest\", \"mapbox\": {\"style\": \"light\"}, \"paper_bgcolor\": \"white\", \"plot_bgcolor\": \"#E5ECF6\", \"polar\": {\"angularaxis\": {\"gridcolor\": \"white\", \"linecolor\": \"white\", \"ticks\": \"\"}, \"bgcolor\": \"#E5ECF6\", \"radialaxis\": {\"gridcolor\": \"white\", \"linecolor\": \"white\", \"ticks\": \"\"}}, \"scene\": {\"xaxis\": {\"backgroundcolor\": \"#E5ECF6\", \"gridcolor\": \"white\", \"gridwidth\": 2, \"linecolor\": \"white\", \"showbackground\": true, \"ticks\": \"\", \"zerolinecolor\": \"white\"}, \"yaxis\": {\"backgroundcolor\": \"#E5ECF6\", \"gridcolor\": \"white\", \"gridwidth\": 2, \"linecolor\": \"white\", \"showbackground\": true, \"ticks\": \"\", \"zerolinecolor\": \"white\"}, \"zaxis\": {\"backgroundcolor\": \"#E5ECF6\", \"gridcolor\": \"white\", \"gridwidth\": 2, \"linecolor\": \"white\", \"showbackground\": true, \"ticks\": \"\", \"zerolinecolor\": \"white\"}}, \"shapedefaults\": {\"line\": {\"color\": \"#2a3f5f\"}}, \"ternary\": {\"aaxis\": {\"gridcolor\": \"white\", \"linecolor\": \"white\", \"ticks\": \"\"}, \"baxis\": {\"gridcolor\": \"white\", \"linecolor\": \"white\", \"ticks\": \"\"}, \"bgcolor\": \"#E5ECF6\", \"caxis\": {\"gridcolor\": \"white\", \"linecolor\": \"white\", \"ticks\": \"\"}}, \"title\": {\"x\": 0.05}, \"xaxis\": {\"automargin\": true, \"gridcolor\": \"white\", \"linecolor\": \"white\", \"ticks\": \"\", \"title\": {\"standoff\": 15}, \"zerolinecolor\": \"white\", \"zerolinewidth\": 2}, \"yaxis\": {\"automargin\": true, \"gridcolor\": \"white\", \"linecolor\": \"white\", \"ticks\": \"\", \"title\": {\"standoff\": 15}, \"zerolinecolor\": \"white\", \"zerolinewidth\": 2}}}, \"title\": {\"font\": {\"color\": \"#4D5663\"}}, \"xaxis\": {\"gridcolor\": \"#E1E5ED\", \"showgrid\": true, \"tickfont\": {\"color\": \"#4D5663\"}, \"title\": {\"font\": {\"color\": \"#4D5663\"}, \"text\": \"\"}, \"zerolinecolor\": \"#E1E5ED\"}, \"yaxis\": {\"gridcolor\": \"#E1E5ED\", \"showgrid\": true, \"tickfont\": {\"color\": \"#4D5663\"}, \"title\": {\"font\": {\"color\": \"#4D5663\"}, \"text\": \"\"}, \"zerolinecolor\": \"#E1E5ED\"}},\n",
       "                        {\"showLink\": true, \"linkText\": \"Export to plot.ly\", \"plotlyServerURL\": \"https://plot.ly\", \"responsive\": true}\n",
       "                    ).then(function(){\n",
       "                            \n",
       "var gd = document.getElementById('72c11b11-9d35-4fb3-9cf2-babae36512d9');\n",
       "var x = new MutationObserver(function (mutations, observer) {{\n",
       "        var display = window.getComputedStyle(gd).display;\n",
       "        if (!display || display === 'none') {{\n",
       "            console.log([gd, 'removed!']);\n",
       "            Plotly.purge(gd);\n",
       "            observer.disconnect();\n",
       "        }}\n",
       "}});\n",
       "\n",
       "// Listen for the removal of the full notebook cells\n",
       "var notebookContainer = gd.closest('#notebook-container');\n",
       "if (notebookContainer) {{\n",
       "    x.observe(notebookContainer, {childList: true});\n",
       "}}\n",
       "\n",
       "// Listen for the clearing of the current output cell\n",
       "var outputEl = gd.closest('.output');\n",
       "if (outputEl) {{\n",
       "    x.observe(outputEl, {childList: true});\n",
       "}}\n",
       "\n",
       "                        })\n",
       "                };\n",
       "                });\n",
       "            </script>\n",
       "        </div>"
      ]
     },
     "metadata": {},
     "output_type": "display_data"
    }
   ],
   "source": [
    "df.iplot(kind='hist')\n",
    "#df['A'].iplot(kind='hist', bins=20)"
   ]
  },
  {
   "cell_type": "code",
   "execution_count": 22,
   "metadata": {},
   "outputs": [
    {
     "name": "stderr",
     "output_type": "stream",
     "text": [
      "C:\\Users\\PRIYA\\anaconda3\\lib\\site-packages\\cufflinks\\plotlytools.py:849: FutureWarning:\n",
      "\n",
      "The pandas.np module is deprecated and will be removed from pandas in a future version. Import numpy directly instead\n",
      "\n",
      "C:\\Users\\PRIYA\\anaconda3\\lib\\site-packages\\cufflinks\\plotlytools.py:850: FutureWarning:\n",
      "\n",
      "The pandas.np module is deprecated and will be removed from pandas in a future version. Import numpy directly instead\n",
      "\n"
     ]
    },
    {
     "data": {
      "application/vnd.plotly.v1+json": {
       "config": {
        "linkText": "Export to plot.ly",
        "plotlyServerURL": "https://plot.ly",
        "showLink": true
       },
       "data": [
        {
         "line": {
          "color": "rgba(255, 153, 51, 1.0)",
          "dash": "solid",
          "shape": "linear",
          "width": 1.3
         },
         "mode": "lines",
         "name": "A",
         "text": "",
         "type": "scatter",
         "x": [
          0,
          1,
          2,
          3,
          4,
          5,
          6,
          7,
          8,
          9,
          10,
          11,
          12,
          13,
          14,
          15,
          16,
          17,
          18,
          19,
          20,
          21,
          22,
          23,
          24,
          25,
          26,
          27,
          28,
          29,
          30,
          31,
          32,
          33,
          34,
          35,
          36,
          37,
          38,
          39,
          40,
          41,
          42,
          43,
          44,
          45,
          46,
          47,
          48,
          49,
          50,
          51,
          52,
          53,
          54,
          55,
          56,
          57,
          58,
          59,
          60,
          61,
          62,
          63,
          64,
          65,
          66,
          67,
          68,
          69,
          70,
          71,
          72,
          73,
          74,
          75,
          76,
          77,
          78,
          79,
          80,
          81,
          82,
          83,
          84,
          85,
          86,
          87,
          88,
          89,
          90,
          91,
          92,
          93,
          94,
          95,
          96,
          97,
          98,
          99
         ],
         "y": [
          -0.3778223188637527,
          0.0922801329148354,
          0.30314941242763466,
          -1.7247202757361555,
          -1.058806603088048,
          0.3562706846101683,
          0.5893574103570001,
          0.4585923583725432,
          1.1037945473464486,
          -0.3797924361831625,
          -1.0427165172979118,
          -2.353686639099532,
          -0.29509732902435676,
          -1.2329854565647862,
          -1.126512415797739,
          -2.7475965594656078,
          -1.2320765599446821,
          1.1960796864242584,
          -1.5053003537604794,
          1.4120424256808577,
          0.44528925065892605,
          0.9407256226239445,
          0.3346734763472071,
          0.6271526760473892,
          0.8580570503239457,
          -1.5932250845668334,
          -1.899147120460595,
          -0.5867413973285835,
          -0.9077758388365309,
          -0.8265399131304081,
          -0.48541987181432733,
          -1.9699390955796718,
          0.30671395224387316,
          -0.09814400017825455,
          0.6194420460243791,
          0.19192157796057446,
          0.26127009853054683,
          0.5934868937468604,
          1.3023689503304985,
          -0.557661021363899,
          1.3935040980784998,
          0.6095413707122774,
          0.19800162145167038,
          0.17773739624827156,
          0.1044704890515966,
          0.7366235446387637,
          0.12357136991878583,
          0.09574507787250311,
          0.4229303615159778,
          -0.05638478718449256,
          0.0524134147976591,
          -0.32084851794570013,
          3.323544545394268,
          -1.31951123577791,
          -1.0284774655531908,
          -0.4095367186350242,
          -0.9588002136398506,
          -0.12650654004935413,
          -0.860830501797706,
          -1.1880220044268255,
          0.00549830950166235,
          2.5233899814560115,
          -0.3659869477806698,
          0.2246642533450928,
          2.4174169231965945,
          -0.7850206563893745,
          1.1952085514381636,
          -1.625831633350626,
          0.8500313495956225,
          0.1359891984288151,
          -0.30049628523290484,
          -0.5408007451983162,
          1.156569580879917,
          -1.130335538700787,
          0.009621902777194428,
          -0.4915624184966093,
          0.8101057700385709,
          -0.3735203108248807,
          1.8487969495407632,
          -1.218057266502291,
          0.8398393241662376,
          2.4987094763734685,
          0.011469559294633237,
          1.1906179842714053,
          0.06397273787221386,
          1.5721334359149062,
          -0.40219610269343364,
          -1.5792141027986448,
          0.8781210937978811,
          -0.11279078387832467,
          -0.7966050137612551,
          -0.7811050635977146,
          1.1377100099162374,
          0.9886447210219727,
          -0.024892387637142906,
          0.9431513722593761,
          -0.11290888417369738,
          0.2128077746776085,
          -1.1045250270455622,
          -1.376879949847616
         ]
        },
        {
         "line": {
          "color": "rgba(55, 128, 191, 1.0)",
          "dash": "solid",
          "shape": "linear",
          "width": 1.3
         },
         "mode": "lines",
         "name": "B",
         "text": "",
         "type": "scatter",
         "x": [
          0,
          1,
          2,
          3,
          4,
          5,
          6,
          7,
          8,
          9,
          10,
          11,
          12,
          13,
          14,
          15,
          16,
          17,
          18,
          19,
          20,
          21,
          22,
          23,
          24,
          25,
          26,
          27,
          28,
          29,
          30,
          31,
          32,
          33,
          34,
          35,
          36,
          37,
          38,
          39,
          40,
          41,
          42,
          43,
          44,
          45,
          46,
          47,
          48,
          49,
          50,
          51,
          52,
          53,
          54,
          55,
          56,
          57,
          58,
          59,
          60,
          61,
          62,
          63,
          64,
          65,
          66,
          67,
          68,
          69,
          70,
          71,
          72,
          73,
          74,
          75,
          76,
          77,
          78,
          79,
          80,
          81,
          82,
          83,
          84,
          85,
          86,
          87,
          88,
          89,
          90,
          91,
          92,
          93,
          94,
          95,
          96,
          97,
          98,
          99
         ],
         "y": [
          -1.316494825844439,
          0.2866719465461037,
          1.0478572119460632,
          -0.49355271897014624,
          -0.3542447919084635,
          -0.32650917113074646,
          1.1327673099908224,
          -0.8284119403094422,
          -0.7922051809940646,
          -0.42267745324087386,
          -1.0574974112458024,
          0.05540325977674381,
          -1.1224762575973932,
          -0.017964883564133848,
          -0.1682330830079046,
          1.8673751650772215,
          0.08004730349155705,
          -1.1250216343133097,
          1.025612290218689,
          -0.16745276111172824,
          1.1195894693054642,
          0.8560878889882733,
          -0.689496796712005,
          -0.10834697650456812,
          -0.7416035670698498,
          -1.4275386276737139,
          -0.8358930796699012,
          -1.6783958713333986,
          0.5156163219565989,
          0.4071645719782639,
          2.6641197458789834,
          0.6289898980658927,
          -2.745439843907141,
          -2.911319180158229,
          -0.4990510898715183,
          0.3534404282333845,
          -1.1448283539966881,
          -0.08782184871280074,
          1.286134650626389,
          -1.0219268738584983,
          0.8533706050813746,
          -0.9101654435552414,
          -0.1944663516311447,
          0.023407873628503623,
          -0.19119742997980924,
          -1.0047286399715987,
          -0.015257653555950003,
          -0.0056296678451680906,
          -0.11364674997934227,
          -0.3164297329600258,
          -1.1884782853636806,
          0.5297264880579176,
          -0.5977201879104943,
          -0.10328709441783887,
          -0.40190680822729946,
          -0.015150400733030547,
          1.6259239440798234,
          -0.9176223687265888,
          0.09035423193074928,
          0.5215540259689497,
          -1.5100934159184967,
          -0.5617412384064335,
          1.9055962539223812,
          0.03140965475767426,
          -1.3191667111676395,
          0.15372129450845587,
          0.6213905285187237,
          1.4181655536798619,
          1.1127703081989955,
          -0.0009139932771381095,
          0.37146688251936105,
          1.8410188890021395,
          0.31324377589728125,
          1.7741866034599767,
          0.6860842020791837,
          -0.48426173373315584,
          -2.3158113012427592,
          2.1987352884004943,
          0.5909603338530436,
          0.06152588978596741,
          -0.47230935828592624,
          0.011882187395418206,
          0.057482546270307536,
          -0.313899116576255,
          0.8110275578864159,
          0.31186695155541283,
          0.017627978391445108,
          1.0691785570143704,
          1.6416457276834544,
          1.4965106491758011,
          -0.5416788112901813,
          -0.599576260609268,
          0.21003831009666457,
          0.15285166599823136,
          1.8531387222782865,
          -1.7774255813400108,
          0.24270874088554262,
          0.1685323107914805,
          -0.4263276741178543,
          -1.1424089489759095
         ]
        },
        {
         "connectgaps": false,
         "fill": "tozeroy",
         "line": {
          "color": "green",
          "dash": "solid",
          "shape": "linear",
          "width": 0.5
         },
         "mode": "lines",
         "name": "Spread",
         "showlegend": false,
         "type": "scatter",
         "x": [
          0,
          1,
          2,
          3,
          4,
          5,
          6,
          7,
          8,
          9,
          10,
          11,
          12,
          13,
          14,
          15,
          16,
          17,
          18,
          19,
          20,
          21,
          22,
          23,
          24,
          25,
          26,
          27,
          28,
          29,
          30,
          31,
          32,
          33,
          34,
          35,
          36,
          37,
          38,
          39,
          40,
          41,
          42,
          43,
          44,
          45,
          46,
          47,
          48,
          49,
          50,
          51,
          52,
          53,
          54,
          55,
          56,
          57,
          58,
          59,
          60,
          61,
          62,
          63,
          64,
          65,
          66,
          67,
          68,
          69,
          70,
          71,
          72,
          73,
          74,
          75,
          76,
          77,
          78,
          79,
          80,
          81,
          82,
          83,
          84,
          85,
          86,
          87,
          88,
          89,
          90,
          91,
          92,
          93,
          94,
          95,
          96,
          97,
          98,
          99
         ],
         "xaxis": "x2",
         "y": [
          0.9386725069806864,
          "",
          "",
          "",
          "",
          0.6827798557409148,
          "",
          1.2870042986819854,
          1.895999728340513,
          0.04288501705771136,
          0.014780893947890617,
          "",
          0.8273789285730364,
          "",
          "",
          "",
          "",
          2.321101320737568,
          "",
          1.579495186792586,
          "",
          0.08463773363567129,
          1.0241702730592122,
          0.7354996525519574,
          1.5996606173937955,
          "",
          "",
          1.091654474004815,
          "",
          "",
          "",
          "",
          3.052153796151014,
          2.8131751799799742,
          1.1184931358958974,
          "",
          1.4060984525272349,
          0.6813087424596611,
          0.01623429970410939,
          0.4642658524945994,
          0.5401334929971252,
          1.519706814267519,
          0.3924679730828151,
          0.15432952261976793,
          0.2956679190314058,
          1.7413521846103623,
          0.13882902347473583,
          0.1013747457176712,
          0.5365771114953201,
          0.2600449457755332,
          1.2408917001613398,
          "",
          3.9212647333047626,
          "",
          "",
          "",
          "",
          0.7911158286772346,
          "",
          "",
          1.515591725420159,
          3.085131219862445,
          "",
          0.19325459858741853,
          3.736583634364234,
          "",
          0.57381802291944,
          "",
          "",
          0.13690319170595322,
          "",
          "",
          0.8433258049826358,
          "",
          "",
          "",
          3.12591707128133,
          "",
          1.2578366156877197,
          "",
          1.3121486824521638,
          2.4868272889780503,
          "",
          1.5045171008476603,
          "",
          1.2602664843594933,
          "",
          "",
          "",
          "",
          "",
          "",
          0.9276716998195729,
          0.8357930550237413,
          "",
          2.720576953599387,
          "",
          0.04427546388612799,
          "",
          ""
         ],
         "yaxis": "y2"
        },
        {
         "connectgaps": false,
         "fill": "tozeroy",
         "line": {
          "color": "red",
          "dash": "solid",
          "shape": "linear",
          "width": 0.5
         },
         "mode": "lines",
         "name": "Spread",
         "showlegend": false,
         "type": "scatter",
         "x": [
          0,
          1,
          2,
          3,
          4,
          5,
          6,
          7,
          8,
          9,
          10,
          11,
          12,
          13,
          14,
          15,
          16,
          17,
          18,
          19,
          20,
          21,
          22,
          23,
          24,
          25,
          26,
          27,
          28,
          29,
          30,
          31,
          32,
          33,
          34,
          35,
          36,
          37,
          38,
          39,
          40,
          41,
          42,
          43,
          44,
          45,
          46,
          47,
          48,
          49,
          50,
          51,
          52,
          53,
          54,
          55,
          56,
          57,
          58,
          59,
          60,
          61,
          62,
          63,
          64,
          65,
          66,
          67,
          68,
          69,
          70,
          71,
          72,
          73,
          74,
          75,
          76,
          77,
          78,
          79,
          80,
          81,
          82,
          83,
          84,
          85,
          86,
          87,
          88,
          89,
          90,
          91,
          92,
          93,
          94,
          95,
          96,
          97,
          98,
          99
         ],
         "xaxis": "x2",
         "y": [
          "",
          -0.19439181363126828,
          -0.7447077995184286,
          -1.2311675567660092,
          -0.7045618111795846,
          "",
          -0.5434098996338224,
          "",
          "",
          "",
          "",
          -2.409089898876276,
          "",
          -1.2150205730006522,
          -0.9582793327898345,
          -4.614971724542829,
          -1.312123863436239,
          "",
          -2.5309126439791685,
          "",
          -0.6743002186465381,
          "",
          "",
          "",
          "",
          -0.16568645689311956,
          -1.0632540407906936,
          "",
          -1.4233921607931297,
          -1.233704485108672,
          -3.1495396176933106,
          -2.5989289936455644,
          "",
          "",
          "",
          -0.16151885027281004,
          "",
          "",
          "",
          "",
          "",
          "",
          "",
          "",
          "",
          "",
          "",
          "",
          "",
          "",
          "",
          -0.8505750060036177,
          "",
          -1.2162241413600712,
          -0.6265706573258913,
          -0.3943863179019937,
          -2.5847241577196742,
          "",
          -0.9511847337284554,
          -1.7095760303957752,
          "",
          "",
          -2.271583201703051,
          "",
          "",
          -0.9387419508978303,
          "",
          -3.043997187030488,
          -0.26273895860337293,
          "",
          -0.6719631677522659,
          -2.381819634200456,
          "",
          -2.9045221421607637,
          -0.6764622993019893,
          -0.007300684763453469,
          "",
          -2.572255599225375,
          "",
          -1.2795831562882585,
          "",
          "",
          -0.0460129869756743,
          "",
          -0.747054820014202,
          "",
          -0.41982408108487873,
          -2.648392659813015,
          -0.7635246338855733,
          -1.6093014330541258,
          -0.2549262024710739,
          -0.18152880298844654,
          "",
          "",
          -1.8780311099154294,
          "",
          -0.35561762505924,
          "",
          -0.6781973529277079,
          -0.23447100087170658
         ],
         "yaxis": "y2"
        }
       ],
       "layout": {
        "hovermode": "x",
        "legend": {
         "bgcolor": "#F5F6F9",
         "font": {
          "color": "#4D5663"
         }
        },
        "paper_bgcolor": "#F5F6F9",
        "plot_bgcolor": "#F5F6F9",
        "template": {
         "data": {
          "bar": [
           {
            "error_x": {
             "color": "#2a3f5f"
            },
            "error_y": {
             "color": "#2a3f5f"
            },
            "marker": {
             "line": {
              "color": "#E5ECF6",
              "width": 0.5
             }
            },
            "type": "bar"
           }
          ],
          "barpolar": [
           {
            "marker": {
             "line": {
              "color": "#E5ECF6",
              "width": 0.5
             }
            },
            "type": "barpolar"
           }
          ],
          "carpet": [
           {
            "aaxis": {
             "endlinecolor": "#2a3f5f",
             "gridcolor": "white",
             "linecolor": "white",
             "minorgridcolor": "white",
             "startlinecolor": "#2a3f5f"
            },
            "baxis": {
             "endlinecolor": "#2a3f5f",
             "gridcolor": "white",
             "linecolor": "white",
             "minorgridcolor": "white",
             "startlinecolor": "#2a3f5f"
            },
            "type": "carpet"
           }
          ],
          "choropleth": [
           {
            "colorbar": {
             "outlinewidth": 0,
             "ticks": ""
            },
            "type": "choropleth"
           }
          ],
          "contour": [
           {
            "colorbar": {
             "outlinewidth": 0,
             "ticks": ""
            },
            "colorscale": [
             [
              0,
              "#0d0887"
             ],
             [
              0.1111111111111111,
              "#46039f"
             ],
             [
              0.2222222222222222,
              "#7201a8"
             ],
             [
              0.3333333333333333,
              "#9c179e"
             ],
             [
              0.4444444444444444,
              "#bd3786"
             ],
             [
              0.5555555555555556,
              "#d8576b"
             ],
             [
              0.6666666666666666,
              "#ed7953"
             ],
             [
              0.7777777777777778,
              "#fb9f3a"
             ],
             [
              0.8888888888888888,
              "#fdca26"
             ],
             [
              1,
              "#f0f921"
             ]
            ],
            "type": "contour"
           }
          ],
          "contourcarpet": [
           {
            "colorbar": {
             "outlinewidth": 0,
             "ticks": ""
            },
            "type": "contourcarpet"
           }
          ],
          "heatmap": [
           {
            "colorbar": {
             "outlinewidth": 0,
             "ticks": ""
            },
            "colorscale": [
             [
              0,
              "#0d0887"
             ],
             [
              0.1111111111111111,
              "#46039f"
             ],
             [
              0.2222222222222222,
              "#7201a8"
             ],
             [
              0.3333333333333333,
              "#9c179e"
             ],
             [
              0.4444444444444444,
              "#bd3786"
             ],
             [
              0.5555555555555556,
              "#d8576b"
             ],
             [
              0.6666666666666666,
              "#ed7953"
             ],
             [
              0.7777777777777778,
              "#fb9f3a"
             ],
             [
              0.8888888888888888,
              "#fdca26"
             ],
             [
              1,
              "#f0f921"
             ]
            ],
            "type": "heatmap"
           }
          ],
          "heatmapgl": [
           {
            "colorbar": {
             "outlinewidth": 0,
             "ticks": ""
            },
            "colorscale": [
             [
              0,
              "#0d0887"
             ],
             [
              0.1111111111111111,
              "#46039f"
             ],
             [
              0.2222222222222222,
              "#7201a8"
             ],
             [
              0.3333333333333333,
              "#9c179e"
             ],
             [
              0.4444444444444444,
              "#bd3786"
             ],
             [
              0.5555555555555556,
              "#d8576b"
             ],
             [
              0.6666666666666666,
              "#ed7953"
             ],
             [
              0.7777777777777778,
              "#fb9f3a"
             ],
             [
              0.8888888888888888,
              "#fdca26"
             ],
             [
              1,
              "#f0f921"
             ]
            ],
            "type": "heatmapgl"
           }
          ],
          "histogram": [
           {
            "marker": {
             "colorbar": {
              "outlinewidth": 0,
              "ticks": ""
             }
            },
            "type": "histogram"
           }
          ],
          "histogram2d": [
           {
            "colorbar": {
             "outlinewidth": 0,
             "ticks": ""
            },
            "colorscale": [
             [
              0,
              "#0d0887"
             ],
             [
              0.1111111111111111,
              "#46039f"
             ],
             [
              0.2222222222222222,
              "#7201a8"
             ],
             [
              0.3333333333333333,
              "#9c179e"
             ],
             [
              0.4444444444444444,
              "#bd3786"
             ],
             [
              0.5555555555555556,
              "#d8576b"
             ],
             [
              0.6666666666666666,
              "#ed7953"
             ],
             [
              0.7777777777777778,
              "#fb9f3a"
             ],
             [
              0.8888888888888888,
              "#fdca26"
             ],
             [
              1,
              "#f0f921"
             ]
            ],
            "type": "histogram2d"
           }
          ],
          "histogram2dcontour": [
           {
            "colorbar": {
             "outlinewidth": 0,
             "ticks": ""
            },
            "colorscale": [
             [
              0,
              "#0d0887"
             ],
             [
              0.1111111111111111,
              "#46039f"
             ],
             [
              0.2222222222222222,
              "#7201a8"
             ],
             [
              0.3333333333333333,
              "#9c179e"
             ],
             [
              0.4444444444444444,
              "#bd3786"
             ],
             [
              0.5555555555555556,
              "#d8576b"
             ],
             [
              0.6666666666666666,
              "#ed7953"
             ],
             [
              0.7777777777777778,
              "#fb9f3a"
             ],
             [
              0.8888888888888888,
              "#fdca26"
             ],
             [
              1,
              "#f0f921"
             ]
            ],
            "type": "histogram2dcontour"
           }
          ],
          "mesh3d": [
           {
            "colorbar": {
             "outlinewidth": 0,
             "ticks": ""
            },
            "type": "mesh3d"
           }
          ],
          "parcoords": [
           {
            "line": {
             "colorbar": {
              "outlinewidth": 0,
              "ticks": ""
             }
            },
            "type": "parcoords"
           }
          ],
          "pie": [
           {
            "automargin": true,
            "type": "pie"
           }
          ],
          "scatter": [
           {
            "marker": {
             "colorbar": {
              "outlinewidth": 0,
              "ticks": ""
             }
            },
            "type": "scatter"
           }
          ],
          "scatter3d": [
           {
            "line": {
             "colorbar": {
              "outlinewidth": 0,
              "ticks": ""
             }
            },
            "marker": {
             "colorbar": {
              "outlinewidth": 0,
              "ticks": ""
             }
            },
            "type": "scatter3d"
           }
          ],
          "scattercarpet": [
           {
            "marker": {
             "colorbar": {
              "outlinewidth": 0,
              "ticks": ""
             }
            },
            "type": "scattercarpet"
           }
          ],
          "scattergeo": [
           {
            "marker": {
             "colorbar": {
              "outlinewidth": 0,
              "ticks": ""
             }
            },
            "type": "scattergeo"
           }
          ],
          "scattergl": [
           {
            "marker": {
             "colorbar": {
              "outlinewidth": 0,
              "ticks": ""
             }
            },
            "type": "scattergl"
           }
          ],
          "scattermapbox": [
           {
            "marker": {
             "colorbar": {
              "outlinewidth": 0,
              "ticks": ""
             }
            },
            "type": "scattermapbox"
           }
          ],
          "scatterpolar": [
           {
            "marker": {
             "colorbar": {
              "outlinewidth": 0,
              "ticks": ""
             }
            },
            "type": "scatterpolar"
           }
          ],
          "scatterpolargl": [
           {
            "marker": {
             "colorbar": {
              "outlinewidth": 0,
              "ticks": ""
             }
            },
            "type": "scatterpolargl"
           }
          ],
          "scatterternary": [
           {
            "marker": {
             "colorbar": {
              "outlinewidth": 0,
              "ticks": ""
             }
            },
            "type": "scatterternary"
           }
          ],
          "surface": [
           {
            "colorbar": {
             "outlinewidth": 0,
             "ticks": ""
            },
            "colorscale": [
             [
              0,
              "#0d0887"
             ],
             [
              0.1111111111111111,
              "#46039f"
             ],
             [
              0.2222222222222222,
              "#7201a8"
             ],
             [
              0.3333333333333333,
              "#9c179e"
             ],
             [
              0.4444444444444444,
              "#bd3786"
             ],
             [
              0.5555555555555556,
              "#d8576b"
             ],
             [
              0.6666666666666666,
              "#ed7953"
             ],
             [
              0.7777777777777778,
              "#fb9f3a"
             ],
             [
              0.8888888888888888,
              "#fdca26"
             ],
             [
              1,
              "#f0f921"
             ]
            ],
            "type": "surface"
           }
          ],
          "table": [
           {
            "cells": {
             "fill": {
              "color": "#EBF0F8"
             },
             "line": {
              "color": "white"
             }
            },
            "header": {
             "fill": {
              "color": "#C8D4E3"
             },
             "line": {
              "color": "white"
             }
            },
            "type": "table"
           }
          ]
         },
         "layout": {
          "annotationdefaults": {
           "arrowcolor": "#2a3f5f",
           "arrowhead": 0,
           "arrowwidth": 1
          },
          "coloraxis": {
           "colorbar": {
            "outlinewidth": 0,
            "ticks": ""
           }
          },
          "colorscale": {
           "diverging": [
            [
             0,
             "#8e0152"
            ],
            [
             0.1,
             "#c51b7d"
            ],
            [
             0.2,
             "#de77ae"
            ],
            [
             0.3,
             "#f1b6da"
            ],
            [
             0.4,
             "#fde0ef"
            ],
            [
             0.5,
             "#f7f7f7"
            ],
            [
             0.6,
             "#e6f5d0"
            ],
            [
             0.7,
             "#b8e186"
            ],
            [
             0.8,
             "#7fbc41"
            ],
            [
             0.9,
             "#4d9221"
            ],
            [
             1,
             "#276419"
            ]
           ],
           "sequential": [
            [
             0,
             "#0d0887"
            ],
            [
             0.1111111111111111,
             "#46039f"
            ],
            [
             0.2222222222222222,
             "#7201a8"
            ],
            [
             0.3333333333333333,
             "#9c179e"
            ],
            [
             0.4444444444444444,
             "#bd3786"
            ],
            [
             0.5555555555555556,
             "#d8576b"
            ],
            [
             0.6666666666666666,
             "#ed7953"
            ],
            [
             0.7777777777777778,
             "#fb9f3a"
            ],
            [
             0.8888888888888888,
             "#fdca26"
            ],
            [
             1,
             "#f0f921"
            ]
           ],
           "sequentialminus": [
            [
             0,
             "#0d0887"
            ],
            [
             0.1111111111111111,
             "#46039f"
            ],
            [
             0.2222222222222222,
             "#7201a8"
            ],
            [
             0.3333333333333333,
             "#9c179e"
            ],
            [
             0.4444444444444444,
             "#bd3786"
            ],
            [
             0.5555555555555556,
             "#d8576b"
            ],
            [
             0.6666666666666666,
             "#ed7953"
            ],
            [
             0.7777777777777778,
             "#fb9f3a"
            ],
            [
             0.8888888888888888,
             "#fdca26"
            ],
            [
             1,
             "#f0f921"
            ]
           ]
          },
          "colorway": [
           "#636efa",
           "#EF553B",
           "#00cc96",
           "#ab63fa",
           "#FFA15A",
           "#19d3f3",
           "#FF6692",
           "#B6E880",
           "#FF97FF",
           "#FECB52"
          ],
          "font": {
           "color": "#2a3f5f"
          },
          "geo": {
           "bgcolor": "white",
           "lakecolor": "white",
           "landcolor": "#E5ECF6",
           "showlakes": true,
           "showland": true,
           "subunitcolor": "white"
          },
          "hoverlabel": {
           "align": "left"
          },
          "hovermode": "closest",
          "mapbox": {
           "style": "light"
          },
          "paper_bgcolor": "white",
          "plot_bgcolor": "#E5ECF6",
          "polar": {
           "angularaxis": {
            "gridcolor": "white",
            "linecolor": "white",
            "ticks": ""
           },
           "bgcolor": "#E5ECF6",
           "radialaxis": {
            "gridcolor": "white",
            "linecolor": "white",
            "ticks": ""
           }
          },
          "scene": {
           "xaxis": {
            "backgroundcolor": "#E5ECF6",
            "gridcolor": "white",
            "gridwidth": 2,
            "linecolor": "white",
            "showbackground": true,
            "ticks": "",
            "zerolinecolor": "white"
           },
           "yaxis": {
            "backgroundcolor": "#E5ECF6",
            "gridcolor": "white",
            "gridwidth": 2,
            "linecolor": "white",
            "showbackground": true,
            "ticks": "",
            "zerolinecolor": "white"
           },
           "zaxis": {
            "backgroundcolor": "#E5ECF6",
            "gridcolor": "white",
            "gridwidth": 2,
            "linecolor": "white",
            "showbackground": true,
            "ticks": "",
            "zerolinecolor": "white"
           }
          },
          "shapedefaults": {
           "line": {
            "color": "#2a3f5f"
           }
          },
          "ternary": {
           "aaxis": {
            "gridcolor": "white",
            "linecolor": "white",
            "ticks": ""
           },
           "baxis": {
            "gridcolor": "white",
            "linecolor": "white",
            "ticks": ""
           },
           "bgcolor": "#E5ECF6",
           "caxis": {
            "gridcolor": "white",
            "linecolor": "white",
            "ticks": ""
           }
          },
          "title": {
           "x": 0.05
          },
          "xaxis": {
           "automargin": true,
           "gridcolor": "white",
           "linecolor": "white",
           "ticks": "",
           "title": {
            "standoff": 15
           },
           "zerolinecolor": "white",
           "zerolinewidth": 2
          },
          "yaxis": {
           "automargin": true,
           "gridcolor": "white",
           "linecolor": "white",
           "ticks": "",
           "title": {
            "standoff": 15
           },
           "zerolinecolor": "white",
           "zerolinewidth": 2
          }
         }
        },
        "title": {
         "font": {
          "color": "#4D5663"
         }
        },
        "xaxis": {
         "gridcolor": "#E1E5ED",
         "showgrid": true,
         "tickfont": {
          "color": "#4D5663"
         },
         "title": {
          "font": {
           "color": "#4D5663"
          },
          "text": ""
         },
         "zerolinecolor": "#E1E5ED"
        },
        "xaxis2": {
         "anchor": "y2",
         "gridcolor": "#E1E5ED",
         "showgrid": true,
         "showticklabels": false,
         "tickfont": {
          "color": "#4D5663"
         },
         "title": {
          "font": {
           "color": "#4D5663"
          },
          "text": ""
         },
         "zerolinecolor": "#E1E5ED"
        },
        "yaxis": {
         "domain": [
          0.3,
          1
         ],
         "gridcolor": "#E1E5ED",
         "showgrid": true,
         "tickfont": {
          "color": "#4D5663"
         },
         "title": {
          "font": {
           "color": "#4D5663"
          },
          "text": ""
         },
         "zerolinecolor": "#E1E5ED"
        },
        "yaxis2": {
         "domain": [
          0,
          0.25
         ],
         "gridcolor": "#E1E5ED",
         "showgrid": true,
         "tickfont": {
          "color": "#4D5663"
         },
         "title": {
          "font": {
           "color": "#4D5663"
          },
          "text": "Spread"
         },
         "zerolinecolor": "#E1E5ED"
        }
       }
      },
      "text/html": [
       "<div>\n",
       "        \n",
       "        \n",
       "            <div id=\"3b810727-a0d3-42f5-af7b-4dd945765346\" class=\"plotly-graph-div\" style=\"height:525px; width:100%;\"></div>\n",
       "            <script type=\"text/javascript\">\n",
       "                require([\"plotly\"], function(Plotly) {\n",
       "                    window.PLOTLYENV=window.PLOTLYENV || {};\n",
       "                    window.PLOTLYENV.BASE_URL='https://plot.ly';\n",
       "                    \n",
       "                if (document.getElementById(\"3b810727-a0d3-42f5-af7b-4dd945765346\")) {\n",
       "                    Plotly.newPlot(\n",
       "                        '3b810727-a0d3-42f5-af7b-4dd945765346',\n",
       "                        [{\"line\": {\"color\": \"rgba(255, 153, 51, 1.0)\", \"dash\": \"solid\", \"shape\": \"linear\", \"width\": 1.3}, \"mode\": \"lines\", \"name\": \"A\", \"text\": \"\", \"type\": \"scatter\", \"x\": [0, 1, 2, 3, 4, 5, 6, 7, 8, 9, 10, 11, 12, 13, 14, 15, 16, 17, 18, 19, 20, 21, 22, 23, 24, 25, 26, 27, 28, 29, 30, 31, 32, 33, 34, 35, 36, 37, 38, 39, 40, 41, 42, 43, 44, 45, 46, 47, 48, 49, 50, 51, 52, 53, 54, 55, 56, 57, 58, 59, 60, 61, 62, 63, 64, 65, 66, 67, 68, 69, 70, 71, 72, 73, 74, 75, 76, 77, 78, 79, 80, 81, 82, 83, 84, 85, 86, 87, 88, 89, 90, 91, 92, 93, 94, 95, 96, 97, 98, 99], \"y\": [-0.3778223188637527, 0.0922801329148354, 0.30314941242763466, -1.7247202757361555, -1.058806603088048, 0.3562706846101683, 0.5893574103570001, 0.4585923583725432, 1.1037945473464486, -0.3797924361831625, -1.0427165172979118, -2.353686639099532, -0.29509732902435676, -1.2329854565647862, -1.126512415797739, -2.7475965594656078, -1.2320765599446821, 1.1960796864242584, -1.5053003537604794, 1.4120424256808577, 0.44528925065892605, 0.9407256226239445, 0.3346734763472071, 0.6271526760473892, 0.8580570503239457, -1.5932250845668334, -1.899147120460595, -0.5867413973285835, -0.9077758388365309, -0.8265399131304081, -0.48541987181432733, -1.9699390955796718, 0.30671395224387316, -0.09814400017825455, 0.6194420460243791, 0.19192157796057446, 0.26127009853054683, 0.5934868937468604, 1.3023689503304985, -0.557661021363899, 1.3935040980784998, 0.6095413707122774, 0.19800162145167038, 0.17773739624827156, 0.1044704890515966, 0.7366235446387637, 0.12357136991878583, 0.09574507787250311, 0.4229303615159778, -0.05638478718449256, 0.0524134147976591, -0.32084851794570013, 3.323544545394268, -1.31951123577791, -1.0284774655531908, -0.4095367186350242, -0.9588002136398506, -0.12650654004935413, -0.860830501797706, -1.1880220044268255, 0.00549830950166235, 2.5233899814560115, -0.3659869477806698, 0.2246642533450928, 2.4174169231965945, -0.7850206563893745, 1.1952085514381636, -1.625831633350626, 0.8500313495956225, 0.1359891984288151, -0.30049628523290484, -0.5408007451983162, 1.156569580879917, -1.130335538700787, 0.009621902777194428, -0.4915624184966093, 0.8101057700385709, -0.3735203108248807, 1.8487969495407632, -1.218057266502291, 0.8398393241662376, 2.4987094763734685, 0.011469559294633237, 1.1906179842714053, 0.06397273787221386, 1.5721334359149062, -0.40219610269343364, -1.5792141027986448, 0.8781210937978811, -0.11279078387832467, -0.7966050137612551, -0.7811050635977146, 1.1377100099162374, 0.9886447210219727, -0.024892387637142906, 0.9431513722593761, -0.11290888417369738, 0.2128077746776085, -1.1045250270455622, -1.376879949847616]}, {\"line\": {\"color\": \"rgba(55, 128, 191, 1.0)\", \"dash\": \"solid\", \"shape\": \"linear\", \"width\": 1.3}, \"mode\": \"lines\", \"name\": \"B\", \"text\": \"\", \"type\": \"scatter\", \"x\": [0, 1, 2, 3, 4, 5, 6, 7, 8, 9, 10, 11, 12, 13, 14, 15, 16, 17, 18, 19, 20, 21, 22, 23, 24, 25, 26, 27, 28, 29, 30, 31, 32, 33, 34, 35, 36, 37, 38, 39, 40, 41, 42, 43, 44, 45, 46, 47, 48, 49, 50, 51, 52, 53, 54, 55, 56, 57, 58, 59, 60, 61, 62, 63, 64, 65, 66, 67, 68, 69, 70, 71, 72, 73, 74, 75, 76, 77, 78, 79, 80, 81, 82, 83, 84, 85, 86, 87, 88, 89, 90, 91, 92, 93, 94, 95, 96, 97, 98, 99], \"y\": [-1.316494825844439, 0.2866719465461037, 1.0478572119460632, -0.49355271897014624, -0.3542447919084635, -0.32650917113074646, 1.1327673099908224, -0.8284119403094422, -0.7922051809940646, -0.42267745324087386, -1.0574974112458024, 0.05540325977674381, -1.1224762575973932, -0.017964883564133848, -0.1682330830079046, 1.8673751650772215, 0.08004730349155705, -1.1250216343133097, 1.025612290218689, -0.16745276111172824, 1.1195894693054642, 0.8560878889882733, -0.689496796712005, -0.10834697650456812, -0.7416035670698498, -1.4275386276737139, -0.8358930796699012, -1.6783958713333986, 0.5156163219565989, 0.4071645719782639, 2.6641197458789834, 0.6289898980658927, -2.745439843907141, -2.911319180158229, -0.4990510898715183, 0.3534404282333845, -1.1448283539966881, -0.08782184871280074, 1.286134650626389, -1.0219268738584983, 0.8533706050813746, -0.9101654435552414, -0.1944663516311447, 0.023407873628503623, -0.19119742997980924, -1.0047286399715987, -0.015257653555950003, -0.0056296678451680906, -0.11364674997934227, -0.3164297329600258, -1.1884782853636806, 0.5297264880579176, -0.5977201879104943, -0.10328709441783887, -0.40190680822729946, -0.015150400733030547, 1.6259239440798234, -0.9176223687265888, 0.09035423193074928, 0.5215540259689497, -1.5100934159184967, -0.5617412384064335, 1.9055962539223812, 0.03140965475767426, -1.3191667111676395, 0.15372129450845587, 0.6213905285187237, 1.4181655536798619, 1.1127703081989955, -0.0009139932771381095, 0.37146688251936105, 1.8410188890021395, 0.31324377589728125, 1.7741866034599767, 0.6860842020791837, -0.48426173373315584, -2.3158113012427592, 2.1987352884004943, 0.5909603338530436, 0.06152588978596741, -0.47230935828592624, 0.011882187395418206, 0.057482546270307536, -0.313899116576255, 0.8110275578864159, 0.31186695155541283, 0.017627978391445108, 1.0691785570143704, 1.6416457276834544, 1.4965106491758011, -0.5416788112901813, -0.599576260609268, 0.21003831009666457, 0.15285166599823136, 1.8531387222782865, -1.7774255813400108, 0.24270874088554262, 0.1685323107914805, -0.4263276741178543, -1.1424089489759095]}, {\"connectgaps\": false, \"fill\": \"tozeroy\", \"line\": {\"color\": \"green\", \"dash\": \"solid\", \"shape\": \"linear\", \"width\": 0.5}, \"mode\": \"lines\", \"name\": \"Spread\", \"showlegend\": false, \"type\": \"scatter\", \"x\": [0, 1, 2, 3, 4, 5, 6, 7, 8, 9, 10, 11, 12, 13, 14, 15, 16, 17, 18, 19, 20, 21, 22, 23, 24, 25, 26, 27, 28, 29, 30, 31, 32, 33, 34, 35, 36, 37, 38, 39, 40, 41, 42, 43, 44, 45, 46, 47, 48, 49, 50, 51, 52, 53, 54, 55, 56, 57, 58, 59, 60, 61, 62, 63, 64, 65, 66, 67, 68, 69, 70, 71, 72, 73, 74, 75, 76, 77, 78, 79, 80, 81, 82, 83, 84, 85, 86, 87, 88, 89, 90, 91, 92, 93, 94, 95, 96, 97, 98, 99], \"xaxis\": \"x2\", \"y\": [0.9386725069806864, \"\", \"\", \"\", \"\", 0.6827798557409148, \"\", 1.2870042986819854, 1.895999728340513, 0.04288501705771136, 0.014780893947890617, \"\", 0.8273789285730364, \"\", \"\", \"\", \"\", 2.321101320737568, \"\", 1.579495186792586, \"\", 0.08463773363567129, 1.0241702730592122, 0.7354996525519574, 1.5996606173937955, \"\", \"\", 1.091654474004815, \"\", \"\", \"\", \"\", 3.052153796151014, 2.8131751799799742, 1.1184931358958974, \"\", 1.4060984525272349, 0.6813087424596611, 0.01623429970410939, 0.4642658524945994, 0.5401334929971252, 1.519706814267519, 0.3924679730828151, 0.15432952261976793, 0.2956679190314058, 1.7413521846103623, 0.13882902347473583, 0.1013747457176712, 0.5365771114953201, 0.2600449457755332, 1.2408917001613398, \"\", 3.9212647333047626, \"\", \"\", \"\", \"\", 0.7911158286772346, \"\", \"\", 1.515591725420159, 3.085131219862445, \"\", 0.19325459858741853, 3.736583634364234, \"\", 0.57381802291944, \"\", \"\", 0.13690319170595322, \"\", \"\", 0.8433258049826358, \"\", \"\", \"\", 3.12591707128133, \"\", 1.2578366156877197, \"\", 1.3121486824521638, 2.4868272889780503, \"\", 1.5045171008476603, \"\", 1.2602664843594933, \"\", \"\", \"\", \"\", \"\", \"\", 0.9276716998195729, 0.8357930550237413, \"\", 2.720576953599387, \"\", 0.04427546388612799, \"\", \"\"], \"yaxis\": \"y2\"}, {\"connectgaps\": false, \"fill\": \"tozeroy\", \"line\": {\"color\": \"red\", \"dash\": \"solid\", \"shape\": \"linear\", \"width\": 0.5}, \"mode\": \"lines\", \"name\": \"Spread\", \"showlegend\": false, \"type\": \"scatter\", \"x\": [0, 1, 2, 3, 4, 5, 6, 7, 8, 9, 10, 11, 12, 13, 14, 15, 16, 17, 18, 19, 20, 21, 22, 23, 24, 25, 26, 27, 28, 29, 30, 31, 32, 33, 34, 35, 36, 37, 38, 39, 40, 41, 42, 43, 44, 45, 46, 47, 48, 49, 50, 51, 52, 53, 54, 55, 56, 57, 58, 59, 60, 61, 62, 63, 64, 65, 66, 67, 68, 69, 70, 71, 72, 73, 74, 75, 76, 77, 78, 79, 80, 81, 82, 83, 84, 85, 86, 87, 88, 89, 90, 91, 92, 93, 94, 95, 96, 97, 98, 99], \"xaxis\": \"x2\", \"y\": [\"\", -0.19439181363126828, -0.7447077995184286, -1.2311675567660092, -0.7045618111795846, \"\", -0.5434098996338224, \"\", \"\", \"\", \"\", -2.409089898876276, \"\", -1.2150205730006522, -0.9582793327898345, -4.614971724542829, -1.312123863436239, \"\", -2.5309126439791685, \"\", -0.6743002186465381, \"\", \"\", \"\", \"\", -0.16568645689311956, -1.0632540407906936, \"\", -1.4233921607931297, -1.233704485108672, -3.1495396176933106, -2.5989289936455644, \"\", \"\", \"\", -0.16151885027281004, \"\", \"\", \"\", \"\", \"\", \"\", \"\", \"\", \"\", \"\", \"\", \"\", \"\", \"\", \"\", -0.8505750060036177, \"\", -1.2162241413600712, -0.6265706573258913, -0.3943863179019937, -2.5847241577196742, \"\", -0.9511847337284554, -1.7095760303957752, \"\", \"\", -2.271583201703051, \"\", \"\", -0.9387419508978303, \"\", -3.043997187030488, -0.26273895860337293, \"\", -0.6719631677522659, -2.381819634200456, \"\", -2.9045221421607637, -0.6764622993019893, -0.007300684763453469, \"\", -2.572255599225375, \"\", -1.2795831562882585, \"\", \"\", -0.0460129869756743, \"\", -0.747054820014202, \"\", -0.41982408108487873, -2.648392659813015, -0.7635246338855733, -1.6093014330541258, -0.2549262024710739, -0.18152880298844654, \"\", \"\", -1.8780311099154294, \"\", -0.35561762505924, \"\", -0.6781973529277079, -0.23447100087170658], \"yaxis\": \"y2\"}],\n",
       "                        {\"hovermode\": \"x\", \"legend\": {\"bgcolor\": \"#F5F6F9\", \"font\": {\"color\": \"#4D5663\"}}, \"paper_bgcolor\": \"#F5F6F9\", \"plot_bgcolor\": \"#F5F6F9\", \"template\": {\"data\": {\"bar\": [{\"error_x\": {\"color\": \"#2a3f5f\"}, \"error_y\": {\"color\": \"#2a3f5f\"}, \"marker\": {\"line\": {\"color\": \"#E5ECF6\", \"width\": 0.5}}, \"type\": \"bar\"}], \"barpolar\": [{\"marker\": {\"line\": {\"color\": \"#E5ECF6\", \"width\": 0.5}}, \"type\": \"barpolar\"}], \"carpet\": [{\"aaxis\": {\"endlinecolor\": \"#2a3f5f\", \"gridcolor\": \"white\", \"linecolor\": \"white\", \"minorgridcolor\": \"white\", \"startlinecolor\": \"#2a3f5f\"}, \"baxis\": {\"endlinecolor\": \"#2a3f5f\", \"gridcolor\": \"white\", \"linecolor\": \"white\", \"minorgridcolor\": \"white\", \"startlinecolor\": \"#2a3f5f\"}, \"type\": \"carpet\"}], \"choropleth\": [{\"colorbar\": {\"outlinewidth\": 0, \"ticks\": \"\"}, \"type\": \"choropleth\"}], \"contour\": [{\"colorbar\": {\"outlinewidth\": 0, \"ticks\": \"\"}, \"colorscale\": [[0.0, \"#0d0887\"], [0.1111111111111111, \"#46039f\"], [0.2222222222222222, \"#7201a8\"], [0.3333333333333333, \"#9c179e\"], [0.4444444444444444, \"#bd3786\"], [0.5555555555555556, \"#d8576b\"], [0.6666666666666666, \"#ed7953\"], [0.7777777777777778, \"#fb9f3a\"], [0.8888888888888888, \"#fdca26\"], [1.0, \"#f0f921\"]], \"type\": \"contour\"}], \"contourcarpet\": [{\"colorbar\": {\"outlinewidth\": 0, \"ticks\": \"\"}, \"type\": \"contourcarpet\"}], \"heatmap\": [{\"colorbar\": {\"outlinewidth\": 0, \"ticks\": \"\"}, \"colorscale\": [[0.0, \"#0d0887\"], [0.1111111111111111, \"#46039f\"], [0.2222222222222222, \"#7201a8\"], [0.3333333333333333, \"#9c179e\"], [0.4444444444444444, \"#bd3786\"], [0.5555555555555556, \"#d8576b\"], [0.6666666666666666, \"#ed7953\"], [0.7777777777777778, \"#fb9f3a\"], [0.8888888888888888, \"#fdca26\"], [1.0, \"#f0f921\"]], \"type\": \"heatmap\"}], \"heatmapgl\": [{\"colorbar\": {\"outlinewidth\": 0, \"ticks\": \"\"}, \"colorscale\": [[0.0, \"#0d0887\"], [0.1111111111111111, \"#46039f\"], [0.2222222222222222, \"#7201a8\"], [0.3333333333333333, \"#9c179e\"], [0.4444444444444444, \"#bd3786\"], [0.5555555555555556, \"#d8576b\"], [0.6666666666666666, \"#ed7953\"], [0.7777777777777778, \"#fb9f3a\"], [0.8888888888888888, \"#fdca26\"], [1.0, \"#f0f921\"]], \"type\": \"heatmapgl\"}], \"histogram\": [{\"marker\": {\"colorbar\": {\"outlinewidth\": 0, \"ticks\": \"\"}}, \"type\": \"histogram\"}], \"histogram2d\": [{\"colorbar\": {\"outlinewidth\": 0, \"ticks\": \"\"}, \"colorscale\": [[0.0, \"#0d0887\"], [0.1111111111111111, \"#46039f\"], [0.2222222222222222, \"#7201a8\"], [0.3333333333333333, \"#9c179e\"], [0.4444444444444444, \"#bd3786\"], [0.5555555555555556, \"#d8576b\"], [0.6666666666666666, \"#ed7953\"], [0.7777777777777778, \"#fb9f3a\"], [0.8888888888888888, \"#fdca26\"], [1.0, \"#f0f921\"]], \"type\": \"histogram2d\"}], \"histogram2dcontour\": [{\"colorbar\": {\"outlinewidth\": 0, \"ticks\": \"\"}, \"colorscale\": [[0.0, \"#0d0887\"], [0.1111111111111111, \"#46039f\"], [0.2222222222222222, \"#7201a8\"], [0.3333333333333333, \"#9c179e\"], [0.4444444444444444, \"#bd3786\"], [0.5555555555555556, \"#d8576b\"], [0.6666666666666666, \"#ed7953\"], [0.7777777777777778, \"#fb9f3a\"], [0.8888888888888888, \"#fdca26\"], [1.0, \"#f0f921\"]], \"type\": \"histogram2dcontour\"}], \"mesh3d\": [{\"colorbar\": {\"outlinewidth\": 0, \"ticks\": \"\"}, \"type\": \"mesh3d\"}], \"parcoords\": [{\"line\": {\"colorbar\": {\"outlinewidth\": 0, \"ticks\": \"\"}}, \"type\": \"parcoords\"}], \"pie\": [{\"automargin\": true, \"type\": \"pie\"}], \"scatter\": [{\"marker\": {\"colorbar\": {\"outlinewidth\": 0, \"ticks\": \"\"}}, \"type\": \"scatter\"}], \"scatter3d\": [{\"line\": {\"colorbar\": {\"outlinewidth\": 0, \"ticks\": \"\"}}, \"marker\": {\"colorbar\": {\"outlinewidth\": 0, \"ticks\": \"\"}}, \"type\": \"scatter3d\"}], \"scattercarpet\": [{\"marker\": {\"colorbar\": {\"outlinewidth\": 0, \"ticks\": \"\"}}, \"type\": \"scattercarpet\"}], \"scattergeo\": [{\"marker\": {\"colorbar\": {\"outlinewidth\": 0, \"ticks\": \"\"}}, \"type\": \"scattergeo\"}], \"scattergl\": [{\"marker\": {\"colorbar\": {\"outlinewidth\": 0, \"ticks\": \"\"}}, \"type\": \"scattergl\"}], \"scattermapbox\": [{\"marker\": {\"colorbar\": {\"outlinewidth\": 0, \"ticks\": \"\"}}, \"type\": \"scattermapbox\"}], \"scatterpolar\": [{\"marker\": {\"colorbar\": {\"outlinewidth\": 0, \"ticks\": \"\"}}, \"type\": \"scatterpolar\"}], \"scatterpolargl\": [{\"marker\": {\"colorbar\": {\"outlinewidth\": 0, \"ticks\": \"\"}}, \"type\": \"scatterpolargl\"}], \"scatterternary\": [{\"marker\": {\"colorbar\": {\"outlinewidth\": 0, \"ticks\": \"\"}}, \"type\": \"scatterternary\"}], \"surface\": [{\"colorbar\": {\"outlinewidth\": 0, \"ticks\": \"\"}, \"colorscale\": [[0.0, \"#0d0887\"], [0.1111111111111111, \"#46039f\"], [0.2222222222222222, \"#7201a8\"], [0.3333333333333333, \"#9c179e\"], [0.4444444444444444, \"#bd3786\"], [0.5555555555555556, \"#d8576b\"], [0.6666666666666666, \"#ed7953\"], [0.7777777777777778, \"#fb9f3a\"], [0.8888888888888888, \"#fdca26\"], [1.0, \"#f0f921\"]], \"type\": \"surface\"}], \"table\": [{\"cells\": {\"fill\": {\"color\": \"#EBF0F8\"}, \"line\": {\"color\": \"white\"}}, \"header\": {\"fill\": {\"color\": \"#C8D4E3\"}, \"line\": {\"color\": \"white\"}}, \"type\": \"table\"}]}, \"layout\": {\"annotationdefaults\": {\"arrowcolor\": \"#2a3f5f\", \"arrowhead\": 0, \"arrowwidth\": 1}, \"coloraxis\": {\"colorbar\": {\"outlinewidth\": 0, \"ticks\": \"\"}}, \"colorscale\": {\"diverging\": [[0, \"#8e0152\"], [0.1, \"#c51b7d\"], [0.2, \"#de77ae\"], [0.3, \"#f1b6da\"], [0.4, \"#fde0ef\"], [0.5, \"#f7f7f7\"], [0.6, \"#e6f5d0\"], [0.7, \"#b8e186\"], [0.8, \"#7fbc41\"], [0.9, \"#4d9221\"], [1, \"#276419\"]], \"sequential\": [[0.0, \"#0d0887\"], [0.1111111111111111, \"#46039f\"], [0.2222222222222222, \"#7201a8\"], [0.3333333333333333, \"#9c179e\"], [0.4444444444444444, \"#bd3786\"], [0.5555555555555556, \"#d8576b\"], [0.6666666666666666, \"#ed7953\"], [0.7777777777777778, \"#fb9f3a\"], [0.8888888888888888, \"#fdca26\"], [1.0, \"#f0f921\"]], \"sequentialminus\": [[0.0, \"#0d0887\"], [0.1111111111111111, \"#46039f\"], [0.2222222222222222, \"#7201a8\"], [0.3333333333333333, \"#9c179e\"], [0.4444444444444444, \"#bd3786\"], [0.5555555555555556, \"#d8576b\"], [0.6666666666666666, \"#ed7953\"], [0.7777777777777778, \"#fb9f3a\"], [0.8888888888888888, \"#fdca26\"], [1.0, \"#f0f921\"]]}, \"colorway\": [\"#636efa\", \"#EF553B\", \"#00cc96\", \"#ab63fa\", \"#FFA15A\", \"#19d3f3\", \"#FF6692\", \"#B6E880\", \"#FF97FF\", \"#FECB52\"], \"font\": {\"color\": \"#2a3f5f\"}, \"geo\": {\"bgcolor\": \"white\", \"lakecolor\": \"white\", \"landcolor\": \"#E5ECF6\", \"showlakes\": true, \"showland\": true, \"subunitcolor\": \"white\"}, \"hoverlabel\": {\"align\": \"left\"}, \"hovermode\": \"closest\", \"mapbox\": {\"style\": \"light\"}, \"paper_bgcolor\": \"white\", \"plot_bgcolor\": \"#E5ECF6\", \"polar\": {\"angularaxis\": {\"gridcolor\": \"white\", \"linecolor\": \"white\", \"ticks\": \"\"}, \"bgcolor\": \"#E5ECF6\", \"radialaxis\": {\"gridcolor\": \"white\", \"linecolor\": \"white\", \"ticks\": \"\"}}, \"scene\": {\"xaxis\": {\"backgroundcolor\": \"#E5ECF6\", \"gridcolor\": \"white\", \"gridwidth\": 2, \"linecolor\": \"white\", \"showbackground\": true, \"ticks\": \"\", \"zerolinecolor\": \"white\"}, \"yaxis\": {\"backgroundcolor\": \"#E5ECF6\", \"gridcolor\": \"white\", \"gridwidth\": 2, \"linecolor\": \"white\", \"showbackground\": true, \"ticks\": \"\", \"zerolinecolor\": \"white\"}, \"zaxis\": {\"backgroundcolor\": \"#E5ECF6\", \"gridcolor\": \"white\", \"gridwidth\": 2, \"linecolor\": \"white\", \"showbackground\": true, \"ticks\": \"\", \"zerolinecolor\": \"white\"}}, \"shapedefaults\": {\"line\": {\"color\": \"#2a3f5f\"}}, \"ternary\": {\"aaxis\": {\"gridcolor\": \"white\", \"linecolor\": \"white\", \"ticks\": \"\"}, \"baxis\": {\"gridcolor\": \"white\", \"linecolor\": \"white\", \"ticks\": \"\"}, \"bgcolor\": \"#E5ECF6\", \"caxis\": {\"gridcolor\": \"white\", \"linecolor\": \"white\", \"ticks\": \"\"}}, \"title\": {\"x\": 0.05}, \"xaxis\": {\"automargin\": true, \"gridcolor\": \"white\", \"linecolor\": \"white\", \"ticks\": \"\", \"title\": {\"standoff\": 15}, \"zerolinecolor\": \"white\", \"zerolinewidth\": 2}, \"yaxis\": {\"automargin\": true, \"gridcolor\": \"white\", \"linecolor\": \"white\", \"ticks\": \"\", \"title\": {\"standoff\": 15}, \"zerolinecolor\": \"white\", \"zerolinewidth\": 2}}}, \"title\": {\"font\": {\"color\": \"#4D5663\"}}, \"xaxis\": {\"gridcolor\": \"#E1E5ED\", \"showgrid\": true, \"tickfont\": {\"color\": \"#4D5663\"}, \"title\": {\"font\": {\"color\": \"#4D5663\"}, \"text\": \"\"}, \"zerolinecolor\": \"#E1E5ED\"}, \"xaxis2\": {\"anchor\": \"y2\", \"gridcolor\": \"#E1E5ED\", \"showgrid\": true, \"showticklabels\": false, \"tickfont\": {\"color\": \"#4D5663\"}, \"title\": {\"font\": {\"color\": \"#4D5663\"}, \"text\": \"\"}, \"zerolinecolor\": \"#E1E5ED\"}, \"yaxis\": {\"domain\": [0.3, 1], \"gridcolor\": \"#E1E5ED\", \"showgrid\": true, \"tickfont\": {\"color\": \"#4D5663\"}, \"title\": {\"font\": {\"color\": \"#4D5663\"}, \"text\": \"\"}, \"zerolinecolor\": \"#E1E5ED\"}, \"yaxis2\": {\"domain\": [0, 0.25], \"gridcolor\": \"#E1E5ED\", \"showgrid\": true, \"tickfont\": {\"color\": \"#4D5663\"}, \"title\": {\"font\": {\"color\": \"#4D5663\"}, \"text\": \"Spread\"}, \"zerolinecolor\": \"#E1E5ED\"}},\n",
       "                        {\"showLink\": true, \"linkText\": \"Export to plot.ly\", \"plotlyServerURL\": \"https://plot.ly\", \"responsive\": true}\n",
       "                    ).then(function(){\n",
       "                            \n",
       "var gd = document.getElementById('3b810727-a0d3-42f5-af7b-4dd945765346');\n",
       "var x = new MutationObserver(function (mutations, observer) {{\n",
       "        var display = window.getComputedStyle(gd).display;\n",
       "        if (!display || display === 'none') {{\n",
       "            console.log([gd, 'removed!']);\n",
       "            Plotly.purge(gd);\n",
       "            observer.disconnect();\n",
       "        }}\n",
       "}});\n",
       "\n",
       "// Listen for the removal of the full notebook cells\n",
       "var notebookContainer = gd.closest('#notebook-container');\n",
       "if (notebookContainer) {{\n",
       "    x.observe(notebookContainer, {childList: true});\n",
       "}}\n",
       "\n",
       "// Listen for the clearing of the current output cell\n",
       "var outputEl = gd.closest('.output');\n",
       "if (outputEl) {{\n",
       "    x.observe(outputEl, {childList: true});\n",
       "}}\n",
       "\n",
       "                        })\n",
       "                };\n",
       "                });\n",
       "            </script>\n",
       "        </div>"
      ]
     },
     "metadata": {},
     "output_type": "display_data"
    }
   ],
   "source": [
    "df[['A','B']].iplot(kind='spread')\n",
    "#Compare 2 different stocks "
   ]
  },
  {
   "cell_type": "code",
   "execution_count": 23,
   "metadata": {},
   "outputs": [
    {
     "data": {
      "application/vnd.plotly.v1+json": {
       "config": {
        "linkText": "Export to plot.ly",
        "plotlyServerURL": "https://plot.ly",
        "showLink": true
       },
       "data": [
        {
         "marker": {
          "color": [
           "rgb(255, 153, 51)",
           "rgb(55, 128, 191)",
           "rgb(50, 171, 96)",
           "rgb(128, 0, 128)",
           "rgb(219, 64, 82)",
           "rgb(0, 128, 128)",
           "rgb(255, 255, 51)",
           "rgb(128, 128, 0)",
           "rgb(251, 128, 114)",
           "rgb(128, 177, 211)"
          ],
          "line": {
           "width": 1.3
          },
          "size": [
           99,
           93,
           63,
           43,
           58,
           80,
           78,
           52,
           92,
           43,
           16,
           33,
           65,
           49,
           81,
           59,
           53,
           60,
           100,
           96,
           70,
           30,
           78,
           59,
           58,
           64,
           99,
           105,
           100,
           32,
           74,
           74,
           73,
           42,
           78,
           74,
           79,
           47,
           59,
           59,
           88,
           53,
           74,
           51,
           99,
           77,
           98,
           95,
           80,
           28,
           86,
           72,
           53,
           70,
           86,
           107,
           65,
           69,
           52,
           77,
           82,
           50,
           97,
           83,
           35,
           50,
           44,
           101,
           56,
           102,
           67,
           52,
           112,
           12,
           83,
           74,
           91,
           85,
           71,
           45,
           80,
           78,
           57,
           83,
           55,
           75,
           81,
           81,
           68,
           43,
           83,
           95,
           72,
           72,
           23,
           89,
           69,
           71,
           63,
           56
          ],
          "symbol": "circle"
         },
         "mode": "markers",
         "text": "",
         "type": "scatter",
         "x": [
          -0.3778223188637527,
          0.0922801329148354,
          0.30314941242763466,
          -1.7247202757361555,
          -1.058806603088048,
          0.3562706846101683,
          0.5893574103570001,
          0.4585923583725432,
          1.1037945473464486,
          -0.3797924361831625,
          -1.0427165172979118,
          -2.353686639099532,
          -0.29509732902435676,
          -1.2329854565647862,
          -1.126512415797739,
          -2.7475965594656078,
          -1.2320765599446821,
          1.1960796864242584,
          -1.5053003537604794,
          1.4120424256808577,
          0.44528925065892605,
          0.9407256226239445,
          0.3346734763472071,
          0.6271526760473892,
          0.8580570503239457,
          -1.5932250845668334,
          -1.899147120460595,
          -0.5867413973285835,
          -0.9077758388365309,
          -0.8265399131304081,
          -0.48541987181432733,
          -1.9699390955796718,
          0.30671395224387316,
          -0.09814400017825455,
          0.6194420460243791,
          0.19192157796057446,
          0.26127009853054683,
          0.5934868937468604,
          1.3023689503304985,
          -0.557661021363899,
          1.3935040980784998,
          0.6095413707122774,
          0.19800162145167038,
          0.17773739624827156,
          0.1044704890515966,
          0.7366235446387637,
          0.12357136991878583,
          0.09574507787250311,
          0.4229303615159778,
          -0.05638478718449256,
          0.0524134147976591,
          -0.32084851794570013,
          3.323544545394268,
          -1.31951123577791,
          -1.0284774655531908,
          -0.4095367186350242,
          -0.9588002136398506,
          -0.12650654004935413,
          -0.860830501797706,
          -1.1880220044268255,
          0.00549830950166235,
          2.5233899814560115,
          -0.3659869477806698,
          0.2246642533450928,
          2.4174169231965945,
          -0.7850206563893745,
          1.1952085514381636,
          -1.625831633350626,
          0.8500313495956225,
          0.1359891984288151,
          -0.30049628523290484,
          -0.5408007451983162,
          1.156569580879917,
          -1.130335538700787,
          0.009621902777194428,
          -0.4915624184966093,
          0.8101057700385709,
          -0.3735203108248807,
          1.8487969495407632,
          -1.218057266502291,
          0.8398393241662376,
          2.4987094763734685,
          0.011469559294633237,
          1.1906179842714053,
          0.06397273787221386,
          1.5721334359149062,
          -0.40219610269343364,
          -1.5792141027986448,
          0.8781210937978811,
          -0.11279078387832467,
          -0.7966050137612551,
          -0.7811050635977146,
          1.1377100099162374,
          0.9886447210219727,
          -0.024892387637142906,
          0.9431513722593761,
          -0.11290888417369738,
          0.2128077746776085,
          -1.1045250270455622,
          -1.376879949847616
         ],
         "y": [
          -1.316494825844439,
          0.2866719465461037,
          1.0478572119460632,
          -0.49355271897014624,
          -0.3542447919084635,
          -0.32650917113074646,
          1.1327673099908224,
          -0.8284119403094422,
          -0.7922051809940646,
          -0.42267745324087386,
          -1.0574974112458024,
          0.05540325977674381,
          -1.1224762575973932,
          -0.017964883564133848,
          -0.1682330830079046,
          1.8673751650772215,
          0.08004730349155705,
          -1.1250216343133097,
          1.025612290218689,
          -0.16745276111172824,
          1.1195894693054642,
          0.8560878889882733,
          -0.689496796712005,
          -0.10834697650456812,
          -0.7416035670698498,
          -1.4275386276737139,
          -0.8358930796699012,
          -1.6783958713333986,
          0.5156163219565989,
          0.4071645719782639,
          2.6641197458789834,
          0.6289898980658927,
          -2.745439843907141,
          -2.911319180158229,
          -0.4990510898715183,
          0.3534404282333845,
          -1.1448283539966881,
          -0.08782184871280074,
          1.286134650626389,
          -1.0219268738584983,
          0.8533706050813746,
          -0.9101654435552414,
          -0.1944663516311447,
          0.023407873628503623,
          -0.19119742997980924,
          -1.0047286399715987,
          -0.015257653555950003,
          -0.0056296678451680906,
          -0.11364674997934227,
          -0.3164297329600258,
          -1.1884782853636806,
          0.5297264880579176,
          -0.5977201879104943,
          -0.10328709441783887,
          -0.40190680822729946,
          -0.015150400733030547,
          1.6259239440798234,
          -0.9176223687265888,
          0.09035423193074928,
          0.5215540259689497,
          -1.5100934159184967,
          -0.5617412384064335,
          1.9055962539223812,
          0.03140965475767426,
          -1.3191667111676395,
          0.15372129450845587,
          0.6213905285187237,
          1.4181655536798619,
          1.1127703081989955,
          -0.0009139932771381095,
          0.37146688251936105,
          1.8410188890021395,
          0.31324377589728125,
          1.7741866034599767,
          0.6860842020791837,
          -0.48426173373315584,
          -2.3158113012427592,
          2.1987352884004943,
          0.5909603338530436,
          0.06152588978596741,
          -0.47230935828592624,
          0.011882187395418206,
          0.057482546270307536,
          -0.313899116576255,
          0.8110275578864159,
          0.31186695155541283,
          0.017627978391445108,
          1.0691785570143704,
          1.6416457276834544,
          1.4965106491758011,
          -0.5416788112901813,
          -0.599576260609268,
          0.21003831009666457,
          0.15285166599823136,
          1.8531387222782865,
          -1.7774255813400108,
          0.24270874088554262,
          0.1685323107914805,
          -0.4263276741178543,
          -1.1424089489759095
         ]
        }
       ],
       "layout": {
        "legend": {
         "bgcolor": "#F5F6F9",
         "font": {
          "color": "#4D5663"
         }
        },
        "paper_bgcolor": "#F5F6F9",
        "plot_bgcolor": "#F5F6F9",
        "template": {
         "data": {
          "bar": [
           {
            "error_x": {
             "color": "#2a3f5f"
            },
            "error_y": {
             "color": "#2a3f5f"
            },
            "marker": {
             "line": {
              "color": "#E5ECF6",
              "width": 0.5
             }
            },
            "type": "bar"
           }
          ],
          "barpolar": [
           {
            "marker": {
             "line": {
              "color": "#E5ECF6",
              "width": 0.5
             }
            },
            "type": "barpolar"
           }
          ],
          "carpet": [
           {
            "aaxis": {
             "endlinecolor": "#2a3f5f",
             "gridcolor": "white",
             "linecolor": "white",
             "minorgridcolor": "white",
             "startlinecolor": "#2a3f5f"
            },
            "baxis": {
             "endlinecolor": "#2a3f5f",
             "gridcolor": "white",
             "linecolor": "white",
             "minorgridcolor": "white",
             "startlinecolor": "#2a3f5f"
            },
            "type": "carpet"
           }
          ],
          "choropleth": [
           {
            "colorbar": {
             "outlinewidth": 0,
             "ticks": ""
            },
            "type": "choropleth"
           }
          ],
          "contour": [
           {
            "colorbar": {
             "outlinewidth": 0,
             "ticks": ""
            },
            "colorscale": [
             [
              0,
              "#0d0887"
             ],
             [
              0.1111111111111111,
              "#46039f"
             ],
             [
              0.2222222222222222,
              "#7201a8"
             ],
             [
              0.3333333333333333,
              "#9c179e"
             ],
             [
              0.4444444444444444,
              "#bd3786"
             ],
             [
              0.5555555555555556,
              "#d8576b"
             ],
             [
              0.6666666666666666,
              "#ed7953"
             ],
             [
              0.7777777777777778,
              "#fb9f3a"
             ],
             [
              0.8888888888888888,
              "#fdca26"
             ],
             [
              1,
              "#f0f921"
             ]
            ],
            "type": "contour"
           }
          ],
          "contourcarpet": [
           {
            "colorbar": {
             "outlinewidth": 0,
             "ticks": ""
            },
            "type": "contourcarpet"
           }
          ],
          "heatmap": [
           {
            "colorbar": {
             "outlinewidth": 0,
             "ticks": ""
            },
            "colorscale": [
             [
              0,
              "#0d0887"
             ],
             [
              0.1111111111111111,
              "#46039f"
             ],
             [
              0.2222222222222222,
              "#7201a8"
             ],
             [
              0.3333333333333333,
              "#9c179e"
             ],
             [
              0.4444444444444444,
              "#bd3786"
             ],
             [
              0.5555555555555556,
              "#d8576b"
             ],
             [
              0.6666666666666666,
              "#ed7953"
             ],
             [
              0.7777777777777778,
              "#fb9f3a"
             ],
             [
              0.8888888888888888,
              "#fdca26"
             ],
             [
              1,
              "#f0f921"
             ]
            ],
            "type": "heatmap"
           }
          ],
          "heatmapgl": [
           {
            "colorbar": {
             "outlinewidth": 0,
             "ticks": ""
            },
            "colorscale": [
             [
              0,
              "#0d0887"
             ],
             [
              0.1111111111111111,
              "#46039f"
             ],
             [
              0.2222222222222222,
              "#7201a8"
             ],
             [
              0.3333333333333333,
              "#9c179e"
             ],
             [
              0.4444444444444444,
              "#bd3786"
             ],
             [
              0.5555555555555556,
              "#d8576b"
             ],
             [
              0.6666666666666666,
              "#ed7953"
             ],
             [
              0.7777777777777778,
              "#fb9f3a"
             ],
             [
              0.8888888888888888,
              "#fdca26"
             ],
             [
              1,
              "#f0f921"
             ]
            ],
            "type": "heatmapgl"
           }
          ],
          "histogram": [
           {
            "marker": {
             "colorbar": {
              "outlinewidth": 0,
              "ticks": ""
             }
            },
            "type": "histogram"
           }
          ],
          "histogram2d": [
           {
            "colorbar": {
             "outlinewidth": 0,
             "ticks": ""
            },
            "colorscale": [
             [
              0,
              "#0d0887"
             ],
             [
              0.1111111111111111,
              "#46039f"
             ],
             [
              0.2222222222222222,
              "#7201a8"
             ],
             [
              0.3333333333333333,
              "#9c179e"
             ],
             [
              0.4444444444444444,
              "#bd3786"
             ],
             [
              0.5555555555555556,
              "#d8576b"
             ],
             [
              0.6666666666666666,
              "#ed7953"
             ],
             [
              0.7777777777777778,
              "#fb9f3a"
             ],
             [
              0.8888888888888888,
              "#fdca26"
             ],
             [
              1,
              "#f0f921"
             ]
            ],
            "type": "histogram2d"
           }
          ],
          "histogram2dcontour": [
           {
            "colorbar": {
             "outlinewidth": 0,
             "ticks": ""
            },
            "colorscale": [
             [
              0,
              "#0d0887"
             ],
             [
              0.1111111111111111,
              "#46039f"
             ],
             [
              0.2222222222222222,
              "#7201a8"
             ],
             [
              0.3333333333333333,
              "#9c179e"
             ],
             [
              0.4444444444444444,
              "#bd3786"
             ],
             [
              0.5555555555555556,
              "#d8576b"
             ],
             [
              0.6666666666666666,
              "#ed7953"
             ],
             [
              0.7777777777777778,
              "#fb9f3a"
             ],
             [
              0.8888888888888888,
              "#fdca26"
             ],
             [
              1,
              "#f0f921"
             ]
            ],
            "type": "histogram2dcontour"
           }
          ],
          "mesh3d": [
           {
            "colorbar": {
             "outlinewidth": 0,
             "ticks": ""
            },
            "type": "mesh3d"
           }
          ],
          "parcoords": [
           {
            "line": {
             "colorbar": {
              "outlinewidth": 0,
              "ticks": ""
             }
            },
            "type": "parcoords"
           }
          ],
          "pie": [
           {
            "automargin": true,
            "type": "pie"
           }
          ],
          "scatter": [
           {
            "marker": {
             "colorbar": {
              "outlinewidth": 0,
              "ticks": ""
             }
            },
            "type": "scatter"
           }
          ],
          "scatter3d": [
           {
            "line": {
             "colorbar": {
              "outlinewidth": 0,
              "ticks": ""
             }
            },
            "marker": {
             "colorbar": {
              "outlinewidth": 0,
              "ticks": ""
             }
            },
            "type": "scatter3d"
           }
          ],
          "scattercarpet": [
           {
            "marker": {
             "colorbar": {
              "outlinewidth": 0,
              "ticks": ""
             }
            },
            "type": "scattercarpet"
           }
          ],
          "scattergeo": [
           {
            "marker": {
             "colorbar": {
              "outlinewidth": 0,
              "ticks": ""
             }
            },
            "type": "scattergeo"
           }
          ],
          "scattergl": [
           {
            "marker": {
             "colorbar": {
              "outlinewidth": 0,
              "ticks": ""
             }
            },
            "type": "scattergl"
           }
          ],
          "scattermapbox": [
           {
            "marker": {
             "colorbar": {
              "outlinewidth": 0,
              "ticks": ""
             }
            },
            "type": "scattermapbox"
           }
          ],
          "scatterpolar": [
           {
            "marker": {
             "colorbar": {
              "outlinewidth": 0,
              "ticks": ""
             }
            },
            "type": "scatterpolar"
           }
          ],
          "scatterpolargl": [
           {
            "marker": {
             "colorbar": {
              "outlinewidth": 0,
              "ticks": ""
             }
            },
            "type": "scatterpolargl"
           }
          ],
          "scatterternary": [
           {
            "marker": {
             "colorbar": {
              "outlinewidth": 0,
              "ticks": ""
             }
            },
            "type": "scatterternary"
           }
          ],
          "surface": [
           {
            "colorbar": {
             "outlinewidth": 0,
             "ticks": ""
            },
            "colorscale": [
             [
              0,
              "#0d0887"
             ],
             [
              0.1111111111111111,
              "#46039f"
             ],
             [
              0.2222222222222222,
              "#7201a8"
             ],
             [
              0.3333333333333333,
              "#9c179e"
             ],
             [
              0.4444444444444444,
              "#bd3786"
             ],
             [
              0.5555555555555556,
              "#d8576b"
             ],
             [
              0.6666666666666666,
              "#ed7953"
             ],
             [
              0.7777777777777778,
              "#fb9f3a"
             ],
             [
              0.8888888888888888,
              "#fdca26"
             ],
             [
              1,
              "#f0f921"
             ]
            ],
            "type": "surface"
           }
          ],
          "table": [
           {
            "cells": {
             "fill": {
              "color": "#EBF0F8"
             },
             "line": {
              "color": "white"
             }
            },
            "header": {
             "fill": {
              "color": "#C8D4E3"
             },
             "line": {
              "color": "white"
             }
            },
            "type": "table"
           }
          ]
         },
         "layout": {
          "annotationdefaults": {
           "arrowcolor": "#2a3f5f",
           "arrowhead": 0,
           "arrowwidth": 1
          },
          "coloraxis": {
           "colorbar": {
            "outlinewidth": 0,
            "ticks": ""
           }
          },
          "colorscale": {
           "diverging": [
            [
             0,
             "#8e0152"
            ],
            [
             0.1,
             "#c51b7d"
            ],
            [
             0.2,
             "#de77ae"
            ],
            [
             0.3,
             "#f1b6da"
            ],
            [
             0.4,
             "#fde0ef"
            ],
            [
             0.5,
             "#f7f7f7"
            ],
            [
             0.6,
             "#e6f5d0"
            ],
            [
             0.7,
             "#b8e186"
            ],
            [
             0.8,
             "#7fbc41"
            ],
            [
             0.9,
             "#4d9221"
            ],
            [
             1,
             "#276419"
            ]
           ],
           "sequential": [
            [
             0,
             "#0d0887"
            ],
            [
             0.1111111111111111,
             "#46039f"
            ],
            [
             0.2222222222222222,
             "#7201a8"
            ],
            [
             0.3333333333333333,
             "#9c179e"
            ],
            [
             0.4444444444444444,
             "#bd3786"
            ],
            [
             0.5555555555555556,
             "#d8576b"
            ],
            [
             0.6666666666666666,
             "#ed7953"
            ],
            [
             0.7777777777777778,
             "#fb9f3a"
            ],
            [
             0.8888888888888888,
             "#fdca26"
            ],
            [
             1,
             "#f0f921"
            ]
           ],
           "sequentialminus": [
            [
             0,
             "#0d0887"
            ],
            [
             0.1111111111111111,
             "#46039f"
            ],
            [
             0.2222222222222222,
             "#7201a8"
            ],
            [
             0.3333333333333333,
             "#9c179e"
            ],
            [
             0.4444444444444444,
             "#bd3786"
            ],
            [
             0.5555555555555556,
             "#d8576b"
            ],
            [
             0.6666666666666666,
             "#ed7953"
            ],
            [
             0.7777777777777778,
             "#fb9f3a"
            ],
            [
             0.8888888888888888,
             "#fdca26"
            ],
            [
             1,
             "#f0f921"
            ]
           ]
          },
          "colorway": [
           "#636efa",
           "#EF553B",
           "#00cc96",
           "#ab63fa",
           "#FFA15A",
           "#19d3f3",
           "#FF6692",
           "#B6E880",
           "#FF97FF",
           "#FECB52"
          ],
          "font": {
           "color": "#2a3f5f"
          },
          "geo": {
           "bgcolor": "white",
           "lakecolor": "white",
           "landcolor": "#E5ECF6",
           "showlakes": true,
           "showland": true,
           "subunitcolor": "white"
          },
          "hoverlabel": {
           "align": "left"
          },
          "hovermode": "closest",
          "mapbox": {
           "style": "light"
          },
          "paper_bgcolor": "white",
          "plot_bgcolor": "#E5ECF6",
          "polar": {
           "angularaxis": {
            "gridcolor": "white",
            "linecolor": "white",
            "ticks": ""
           },
           "bgcolor": "#E5ECF6",
           "radialaxis": {
            "gridcolor": "white",
            "linecolor": "white",
            "ticks": ""
           }
          },
          "scene": {
           "xaxis": {
            "backgroundcolor": "#E5ECF6",
            "gridcolor": "white",
            "gridwidth": 2,
            "linecolor": "white",
            "showbackground": true,
            "ticks": "",
            "zerolinecolor": "white"
           },
           "yaxis": {
            "backgroundcolor": "#E5ECF6",
            "gridcolor": "white",
            "gridwidth": 2,
            "linecolor": "white",
            "showbackground": true,
            "ticks": "",
            "zerolinecolor": "white"
           },
           "zaxis": {
            "backgroundcolor": "#E5ECF6",
            "gridcolor": "white",
            "gridwidth": 2,
            "linecolor": "white",
            "showbackground": true,
            "ticks": "",
            "zerolinecolor": "white"
           }
          },
          "shapedefaults": {
           "line": {
            "color": "#2a3f5f"
           }
          },
          "ternary": {
           "aaxis": {
            "gridcolor": "white",
            "linecolor": "white",
            "ticks": ""
           },
           "baxis": {
            "gridcolor": "white",
            "linecolor": "white",
            "ticks": ""
           },
           "bgcolor": "#E5ECF6",
           "caxis": {
            "gridcolor": "white",
            "linecolor": "white",
            "ticks": ""
           }
          },
          "title": {
           "x": 0.05
          },
          "xaxis": {
           "automargin": true,
           "gridcolor": "white",
           "linecolor": "white",
           "ticks": "",
           "title": {
            "standoff": 15
           },
           "zerolinecolor": "white",
           "zerolinewidth": 2
          },
          "yaxis": {
           "automargin": true,
           "gridcolor": "white",
           "linecolor": "white",
           "ticks": "",
           "title": {
            "standoff": 15
           },
           "zerolinecolor": "white",
           "zerolinewidth": 2
          }
         }
        },
        "title": {
         "font": {
          "color": "#4D5663"
         }
        },
        "xaxis": {
         "gridcolor": "#E1E5ED",
         "showgrid": true,
         "tickfont": {
          "color": "#4D5663"
         },
         "title": {
          "font": {
           "color": "#4D5663"
          },
          "text": ""
         },
         "zerolinecolor": "#E1E5ED"
        },
        "yaxis": {
         "gridcolor": "#E1E5ED",
         "showgrid": true,
         "tickfont": {
          "color": "#4D5663"
         },
         "title": {
          "font": {
           "color": "#4D5663"
          },
          "text": ""
         },
         "zerolinecolor": "#E1E5ED"
        }
       }
      },
      "text/html": [
       "<div>\n",
       "        \n",
       "        \n",
       "            <div id=\"05ee143e-73c8-4e1c-92da-549d9afa725f\" class=\"plotly-graph-div\" style=\"height:525px; width:100%;\"></div>\n",
       "            <script type=\"text/javascript\">\n",
       "                require([\"plotly\"], function(Plotly) {\n",
       "                    window.PLOTLYENV=window.PLOTLYENV || {};\n",
       "                    window.PLOTLYENV.BASE_URL='https://plot.ly';\n",
       "                    \n",
       "                if (document.getElementById(\"05ee143e-73c8-4e1c-92da-549d9afa725f\")) {\n",
       "                    Plotly.newPlot(\n",
       "                        '05ee143e-73c8-4e1c-92da-549d9afa725f',\n",
       "                        [{\"marker\": {\"color\": [\"rgb(255, 153, 51)\", \"rgb(55, 128, 191)\", \"rgb(50, 171, 96)\", \"rgb(128, 0, 128)\", \"rgb(219, 64, 82)\", \"rgb(0, 128, 128)\", \"rgb(255, 255, 51)\", \"rgb(128, 128, 0)\", \"rgb(251, 128, 114)\", \"rgb(128, 177, 211)\"], \"line\": {\"width\": 1.3}, \"size\": [99, 93, 63, 43, 58, 80, 78, 52, 92, 43, 16, 33, 65, 49, 81, 59, 53, 60, 100, 96, 70, 30, 78, 59, 58, 64, 99, 105, 100, 32, 74, 74, 73, 42, 78, 74, 79, 47, 59, 59, 88, 53, 74, 51, 99, 77, 98, 95, 80, 28, 86, 72, 53, 70, 86, 107, 65, 69, 52, 77, 82, 50, 97, 83, 35, 50, 44, 101, 56, 102, 67, 52, 112, 12, 83, 74, 91, 85, 71, 45, 80, 78, 57, 83, 55, 75, 81, 81, 68, 43, 83, 95, 72, 72, 23, 89, 69, 71, 63, 56], \"symbol\": \"circle\"}, \"mode\": \"markers\", \"text\": \"\", \"type\": \"scatter\", \"x\": [-0.3778223188637527, 0.0922801329148354, 0.30314941242763466, -1.7247202757361555, -1.058806603088048, 0.3562706846101683, 0.5893574103570001, 0.4585923583725432, 1.1037945473464486, -0.3797924361831625, -1.0427165172979118, -2.353686639099532, -0.29509732902435676, -1.2329854565647862, -1.126512415797739, -2.7475965594656078, -1.2320765599446821, 1.1960796864242584, -1.5053003537604794, 1.4120424256808577, 0.44528925065892605, 0.9407256226239445, 0.3346734763472071, 0.6271526760473892, 0.8580570503239457, -1.5932250845668334, -1.899147120460595, -0.5867413973285835, -0.9077758388365309, -0.8265399131304081, -0.48541987181432733, -1.9699390955796718, 0.30671395224387316, -0.09814400017825455, 0.6194420460243791, 0.19192157796057446, 0.26127009853054683, 0.5934868937468604, 1.3023689503304985, -0.557661021363899, 1.3935040980784998, 0.6095413707122774, 0.19800162145167038, 0.17773739624827156, 0.1044704890515966, 0.7366235446387637, 0.12357136991878583, 0.09574507787250311, 0.4229303615159778, -0.05638478718449256, 0.0524134147976591, -0.32084851794570013, 3.323544545394268, -1.31951123577791, -1.0284774655531908, -0.4095367186350242, -0.9588002136398506, -0.12650654004935413, -0.860830501797706, -1.1880220044268255, 0.00549830950166235, 2.5233899814560115, -0.3659869477806698, 0.2246642533450928, 2.4174169231965945, -0.7850206563893745, 1.1952085514381636, -1.625831633350626, 0.8500313495956225, 0.1359891984288151, -0.30049628523290484, -0.5408007451983162, 1.156569580879917, -1.130335538700787, 0.009621902777194428, -0.4915624184966093, 0.8101057700385709, -0.3735203108248807, 1.8487969495407632, -1.218057266502291, 0.8398393241662376, 2.4987094763734685, 0.011469559294633237, 1.1906179842714053, 0.06397273787221386, 1.5721334359149062, -0.40219610269343364, -1.5792141027986448, 0.8781210937978811, -0.11279078387832467, -0.7966050137612551, -0.7811050635977146, 1.1377100099162374, 0.9886447210219727, -0.024892387637142906, 0.9431513722593761, -0.11290888417369738, 0.2128077746776085, -1.1045250270455622, -1.376879949847616], \"y\": [-1.316494825844439, 0.2866719465461037, 1.0478572119460632, -0.49355271897014624, -0.3542447919084635, -0.32650917113074646, 1.1327673099908224, -0.8284119403094422, -0.7922051809940646, -0.42267745324087386, -1.0574974112458024, 0.05540325977674381, -1.1224762575973932, -0.017964883564133848, -0.1682330830079046, 1.8673751650772215, 0.08004730349155705, -1.1250216343133097, 1.025612290218689, -0.16745276111172824, 1.1195894693054642, 0.8560878889882733, -0.689496796712005, -0.10834697650456812, -0.7416035670698498, -1.4275386276737139, -0.8358930796699012, -1.6783958713333986, 0.5156163219565989, 0.4071645719782639, 2.6641197458789834, 0.6289898980658927, -2.745439843907141, -2.911319180158229, -0.4990510898715183, 0.3534404282333845, -1.1448283539966881, -0.08782184871280074, 1.286134650626389, -1.0219268738584983, 0.8533706050813746, -0.9101654435552414, -0.1944663516311447, 0.023407873628503623, -0.19119742997980924, -1.0047286399715987, -0.015257653555950003, -0.0056296678451680906, -0.11364674997934227, -0.3164297329600258, -1.1884782853636806, 0.5297264880579176, -0.5977201879104943, -0.10328709441783887, -0.40190680822729946, -0.015150400733030547, 1.6259239440798234, -0.9176223687265888, 0.09035423193074928, 0.5215540259689497, -1.5100934159184967, -0.5617412384064335, 1.9055962539223812, 0.03140965475767426, -1.3191667111676395, 0.15372129450845587, 0.6213905285187237, 1.4181655536798619, 1.1127703081989955, -0.0009139932771381095, 0.37146688251936105, 1.8410188890021395, 0.31324377589728125, 1.7741866034599767, 0.6860842020791837, -0.48426173373315584, -2.3158113012427592, 2.1987352884004943, 0.5909603338530436, 0.06152588978596741, -0.47230935828592624, 0.011882187395418206, 0.057482546270307536, -0.313899116576255, 0.8110275578864159, 0.31186695155541283, 0.017627978391445108, 1.0691785570143704, 1.6416457276834544, 1.4965106491758011, -0.5416788112901813, -0.599576260609268, 0.21003831009666457, 0.15285166599823136, 1.8531387222782865, -1.7774255813400108, 0.24270874088554262, 0.1685323107914805, -0.4263276741178543, -1.1424089489759095]}],\n",
       "                        {\"legend\": {\"bgcolor\": \"#F5F6F9\", \"font\": {\"color\": \"#4D5663\"}}, \"paper_bgcolor\": \"#F5F6F9\", \"plot_bgcolor\": \"#F5F6F9\", \"template\": {\"data\": {\"bar\": [{\"error_x\": {\"color\": \"#2a3f5f\"}, \"error_y\": {\"color\": \"#2a3f5f\"}, \"marker\": {\"line\": {\"color\": \"#E5ECF6\", \"width\": 0.5}}, \"type\": \"bar\"}], \"barpolar\": [{\"marker\": {\"line\": {\"color\": \"#E5ECF6\", \"width\": 0.5}}, \"type\": \"barpolar\"}], \"carpet\": [{\"aaxis\": {\"endlinecolor\": \"#2a3f5f\", \"gridcolor\": \"white\", \"linecolor\": \"white\", \"minorgridcolor\": \"white\", \"startlinecolor\": \"#2a3f5f\"}, \"baxis\": {\"endlinecolor\": \"#2a3f5f\", \"gridcolor\": \"white\", \"linecolor\": \"white\", \"minorgridcolor\": \"white\", \"startlinecolor\": \"#2a3f5f\"}, \"type\": \"carpet\"}], \"choropleth\": [{\"colorbar\": {\"outlinewidth\": 0, \"ticks\": \"\"}, \"type\": \"choropleth\"}], \"contour\": [{\"colorbar\": {\"outlinewidth\": 0, \"ticks\": \"\"}, \"colorscale\": [[0.0, \"#0d0887\"], [0.1111111111111111, \"#46039f\"], [0.2222222222222222, \"#7201a8\"], [0.3333333333333333, \"#9c179e\"], [0.4444444444444444, \"#bd3786\"], [0.5555555555555556, \"#d8576b\"], [0.6666666666666666, \"#ed7953\"], [0.7777777777777778, \"#fb9f3a\"], [0.8888888888888888, \"#fdca26\"], [1.0, \"#f0f921\"]], \"type\": \"contour\"}], \"contourcarpet\": [{\"colorbar\": {\"outlinewidth\": 0, \"ticks\": \"\"}, \"type\": \"contourcarpet\"}], \"heatmap\": [{\"colorbar\": {\"outlinewidth\": 0, \"ticks\": \"\"}, \"colorscale\": [[0.0, \"#0d0887\"], [0.1111111111111111, \"#46039f\"], [0.2222222222222222, \"#7201a8\"], [0.3333333333333333, \"#9c179e\"], [0.4444444444444444, \"#bd3786\"], [0.5555555555555556, \"#d8576b\"], [0.6666666666666666, \"#ed7953\"], [0.7777777777777778, \"#fb9f3a\"], [0.8888888888888888, \"#fdca26\"], [1.0, \"#f0f921\"]], \"type\": \"heatmap\"}], \"heatmapgl\": [{\"colorbar\": {\"outlinewidth\": 0, \"ticks\": \"\"}, \"colorscale\": [[0.0, \"#0d0887\"], [0.1111111111111111, \"#46039f\"], [0.2222222222222222, \"#7201a8\"], [0.3333333333333333, \"#9c179e\"], [0.4444444444444444, \"#bd3786\"], [0.5555555555555556, \"#d8576b\"], [0.6666666666666666, \"#ed7953\"], [0.7777777777777778, \"#fb9f3a\"], [0.8888888888888888, \"#fdca26\"], [1.0, \"#f0f921\"]], \"type\": \"heatmapgl\"}], \"histogram\": [{\"marker\": {\"colorbar\": {\"outlinewidth\": 0, \"ticks\": \"\"}}, \"type\": \"histogram\"}], \"histogram2d\": [{\"colorbar\": {\"outlinewidth\": 0, \"ticks\": \"\"}, \"colorscale\": [[0.0, \"#0d0887\"], [0.1111111111111111, \"#46039f\"], [0.2222222222222222, \"#7201a8\"], [0.3333333333333333, \"#9c179e\"], [0.4444444444444444, \"#bd3786\"], [0.5555555555555556, \"#d8576b\"], [0.6666666666666666, \"#ed7953\"], [0.7777777777777778, \"#fb9f3a\"], [0.8888888888888888, \"#fdca26\"], [1.0, \"#f0f921\"]], \"type\": \"histogram2d\"}], \"histogram2dcontour\": [{\"colorbar\": {\"outlinewidth\": 0, \"ticks\": \"\"}, \"colorscale\": [[0.0, \"#0d0887\"], [0.1111111111111111, \"#46039f\"], [0.2222222222222222, \"#7201a8\"], [0.3333333333333333, \"#9c179e\"], [0.4444444444444444, \"#bd3786\"], [0.5555555555555556, \"#d8576b\"], [0.6666666666666666, \"#ed7953\"], [0.7777777777777778, \"#fb9f3a\"], [0.8888888888888888, \"#fdca26\"], [1.0, \"#f0f921\"]], \"type\": \"histogram2dcontour\"}], \"mesh3d\": [{\"colorbar\": {\"outlinewidth\": 0, \"ticks\": \"\"}, \"type\": \"mesh3d\"}], \"parcoords\": [{\"line\": {\"colorbar\": {\"outlinewidth\": 0, \"ticks\": \"\"}}, \"type\": \"parcoords\"}], \"pie\": [{\"automargin\": true, \"type\": \"pie\"}], \"scatter\": [{\"marker\": {\"colorbar\": {\"outlinewidth\": 0, \"ticks\": \"\"}}, \"type\": \"scatter\"}], \"scatter3d\": [{\"line\": {\"colorbar\": {\"outlinewidth\": 0, \"ticks\": \"\"}}, \"marker\": {\"colorbar\": {\"outlinewidth\": 0, \"ticks\": \"\"}}, \"type\": \"scatter3d\"}], \"scattercarpet\": [{\"marker\": {\"colorbar\": {\"outlinewidth\": 0, \"ticks\": \"\"}}, \"type\": \"scattercarpet\"}], \"scattergeo\": [{\"marker\": {\"colorbar\": {\"outlinewidth\": 0, \"ticks\": \"\"}}, \"type\": \"scattergeo\"}], \"scattergl\": [{\"marker\": {\"colorbar\": {\"outlinewidth\": 0, \"ticks\": \"\"}}, \"type\": \"scattergl\"}], \"scattermapbox\": [{\"marker\": {\"colorbar\": {\"outlinewidth\": 0, \"ticks\": \"\"}}, \"type\": \"scattermapbox\"}], \"scatterpolar\": [{\"marker\": {\"colorbar\": {\"outlinewidth\": 0, \"ticks\": \"\"}}, \"type\": \"scatterpolar\"}], \"scatterpolargl\": [{\"marker\": {\"colorbar\": {\"outlinewidth\": 0, \"ticks\": \"\"}}, \"type\": \"scatterpolargl\"}], \"scatterternary\": [{\"marker\": {\"colorbar\": {\"outlinewidth\": 0, \"ticks\": \"\"}}, \"type\": \"scatterternary\"}], \"surface\": [{\"colorbar\": {\"outlinewidth\": 0, \"ticks\": \"\"}, \"colorscale\": [[0.0, \"#0d0887\"], [0.1111111111111111, \"#46039f\"], [0.2222222222222222, \"#7201a8\"], [0.3333333333333333, \"#9c179e\"], [0.4444444444444444, \"#bd3786\"], [0.5555555555555556, \"#d8576b\"], [0.6666666666666666, \"#ed7953\"], [0.7777777777777778, \"#fb9f3a\"], [0.8888888888888888, \"#fdca26\"], [1.0, \"#f0f921\"]], \"type\": \"surface\"}], \"table\": [{\"cells\": {\"fill\": {\"color\": \"#EBF0F8\"}, \"line\": {\"color\": \"white\"}}, \"header\": {\"fill\": {\"color\": \"#C8D4E3\"}, \"line\": {\"color\": \"white\"}}, \"type\": \"table\"}]}, \"layout\": {\"annotationdefaults\": {\"arrowcolor\": \"#2a3f5f\", \"arrowhead\": 0, \"arrowwidth\": 1}, \"coloraxis\": {\"colorbar\": {\"outlinewidth\": 0, \"ticks\": \"\"}}, \"colorscale\": {\"diverging\": [[0, \"#8e0152\"], [0.1, \"#c51b7d\"], [0.2, \"#de77ae\"], [0.3, \"#f1b6da\"], [0.4, \"#fde0ef\"], [0.5, \"#f7f7f7\"], [0.6, \"#e6f5d0\"], [0.7, \"#b8e186\"], [0.8, \"#7fbc41\"], [0.9, \"#4d9221\"], [1, \"#276419\"]], \"sequential\": [[0.0, \"#0d0887\"], [0.1111111111111111, \"#46039f\"], [0.2222222222222222, \"#7201a8\"], [0.3333333333333333, \"#9c179e\"], [0.4444444444444444, \"#bd3786\"], [0.5555555555555556, \"#d8576b\"], [0.6666666666666666, \"#ed7953\"], [0.7777777777777778, \"#fb9f3a\"], [0.8888888888888888, \"#fdca26\"], [1.0, \"#f0f921\"]], \"sequentialminus\": [[0.0, \"#0d0887\"], [0.1111111111111111, \"#46039f\"], [0.2222222222222222, \"#7201a8\"], [0.3333333333333333, \"#9c179e\"], [0.4444444444444444, \"#bd3786\"], [0.5555555555555556, \"#d8576b\"], [0.6666666666666666, \"#ed7953\"], [0.7777777777777778, \"#fb9f3a\"], [0.8888888888888888, \"#fdca26\"], [1.0, \"#f0f921\"]]}, \"colorway\": [\"#636efa\", \"#EF553B\", \"#00cc96\", \"#ab63fa\", \"#FFA15A\", \"#19d3f3\", \"#FF6692\", \"#B6E880\", \"#FF97FF\", \"#FECB52\"], \"font\": {\"color\": \"#2a3f5f\"}, \"geo\": {\"bgcolor\": \"white\", \"lakecolor\": \"white\", \"landcolor\": \"#E5ECF6\", \"showlakes\": true, \"showland\": true, \"subunitcolor\": \"white\"}, \"hoverlabel\": {\"align\": \"left\"}, \"hovermode\": \"closest\", \"mapbox\": {\"style\": \"light\"}, \"paper_bgcolor\": \"white\", \"plot_bgcolor\": \"#E5ECF6\", \"polar\": {\"angularaxis\": {\"gridcolor\": \"white\", \"linecolor\": \"white\", \"ticks\": \"\"}, \"bgcolor\": \"#E5ECF6\", \"radialaxis\": {\"gridcolor\": \"white\", \"linecolor\": \"white\", \"ticks\": \"\"}}, \"scene\": {\"xaxis\": {\"backgroundcolor\": \"#E5ECF6\", \"gridcolor\": \"white\", \"gridwidth\": 2, \"linecolor\": \"white\", \"showbackground\": true, \"ticks\": \"\", \"zerolinecolor\": \"white\"}, \"yaxis\": {\"backgroundcolor\": \"#E5ECF6\", \"gridcolor\": \"white\", \"gridwidth\": 2, \"linecolor\": \"white\", \"showbackground\": true, \"ticks\": \"\", \"zerolinecolor\": \"white\"}, \"zaxis\": {\"backgroundcolor\": \"#E5ECF6\", \"gridcolor\": \"white\", \"gridwidth\": 2, \"linecolor\": \"white\", \"showbackground\": true, \"ticks\": \"\", \"zerolinecolor\": \"white\"}}, \"shapedefaults\": {\"line\": {\"color\": \"#2a3f5f\"}}, \"ternary\": {\"aaxis\": {\"gridcolor\": \"white\", \"linecolor\": \"white\", \"ticks\": \"\"}, \"baxis\": {\"gridcolor\": \"white\", \"linecolor\": \"white\", \"ticks\": \"\"}, \"bgcolor\": \"#E5ECF6\", \"caxis\": {\"gridcolor\": \"white\", \"linecolor\": \"white\", \"ticks\": \"\"}}, \"title\": {\"x\": 0.05}, \"xaxis\": {\"automargin\": true, \"gridcolor\": \"white\", \"linecolor\": \"white\", \"ticks\": \"\", \"title\": {\"standoff\": 15}, \"zerolinecolor\": \"white\", \"zerolinewidth\": 2}, \"yaxis\": {\"automargin\": true, \"gridcolor\": \"white\", \"linecolor\": \"white\", \"ticks\": \"\", \"title\": {\"standoff\": 15}, \"zerolinecolor\": \"white\", \"zerolinewidth\": 2}}}, \"title\": {\"font\": {\"color\": \"#4D5663\"}}, \"xaxis\": {\"gridcolor\": \"#E1E5ED\", \"showgrid\": true, \"tickfont\": {\"color\": \"#4D5663\"}, \"title\": {\"font\": {\"color\": \"#4D5663\"}, \"text\": \"\"}, \"zerolinecolor\": \"#E1E5ED\"}, \"yaxis\": {\"gridcolor\": \"#E1E5ED\", \"showgrid\": true, \"tickfont\": {\"color\": \"#4D5663\"}, \"title\": {\"font\": {\"color\": \"#4D5663\"}, \"text\": \"\"}, \"zerolinecolor\": \"#E1E5ED\"}},\n",
       "                        {\"showLink\": true, \"linkText\": \"Export to plot.ly\", \"plotlyServerURL\": \"https://plot.ly\", \"responsive\": true}\n",
       "                    ).then(function(){\n",
       "                            \n",
       "var gd = document.getElementById('05ee143e-73c8-4e1c-92da-549d9afa725f');\n",
       "var x = new MutationObserver(function (mutations, observer) {{\n",
       "        var display = window.getComputedStyle(gd).display;\n",
       "        if (!display || display === 'none') {{\n",
       "            console.log([gd, 'removed!']);\n",
       "            Plotly.purge(gd);\n",
       "            observer.disconnect();\n",
       "        }}\n",
       "}});\n",
       "\n",
       "// Listen for the removal of the full notebook cells\n",
       "var notebookContainer = gd.closest('#notebook-container');\n",
       "if (notebookContainer) {{\n",
       "    x.observe(notebookContainer, {childList: true});\n",
       "}}\n",
       "\n",
       "// Listen for the clearing of the current output cell\n",
       "var outputEl = gd.closest('.output');\n",
       "if (outputEl) {{\n",
       "    x.observe(outputEl, {childList: true});\n",
       "}}\n",
       "\n",
       "                        })\n",
       "                };\n",
       "                });\n",
       "            </script>\n",
       "        </div>"
      ]
     },
     "metadata": {},
     "output_type": "display_data"
    }
   ],
   "source": [
    "df.iplot(kind='bubble', x='A',y='B',size='C')"
   ]
  },
  {
   "cell_type": "code",
   "execution_count": 24,
   "metadata": {},
   "outputs": [
    {
     "data": {
      "application/vnd.plotly.v1+json": {
       "config": {
        "linkText": "Export to plot.ly",
        "plotlyServerURL": "https://plot.ly",
        "showLink": true
       },
       "data": [
        {
         "histfunc": "count",
         "histnorm": "",
         "marker": {
          "color": "rgba(255, 153, 51, 1.0)",
          "line": {
           "color": "#4D5663",
           "width": 1.3
          }
         },
         "name": "A",
         "nbinsx": 10,
         "opacity": 0.8,
         "orientation": "v",
         "type": "histogram",
         "x": [
          -0.3778223188637527,
          0.0922801329148354,
          0.30314941242763466,
          -1.7247202757361555,
          -1.058806603088048,
          0.3562706846101683,
          0.5893574103570001,
          0.4585923583725432,
          1.1037945473464486,
          -0.3797924361831625,
          -1.0427165172979118,
          -2.353686639099532,
          -0.29509732902435676,
          -1.2329854565647862,
          -1.126512415797739,
          -2.7475965594656078,
          -1.2320765599446821,
          1.1960796864242584,
          -1.5053003537604794,
          1.4120424256808577,
          0.44528925065892605,
          0.9407256226239445,
          0.3346734763472071,
          0.6271526760473892,
          0.8580570503239457,
          -1.5932250845668334,
          -1.899147120460595,
          -0.5867413973285835,
          -0.9077758388365309,
          -0.8265399131304081,
          -0.48541987181432733,
          -1.9699390955796718,
          0.30671395224387316,
          -0.09814400017825455,
          0.6194420460243791,
          0.19192157796057446,
          0.26127009853054683,
          0.5934868937468604,
          1.3023689503304985,
          -0.557661021363899,
          1.3935040980784998,
          0.6095413707122774,
          0.19800162145167038,
          0.17773739624827156,
          0.1044704890515966,
          0.7366235446387637,
          0.12357136991878583,
          0.09574507787250311,
          0.4229303615159778,
          -0.05638478718449256,
          0.0524134147976591,
          -0.32084851794570013,
          3.323544545394268,
          -1.31951123577791,
          -1.0284774655531908,
          -0.4095367186350242,
          -0.9588002136398506,
          -0.12650654004935413,
          -0.860830501797706,
          -1.1880220044268255,
          0.00549830950166235,
          2.5233899814560115,
          -0.3659869477806698,
          0.2246642533450928,
          2.4174169231965945,
          -0.7850206563893745,
          1.1952085514381636,
          -1.625831633350626,
          0.8500313495956225,
          0.1359891984288151,
          -0.30049628523290484,
          -0.5408007451983162,
          1.156569580879917,
          -1.130335538700787,
          0.009621902777194428,
          -0.4915624184966093,
          0.8101057700385709,
          -0.3735203108248807,
          1.8487969495407632,
          -1.218057266502291,
          0.8398393241662376,
          2.4987094763734685,
          0.011469559294633237,
          1.1906179842714053,
          0.06397273787221386,
          1.5721334359149062,
          -0.40219610269343364,
          -1.5792141027986448,
          0.8781210937978811,
          -0.11279078387832467,
          -0.7966050137612551,
          -0.7811050635977146,
          1.1377100099162374,
          0.9886447210219727,
          -0.024892387637142906,
          0.9431513722593761,
          -0.11290888417369738,
          0.2128077746776085,
          -1.1045250270455622,
          -1.376879949847616
         ],
         "xaxis": "x",
         "yaxis": "y"
        },
        {
         "line": {
          "color": "rgba(128, 128, 128, 1.0)",
          "dash": "solid",
          "shape": "linear",
          "width": 1.3
         },
         "marker": {
          "size": 2,
          "symbol": "circle"
         },
         "mode": "markers",
         "name": "A",
         "text": "",
         "type": "scatter",
         "x": [
          -1.316494825844439,
          0.2866719465461037,
          1.0478572119460632,
          -0.49355271897014624,
          -0.3542447919084635,
          -0.32650917113074646,
          1.1327673099908224,
          -0.8284119403094422,
          -0.7922051809940646,
          -0.42267745324087386,
          -1.0574974112458024,
          0.05540325977674381,
          -1.1224762575973932,
          -0.017964883564133848,
          -0.1682330830079046,
          1.8673751650772215,
          0.08004730349155705,
          -1.1250216343133097,
          1.025612290218689,
          -0.16745276111172824,
          1.1195894693054642,
          0.8560878889882733,
          -0.689496796712005,
          -0.10834697650456812,
          -0.7416035670698498,
          -1.4275386276737139,
          -0.8358930796699012,
          -1.6783958713333986,
          0.5156163219565989,
          0.4071645719782639,
          2.6641197458789834,
          0.6289898980658927,
          -2.745439843907141,
          -2.911319180158229,
          -0.4990510898715183,
          0.3534404282333845,
          -1.1448283539966881,
          -0.08782184871280074,
          1.286134650626389,
          -1.0219268738584983,
          0.8533706050813746,
          -0.9101654435552414,
          -0.1944663516311447,
          0.023407873628503623,
          -0.19119742997980924,
          -1.0047286399715987,
          -0.015257653555950003,
          -0.0056296678451680906,
          -0.11364674997934227,
          -0.3164297329600258,
          -1.1884782853636806,
          0.5297264880579176,
          -0.5977201879104943,
          -0.10328709441783887,
          -0.40190680822729946,
          -0.015150400733030547,
          1.6259239440798234,
          -0.9176223687265888,
          0.09035423193074928,
          0.5215540259689497,
          -1.5100934159184967,
          -0.5617412384064335,
          1.9055962539223812,
          0.03140965475767426,
          -1.3191667111676395,
          0.15372129450845587,
          0.6213905285187237,
          1.4181655536798619,
          1.1127703081989955,
          -0.0009139932771381095,
          0.37146688251936105,
          1.8410188890021395,
          0.31324377589728125,
          1.7741866034599767,
          0.6860842020791837,
          -0.48426173373315584,
          -2.3158113012427592,
          2.1987352884004943,
          0.5909603338530436,
          0.06152588978596741,
          -0.47230935828592624,
          0.011882187395418206,
          0.057482546270307536,
          -0.313899116576255,
          0.8110275578864159,
          0.31186695155541283,
          0.017627978391445108,
          1.0691785570143704,
          1.6416457276834544,
          1.4965106491758011,
          -0.5416788112901813,
          -0.599576260609268,
          0.21003831009666457,
          0.15285166599823136,
          1.8531387222782865,
          -1.7774255813400108,
          0.24270874088554262,
          0.1685323107914805,
          -0.4263276741178543,
          -1.1424089489759095
         ],
         "xaxis": "x2",
         "y": [
          -0.3778223188637527,
          0.0922801329148354,
          0.30314941242763466,
          -1.7247202757361555,
          -1.058806603088048,
          0.3562706846101683,
          0.5893574103570001,
          0.4585923583725432,
          1.1037945473464486,
          -0.3797924361831625,
          -1.0427165172979118,
          -2.353686639099532,
          -0.29509732902435676,
          -1.2329854565647862,
          -1.126512415797739,
          -2.7475965594656078,
          -1.2320765599446821,
          1.1960796864242584,
          -1.5053003537604794,
          1.4120424256808577,
          0.44528925065892605,
          0.9407256226239445,
          0.3346734763472071,
          0.6271526760473892,
          0.8580570503239457,
          -1.5932250845668334,
          -1.899147120460595,
          -0.5867413973285835,
          -0.9077758388365309,
          -0.8265399131304081,
          -0.48541987181432733,
          -1.9699390955796718,
          0.30671395224387316,
          -0.09814400017825455,
          0.6194420460243791,
          0.19192157796057446,
          0.26127009853054683,
          0.5934868937468604,
          1.3023689503304985,
          -0.557661021363899,
          1.3935040980784998,
          0.6095413707122774,
          0.19800162145167038,
          0.17773739624827156,
          0.1044704890515966,
          0.7366235446387637,
          0.12357136991878583,
          0.09574507787250311,
          0.4229303615159778,
          -0.05638478718449256,
          0.0524134147976591,
          -0.32084851794570013,
          3.323544545394268,
          -1.31951123577791,
          -1.0284774655531908,
          -0.4095367186350242,
          -0.9588002136398506,
          -0.12650654004935413,
          -0.860830501797706,
          -1.1880220044268255,
          0.00549830950166235,
          2.5233899814560115,
          -0.3659869477806698,
          0.2246642533450928,
          2.4174169231965945,
          -0.7850206563893745,
          1.1952085514381636,
          -1.625831633350626,
          0.8500313495956225,
          0.1359891984288151,
          -0.30049628523290484,
          -0.5408007451983162,
          1.156569580879917,
          -1.130335538700787,
          0.009621902777194428,
          -0.4915624184966093,
          0.8101057700385709,
          -0.3735203108248807,
          1.8487969495407632,
          -1.218057266502291,
          0.8398393241662376,
          2.4987094763734685,
          0.011469559294633237,
          1.1906179842714053,
          0.06397273787221386,
          1.5721334359149062,
          -0.40219610269343364,
          -1.5792141027986448,
          0.8781210937978811,
          -0.11279078387832467,
          -0.7966050137612551,
          -0.7811050635977146,
          1.1377100099162374,
          0.9886447210219727,
          -0.024892387637142906,
          0.9431513722593761,
          -0.11290888417369738,
          0.2128077746776085,
          -1.1045250270455622,
          -1.376879949847616
         ],
         "yaxis": "y2"
        },
        {
         "line": {
          "color": "rgba(128, 128, 128, 1.0)",
          "dash": "solid",
          "shape": "linear",
          "width": 1.3
         },
         "marker": {
          "size": 2,
          "symbol": "circle"
         },
         "mode": "markers",
         "name": "A",
         "text": "",
         "type": "scatter",
         "x": [
          1.406775720046884,
          1.1496996192746953,
          -0.32630697549626747,
          -1.296832523493453,
          -0.5389668297279848,
          0.493404219081789,
          0.43584985082044786,
          -0.8214194987178164,
          1.0786653759968017,
          -1.2983206517755435,
          -2.5881414790267026,
          -1.7753004429759662,
          -0.21644596706932792,
          -1.0042188960197214,
          0.5757291561543383,
          -0.5239132916002543,
          -0.772747927796187,
          -0.46812940826066063,
          1.4521343103982036,
          1.2846326654255793,
          0.04504784799893927,
          -1.893576967991285,
          0.3919703444042239,
          -0.48642321199236016,
          -0.5437908861394942,
          -0.2792570281533198,
          1.4133221039855208,
          1.6976634794530043,
          1.4567259108246078,
          -1.8221214160932686,
          0.20003524706278106,
          0.1983044868834503,
          0.14911029729587455,
          -1.346467447568015,
          0.43398946401134586,
          0.22233685214677837,
          0.47957669586758106,
          -1.102331238917154,
          -0.4998942192434582,
          -0.521068698854739,
          0.8973733424337166,
          -0.7816245886464664,
          0.22537260587342783,
          -0.8787885822828528,
          1.4230446901233393,
          0.34987293086009996,
          1.3911796291059848,
          1.2403794662202954,
          0.5114066728728492,
          -2.0166321273917736,
          0.7856861588247765,
          0.13691720786003714,
          -0.7880673590618453,
          0.03716769157101709,
          0.7799372126487223,
          1.7985491905038886,
          -0.19659818359663062,
          -0.012702577323151937,
          -0.8626960422069377,
          0.3597157395604989,
          0.6265896221927325,
          -0.9308715158558263,
          1.3464372604156218,
          0.6498728187409063,
          -1.6511662689241349,
          -0.9229299197376384,
          -1.2478417510711537,
          1.5227750396514883,
          -0.6311981482876451,
          1.551260004036639,
          -0.10502460554637756,
          -0.8493628839047709,
          2.027302413088894,
          -2.7934070100435475,
          0.6446845621352232,
          0.22071236826477122,
          1.0616860404591533,
          0.7467718877024979,
          0.0707552703298251,
          -1.1786996958286515,
          0.5243730244208548,
          0.39007878937880947,
          -0.5946194961721954,
          0.639070916937189,
          -0.7160141695559963,
          0.2456768588349713,
          0.5563854384232808,
          0.564420226858298,
          -0.0690448547947384,
          -1.2593419532553742,
          0.6374531147193259,
          1.2207630578986564,
          0.11105879218861575,
          0.12374607949375441,
          -2.2355297017644813,
          0.9520764800263771,
          -0.0453887598932331,
          0.09024937485326473,
          -0.3105849048692074,
          -0.668433153781252
         ],
         "xaxis": "x3",
         "y": [
          -0.3778223188637527,
          0.0922801329148354,
          0.30314941242763466,
          -1.7247202757361555,
          -1.058806603088048,
          0.3562706846101683,
          0.5893574103570001,
          0.4585923583725432,
          1.1037945473464486,
          -0.3797924361831625,
          -1.0427165172979118,
          -2.353686639099532,
          -0.29509732902435676,
          -1.2329854565647862,
          -1.126512415797739,
          -2.7475965594656078,
          -1.2320765599446821,
          1.1960796864242584,
          -1.5053003537604794,
          1.4120424256808577,
          0.44528925065892605,
          0.9407256226239445,
          0.3346734763472071,
          0.6271526760473892,
          0.8580570503239457,
          -1.5932250845668334,
          -1.899147120460595,
          -0.5867413973285835,
          -0.9077758388365309,
          -0.8265399131304081,
          -0.48541987181432733,
          -1.9699390955796718,
          0.30671395224387316,
          -0.09814400017825455,
          0.6194420460243791,
          0.19192157796057446,
          0.26127009853054683,
          0.5934868937468604,
          1.3023689503304985,
          -0.557661021363899,
          1.3935040980784998,
          0.6095413707122774,
          0.19800162145167038,
          0.17773739624827156,
          0.1044704890515966,
          0.7366235446387637,
          0.12357136991878583,
          0.09574507787250311,
          0.4229303615159778,
          -0.05638478718449256,
          0.0524134147976591,
          -0.32084851794570013,
          3.323544545394268,
          -1.31951123577791,
          -1.0284774655531908,
          -0.4095367186350242,
          -0.9588002136398506,
          -0.12650654004935413,
          -0.860830501797706,
          -1.1880220044268255,
          0.00549830950166235,
          2.5233899814560115,
          -0.3659869477806698,
          0.2246642533450928,
          2.4174169231965945,
          -0.7850206563893745,
          1.1952085514381636,
          -1.625831633350626,
          0.8500313495956225,
          0.1359891984288151,
          -0.30049628523290484,
          -0.5408007451983162,
          1.156569580879917,
          -1.130335538700787,
          0.009621902777194428,
          -0.4915624184966093,
          0.8101057700385709,
          -0.3735203108248807,
          1.8487969495407632,
          -1.218057266502291,
          0.8398393241662376,
          2.4987094763734685,
          0.011469559294633237,
          1.1906179842714053,
          0.06397273787221386,
          1.5721334359149062,
          -0.40219610269343364,
          -1.5792141027986448,
          0.8781210937978811,
          -0.11279078387832467,
          -0.7966050137612551,
          -0.7811050635977146,
          1.1377100099162374,
          0.9886447210219727,
          -0.024892387637142906,
          0.9431513722593761,
          -0.11290888417369738,
          0.2128077746776085,
          -1.1045250270455622,
          -1.376879949847616
         ],
         "yaxis": "y3"
        },
        {
         "line": {
          "color": "rgba(128, 128, 128, 1.0)",
          "dash": "solid",
          "shape": "linear",
          "width": 1.3
         },
         "marker": {
          "size": 2,
          "symbol": "circle"
         },
         "mode": "markers",
         "name": "A",
         "text": "",
         "type": "scatter",
         "x": [
          -0.7828650546033424,
          -0.3596533224921512,
          2.434719466250771,
          -0.9760353510297209,
          -1.586223995581084,
          0.3433342180231897,
          -0.31836419405528904,
          -0.5890956005205258,
          -0.7323000953439843,
          0.5769436208430118,
          1.0130015446224054,
          2.6356901709872482,
          -0.8638788997042456,
          -0.018631462990366488,
          1.4687779876612514,
          0.5617108204276043,
          0.4415436167544604,
          1.179320520273603,
          0.44805899141703515,
          0.9478082903689579,
          -0.5370436644028713,
          -0.4731704080052558,
          0.31223709024066526,
          -0.5060976754902158,
          0.07033654950523442,
          0.3960105865413948,
          -0.424067082278597,
          1.0751328588786822,
          0.7736680128061073,
          -0.4259995984742435,
          2.3006358449268127,
          -2.1192105641547876,
          -0.8880452412793026,
          0.3337262950860996,
          0.8153607065240488,
          1.7043940134934612,
          0.920540277767794,
          0.4234086995152187,
          0.4079448723600171,
          1.75499020536987,
          -0.33330185707420723,
          -0.9145116511004463,
          0.20006830351177876,
          -2.1140128038847243,
          -0.5977221954328469,
          0.060721644402041634,
          -0.018137439504961928,
          0.3196159992873991,
          0.47730693769300037,
          -0.5384123818186065,
          0.093217833984639,
          -0.09918326283418104,
          0.6638592384521873,
          -1.641643122886323,
          -1.0076183003204213,
          -1.0455237773603263,
          -1.3559854330219154,
          1.2553785663067567,
          0.04446140211217297,
          0.17890724289904997,
          0.5141432214794293,
          0.6733623595289793,
          0.0017206586771053502,
          1.7002385173305798,
          0.3766576304553358,
          1.6828371294794315,
          0.12107287487108928,
          -0.5385881907425488,
          0.6373655957718737,
          2.1318433715940754,
          -1.0880384152907472,
          0.32166878175520086,
          1.4445937515436955,
          0.1568411213201166,
          -1.226161112722581,
          0.514702914050513,
          1.0750421171304343,
          -0.9812992268141888,
          -0.5516496428257325,
          0.40064604570951057,
          -2.1041721784953715,
          1.3671390546573465,
          0.24634804179867126,
          -1.0944570399758755,
          -1.4450080892781683,
          -0.7421966077271516,
          -0.6343872745838302,
          0.36836371271043256,
          -0.6519255392459694,
          -0.2474436412537946,
          -0.9071546146833869,
          -1.0249724944144538,
          -1.6963961761097375,
          -0.4012714947050643,
          -0.1521446041864467,
          -0.4959909750493157,
          0.532628405005131,
          -0.6717570080851565,
          0.00844951382232753,
          -1.0177919469853345
         ],
         "xaxis": "x4",
         "y": [
          -0.3778223188637527,
          0.0922801329148354,
          0.30314941242763466,
          -1.7247202757361555,
          -1.058806603088048,
          0.3562706846101683,
          0.5893574103570001,
          0.4585923583725432,
          1.1037945473464486,
          -0.3797924361831625,
          -1.0427165172979118,
          -2.353686639099532,
          -0.29509732902435676,
          -1.2329854565647862,
          -1.126512415797739,
          -2.7475965594656078,
          -1.2320765599446821,
          1.1960796864242584,
          -1.5053003537604794,
          1.4120424256808577,
          0.44528925065892605,
          0.9407256226239445,
          0.3346734763472071,
          0.6271526760473892,
          0.8580570503239457,
          -1.5932250845668334,
          -1.899147120460595,
          -0.5867413973285835,
          -0.9077758388365309,
          -0.8265399131304081,
          -0.48541987181432733,
          -1.9699390955796718,
          0.30671395224387316,
          -0.09814400017825455,
          0.6194420460243791,
          0.19192157796057446,
          0.26127009853054683,
          0.5934868937468604,
          1.3023689503304985,
          -0.557661021363899,
          1.3935040980784998,
          0.6095413707122774,
          0.19800162145167038,
          0.17773739624827156,
          0.1044704890515966,
          0.7366235446387637,
          0.12357136991878583,
          0.09574507787250311,
          0.4229303615159778,
          -0.05638478718449256,
          0.0524134147976591,
          -0.32084851794570013,
          3.323544545394268,
          -1.31951123577791,
          -1.0284774655531908,
          -0.4095367186350242,
          -0.9588002136398506,
          -0.12650654004935413,
          -0.860830501797706,
          -1.1880220044268255,
          0.00549830950166235,
          2.5233899814560115,
          -0.3659869477806698,
          0.2246642533450928,
          2.4174169231965945,
          -0.7850206563893745,
          1.1952085514381636,
          -1.625831633350626,
          0.8500313495956225,
          0.1359891984288151,
          -0.30049628523290484,
          -0.5408007451983162,
          1.156569580879917,
          -1.130335538700787,
          0.009621902777194428,
          -0.4915624184966093,
          0.8101057700385709,
          -0.3735203108248807,
          1.8487969495407632,
          -1.218057266502291,
          0.8398393241662376,
          2.4987094763734685,
          0.011469559294633237,
          1.1906179842714053,
          0.06397273787221386,
          1.5721334359149062,
          -0.40219610269343364,
          -1.5792141027986448,
          0.8781210937978811,
          -0.11279078387832467,
          -0.7966050137612551,
          -0.7811050635977146,
          1.1377100099162374,
          0.9886447210219727,
          -0.024892387637142906,
          0.9431513722593761,
          -0.11290888417369738,
          0.2128077746776085,
          -1.1045250270455622,
          -1.376879949847616
         ],
         "yaxis": "y4"
        },
        {
         "line": {
          "color": "rgba(128, 128, 128, 1.0)",
          "dash": "solid",
          "shape": "linear",
          "width": 1.3
         },
         "marker": {
          "size": 2,
          "symbol": "circle"
         },
         "mode": "markers",
         "name": "B",
         "text": "",
         "type": "scatter",
         "x": [
          -0.3778223188637527,
          0.0922801329148354,
          0.30314941242763466,
          -1.7247202757361555,
          -1.058806603088048,
          0.3562706846101683,
          0.5893574103570001,
          0.4585923583725432,
          1.1037945473464486,
          -0.3797924361831625,
          -1.0427165172979118,
          -2.353686639099532,
          -0.29509732902435676,
          -1.2329854565647862,
          -1.126512415797739,
          -2.7475965594656078,
          -1.2320765599446821,
          1.1960796864242584,
          -1.5053003537604794,
          1.4120424256808577,
          0.44528925065892605,
          0.9407256226239445,
          0.3346734763472071,
          0.6271526760473892,
          0.8580570503239457,
          -1.5932250845668334,
          -1.899147120460595,
          -0.5867413973285835,
          -0.9077758388365309,
          -0.8265399131304081,
          -0.48541987181432733,
          -1.9699390955796718,
          0.30671395224387316,
          -0.09814400017825455,
          0.6194420460243791,
          0.19192157796057446,
          0.26127009853054683,
          0.5934868937468604,
          1.3023689503304985,
          -0.557661021363899,
          1.3935040980784998,
          0.6095413707122774,
          0.19800162145167038,
          0.17773739624827156,
          0.1044704890515966,
          0.7366235446387637,
          0.12357136991878583,
          0.09574507787250311,
          0.4229303615159778,
          -0.05638478718449256,
          0.0524134147976591,
          -0.32084851794570013,
          3.323544545394268,
          -1.31951123577791,
          -1.0284774655531908,
          -0.4095367186350242,
          -0.9588002136398506,
          -0.12650654004935413,
          -0.860830501797706,
          -1.1880220044268255,
          0.00549830950166235,
          2.5233899814560115,
          -0.3659869477806698,
          0.2246642533450928,
          2.4174169231965945,
          -0.7850206563893745,
          1.1952085514381636,
          -1.625831633350626,
          0.8500313495956225,
          0.1359891984288151,
          -0.30049628523290484,
          -0.5408007451983162,
          1.156569580879917,
          -1.130335538700787,
          0.009621902777194428,
          -0.4915624184966093,
          0.8101057700385709,
          -0.3735203108248807,
          1.8487969495407632,
          -1.218057266502291,
          0.8398393241662376,
          2.4987094763734685,
          0.011469559294633237,
          1.1906179842714053,
          0.06397273787221386,
          1.5721334359149062,
          -0.40219610269343364,
          -1.5792141027986448,
          0.8781210937978811,
          -0.11279078387832467,
          -0.7966050137612551,
          -0.7811050635977146,
          1.1377100099162374,
          0.9886447210219727,
          -0.024892387637142906,
          0.9431513722593761,
          -0.11290888417369738,
          0.2128077746776085,
          -1.1045250270455622,
          -1.376879949847616
         ],
         "xaxis": "x5",
         "y": [
          -1.316494825844439,
          0.2866719465461037,
          1.0478572119460632,
          -0.49355271897014624,
          -0.3542447919084635,
          -0.32650917113074646,
          1.1327673099908224,
          -0.8284119403094422,
          -0.7922051809940646,
          -0.42267745324087386,
          -1.0574974112458024,
          0.05540325977674381,
          -1.1224762575973932,
          -0.017964883564133848,
          -0.1682330830079046,
          1.8673751650772215,
          0.08004730349155705,
          -1.1250216343133097,
          1.025612290218689,
          -0.16745276111172824,
          1.1195894693054642,
          0.8560878889882733,
          -0.689496796712005,
          -0.10834697650456812,
          -0.7416035670698498,
          -1.4275386276737139,
          -0.8358930796699012,
          -1.6783958713333986,
          0.5156163219565989,
          0.4071645719782639,
          2.6641197458789834,
          0.6289898980658927,
          -2.745439843907141,
          -2.911319180158229,
          -0.4990510898715183,
          0.3534404282333845,
          -1.1448283539966881,
          -0.08782184871280074,
          1.286134650626389,
          -1.0219268738584983,
          0.8533706050813746,
          -0.9101654435552414,
          -0.1944663516311447,
          0.023407873628503623,
          -0.19119742997980924,
          -1.0047286399715987,
          -0.015257653555950003,
          -0.0056296678451680906,
          -0.11364674997934227,
          -0.3164297329600258,
          -1.1884782853636806,
          0.5297264880579176,
          -0.5977201879104943,
          -0.10328709441783887,
          -0.40190680822729946,
          -0.015150400733030547,
          1.6259239440798234,
          -0.9176223687265888,
          0.09035423193074928,
          0.5215540259689497,
          -1.5100934159184967,
          -0.5617412384064335,
          1.9055962539223812,
          0.03140965475767426,
          -1.3191667111676395,
          0.15372129450845587,
          0.6213905285187237,
          1.4181655536798619,
          1.1127703081989955,
          -0.0009139932771381095,
          0.37146688251936105,
          1.8410188890021395,
          0.31324377589728125,
          1.7741866034599767,
          0.6860842020791837,
          -0.48426173373315584,
          -2.3158113012427592,
          2.1987352884004943,
          0.5909603338530436,
          0.06152588978596741,
          -0.47230935828592624,
          0.011882187395418206,
          0.057482546270307536,
          -0.313899116576255,
          0.8110275578864159,
          0.31186695155541283,
          0.017627978391445108,
          1.0691785570143704,
          1.6416457276834544,
          1.4965106491758011,
          -0.5416788112901813,
          -0.599576260609268,
          0.21003831009666457,
          0.15285166599823136,
          1.8531387222782865,
          -1.7774255813400108,
          0.24270874088554262,
          0.1685323107914805,
          -0.4263276741178543,
          -1.1424089489759095
         ],
         "yaxis": "y5"
        },
        {
         "histfunc": "count",
         "histnorm": "",
         "marker": {
          "color": "rgba(55, 128, 191, 1.0)",
          "line": {
           "color": "#4D5663",
           "width": 1.3
          }
         },
         "name": "B",
         "nbinsx": 10,
         "opacity": 0.8,
         "orientation": "v",
         "type": "histogram",
         "x": [
          -1.316494825844439,
          0.2866719465461037,
          1.0478572119460632,
          -0.49355271897014624,
          -0.3542447919084635,
          -0.32650917113074646,
          1.1327673099908224,
          -0.8284119403094422,
          -0.7922051809940646,
          -0.42267745324087386,
          -1.0574974112458024,
          0.05540325977674381,
          -1.1224762575973932,
          -0.017964883564133848,
          -0.1682330830079046,
          1.8673751650772215,
          0.08004730349155705,
          -1.1250216343133097,
          1.025612290218689,
          -0.16745276111172824,
          1.1195894693054642,
          0.8560878889882733,
          -0.689496796712005,
          -0.10834697650456812,
          -0.7416035670698498,
          -1.4275386276737139,
          -0.8358930796699012,
          -1.6783958713333986,
          0.5156163219565989,
          0.4071645719782639,
          2.6641197458789834,
          0.6289898980658927,
          -2.745439843907141,
          -2.911319180158229,
          -0.4990510898715183,
          0.3534404282333845,
          -1.1448283539966881,
          -0.08782184871280074,
          1.286134650626389,
          -1.0219268738584983,
          0.8533706050813746,
          -0.9101654435552414,
          -0.1944663516311447,
          0.023407873628503623,
          -0.19119742997980924,
          -1.0047286399715987,
          -0.015257653555950003,
          -0.0056296678451680906,
          -0.11364674997934227,
          -0.3164297329600258,
          -1.1884782853636806,
          0.5297264880579176,
          -0.5977201879104943,
          -0.10328709441783887,
          -0.40190680822729946,
          -0.015150400733030547,
          1.6259239440798234,
          -0.9176223687265888,
          0.09035423193074928,
          0.5215540259689497,
          -1.5100934159184967,
          -0.5617412384064335,
          1.9055962539223812,
          0.03140965475767426,
          -1.3191667111676395,
          0.15372129450845587,
          0.6213905285187237,
          1.4181655536798619,
          1.1127703081989955,
          -0.0009139932771381095,
          0.37146688251936105,
          1.8410188890021395,
          0.31324377589728125,
          1.7741866034599767,
          0.6860842020791837,
          -0.48426173373315584,
          -2.3158113012427592,
          2.1987352884004943,
          0.5909603338530436,
          0.06152588978596741,
          -0.47230935828592624,
          0.011882187395418206,
          0.057482546270307536,
          -0.313899116576255,
          0.8110275578864159,
          0.31186695155541283,
          0.017627978391445108,
          1.0691785570143704,
          1.6416457276834544,
          1.4965106491758011,
          -0.5416788112901813,
          -0.599576260609268,
          0.21003831009666457,
          0.15285166599823136,
          1.8531387222782865,
          -1.7774255813400108,
          0.24270874088554262,
          0.1685323107914805,
          -0.4263276741178543,
          -1.1424089489759095
         ],
         "xaxis": "x6",
         "yaxis": "y6"
        },
        {
         "line": {
          "color": "rgba(128, 128, 128, 1.0)",
          "dash": "solid",
          "shape": "linear",
          "width": 1.3
         },
         "marker": {
          "size": 2,
          "symbol": "circle"
         },
         "mode": "markers",
         "name": "B",
         "text": "",
         "type": "scatter",
         "x": [
          1.406775720046884,
          1.1496996192746953,
          -0.32630697549626747,
          -1.296832523493453,
          -0.5389668297279848,
          0.493404219081789,
          0.43584985082044786,
          -0.8214194987178164,
          1.0786653759968017,
          -1.2983206517755435,
          -2.5881414790267026,
          -1.7753004429759662,
          -0.21644596706932792,
          -1.0042188960197214,
          0.5757291561543383,
          -0.5239132916002543,
          -0.772747927796187,
          -0.46812940826066063,
          1.4521343103982036,
          1.2846326654255793,
          0.04504784799893927,
          -1.893576967991285,
          0.3919703444042239,
          -0.48642321199236016,
          -0.5437908861394942,
          -0.2792570281533198,
          1.4133221039855208,
          1.6976634794530043,
          1.4567259108246078,
          -1.8221214160932686,
          0.20003524706278106,
          0.1983044868834503,
          0.14911029729587455,
          -1.346467447568015,
          0.43398946401134586,
          0.22233685214677837,
          0.47957669586758106,
          -1.102331238917154,
          -0.4998942192434582,
          -0.521068698854739,
          0.8973733424337166,
          -0.7816245886464664,
          0.22537260587342783,
          -0.8787885822828528,
          1.4230446901233393,
          0.34987293086009996,
          1.3911796291059848,
          1.2403794662202954,
          0.5114066728728492,
          -2.0166321273917736,
          0.7856861588247765,
          0.13691720786003714,
          -0.7880673590618453,
          0.03716769157101709,
          0.7799372126487223,
          1.7985491905038886,
          -0.19659818359663062,
          -0.012702577323151937,
          -0.8626960422069377,
          0.3597157395604989,
          0.6265896221927325,
          -0.9308715158558263,
          1.3464372604156218,
          0.6498728187409063,
          -1.6511662689241349,
          -0.9229299197376384,
          -1.2478417510711537,
          1.5227750396514883,
          -0.6311981482876451,
          1.551260004036639,
          -0.10502460554637756,
          -0.8493628839047709,
          2.027302413088894,
          -2.7934070100435475,
          0.6446845621352232,
          0.22071236826477122,
          1.0616860404591533,
          0.7467718877024979,
          0.0707552703298251,
          -1.1786996958286515,
          0.5243730244208548,
          0.39007878937880947,
          -0.5946194961721954,
          0.639070916937189,
          -0.7160141695559963,
          0.2456768588349713,
          0.5563854384232808,
          0.564420226858298,
          -0.0690448547947384,
          -1.2593419532553742,
          0.6374531147193259,
          1.2207630578986564,
          0.11105879218861575,
          0.12374607949375441,
          -2.2355297017644813,
          0.9520764800263771,
          -0.0453887598932331,
          0.09024937485326473,
          -0.3105849048692074,
          -0.668433153781252
         ],
         "xaxis": "x7",
         "y": [
          -1.316494825844439,
          0.2866719465461037,
          1.0478572119460632,
          -0.49355271897014624,
          -0.3542447919084635,
          -0.32650917113074646,
          1.1327673099908224,
          -0.8284119403094422,
          -0.7922051809940646,
          -0.42267745324087386,
          -1.0574974112458024,
          0.05540325977674381,
          -1.1224762575973932,
          -0.017964883564133848,
          -0.1682330830079046,
          1.8673751650772215,
          0.08004730349155705,
          -1.1250216343133097,
          1.025612290218689,
          -0.16745276111172824,
          1.1195894693054642,
          0.8560878889882733,
          -0.689496796712005,
          -0.10834697650456812,
          -0.7416035670698498,
          -1.4275386276737139,
          -0.8358930796699012,
          -1.6783958713333986,
          0.5156163219565989,
          0.4071645719782639,
          2.6641197458789834,
          0.6289898980658927,
          -2.745439843907141,
          -2.911319180158229,
          -0.4990510898715183,
          0.3534404282333845,
          -1.1448283539966881,
          -0.08782184871280074,
          1.286134650626389,
          -1.0219268738584983,
          0.8533706050813746,
          -0.9101654435552414,
          -0.1944663516311447,
          0.023407873628503623,
          -0.19119742997980924,
          -1.0047286399715987,
          -0.015257653555950003,
          -0.0056296678451680906,
          -0.11364674997934227,
          -0.3164297329600258,
          -1.1884782853636806,
          0.5297264880579176,
          -0.5977201879104943,
          -0.10328709441783887,
          -0.40190680822729946,
          -0.015150400733030547,
          1.6259239440798234,
          -0.9176223687265888,
          0.09035423193074928,
          0.5215540259689497,
          -1.5100934159184967,
          -0.5617412384064335,
          1.9055962539223812,
          0.03140965475767426,
          -1.3191667111676395,
          0.15372129450845587,
          0.6213905285187237,
          1.4181655536798619,
          1.1127703081989955,
          -0.0009139932771381095,
          0.37146688251936105,
          1.8410188890021395,
          0.31324377589728125,
          1.7741866034599767,
          0.6860842020791837,
          -0.48426173373315584,
          -2.3158113012427592,
          2.1987352884004943,
          0.5909603338530436,
          0.06152588978596741,
          -0.47230935828592624,
          0.011882187395418206,
          0.057482546270307536,
          -0.313899116576255,
          0.8110275578864159,
          0.31186695155541283,
          0.017627978391445108,
          1.0691785570143704,
          1.6416457276834544,
          1.4965106491758011,
          -0.5416788112901813,
          -0.599576260609268,
          0.21003831009666457,
          0.15285166599823136,
          1.8531387222782865,
          -1.7774255813400108,
          0.24270874088554262,
          0.1685323107914805,
          -0.4263276741178543,
          -1.1424089489759095
         ],
         "yaxis": "y7"
        },
        {
         "line": {
          "color": "rgba(128, 128, 128, 1.0)",
          "dash": "solid",
          "shape": "linear",
          "width": 1.3
         },
         "marker": {
          "size": 2,
          "symbol": "circle"
         },
         "mode": "markers",
         "name": "B",
         "text": "",
         "type": "scatter",
         "x": [
          -0.7828650546033424,
          -0.3596533224921512,
          2.434719466250771,
          -0.9760353510297209,
          -1.586223995581084,
          0.3433342180231897,
          -0.31836419405528904,
          -0.5890956005205258,
          -0.7323000953439843,
          0.5769436208430118,
          1.0130015446224054,
          2.6356901709872482,
          -0.8638788997042456,
          -0.018631462990366488,
          1.4687779876612514,
          0.5617108204276043,
          0.4415436167544604,
          1.179320520273603,
          0.44805899141703515,
          0.9478082903689579,
          -0.5370436644028713,
          -0.4731704080052558,
          0.31223709024066526,
          -0.5060976754902158,
          0.07033654950523442,
          0.3960105865413948,
          -0.424067082278597,
          1.0751328588786822,
          0.7736680128061073,
          -0.4259995984742435,
          2.3006358449268127,
          -2.1192105641547876,
          -0.8880452412793026,
          0.3337262950860996,
          0.8153607065240488,
          1.7043940134934612,
          0.920540277767794,
          0.4234086995152187,
          0.4079448723600171,
          1.75499020536987,
          -0.33330185707420723,
          -0.9145116511004463,
          0.20006830351177876,
          -2.1140128038847243,
          -0.5977221954328469,
          0.060721644402041634,
          -0.018137439504961928,
          0.3196159992873991,
          0.47730693769300037,
          -0.5384123818186065,
          0.093217833984639,
          -0.09918326283418104,
          0.6638592384521873,
          -1.641643122886323,
          -1.0076183003204213,
          -1.0455237773603263,
          -1.3559854330219154,
          1.2553785663067567,
          0.04446140211217297,
          0.17890724289904997,
          0.5141432214794293,
          0.6733623595289793,
          0.0017206586771053502,
          1.7002385173305798,
          0.3766576304553358,
          1.6828371294794315,
          0.12107287487108928,
          -0.5385881907425488,
          0.6373655957718737,
          2.1318433715940754,
          -1.0880384152907472,
          0.32166878175520086,
          1.4445937515436955,
          0.1568411213201166,
          -1.226161112722581,
          0.514702914050513,
          1.0750421171304343,
          -0.9812992268141888,
          -0.5516496428257325,
          0.40064604570951057,
          -2.1041721784953715,
          1.3671390546573465,
          0.24634804179867126,
          -1.0944570399758755,
          -1.4450080892781683,
          -0.7421966077271516,
          -0.6343872745838302,
          0.36836371271043256,
          -0.6519255392459694,
          -0.2474436412537946,
          -0.9071546146833869,
          -1.0249724944144538,
          -1.6963961761097375,
          -0.4012714947050643,
          -0.1521446041864467,
          -0.4959909750493157,
          0.532628405005131,
          -0.6717570080851565,
          0.00844951382232753,
          -1.0177919469853345
         ],
         "xaxis": "x8",
         "y": [
          -1.316494825844439,
          0.2866719465461037,
          1.0478572119460632,
          -0.49355271897014624,
          -0.3542447919084635,
          -0.32650917113074646,
          1.1327673099908224,
          -0.8284119403094422,
          -0.7922051809940646,
          -0.42267745324087386,
          -1.0574974112458024,
          0.05540325977674381,
          -1.1224762575973932,
          -0.017964883564133848,
          -0.1682330830079046,
          1.8673751650772215,
          0.08004730349155705,
          -1.1250216343133097,
          1.025612290218689,
          -0.16745276111172824,
          1.1195894693054642,
          0.8560878889882733,
          -0.689496796712005,
          -0.10834697650456812,
          -0.7416035670698498,
          -1.4275386276737139,
          -0.8358930796699012,
          -1.6783958713333986,
          0.5156163219565989,
          0.4071645719782639,
          2.6641197458789834,
          0.6289898980658927,
          -2.745439843907141,
          -2.911319180158229,
          -0.4990510898715183,
          0.3534404282333845,
          -1.1448283539966881,
          -0.08782184871280074,
          1.286134650626389,
          -1.0219268738584983,
          0.8533706050813746,
          -0.9101654435552414,
          -0.1944663516311447,
          0.023407873628503623,
          -0.19119742997980924,
          -1.0047286399715987,
          -0.015257653555950003,
          -0.0056296678451680906,
          -0.11364674997934227,
          -0.3164297329600258,
          -1.1884782853636806,
          0.5297264880579176,
          -0.5977201879104943,
          -0.10328709441783887,
          -0.40190680822729946,
          -0.015150400733030547,
          1.6259239440798234,
          -0.9176223687265888,
          0.09035423193074928,
          0.5215540259689497,
          -1.5100934159184967,
          -0.5617412384064335,
          1.9055962539223812,
          0.03140965475767426,
          -1.3191667111676395,
          0.15372129450845587,
          0.6213905285187237,
          1.4181655536798619,
          1.1127703081989955,
          -0.0009139932771381095,
          0.37146688251936105,
          1.8410188890021395,
          0.31324377589728125,
          1.7741866034599767,
          0.6860842020791837,
          -0.48426173373315584,
          -2.3158113012427592,
          2.1987352884004943,
          0.5909603338530436,
          0.06152588978596741,
          -0.47230935828592624,
          0.011882187395418206,
          0.057482546270307536,
          -0.313899116576255,
          0.8110275578864159,
          0.31186695155541283,
          0.017627978391445108,
          1.0691785570143704,
          1.6416457276834544,
          1.4965106491758011,
          -0.5416788112901813,
          -0.599576260609268,
          0.21003831009666457,
          0.15285166599823136,
          1.8531387222782865,
          -1.7774255813400108,
          0.24270874088554262,
          0.1685323107914805,
          -0.4263276741178543,
          -1.1424089489759095
         ],
         "yaxis": "y8"
        },
        {
         "line": {
          "color": "rgba(128, 128, 128, 1.0)",
          "dash": "solid",
          "shape": "linear",
          "width": 1.3
         },
         "marker": {
          "size": 2,
          "symbol": "circle"
         },
         "mode": "markers",
         "name": "C",
         "text": "",
         "type": "scatter",
         "x": [
          -0.3778223188637527,
          0.0922801329148354,
          0.30314941242763466,
          -1.7247202757361555,
          -1.058806603088048,
          0.3562706846101683,
          0.5893574103570001,
          0.4585923583725432,
          1.1037945473464486,
          -0.3797924361831625,
          -1.0427165172979118,
          -2.353686639099532,
          -0.29509732902435676,
          -1.2329854565647862,
          -1.126512415797739,
          -2.7475965594656078,
          -1.2320765599446821,
          1.1960796864242584,
          -1.5053003537604794,
          1.4120424256808577,
          0.44528925065892605,
          0.9407256226239445,
          0.3346734763472071,
          0.6271526760473892,
          0.8580570503239457,
          -1.5932250845668334,
          -1.899147120460595,
          -0.5867413973285835,
          -0.9077758388365309,
          -0.8265399131304081,
          -0.48541987181432733,
          -1.9699390955796718,
          0.30671395224387316,
          -0.09814400017825455,
          0.6194420460243791,
          0.19192157796057446,
          0.26127009853054683,
          0.5934868937468604,
          1.3023689503304985,
          -0.557661021363899,
          1.3935040980784998,
          0.6095413707122774,
          0.19800162145167038,
          0.17773739624827156,
          0.1044704890515966,
          0.7366235446387637,
          0.12357136991878583,
          0.09574507787250311,
          0.4229303615159778,
          -0.05638478718449256,
          0.0524134147976591,
          -0.32084851794570013,
          3.323544545394268,
          -1.31951123577791,
          -1.0284774655531908,
          -0.4095367186350242,
          -0.9588002136398506,
          -0.12650654004935413,
          -0.860830501797706,
          -1.1880220044268255,
          0.00549830950166235,
          2.5233899814560115,
          -0.3659869477806698,
          0.2246642533450928,
          2.4174169231965945,
          -0.7850206563893745,
          1.1952085514381636,
          -1.625831633350626,
          0.8500313495956225,
          0.1359891984288151,
          -0.30049628523290484,
          -0.5408007451983162,
          1.156569580879917,
          -1.130335538700787,
          0.009621902777194428,
          -0.4915624184966093,
          0.8101057700385709,
          -0.3735203108248807,
          1.8487969495407632,
          -1.218057266502291,
          0.8398393241662376,
          2.4987094763734685,
          0.011469559294633237,
          1.1906179842714053,
          0.06397273787221386,
          1.5721334359149062,
          -0.40219610269343364,
          -1.5792141027986448,
          0.8781210937978811,
          -0.11279078387832467,
          -0.7966050137612551,
          -0.7811050635977146,
          1.1377100099162374,
          0.9886447210219727,
          -0.024892387637142906,
          0.9431513722593761,
          -0.11290888417369738,
          0.2128077746776085,
          -1.1045250270455622,
          -1.376879949847616
         ],
         "xaxis": "x9",
         "y": [
          1.406775720046884,
          1.1496996192746953,
          -0.32630697549626747,
          -1.296832523493453,
          -0.5389668297279848,
          0.493404219081789,
          0.43584985082044786,
          -0.8214194987178164,
          1.0786653759968017,
          -1.2983206517755435,
          -2.5881414790267026,
          -1.7753004429759662,
          -0.21644596706932792,
          -1.0042188960197214,
          0.5757291561543383,
          -0.5239132916002543,
          -0.772747927796187,
          -0.46812940826066063,
          1.4521343103982036,
          1.2846326654255793,
          0.04504784799893927,
          -1.893576967991285,
          0.3919703444042239,
          -0.48642321199236016,
          -0.5437908861394942,
          -0.2792570281533198,
          1.4133221039855208,
          1.6976634794530043,
          1.4567259108246078,
          -1.8221214160932686,
          0.20003524706278106,
          0.1983044868834503,
          0.14911029729587455,
          -1.346467447568015,
          0.43398946401134586,
          0.22233685214677837,
          0.47957669586758106,
          -1.102331238917154,
          -0.4998942192434582,
          -0.521068698854739,
          0.8973733424337166,
          -0.7816245886464664,
          0.22537260587342783,
          -0.8787885822828528,
          1.4230446901233393,
          0.34987293086009996,
          1.3911796291059848,
          1.2403794662202954,
          0.5114066728728492,
          -2.0166321273917736,
          0.7856861588247765,
          0.13691720786003714,
          -0.7880673590618453,
          0.03716769157101709,
          0.7799372126487223,
          1.7985491905038886,
          -0.19659818359663062,
          -0.012702577323151937,
          -0.8626960422069377,
          0.3597157395604989,
          0.6265896221927325,
          -0.9308715158558263,
          1.3464372604156218,
          0.6498728187409063,
          -1.6511662689241349,
          -0.9229299197376384,
          -1.2478417510711537,
          1.5227750396514883,
          -0.6311981482876451,
          1.551260004036639,
          -0.10502460554637756,
          -0.8493628839047709,
          2.027302413088894,
          -2.7934070100435475,
          0.6446845621352232,
          0.22071236826477122,
          1.0616860404591533,
          0.7467718877024979,
          0.0707552703298251,
          -1.1786996958286515,
          0.5243730244208548,
          0.39007878937880947,
          -0.5946194961721954,
          0.639070916937189,
          -0.7160141695559963,
          0.2456768588349713,
          0.5563854384232808,
          0.564420226858298,
          -0.0690448547947384,
          -1.2593419532553742,
          0.6374531147193259,
          1.2207630578986564,
          0.11105879218861575,
          0.12374607949375441,
          -2.2355297017644813,
          0.9520764800263771,
          -0.0453887598932331,
          0.09024937485326473,
          -0.3105849048692074,
          -0.668433153781252
         ],
         "yaxis": "y9"
        },
        {
         "line": {
          "color": "rgba(128, 128, 128, 1.0)",
          "dash": "solid",
          "shape": "linear",
          "width": 1.3
         },
         "marker": {
          "size": 2,
          "symbol": "circle"
         },
         "mode": "markers",
         "name": "C",
         "text": "",
         "type": "scatter",
         "x": [
          -1.316494825844439,
          0.2866719465461037,
          1.0478572119460632,
          -0.49355271897014624,
          -0.3542447919084635,
          -0.32650917113074646,
          1.1327673099908224,
          -0.8284119403094422,
          -0.7922051809940646,
          -0.42267745324087386,
          -1.0574974112458024,
          0.05540325977674381,
          -1.1224762575973932,
          -0.017964883564133848,
          -0.1682330830079046,
          1.8673751650772215,
          0.08004730349155705,
          -1.1250216343133097,
          1.025612290218689,
          -0.16745276111172824,
          1.1195894693054642,
          0.8560878889882733,
          -0.689496796712005,
          -0.10834697650456812,
          -0.7416035670698498,
          -1.4275386276737139,
          -0.8358930796699012,
          -1.6783958713333986,
          0.5156163219565989,
          0.4071645719782639,
          2.6641197458789834,
          0.6289898980658927,
          -2.745439843907141,
          -2.911319180158229,
          -0.4990510898715183,
          0.3534404282333845,
          -1.1448283539966881,
          -0.08782184871280074,
          1.286134650626389,
          -1.0219268738584983,
          0.8533706050813746,
          -0.9101654435552414,
          -0.1944663516311447,
          0.023407873628503623,
          -0.19119742997980924,
          -1.0047286399715987,
          -0.015257653555950003,
          -0.0056296678451680906,
          -0.11364674997934227,
          -0.3164297329600258,
          -1.1884782853636806,
          0.5297264880579176,
          -0.5977201879104943,
          -0.10328709441783887,
          -0.40190680822729946,
          -0.015150400733030547,
          1.6259239440798234,
          -0.9176223687265888,
          0.09035423193074928,
          0.5215540259689497,
          -1.5100934159184967,
          -0.5617412384064335,
          1.9055962539223812,
          0.03140965475767426,
          -1.3191667111676395,
          0.15372129450845587,
          0.6213905285187237,
          1.4181655536798619,
          1.1127703081989955,
          -0.0009139932771381095,
          0.37146688251936105,
          1.8410188890021395,
          0.31324377589728125,
          1.7741866034599767,
          0.6860842020791837,
          -0.48426173373315584,
          -2.3158113012427592,
          2.1987352884004943,
          0.5909603338530436,
          0.06152588978596741,
          -0.47230935828592624,
          0.011882187395418206,
          0.057482546270307536,
          -0.313899116576255,
          0.8110275578864159,
          0.31186695155541283,
          0.017627978391445108,
          1.0691785570143704,
          1.6416457276834544,
          1.4965106491758011,
          -0.5416788112901813,
          -0.599576260609268,
          0.21003831009666457,
          0.15285166599823136,
          1.8531387222782865,
          -1.7774255813400108,
          0.24270874088554262,
          0.1685323107914805,
          -0.4263276741178543,
          -1.1424089489759095
         ],
         "xaxis": "x10",
         "y": [
          1.406775720046884,
          1.1496996192746953,
          -0.32630697549626747,
          -1.296832523493453,
          -0.5389668297279848,
          0.493404219081789,
          0.43584985082044786,
          -0.8214194987178164,
          1.0786653759968017,
          -1.2983206517755435,
          -2.5881414790267026,
          -1.7753004429759662,
          -0.21644596706932792,
          -1.0042188960197214,
          0.5757291561543383,
          -0.5239132916002543,
          -0.772747927796187,
          -0.46812940826066063,
          1.4521343103982036,
          1.2846326654255793,
          0.04504784799893927,
          -1.893576967991285,
          0.3919703444042239,
          -0.48642321199236016,
          -0.5437908861394942,
          -0.2792570281533198,
          1.4133221039855208,
          1.6976634794530043,
          1.4567259108246078,
          -1.8221214160932686,
          0.20003524706278106,
          0.1983044868834503,
          0.14911029729587455,
          -1.346467447568015,
          0.43398946401134586,
          0.22233685214677837,
          0.47957669586758106,
          -1.102331238917154,
          -0.4998942192434582,
          -0.521068698854739,
          0.8973733424337166,
          -0.7816245886464664,
          0.22537260587342783,
          -0.8787885822828528,
          1.4230446901233393,
          0.34987293086009996,
          1.3911796291059848,
          1.2403794662202954,
          0.5114066728728492,
          -2.0166321273917736,
          0.7856861588247765,
          0.13691720786003714,
          -0.7880673590618453,
          0.03716769157101709,
          0.7799372126487223,
          1.7985491905038886,
          -0.19659818359663062,
          -0.012702577323151937,
          -0.8626960422069377,
          0.3597157395604989,
          0.6265896221927325,
          -0.9308715158558263,
          1.3464372604156218,
          0.6498728187409063,
          -1.6511662689241349,
          -0.9229299197376384,
          -1.2478417510711537,
          1.5227750396514883,
          -0.6311981482876451,
          1.551260004036639,
          -0.10502460554637756,
          -0.8493628839047709,
          2.027302413088894,
          -2.7934070100435475,
          0.6446845621352232,
          0.22071236826477122,
          1.0616860404591533,
          0.7467718877024979,
          0.0707552703298251,
          -1.1786996958286515,
          0.5243730244208548,
          0.39007878937880947,
          -0.5946194961721954,
          0.639070916937189,
          -0.7160141695559963,
          0.2456768588349713,
          0.5563854384232808,
          0.564420226858298,
          -0.0690448547947384,
          -1.2593419532553742,
          0.6374531147193259,
          1.2207630578986564,
          0.11105879218861575,
          0.12374607949375441,
          -2.2355297017644813,
          0.9520764800263771,
          -0.0453887598932331,
          0.09024937485326473,
          -0.3105849048692074,
          -0.668433153781252
         ],
         "yaxis": "y10"
        },
        {
         "histfunc": "count",
         "histnorm": "",
         "marker": {
          "color": "rgba(50, 171, 96, 1.0)",
          "line": {
           "color": "#4D5663",
           "width": 1.3
          }
         },
         "name": "C",
         "nbinsx": 10,
         "opacity": 0.8,
         "orientation": "v",
         "type": "histogram",
         "x": [
          1.406775720046884,
          1.1496996192746953,
          -0.32630697549626747,
          -1.296832523493453,
          -0.5389668297279848,
          0.493404219081789,
          0.43584985082044786,
          -0.8214194987178164,
          1.0786653759968017,
          -1.2983206517755435,
          -2.5881414790267026,
          -1.7753004429759662,
          -0.21644596706932792,
          -1.0042188960197214,
          0.5757291561543383,
          -0.5239132916002543,
          -0.772747927796187,
          -0.46812940826066063,
          1.4521343103982036,
          1.2846326654255793,
          0.04504784799893927,
          -1.893576967991285,
          0.3919703444042239,
          -0.48642321199236016,
          -0.5437908861394942,
          -0.2792570281533198,
          1.4133221039855208,
          1.6976634794530043,
          1.4567259108246078,
          -1.8221214160932686,
          0.20003524706278106,
          0.1983044868834503,
          0.14911029729587455,
          -1.346467447568015,
          0.43398946401134586,
          0.22233685214677837,
          0.47957669586758106,
          -1.102331238917154,
          -0.4998942192434582,
          -0.521068698854739,
          0.8973733424337166,
          -0.7816245886464664,
          0.22537260587342783,
          -0.8787885822828528,
          1.4230446901233393,
          0.34987293086009996,
          1.3911796291059848,
          1.2403794662202954,
          0.5114066728728492,
          -2.0166321273917736,
          0.7856861588247765,
          0.13691720786003714,
          -0.7880673590618453,
          0.03716769157101709,
          0.7799372126487223,
          1.7985491905038886,
          -0.19659818359663062,
          -0.012702577323151937,
          -0.8626960422069377,
          0.3597157395604989,
          0.6265896221927325,
          -0.9308715158558263,
          1.3464372604156218,
          0.6498728187409063,
          -1.6511662689241349,
          -0.9229299197376384,
          -1.2478417510711537,
          1.5227750396514883,
          -0.6311981482876451,
          1.551260004036639,
          -0.10502460554637756,
          -0.8493628839047709,
          2.027302413088894,
          -2.7934070100435475,
          0.6446845621352232,
          0.22071236826477122,
          1.0616860404591533,
          0.7467718877024979,
          0.0707552703298251,
          -1.1786996958286515,
          0.5243730244208548,
          0.39007878937880947,
          -0.5946194961721954,
          0.639070916937189,
          -0.7160141695559963,
          0.2456768588349713,
          0.5563854384232808,
          0.564420226858298,
          -0.0690448547947384,
          -1.2593419532553742,
          0.6374531147193259,
          1.2207630578986564,
          0.11105879218861575,
          0.12374607949375441,
          -2.2355297017644813,
          0.9520764800263771,
          -0.0453887598932331,
          0.09024937485326473,
          -0.3105849048692074,
          -0.668433153781252
         ],
         "xaxis": "x11",
         "yaxis": "y11"
        },
        {
         "line": {
          "color": "rgba(128, 128, 128, 1.0)",
          "dash": "solid",
          "shape": "linear",
          "width": 1.3
         },
         "marker": {
          "size": 2,
          "symbol": "circle"
         },
         "mode": "markers",
         "name": "C",
         "text": "",
         "type": "scatter",
         "x": [
          -0.7828650546033424,
          -0.3596533224921512,
          2.434719466250771,
          -0.9760353510297209,
          -1.586223995581084,
          0.3433342180231897,
          -0.31836419405528904,
          -0.5890956005205258,
          -0.7323000953439843,
          0.5769436208430118,
          1.0130015446224054,
          2.6356901709872482,
          -0.8638788997042456,
          -0.018631462990366488,
          1.4687779876612514,
          0.5617108204276043,
          0.4415436167544604,
          1.179320520273603,
          0.44805899141703515,
          0.9478082903689579,
          -0.5370436644028713,
          -0.4731704080052558,
          0.31223709024066526,
          -0.5060976754902158,
          0.07033654950523442,
          0.3960105865413948,
          -0.424067082278597,
          1.0751328588786822,
          0.7736680128061073,
          -0.4259995984742435,
          2.3006358449268127,
          -2.1192105641547876,
          -0.8880452412793026,
          0.3337262950860996,
          0.8153607065240488,
          1.7043940134934612,
          0.920540277767794,
          0.4234086995152187,
          0.4079448723600171,
          1.75499020536987,
          -0.33330185707420723,
          -0.9145116511004463,
          0.20006830351177876,
          -2.1140128038847243,
          -0.5977221954328469,
          0.060721644402041634,
          -0.018137439504961928,
          0.3196159992873991,
          0.47730693769300037,
          -0.5384123818186065,
          0.093217833984639,
          -0.09918326283418104,
          0.6638592384521873,
          -1.641643122886323,
          -1.0076183003204213,
          -1.0455237773603263,
          -1.3559854330219154,
          1.2553785663067567,
          0.04446140211217297,
          0.17890724289904997,
          0.5141432214794293,
          0.6733623595289793,
          0.0017206586771053502,
          1.7002385173305798,
          0.3766576304553358,
          1.6828371294794315,
          0.12107287487108928,
          -0.5385881907425488,
          0.6373655957718737,
          2.1318433715940754,
          -1.0880384152907472,
          0.32166878175520086,
          1.4445937515436955,
          0.1568411213201166,
          -1.226161112722581,
          0.514702914050513,
          1.0750421171304343,
          -0.9812992268141888,
          -0.5516496428257325,
          0.40064604570951057,
          -2.1041721784953715,
          1.3671390546573465,
          0.24634804179867126,
          -1.0944570399758755,
          -1.4450080892781683,
          -0.7421966077271516,
          -0.6343872745838302,
          0.36836371271043256,
          -0.6519255392459694,
          -0.2474436412537946,
          -0.9071546146833869,
          -1.0249724944144538,
          -1.6963961761097375,
          -0.4012714947050643,
          -0.1521446041864467,
          -0.4959909750493157,
          0.532628405005131,
          -0.6717570080851565,
          0.00844951382232753,
          -1.0177919469853345
         ],
         "xaxis": "x12",
         "y": [
          1.406775720046884,
          1.1496996192746953,
          -0.32630697549626747,
          -1.296832523493453,
          -0.5389668297279848,
          0.493404219081789,
          0.43584985082044786,
          -0.8214194987178164,
          1.0786653759968017,
          -1.2983206517755435,
          -2.5881414790267026,
          -1.7753004429759662,
          -0.21644596706932792,
          -1.0042188960197214,
          0.5757291561543383,
          -0.5239132916002543,
          -0.772747927796187,
          -0.46812940826066063,
          1.4521343103982036,
          1.2846326654255793,
          0.04504784799893927,
          -1.893576967991285,
          0.3919703444042239,
          -0.48642321199236016,
          -0.5437908861394942,
          -0.2792570281533198,
          1.4133221039855208,
          1.6976634794530043,
          1.4567259108246078,
          -1.8221214160932686,
          0.20003524706278106,
          0.1983044868834503,
          0.14911029729587455,
          -1.346467447568015,
          0.43398946401134586,
          0.22233685214677837,
          0.47957669586758106,
          -1.102331238917154,
          -0.4998942192434582,
          -0.521068698854739,
          0.8973733424337166,
          -0.7816245886464664,
          0.22537260587342783,
          -0.8787885822828528,
          1.4230446901233393,
          0.34987293086009996,
          1.3911796291059848,
          1.2403794662202954,
          0.5114066728728492,
          -2.0166321273917736,
          0.7856861588247765,
          0.13691720786003714,
          -0.7880673590618453,
          0.03716769157101709,
          0.7799372126487223,
          1.7985491905038886,
          -0.19659818359663062,
          -0.012702577323151937,
          -0.8626960422069377,
          0.3597157395604989,
          0.6265896221927325,
          -0.9308715158558263,
          1.3464372604156218,
          0.6498728187409063,
          -1.6511662689241349,
          -0.9229299197376384,
          -1.2478417510711537,
          1.5227750396514883,
          -0.6311981482876451,
          1.551260004036639,
          -0.10502460554637756,
          -0.8493628839047709,
          2.027302413088894,
          -2.7934070100435475,
          0.6446845621352232,
          0.22071236826477122,
          1.0616860404591533,
          0.7467718877024979,
          0.0707552703298251,
          -1.1786996958286515,
          0.5243730244208548,
          0.39007878937880947,
          -0.5946194961721954,
          0.639070916937189,
          -0.7160141695559963,
          0.2456768588349713,
          0.5563854384232808,
          0.564420226858298,
          -0.0690448547947384,
          -1.2593419532553742,
          0.6374531147193259,
          1.2207630578986564,
          0.11105879218861575,
          0.12374607949375441,
          -2.2355297017644813,
          0.9520764800263771,
          -0.0453887598932331,
          0.09024937485326473,
          -0.3105849048692074,
          -0.668433153781252
         ],
         "yaxis": "y12"
        },
        {
         "line": {
          "color": "rgba(128, 128, 128, 1.0)",
          "dash": "solid",
          "shape": "linear",
          "width": 1.3
         },
         "marker": {
          "size": 2,
          "symbol": "circle"
         },
         "mode": "markers",
         "name": "D",
         "text": "",
         "type": "scatter",
         "x": [
          -0.3778223188637527,
          0.0922801329148354,
          0.30314941242763466,
          -1.7247202757361555,
          -1.058806603088048,
          0.3562706846101683,
          0.5893574103570001,
          0.4585923583725432,
          1.1037945473464486,
          -0.3797924361831625,
          -1.0427165172979118,
          -2.353686639099532,
          -0.29509732902435676,
          -1.2329854565647862,
          -1.126512415797739,
          -2.7475965594656078,
          -1.2320765599446821,
          1.1960796864242584,
          -1.5053003537604794,
          1.4120424256808577,
          0.44528925065892605,
          0.9407256226239445,
          0.3346734763472071,
          0.6271526760473892,
          0.8580570503239457,
          -1.5932250845668334,
          -1.899147120460595,
          -0.5867413973285835,
          -0.9077758388365309,
          -0.8265399131304081,
          -0.48541987181432733,
          -1.9699390955796718,
          0.30671395224387316,
          -0.09814400017825455,
          0.6194420460243791,
          0.19192157796057446,
          0.26127009853054683,
          0.5934868937468604,
          1.3023689503304985,
          -0.557661021363899,
          1.3935040980784998,
          0.6095413707122774,
          0.19800162145167038,
          0.17773739624827156,
          0.1044704890515966,
          0.7366235446387637,
          0.12357136991878583,
          0.09574507787250311,
          0.4229303615159778,
          -0.05638478718449256,
          0.0524134147976591,
          -0.32084851794570013,
          3.323544545394268,
          -1.31951123577791,
          -1.0284774655531908,
          -0.4095367186350242,
          -0.9588002136398506,
          -0.12650654004935413,
          -0.860830501797706,
          -1.1880220044268255,
          0.00549830950166235,
          2.5233899814560115,
          -0.3659869477806698,
          0.2246642533450928,
          2.4174169231965945,
          -0.7850206563893745,
          1.1952085514381636,
          -1.625831633350626,
          0.8500313495956225,
          0.1359891984288151,
          -0.30049628523290484,
          -0.5408007451983162,
          1.156569580879917,
          -1.130335538700787,
          0.009621902777194428,
          -0.4915624184966093,
          0.8101057700385709,
          -0.3735203108248807,
          1.8487969495407632,
          -1.218057266502291,
          0.8398393241662376,
          2.4987094763734685,
          0.011469559294633237,
          1.1906179842714053,
          0.06397273787221386,
          1.5721334359149062,
          -0.40219610269343364,
          -1.5792141027986448,
          0.8781210937978811,
          -0.11279078387832467,
          -0.7966050137612551,
          -0.7811050635977146,
          1.1377100099162374,
          0.9886447210219727,
          -0.024892387637142906,
          0.9431513722593761,
          -0.11290888417369738,
          0.2128077746776085,
          -1.1045250270455622,
          -1.376879949847616
         ],
         "xaxis": "x13",
         "y": [
          -0.7828650546033424,
          -0.3596533224921512,
          2.434719466250771,
          -0.9760353510297209,
          -1.586223995581084,
          0.3433342180231897,
          -0.31836419405528904,
          -0.5890956005205258,
          -0.7323000953439843,
          0.5769436208430118,
          1.0130015446224054,
          2.6356901709872482,
          -0.8638788997042456,
          -0.018631462990366488,
          1.4687779876612514,
          0.5617108204276043,
          0.4415436167544604,
          1.179320520273603,
          0.44805899141703515,
          0.9478082903689579,
          -0.5370436644028713,
          -0.4731704080052558,
          0.31223709024066526,
          -0.5060976754902158,
          0.07033654950523442,
          0.3960105865413948,
          -0.424067082278597,
          1.0751328588786822,
          0.7736680128061073,
          -0.4259995984742435,
          2.3006358449268127,
          -2.1192105641547876,
          -0.8880452412793026,
          0.3337262950860996,
          0.8153607065240488,
          1.7043940134934612,
          0.920540277767794,
          0.4234086995152187,
          0.4079448723600171,
          1.75499020536987,
          -0.33330185707420723,
          -0.9145116511004463,
          0.20006830351177876,
          -2.1140128038847243,
          -0.5977221954328469,
          0.060721644402041634,
          -0.018137439504961928,
          0.3196159992873991,
          0.47730693769300037,
          -0.5384123818186065,
          0.093217833984639,
          -0.09918326283418104,
          0.6638592384521873,
          -1.641643122886323,
          -1.0076183003204213,
          -1.0455237773603263,
          -1.3559854330219154,
          1.2553785663067567,
          0.04446140211217297,
          0.17890724289904997,
          0.5141432214794293,
          0.6733623595289793,
          0.0017206586771053502,
          1.7002385173305798,
          0.3766576304553358,
          1.6828371294794315,
          0.12107287487108928,
          -0.5385881907425488,
          0.6373655957718737,
          2.1318433715940754,
          -1.0880384152907472,
          0.32166878175520086,
          1.4445937515436955,
          0.1568411213201166,
          -1.226161112722581,
          0.514702914050513,
          1.0750421171304343,
          -0.9812992268141888,
          -0.5516496428257325,
          0.40064604570951057,
          -2.1041721784953715,
          1.3671390546573465,
          0.24634804179867126,
          -1.0944570399758755,
          -1.4450080892781683,
          -0.7421966077271516,
          -0.6343872745838302,
          0.36836371271043256,
          -0.6519255392459694,
          -0.2474436412537946,
          -0.9071546146833869,
          -1.0249724944144538,
          -1.6963961761097375,
          -0.4012714947050643,
          -0.1521446041864467,
          -0.4959909750493157,
          0.532628405005131,
          -0.6717570080851565,
          0.00844951382232753,
          -1.0177919469853345
         ],
         "yaxis": "y13"
        },
        {
         "line": {
          "color": "rgba(128, 128, 128, 1.0)",
          "dash": "solid",
          "shape": "linear",
          "width": 1.3
         },
         "marker": {
          "size": 2,
          "symbol": "circle"
         },
         "mode": "markers",
         "name": "D",
         "text": "",
         "type": "scatter",
         "x": [
          -1.316494825844439,
          0.2866719465461037,
          1.0478572119460632,
          -0.49355271897014624,
          -0.3542447919084635,
          -0.32650917113074646,
          1.1327673099908224,
          -0.8284119403094422,
          -0.7922051809940646,
          -0.42267745324087386,
          -1.0574974112458024,
          0.05540325977674381,
          -1.1224762575973932,
          -0.017964883564133848,
          -0.1682330830079046,
          1.8673751650772215,
          0.08004730349155705,
          -1.1250216343133097,
          1.025612290218689,
          -0.16745276111172824,
          1.1195894693054642,
          0.8560878889882733,
          -0.689496796712005,
          -0.10834697650456812,
          -0.7416035670698498,
          -1.4275386276737139,
          -0.8358930796699012,
          -1.6783958713333986,
          0.5156163219565989,
          0.4071645719782639,
          2.6641197458789834,
          0.6289898980658927,
          -2.745439843907141,
          -2.911319180158229,
          -0.4990510898715183,
          0.3534404282333845,
          -1.1448283539966881,
          -0.08782184871280074,
          1.286134650626389,
          -1.0219268738584983,
          0.8533706050813746,
          -0.9101654435552414,
          -0.1944663516311447,
          0.023407873628503623,
          -0.19119742997980924,
          -1.0047286399715987,
          -0.015257653555950003,
          -0.0056296678451680906,
          -0.11364674997934227,
          -0.3164297329600258,
          -1.1884782853636806,
          0.5297264880579176,
          -0.5977201879104943,
          -0.10328709441783887,
          -0.40190680822729946,
          -0.015150400733030547,
          1.6259239440798234,
          -0.9176223687265888,
          0.09035423193074928,
          0.5215540259689497,
          -1.5100934159184967,
          -0.5617412384064335,
          1.9055962539223812,
          0.03140965475767426,
          -1.3191667111676395,
          0.15372129450845587,
          0.6213905285187237,
          1.4181655536798619,
          1.1127703081989955,
          -0.0009139932771381095,
          0.37146688251936105,
          1.8410188890021395,
          0.31324377589728125,
          1.7741866034599767,
          0.6860842020791837,
          -0.48426173373315584,
          -2.3158113012427592,
          2.1987352884004943,
          0.5909603338530436,
          0.06152588978596741,
          -0.47230935828592624,
          0.011882187395418206,
          0.057482546270307536,
          -0.313899116576255,
          0.8110275578864159,
          0.31186695155541283,
          0.017627978391445108,
          1.0691785570143704,
          1.6416457276834544,
          1.4965106491758011,
          -0.5416788112901813,
          -0.599576260609268,
          0.21003831009666457,
          0.15285166599823136,
          1.8531387222782865,
          -1.7774255813400108,
          0.24270874088554262,
          0.1685323107914805,
          -0.4263276741178543,
          -1.1424089489759095
         ],
         "xaxis": "x14",
         "y": [
          -0.7828650546033424,
          -0.3596533224921512,
          2.434719466250771,
          -0.9760353510297209,
          -1.586223995581084,
          0.3433342180231897,
          -0.31836419405528904,
          -0.5890956005205258,
          -0.7323000953439843,
          0.5769436208430118,
          1.0130015446224054,
          2.6356901709872482,
          -0.8638788997042456,
          -0.018631462990366488,
          1.4687779876612514,
          0.5617108204276043,
          0.4415436167544604,
          1.179320520273603,
          0.44805899141703515,
          0.9478082903689579,
          -0.5370436644028713,
          -0.4731704080052558,
          0.31223709024066526,
          -0.5060976754902158,
          0.07033654950523442,
          0.3960105865413948,
          -0.424067082278597,
          1.0751328588786822,
          0.7736680128061073,
          -0.4259995984742435,
          2.3006358449268127,
          -2.1192105641547876,
          -0.8880452412793026,
          0.3337262950860996,
          0.8153607065240488,
          1.7043940134934612,
          0.920540277767794,
          0.4234086995152187,
          0.4079448723600171,
          1.75499020536987,
          -0.33330185707420723,
          -0.9145116511004463,
          0.20006830351177876,
          -2.1140128038847243,
          -0.5977221954328469,
          0.060721644402041634,
          -0.018137439504961928,
          0.3196159992873991,
          0.47730693769300037,
          -0.5384123818186065,
          0.093217833984639,
          -0.09918326283418104,
          0.6638592384521873,
          -1.641643122886323,
          -1.0076183003204213,
          -1.0455237773603263,
          -1.3559854330219154,
          1.2553785663067567,
          0.04446140211217297,
          0.17890724289904997,
          0.5141432214794293,
          0.6733623595289793,
          0.0017206586771053502,
          1.7002385173305798,
          0.3766576304553358,
          1.6828371294794315,
          0.12107287487108928,
          -0.5385881907425488,
          0.6373655957718737,
          2.1318433715940754,
          -1.0880384152907472,
          0.32166878175520086,
          1.4445937515436955,
          0.1568411213201166,
          -1.226161112722581,
          0.514702914050513,
          1.0750421171304343,
          -0.9812992268141888,
          -0.5516496428257325,
          0.40064604570951057,
          -2.1041721784953715,
          1.3671390546573465,
          0.24634804179867126,
          -1.0944570399758755,
          -1.4450080892781683,
          -0.7421966077271516,
          -0.6343872745838302,
          0.36836371271043256,
          -0.6519255392459694,
          -0.2474436412537946,
          -0.9071546146833869,
          -1.0249724944144538,
          -1.6963961761097375,
          -0.4012714947050643,
          -0.1521446041864467,
          -0.4959909750493157,
          0.532628405005131,
          -0.6717570080851565,
          0.00844951382232753,
          -1.0177919469853345
         ],
         "yaxis": "y14"
        },
        {
         "line": {
          "color": "rgba(128, 128, 128, 1.0)",
          "dash": "solid",
          "shape": "linear",
          "width": 1.3
         },
         "marker": {
          "size": 2,
          "symbol": "circle"
         },
         "mode": "markers",
         "name": "D",
         "text": "",
         "type": "scatter",
         "x": [
          1.406775720046884,
          1.1496996192746953,
          -0.32630697549626747,
          -1.296832523493453,
          -0.5389668297279848,
          0.493404219081789,
          0.43584985082044786,
          -0.8214194987178164,
          1.0786653759968017,
          -1.2983206517755435,
          -2.5881414790267026,
          -1.7753004429759662,
          -0.21644596706932792,
          -1.0042188960197214,
          0.5757291561543383,
          -0.5239132916002543,
          -0.772747927796187,
          -0.46812940826066063,
          1.4521343103982036,
          1.2846326654255793,
          0.04504784799893927,
          -1.893576967991285,
          0.3919703444042239,
          -0.48642321199236016,
          -0.5437908861394942,
          -0.2792570281533198,
          1.4133221039855208,
          1.6976634794530043,
          1.4567259108246078,
          -1.8221214160932686,
          0.20003524706278106,
          0.1983044868834503,
          0.14911029729587455,
          -1.346467447568015,
          0.43398946401134586,
          0.22233685214677837,
          0.47957669586758106,
          -1.102331238917154,
          -0.4998942192434582,
          -0.521068698854739,
          0.8973733424337166,
          -0.7816245886464664,
          0.22537260587342783,
          -0.8787885822828528,
          1.4230446901233393,
          0.34987293086009996,
          1.3911796291059848,
          1.2403794662202954,
          0.5114066728728492,
          -2.0166321273917736,
          0.7856861588247765,
          0.13691720786003714,
          -0.7880673590618453,
          0.03716769157101709,
          0.7799372126487223,
          1.7985491905038886,
          -0.19659818359663062,
          -0.012702577323151937,
          -0.8626960422069377,
          0.3597157395604989,
          0.6265896221927325,
          -0.9308715158558263,
          1.3464372604156218,
          0.6498728187409063,
          -1.6511662689241349,
          -0.9229299197376384,
          -1.2478417510711537,
          1.5227750396514883,
          -0.6311981482876451,
          1.551260004036639,
          -0.10502460554637756,
          -0.8493628839047709,
          2.027302413088894,
          -2.7934070100435475,
          0.6446845621352232,
          0.22071236826477122,
          1.0616860404591533,
          0.7467718877024979,
          0.0707552703298251,
          -1.1786996958286515,
          0.5243730244208548,
          0.39007878937880947,
          -0.5946194961721954,
          0.639070916937189,
          -0.7160141695559963,
          0.2456768588349713,
          0.5563854384232808,
          0.564420226858298,
          -0.0690448547947384,
          -1.2593419532553742,
          0.6374531147193259,
          1.2207630578986564,
          0.11105879218861575,
          0.12374607949375441,
          -2.2355297017644813,
          0.9520764800263771,
          -0.0453887598932331,
          0.09024937485326473,
          -0.3105849048692074,
          -0.668433153781252
         ],
         "xaxis": "x15",
         "y": [
          -0.7828650546033424,
          -0.3596533224921512,
          2.434719466250771,
          -0.9760353510297209,
          -1.586223995581084,
          0.3433342180231897,
          -0.31836419405528904,
          -0.5890956005205258,
          -0.7323000953439843,
          0.5769436208430118,
          1.0130015446224054,
          2.6356901709872482,
          -0.8638788997042456,
          -0.018631462990366488,
          1.4687779876612514,
          0.5617108204276043,
          0.4415436167544604,
          1.179320520273603,
          0.44805899141703515,
          0.9478082903689579,
          -0.5370436644028713,
          -0.4731704080052558,
          0.31223709024066526,
          -0.5060976754902158,
          0.07033654950523442,
          0.3960105865413948,
          -0.424067082278597,
          1.0751328588786822,
          0.7736680128061073,
          -0.4259995984742435,
          2.3006358449268127,
          -2.1192105641547876,
          -0.8880452412793026,
          0.3337262950860996,
          0.8153607065240488,
          1.7043940134934612,
          0.920540277767794,
          0.4234086995152187,
          0.4079448723600171,
          1.75499020536987,
          -0.33330185707420723,
          -0.9145116511004463,
          0.20006830351177876,
          -2.1140128038847243,
          -0.5977221954328469,
          0.060721644402041634,
          -0.018137439504961928,
          0.3196159992873991,
          0.47730693769300037,
          -0.5384123818186065,
          0.093217833984639,
          -0.09918326283418104,
          0.6638592384521873,
          -1.641643122886323,
          -1.0076183003204213,
          -1.0455237773603263,
          -1.3559854330219154,
          1.2553785663067567,
          0.04446140211217297,
          0.17890724289904997,
          0.5141432214794293,
          0.6733623595289793,
          0.0017206586771053502,
          1.7002385173305798,
          0.3766576304553358,
          1.6828371294794315,
          0.12107287487108928,
          -0.5385881907425488,
          0.6373655957718737,
          2.1318433715940754,
          -1.0880384152907472,
          0.32166878175520086,
          1.4445937515436955,
          0.1568411213201166,
          -1.226161112722581,
          0.514702914050513,
          1.0750421171304343,
          -0.9812992268141888,
          -0.5516496428257325,
          0.40064604570951057,
          -2.1041721784953715,
          1.3671390546573465,
          0.24634804179867126,
          -1.0944570399758755,
          -1.4450080892781683,
          -0.7421966077271516,
          -0.6343872745838302,
          0.36836371271043256,
          -0.6519255392459694,
          -0.2474436412537946,
          -0.9071546146833869,
          -1.0249724944144538,
          -1.6963961761097375,
          -0.4012714947050643,
          -0.1521446041864467,
          -0.4959909750493157,
          0.532628405005131,
          -0.6717570080851565,
          0.00844951382232753,
          -1.0177919469853345
         ],
         "yaxis": "y15"
        },
        {
         "histfunc": "count",
         "histnorm": "",
         "marker": {
          "color": "rgba(128, 0, 128, 1.0)",
          "line": {
           "color": "#4D5663",
           "width": 1.3
          }
         },
         "name": "D",
         "nbinsx": 10,
         "opacity": 0.8,
         "orientation": "v",
         "type": "histogram",
         "x": [
          -0.7828650546033424,
          -0.3596533224921512,
          2.434719466250771,
          -0.9760353510297209,
          -1.586223995581084,
          0.3433342180231897,
          -0.31836419405528904,
          -0.5890956005205258,
          -0.7323000953439843,
          0.5769436208430118,
          1.0130015446224054,
          2.6356901709872482,
          -0.8638788997042456,
          -0.018631462990366488,
          1.4687779876612514,
          0.5617108204276043,
          0.4415436167544604,
          1.179320520273603,
          0.44805899141703515,
          0.9478082903689579,
          -0.5370436644028713,
          -0.4731704080052558,
          0.31223709024066526,
          -0.5060976754902158,
          0.07033654950523442,
          0.3960105865413948,
          -0.424067082278597,
          1.0751328588786822,
          0.7736680128061073,
          -0.4259995984742435,
          2.3006358449268127,
          -2.1192105641547876,
          -0.8880452412793026,
          0.3337262950860996,
          0.8153607065240488,
          1.7043940134934612,
          0.920540277767794,
          0.4234086995152187,
          0.4079448723600171,
          1.75499020536987,
          -0.33330185707420723,
          -0.9145116511004463,
          0.20006830351177876,
          -2.1140128038847243,
          -0.5977221954328469,
          0.060721644402041634,
          -0.018137439504961928,
          0.3196159992873991,
          0.47730693769300037,
          -0.5384123818186065,
          0.093217833984639,
          -0.09918326283418104,
          0.6638592384521873,
          -1.641643122886323,
          -1.0076183003204213,
          -1.0455237773603263,
          -1.3559854330219154,
          1.2553785663067567,
          0.04446140211217297,
          0.17890724289904997,
          0.5141432214794293,
          0.6733623595289793,
          0.0017206586771053502,
          1.7002385173305798,
          0.3766576304553358,
          1.6828371294794315,
          0.12107287487108928,
          -0.5385881907425488,
          0.6373655957718737,
          2.1318433715940754,
          -1.0880384152907472,
          0.32166878175520086,
          1.4445937515436955,
          0.1568411213201166,
          -1.226161112722581,
          0.514702914050513,
          1.0750421171304343,
          -0.9812992268141888,
          -0.5516496428257325,
          0.40064604570951057,
          -2.1041721784953715,
          1.3671390546573465,
          0.24634804179867126,
          -1.0944570399758755,
          -1.4450080892781683,
          -0.7421966077271516,
          -0.6343872745838302,
          0.36836371271043256,
          -0.6519255392459694,
          -0.2474436412537946,
          -0.9071546146833869,
          -1.0249724944144538,
          -1.6963961761097375,
          -0.4012714947050643,
          -0.1521446041864467,
          -0.4959909750493157,
          0.532628405005131,
          -0.6717570080851565,
          0.00844951382232753,
          -1.0177919469853345
         ],
         "xaxis": "x16",
         "yaxis": "y16"
        }
       ],
       "layout": {
        "bargap": 0.02,
        "legend": {
         "bgcolor": "#F5F6F9",
         "font": {
          "color": "#4D5663"
         }
        },
        "paper_bgcolor": "#F5F6F9",
        "plot_bgcolor": "#F5F6F9",
        "showlegend": false,
        "template": {
         "data": {
          "bar": [
           {
            "error_x": {
             "color": "#2a3f5f"
            },
            "error_y": {
             "color": "#2a3f5f"
            },
            "marker": {
             "line": {
              "color": "#E5ECF6",
              "width": 0.5
             }
            },
            "type": "bar"
           }
          ],
          "barpolar": [
           {
            "marker": {
             "line": {
              "color": "#E5ECF6",
              "width": 0.5
             }
            },
            "type": "barpolar"
           }
          ],
          "carpet": [
           {
            "aaxis": {
             "endlinecolor": "#2a3f5f",
             "gridcolor": "white",
             "linecolor": "white",
             "minorgridcolor": "white",
             "startlinecolor": "#2a3f5f"
            },
            "baxis": {
             "endlinecolor": "#2a3f5f",
             "gridcolor": "white",
             "linecolor": "white",
             "minorgridcolor": "white",
             "startlinecolor": "#2a3f5f"
            },
            "type": "carpet"
           }
          ],
          "choropleth": [
           {
            "colorbar": {
             "outlinewidth": 0,
             "ticks": ""
            },
            "type": "choropleth"
           }
          ],
          "contour": [
           {
            "colorbar": {
             "outlinewidth": 0,
             "ticks": ""
            },
            "colorscale": [
             [
              0,
              "#0d0887"
             ],
             [
              0.1111111111111111,
              "#46039f"
             ],
             [
              0.2222222222222222,
              "#7201a8"
             ],
             [
              0.3333333333333333,
              "#9c179e"
             ],
             [
              0.4444444444444444,
              "#bd3786"
             ],
             [
              0.5555555555555556,
              "#d8576b"
             ],
             [
              0.6666666666666666,
              "#ed7953"
             ],
             [
              0.7777777777777778,
              "#fb9f3a"
             ],
             [
              0.8888888888888888,
              "#fdca26"
             ],
             [
              1,
              "#f0f921"
             ]
            ],
            "type": "contour"
           }
          ],
          "contourcarpet": [
           {
            "colorbar": {
             "outlinewidth": 0,
             "ticks": ""
            },
            "type": "contourcarpet"
           }
          ],
          "heatmap": [
           {
            "colorbar": {
             "outlinewidth": 0,
             "ticks": ""
            },
            "colorscale": [
             [
              0,
              "#0d0887"
             ],
             [
              0.1111111111111111,
              "#46039f"
             ],
             [
              0.2222222222222222,
              "#7201a8"
             ],
             [
              0.3333333333333333,
              "#9c179e"
             ],
             [
              0.4444444444444444,
              "#bd3786"
             ],
             [
              0.5555555555555556,
              "#d8576b"
             ],
             [
              0.6666666666666666,
              "#ed7953"
             ],
             [
              0.7777777777777778,
              "#fb9f3a"
             ],
             [
              0.8888888888888888,
              "#fdca26"
             ],
             [
              1,
              "#f0f921"
             ]
            ],
            "type": "heatmap"
           }
          ],
          "heatmapgl": [
           {
            "colorbar": {
             "outlinewidth": 0,
             "ticks": ""
            },
            "colorscale": [
             [
              0,
              "#0d0887"
             ],
             [
              0.1111111111111111,
              "#46039f"
             ],
             [
              0.2222222222222222,
              "#7201a8"
             ],
             [
              0.3333333333333333,
              "#9c179e"
             ],
             [
              0.4444444444444444,
              "#bd3786"
             ],
             [
              0.5555555555555556,
              "#d8576b"
             ],
             [
              0.6666666666666666,
              "#ed7953"
             ],
             [
              0.7777777777777778,
              "#fb9f3a"
             ],
             [
              0.8888888888888888,
              "#fdca26"
             ],
             [
              1,
              "#f0f921"
             ]
            ],
            "type": "heatmapgl"
           }
          ],
          "histogram": [
           {
            "marker": {
             "colorbar": {
              "outlinewidth": 0,
              "ticks": ""
             }
            },
            "type": "histogram"
           }
          ],
          "histogram2d": [
           {
            "colorbar": {
             "outlinewidth": 0,
             "ticks": ""
            },
            "colorscale": [
             [
              0,
              "#0d0887"
             ],
             [
              0.1111111111111111,
              "#46039f"
             ],
             [
              0.2222222222222222,
              "#7201a8"
             ],
             [
              0.3333333333333333,
              "#9c179e"
             ],
             [
              0.4444444444444444,
              "#bd3786"
             ],
             [
              0.5555555555555556,
              "#d8576b"
             ],
             [
              0.6666666666666666,
              "#ed7953"
             ],
             [
              0.7777777777777778,
              "#fb9f3a"
             ],
             [
              0.8888888888888888,
              "#fdca26"
             ],
             [
              1,
              "#f0f921"
             ]
            ],
            "type": "histogram2d"
           }
          ],
          "histogram2dcontour": [
           {
            "colorbar": {
             "outlinewidth": 0,
             "ticks": ""
            },
            "colorscale": [
             [
              0,
              "#0d0887"
             ],
             [
              0.1111111111111111,
              "#46039f"
             ],
             [
              0.2222222222222222,
              "#7201a8"
             ],
             [
              0.3333333333333333,
              "#9c179e"
             ],
             [
              0.4444444444444444,
              "#bd3786"
             ],
             [
              0.5555555555555556,
              "#d8576b"
             ],
             [
              0.6666666666666666,
              "#ed7953"
             ],
             [
              0.7777777777777778,
              "#fb9f3a"
             ],
             [
              0.8888888888888888,
              "#fdca26"
             ],
             [
              1,
              "#f0f921"
             ]
            ],
            "type": "histogram2dcontour"
           }
          ],
          "mesh3d": [
           {
            "colorbar": {
             "outlinewidth": 0,
             "ticks": ""
            },
            "type": "mesh3d"
           }
          ],
          "parcoords": [
           {
            "line": {
             "colorbar": {
              "outlinewidth": 0,
              "ticks": ""
             }
            },
            "type": "parcoords"
           }
          ],
          "pie": [
           {
            "automargin": true,
            "type": "pie"
           }
          ],
          "scatter": [
           {
            "marker": {
             "colorbar": {
              "outlinewidth": 0,
              "ticks": ""
             }
            },
            "type": "scatter"
           }
          ],
          "scatter3d": [
           {
            "line": {
             "colorbar": {
              "outlinewidth": 0,
              "ticks": ""
             }
            },
            "marker": {
             "colorbar": {
              "outlinewidth": 0,
              "ticks": ""
             }
            },
            "type": "scatter3d"
           }
          ],
          "scattercarpet": [
           {
            "marker": {
             "colorbar": {
              "outlinewidth": 0,
              "ticks": ""
             }
            },
            "type": "scattercarpet"
           }
          ],
          "scattergeo": [
           {
            "marker": {
             "colorbar": {
              "outlinewidth": 0,
              "ticks": ""
             }
            },
            "type": "scattergeo"
           }
          ],
          "scattergl": [
           {
            "marker": {
             "colorbar": {
              "outlinewidth": 0,
              "ticks": ""
             }
            },
            "type": "scattergl"
           }
          ],
          "scattermapbox": [
           {
            "marker": {
             "colorbar": {
              "outlinewidth": 0,
              "ticks": ""
             }
            },
            "type": "scattermapbox"
           }
          ],
          "scatterpolar": [
           {
            "marker": {
             "colorbar": {
              "outlinewidth": 0,
              "ticks": ""
             }
            },
            "type": "scatterpolar"
           }
          ],
          "scatterpolargl": [
           {
            "marker": {
             "colorbar": {
              "outlinewidth": 0,
              "ticks": ""
             }
            },
            "type": "scatterpolargl"
           }
          ],
          "scatterternary": [
           {
            "marker": {
             "colorbar": {
              "outlinewidth": 0,
              "ticks": ""
             }
            },
            "type": "scatterternary"
           }
          ],
          "surface": [
           {
            "colorbar": {
             "outlinewidth": 0,
             "ticks": ""
            },
            "colorscale": [
             [
              0,
              "#0d0887"
             ],
             [
              0.1111111111111111,
              "#46039f"
             ],
             [
              0.2222222222222222,
              "#7201a8"
             ],
             [
              0.3333333333333333,
              "#9c179e"
             ],
             [
              0.4444444444444444,
              "#bd3786"
             ],
             [
              0.5555555555555556,
              "#d8576b"
             ],
             [
              0.6666666666666666,
              "#ed7953"
             ],
             [
              0.7777777777777778,
              "#fb9f3a"
             ],
             [
              0.8888888888888888,
              "#fdca26"
             ],
             [
              1,
              "#f0f921"
             ]
            ],
            "type": "surface"
           }
          ],
          "table": [
           {
            "cells": {
             "fill": {
              "color": "#EBF0F8"
             },
             "line": {
              "color": "white"
             }
            },
            "header": {
             "fill": {
              "color": "#C8D4E3"
             },
             "line": {
              "color": "white"
             }
            },
            "type": "table"
           }
          ]
         },
         "layout": {
          "annotationdefaults": {
           "arrowcolor": "#2a3f5f",
           "arrowhead": 0,
           "arrowwidth": 1
          },
          "coloraxis": {
           "colorbar": {
            "outlinewidth": 0,
            "ticks": ""
           }
          },
          "colorscale": {
           "diverging": [
            [
             0,
             "#8e0152"
            ],
            [
             0.1,
             "#c51b7d"
            ],
            [
             0.2,
             "#de77ae"
            ],
            [
             0.3,
             "#f1b6da"
            ],
            [
             0.4,
             "#fde0ef"
            ],
            [
             0.5,
             "#f7f7f7"
            ],
            [
             0.6,
             "#e6f5d0"
            ],
            [
             0.7,
             "#b8e186"
            ],
            [
             0.8,
             "#7fbc41"
            ],
            [
             0.9,
             "#4d9221"
            ],
            [
             1,
             "#276419"
            ]
           ],
           "sequential": [
            [
             0,
             "#0d0887"
            ],
            [
             0.1111111111111111,
             "#46039f"
            ],
            [
             0.2222222222222222,
             "#7201a8"
            ],
            [
             0.3333333333333333,
             "#9c179e"
            ],
            [
             0.4444444444444444,
             "#bd3786"
            ],
            [
             0.5555555555555556,
             "#d8576b"
            ],
            [
             0.6666666666666666,
             "#ed7953"
            ],
            [
             0.7777777777777778,
             "#fb9f3a"
            ],
            [
             0.8888888888888888,
             "#fdca26"
            ],
            [
             1,
             "#f0f921"
            ]
           ],
           "sequentialminus": [
            [
             0,
             "#0d0887"
            ],
            [
             0.1111111111111111,
             "#46039f"
            ],
            [
             0.2222222222222222,
             "#7201a8"
            ],
            [
             0.3333333333333333,
             "#9c179e"
            ],
            [
             0.4444444444444444,
             "#bd3786"
            ],
            [
             0.5555555555555556,
             "#d8576b"
            ],
            [
             0.6666666666666666,
             "#ed7953"
            ],
            [
             0.7777777777777778,
             "#fb9f3a"
            ],
            [
             0.8888888888888888,
             "#fdca26"
            ],
            [
             1,
             "#f0f921"
            ]
           ]
          },
          "colorway": [
           "#636efa",
           "#EF553B",
           "#00cc96",
           "#ab63fa",
           "#FFA15A",
           "#19d3f3",
           "#FF6692",
           "#B6E880",
           "#FF97FF",
           "#FECB52"
          ],
          "font": {
           "color": "#2a3f5f"
          },
          "geo": {
           "bgcolor": "white",
           "lakecolor": "white",
           "landcolor": "#E5ECF6",
           "showlakes": true,
           "showland": true,
           "subunitcolor": "white"
          },
          "hoverlabel": {
           "align": "left"
          },
          "hovermode": "closest",
          "mapbox": {
           "style": "light"
          },
          "paper_bgcolor": "white",
          "plot_bgcolor": "#E5ECF6",
          "polar": {
           "angularaxis": {
            "gridcolor": "white",
            "linecolor": "white",
            "ticks": ""
           },
           "bgcolor": "#E5ECF6",
           "radialaxis": {
            "gridcolor": "white",
            "linecolor": "white",
            "ticks": ""
           }
          },
          "scene": {
           "xaxis": {
            "backgroundcolor": "#E5ECF6",
            "gridcolor": "white",
            "gridwidth": 2,
            "linecolor": "white",
            "showbackground": true,
            "ticks": "",
            "zerolinecolor": "white"
           },
           "yaxis": {
            "backgroundcolor": "#E5ECF6",
            "gridcolor": "white",
            "gridwidth": 2,
            "linecolor": "white",
            "showbackground": true,
            "ticks": "",
            "zerolinecolor": "white"
           },
           "zaxis": {
            "backgroundcolor": "#E5ECF6",
            "gridcolor": "white",
            "gridwidth": 2,
            "linecolor": "white",
            "showbackground": true,
            "ticks": "",
            "zerolinecolor": "white"
           }
          },
          "shapedefaults": {
           "line": {
            "color": "#2a3f5f"
           }
          },
          "ternary": {
           "aaxis": {
            "gridcolor": "white",
            "linecolor": "white",
            "ticks": ""
           },
           "baxis": {
            "gridcolor": "white",
            "linecolor": "white",
            "ticks": ""
           },
           "bgcolor": "#E5ECF6",
           "caxis": {
            "gridcolor": "white",
            "linecolor": "white",
            "ticks": ""
           }
          },
          "title": {
           "x": 0.05
          },
          "xaxis": {
           "automargin": true,
           "gridcolor": "white",
           "linecolor": "white",
           "ticks": "",
           "title": {
            "standoff": 15
           },
           "zerolinecolor": "white",
           "zerolinewidth": 2
          },
          "yaxis": {
           "automargin": true,
           "gridcolor": "white",
           "linecolor": "white",
           "ticks": "",
           "title": {
            "standoff": 15
           },
           "zerolinecolor": "white",
           "zerolinewidth": 2
          }
         }
        },
        "title": {
         "font": {
          "color": "#4D5663"
         }
        },
        "xaxis": {
         "anchor": "y",
         "domain": [
          0,
          0.2125
         ],
         "gridcolor": "#E1E5ED",
         "showgrid": false,
         "tickfont": {
          "color": "#4D5663"
         },
         "title": {
          "font": {
           "color": "#4D5663"
          },
          "text": ""
         },
         "zerolinecolor": "#E1E5ED"
        },
        "xaxis10": {
         "anchor": "y10",
         "domain": [
          0.2625,
          0.475
         ],
         "gridcolor": "#E1E5ED",
         "showgrid": false,
         "tickfont": {
          "color": "#4D5663"
         },
         "title": {
          "font": {
           "color": "#4D5663"
          },
          "text": ""
         },
         "zerolinecolor": "#E1E5ED"
        },
        "xaxis11": {
         "anchor": "y11",
         "domain": [
          0.525,
          0.7375
         ],
         "gridcolor": "#E1E5ED",
         "showgrid": false,
         "tickfont": {
          "color": "#4D5663"
         },
         "title": {
          "font": {
           "color": "#4D5663"
          },
          "text": ""
         },
         "zerolinecolor": "#E1E5ED"
        },
        "xaxis12": {
         "anchor": "y12",
         "domain": [
          0.7875,
          1
         ],
         "gridcolor": "#E1E5ED",
         "showgrid": false,
         "tickfont": {
          "color": "#4D5663"
         },
         "title": {
          "font": {
           "color": "#4D5663"
          },
          "text": ""
         },
         "zerolinecolor": "#E1E5ED"
        },
        "xaxis13": {
         "anchor": "y13",
         "domain": [
          0,
          0.2125
         ],
         "gridcolor": "#E1E5ED",
         "showgrid": false,
         "tickfont": {
          "color": "#4D5663"
         },
         "title": {
          "font": {
           "color": "#4D5663"
          },
          "text": ""
         },
         "zerolinecolor": "#E1E5ED"
        },
        "xaxis14": {
         "anchor": "y14",
         "domain": [
          0.2625,
          0.475
         ],
         "gridcolor": "#E1E5ED",
         "showgrid": false,
         "tickfont": {
          "color": "#4D5663"
         },
         "title": {
          "font": {
           "color": "#4D5663"
          },
          "text": ""
         },
         "zerolinecolor": "#E1E5ED"
        },
        "xaxis15": {
         "anchor": "y15",
         "domain": [
          0.525,
          0.7375
         ],
         "gridcolor": "#E1E5ED",
         "showgrid": false,
         "tickfont": {
          "color": "#4D5663"
         },
         "title": {
          "font": {
           "color": "#4D5663"
          },
          "text": ""
         },
         "zerolinecolor": "#E1E5ED"
        },
        "xaxis16": {
         "anchor": "y16",
         "domain": [
          0.7875,
          1
         ],
         "gridcolor": "#E1E5ED",
         "showgrid": false,
         "tickfont": {
          "color": "#4D5663"
         },
         "title": {
          "font": {
           "color": "#4D5663"
          },
          "text": ""
         },
         "zerolinecolor": "#E1E5ED"
        },
        "xaxis2": {
         "anchor": "y2",
         "domain": [
          0.2625,
          0.475
         ],
         "gridcolor": "#E1E5ED",
         "showgrid": false,
         "tickfont": {
          "color": "#4D5663"
         },
         "title": {
          "font": {
           "color": "#4D5663"
          },
          "text": ""
         },
         "zerolinecolor": "#E1E5ED"
        },
        "xaxis3": {
         "anchor": "y3",
         "domain": [
          0.525,
          0.7375
         ],
         "gridcolor": "#E1E5ED",
         "showgrid": false,
         "tickfont": {
          "color": "#4D5663"
         },
         "title": {
          "font": {
           "color": "#4D5663"
          },
          "text": ""
         },
         "zerolinecolor": "#E1E5ED"
        },
        "xaxis4": {
         "anchor": "y4",
         "domain": [
          0.7875,
          1
         ],
         "gridcolor": "#E1E5ED",
         "showgrid": false,
         "tickfont": {
          "color": "#4D5663"
         },
         "title": {
          "font": {
           "color": "#4D5663"
          },
          "text": ""
         },
         "zerolinecolor": "#E1E5ED"
        },
        "xaxis5": {
         "anchor": "y5",
         "domain": [
          0,
          0.2125
         ],
         "gridcolor": "#E1E5ED",
         "showgrid": false,
         "tickfont": {
          "color": "#4D5663"
         },
         "title": {
          "font": {
           "color": "#4D5663"
          },
          "text": ""
         },
         "zerolinecolor": "#E1E5ED"
        },
        "xaxis6": {
         "anchor": "y6",
         "domain": [
          0.2625,
          0.475
         ],
         "gridcolor": "#E1E5ED",
         "showgrid": false,
         "tickfont": {
          "color": "#4D5663"
         },
         "title": {
          "font": {
           "color": "#4D5663"
          },
          "text": ""
         },
         "zerolinecolor": "#E1E5ED"
        },
        "xaxis7": {
         "anchor": "y7",
         "domain": [
          0.525,
          0.7375
         ],
         "gridcolor": "#E1E5ED",
         "showgrid": false,
         "tickfont": {
          "color": "#4D5663"
         },
         "title": {
          "font": {
           "color": "#4D5663"
          },
          "text": ""
         },
         "zerolinecolor": "#E1E5ED"
        },
        "xaxis8": {
         "anchor": "y8",
         "domain": [
          0.7875,
          1
         ],
         "gridcolor": "#E1E5ED",
         "showgrid": false,
         "tickfont": {
          "color": "#4D5663"
         },
         "title": {
          "font": {
           "color": "#4D5663"
          },
          "text": ""
         },
         "zerolinecolor": "#E1E5ED"
        },
        "xaxis9": {
         "anchor": "y9",
         "domain": [
          0,
          0.2125
         ],
         "gridcolor": "#E1E5ED",
         "showgrid": false,
         "tickfont": {
          "color": "#4D5663"
         },
         "title": {
          "font": {
           "color": "#4D5663"
          },
          "text": ""
         },
         "zerolinecolor": "#E1E5ED"
        },
        "yaxis": {
         "anchor": "x",
         "domain": [
          0.8025,
          1
         ],
         "gridcolor": "#E1E5ED",
         "showgrid": false,
         "tickfont": {
          "color": "#4D5663"
         },
         "title": {
          "font": {
           "color": "#4D5663"
          },
          "text": ""
         },
         "zerolinecolor": "#E1E5ED"
        },
        "yaxis10": {
         "anchor": "x10",
         "domain": [
          0.2675,
          0.465
         ],
         "gridcolor": "#E1E5ED",
         "showgrid": false,
         "tickfont": {
          "color": "#4D5663"
         },
         "title": {
          "font": {
           "color": "#4D5663"
          },
          "text": ""
         },
         "zerolinecolor": "#E1E5ED"
        },
        "yaxis11": {
         "anchor": "x11",
         "domain": [
          0.2675,
          0.465
         ],
         "gridcolor": "#E1E5ED",
         "showgrid": false,
         "tickfont": {
          "color": "#4D5663"
         },
         "title": {
          "font": {
           "color": "#4D5663"
          },
          "text": ""
         },
         "zerolinecolor": "#E1E5ED"
        },
        "yaxis12": {
         "anchor": "x12",
         "domain": [
          0.2675,
          0.465
         ],
         "gridcolor": "#E1E5ED",
         "showgrid": false,
         "tickfont": {
          "color": "#4D5663"
         },
         "title": {
          "font": {
           "color": "#4D5663"
          },
          "text": ""
         },
         "zerolinecolor": "#E1E5ED"
        },
        "yaxis13": {
         "anchor": "x13",
         "domain": [
          0,
          0.1975
         ],
         "gridcolor": "#E1E5ED",
         "showgrid": false,
         "tickfont": {
          "color": "#4D5663"
         },
         "title": {
          "font": {
           "color": "#4D5663"
          },
          "text": ""
         },
         "zerolinecolor": "#E1E5ED"
        },
        "yaxis14": {
         "anchor": "x14",
         "domain": [
          0,
          0.1975
         ],
         "gridcolor": "#E1E5ED",
         "showgrid": false,
         "tickfont": {
          "color": "#4D5663"
         },
         "title": {
          "font": {
           "color": "#4D5663"
          },
          "text": ""
         },
         "zerolinecolor": "#E1E5ED"
        },
        "yaxis15": {
         "anchor": "x15",
         "domain": [
          0,
          0.1975
         ],
         "gridcolor": "#E1E5ED",
         "showgrid": false,
         "tickfont": {
          "color": "#4D5663"
         },
         "title": {
          "font": {
           "color": "#4D5663"
          },
          "text": ""
         },
         "zerolinecolor": "#E1E5ED"
        },
        "yaxis16": {
         "anchor": "x16",
         "domain": [
          0,
          0.1975
         ],
         "gridcolor": "#E1E5ED",
         "showgrid": false,
         "tickfont": {
          "color": "#4D5663"
         },
         "title": {
          "font": {
           "color": "#4D5663"
          },
          "text": ""
         },
         "zerolinecolor": "#E1E5ED"
        },
        "yaxis2": {
         "anchor": "x2",
         "domain": [
          0.8025,
          1
         ],
         "gridcolor": "#E1E5ED",
         "showgrid": false,
         "tickfont": {
          "color": "#4D5663"
         },
         "title": {
          "font": {
           "color": "#4D5663"
          },
          "text": ""
         },
         "zerolinecolor": "#E1E5ED"
        },
        "yaxis3": {
         "anchor": "x3",
         "domain": [
          0.8025,
          1
         ],
         "gridcolor": "#E1E5ED",
         "showgrid": false,
         "tickfont": {
          "color": "#4D5663"
         },
         "title": {
          "font": {
           "color": "#4D5663"
          },
          "text": ""
         },
         "zerolinecolor": "#E1E5ED"
        },
        "yaxis4": {
         "anchor": "x4",
         "domain": [
          0.8025,
          1
         ],
         "gridcolor": "#E1E5ED",
         "showgrid": false,
         "tickfont": {
          "color": "#4D5663"
         },
         "title": {
          "font": {
           "color": "#4D5663"
          },
          "text": ""
         },
         "zerolinecolor": "#E1E5ED"
        },
        "yaxis5": {
         "anchor": "x5",
         "domain": [
          0.535,
          0.7325
         ],
         "gridcolor": "#E1E5ED",
         "showgrid": false,
         "tickfont": {
          "color": "#4D5663"
         },
         "title": {
          "font": {
           "color": "#4D5663"
          },
          "text": ""
         },
         "zerolinecolor": "#E1E5ED"
        },
        "yaxis6": {
         "anchor": "x6",
         "domain": [
          0.535,
          0.7325
         ],
         "gridcolor": "#E1E5ED",
         "showgrid": false,
         "tickfont": {
          "color": "#4D5663"
         },
         "title": {
          "font": {
           "color": "#4D5663"
          },
          "text": ""
         },
         "zerolinecolor": "#E1E5ED"
        },
        "yaxis7": {
         "anchor": "x7",
         "domain": [
          0.535,
          0.7325
         ],
         "gridcolor": "#E1E5ED",
         "showgrid": false,
         "tickfont": {
          "color": "#4D5663"
         },
         "title": {
          "font": {
           "color": "#4D5663"
          },
          "text": ""
         },
         "zerolinecolor": "#E1E5ED"
        },
        "yaxis8": {
         "anchor": "x8",
         "domain": [
          0.535,
          0.7325
         ],
         "gridcolor": "#E1E5ED",
         "showgrid": false,
         "tickfont": {
          "color": "#4D5663"
         },
         "title": {
          "font": {
           "color": "#4D5663"
          },
          "text": ""
         },
         "zerolinecolor": "#E1E5ED"
        },
        "yaxis9": {
         "anchor": "x9",
         "domain": [
          0.2675,
          0.465
         ],
         "gridcolor": "#E1E5ED",
         "showgrid": false,
         "tickfont": {
          "color": "#4D5663"
         },
         "title": {
          "font": {
           "color": "#4D5663"
          },
          "text": ""
         },
         "zerolinecolor": "#E1E5ED"
        }
       }
      },
      "text/html": [
       "<div>\n",
       "        \n",
       "        \n",
       "            <div id=\"916080c7-0434-4bf3-bb4d-b036416b8667\" class=\"plotly-graph-div\" style=\"height:525px; width:100%;\"></div>\n",
       "            <script type=\"text/javascript\">\n",
       "                require([\"plotly\"], function(Plotly) {\n",
       "                    window.PLOTLYENV=window.PLOTLYENV || {};\n",
       "                    window.PLOTLYENV.BASE_URL='https://plot.ly';\n",
       "                    \n",
       "                if (document.getElementById(\"916080c7-0434-4bf3-bb4d-b036416b8667\")) {\n",
       "                    Plotly.newPlot(\n",
       "                        '916080c7-0434-4bf3-bb4d-b036416b8667',\n",
       "                        [{\"histfunc\": \"count\", \"histnorm\": \"\", \"marker\": {\"color\": \"rgba(255, 153, 51, 1.0)\", \"line\": {\"color\": \"#4D5663\", \"width\": 1.3}}, \"name\": \"A\", \"nbinsx\": 10, \"opacity\": 0.8, \"orientation\": \"v\", \"type\": \"histogram\", \"x\": [-0.3778223188637527, 0.0922801329148354, 0.30314941242763466, -1.7247202757361555, -1.058806603088048, 0.3562706846101683, 0.5893574103570001, 0.4585923583725432, 1.1037945473464486, -0.3797924361831625, -1.0427165172979118, -2.353686639099532, -0.29509732902435676, -1.2329854565647862, -1.126512415797739, -2.7475965594656078, -1.2320765599446821, 1.1960796864242584, -1.5053003537604794, 1.4120424256808577, 0.44528925065892605, 0.9407256226239445, 0.3346734763472071, 0.6271526760473892, 0.8580570503239457, -1.5932250845668334, -1.899147120460595, -0.5867413973285835, -0.9077758388365309, -0.8265399131304081, -0.48541987181432733, -1.9699390955796718, 0.30671395224387316, -0.09814400017825455, 0.6194420460243791, 0.19192157796057446, 0.26127009853054683, 0.5934868937468604, 1.3023689503304985, -0.557661021363899, 1.3935040980784998, 0.6095413707122774, 0.19800162145167038, 0.17773739624827156, 0.1044704890515966, 0.7366235446387637, 0.12357136991878583, 0.09574507787250311, 0.4229303615159778, -0.05638478718449256, 0.0524134147976591, -0.32084851794570013, 3.323544545394268, -1.31951123577791, -1.0284774655531908, -0.4095367186350242, -0.9588002136398506, -0.12650654004935413, -0.860830501797706, -1.1880220044268255, 0.00549830950166235, 2.5233899814560115, -0.3659869477806698, 0.2246642533450928, 2.4174169231965945, -0.7850206563893745, 1.1952085514381636, -1.625831633350626, 0.8500313495956225, 0.1359891984288151, -0.30049628523290484, -0.5408007451983162, 1.156569580879917, -1.130335538700787, 0.009621902777194428, -0.4915624184966093, 0.8101057700385709, -0.3735203108248807, 1.8487969495407632, -1.218057266502291, 0.8398393241662376, 2.4987094763734685, 0.011469559294633237, 1.1906179842714053, 0.06397273787221386, 1.5721334359149062, -0.40219610269343364, -1.5792141027986448, 0.8781210937978811, -0.11279078387832467, -0.7966050137612551, -0.7811050635977146, 1.1377100099162374, 0.9886447210219727, -0.024892387637142906, 0.9431513722593761, -0.11290888417369738, 0.2128077746776085, -1.1045250270455622, -1.376879949847616], \"xaxis\": \"x\", \"yaxis\": \"y\"}, {\"line\": {\"color\": \"rgba(128, 128, 128, 1.0)\", \"dash\": \"solid\", \"shape\": \"linear\", \"width\": 1.3}, \"marker\": {\"size\": 2, \"symbol\": \"circle\"}, \"mode\": \"markers\", \"name\": \"A\", \"text\": \"\", \"type\": \"scatter\", \"x\": [-1.316494825844439, 0.2866719465461037, 1.0478572119460632, -0.49355271897014624, -0.3542447919084635, -0.32650917113074646, 1.1327673099908224, -0.8284119403094422, -0.7922051809940646, -0.42267745324087386, -1.0574974112458024, 0.05540325977674381, -1.1224762575973932, -0.017964883564133848, -0.1682330830079046, 1.8673751650772215, 0.08004730349155705, -1.1250216343133097, 1.025612290218689, -0.16745276111172824, 1.1195894693054642, 0.8560878889882733, -0.689496796712005, -0.10834697650456812, -0.7416035670698498, -1.4275386276737139, -0.8358930796699012, -1.6783958713333986, 0.5156163219565989, 0.4071645719782639, 2.6641197458789834, 0.6289898980658927, -2.745439843907141, -2.911319180158229, -0.4990510898715183, 0.3534404282333845, -1.1448283539966881, -0.08782184871280074, 1.286134650626389, -1.0219268738584983, 0.8533706050813746, -0.9101654435552414, -0.1944663516311447, 0.023407873628503623, -0.19119742997980924, -1.0047286399715987, -0.015257653555950003, -0.0056296678451680906, -0.11364674997934227, -0.3164297329600258, -1.1884782853636806, 0.5297264880579176, -0.5977201879104943, -0.10328709441783887, -0.40190680822729946, -0.015150400733030547, 1.6259239440798234, -0.9176223687265888, 0.09035423193074928, 0.5215540259689497, -1.5100934159184967, -0.5617412384064335, 1.9055962539223812, 0.03140965475767426, -1.3191667111676395, 0.15372129450845587, 0.6213905285187237, 1.4181655536798619, 1.1127703081989955, -0.0009139932771381095, 0.37146688251936105, 1.8410188890021395, 0.31324377589728125, 1.7741866034599767, 0.6860842020791837, -0.48426173373315584, -2.3158113012427592, 2.1987352884004943, 0.5909603338530436, 0.06152588978596741, -0.47230935828592624, 0.011882187395418206, 0.057482546270307536, -0.313899116576255, 0.8110275578864159, 0.31186695155541283, 0.017627978391445108, 1.0691785570143704, 1.6416457276834544, 1.4965106491758011, -0.5416788112901813, -0.599576260609268, 0.21003831009666457, 0.15285166599823136, 1.8531387222782865, -1.7774255813400108, 0.24270874088554262, 0.1685323107914805, -0.4263276741178543, -1.1424089489759095], \"xaxis\": \"x2\", \"y\": [-0.3778223188637527, 0.0922801329148354, 0.30314941242763466, -1.7247202757361555, -1.058806603088048, 0.3562706846101683, 0.5893574103570001, 0.4585923583725432, 1.1037945473464486, -0.3797924361831625, -1.0427165172979118, -2.353686639099532, -0.29509732902435676, -1.2329854565647862, -1.126512415797739, -2.7475965594656078, -1.2320765599446821, 1.1960796864242584, -1.5053003537604794, 1.4120424256808577, 0.44528925065892605, 0.9407256226239445, 0.3346734763472071, 0.6271526760473892, 0.8580570503239457, -1.5932250845668334, -1.899147120460595, -0.5867413973285835, -0.9077758388365309, -0.8265399131304081, -0.48541987181432733, -1.9699390955796718, 0.30671395224387316, -0.09814400017825455, 0.6194420460243791, 0.19192157796057446, 0.26127009853054683, 0.5934868937468604, 1.3023689503304985, -0.557661021363899, 1.3935040980784998, 0.6095413707122774, 0.19800162145167038, 0.17773739624827156, 0.1044704890515966, 0.7366235446387637, 0.12357136991878583, 0.09574507787250311, 0.4229303615159778, -0.05638478718449256, 0.0524134147976591, -0.32084851794570013, 3.323544545394268, -1.31951123577791, -1.0284774655531908, -0.4095367186350242, -0.9588002136398506, -0.12650654004935413, -0.860830501797706, -1.1880220044268255, 0.00549830950166235, 2.5233899814560115, -0.3659869477806698, 0.2246642533450928, 2.4174169231965945, -0.7850206563893745, 1.1952085514381636, -1.625831633350626, 0.8500313495956225, 0.1359891984288151, -0.30049628523290484, -0.5408007451983162, 1.156569580879917, -1.130335538700787, 0.009621902777194428, -0.4915624184966093, 0.8101057700385709, -0.3735203108248807, 1.8487969495407632, -1.218057266502291, 0.8398393241662376, 2.4987094763734685, 0.011469559294633237, 1.1906179842714053, 0.06397273787221386, 1.5721334359149062, -0.40219610269343364, -1.5792141027986448, 0.8781210937978811, -0.11279078387832467, -0.7966050137612551, -0.7811050635977146, 1.1377100099162374, 0.9886447210219727, -0.024892387637142906, 0.9431513722593761, -0.11290888417369738, 0.2128077746776085, -1.1045250270455622, -1.376879949847616], \"yaxis\": \"y2\"}, {\"line\": {\"color\": \"rgba(128, 128, 128, 1.0)\", \"dash\": \"solid\", \"shape\": \"linear\", \"width\": 1.3}, \"marker\": {\"size\": 2, \"symbol\": \"circle\"}, \"mode\": \"markers\", \"name\": \"A\", \"text\": \"\", \"type\": \"scatter\", \"x\": [1.406775720046884, 1.1496996192746953, -0.32630697549626747, -1.296832523493453, -0.5389668297279848, 0.493404219081789, 0.43584985082044786, -0.8214194987178164, 1.0786653759968017, -1.2983206517755435, -2.5881414790267026, -1.7753004429759662, -0.21644596706932792, -1.0042188960197214, 0.5757291561543383, -0.5239132916002543, -0.772747927796187, -0.46812940826066063, 1.4521343103982036, 1.2846326654255793, 0.04504784799893927, -1.893576967991285, 0.3919703444042239, -0.48642321199236016, -0.5437908861394942, -0.2792570281533198, 1.4133221039855208, 1.6976634794530043, 1.4567259108246078, -1.8221214160932686, 0.20003524706278106, 0.1983044868834503, 0.14911029729587455, -1.346467447568015, 0.43398946401134586, 0.22233685214677837, 0.47957669586758106, -1.102331238917154, -0.4998942192434582, -0.521068698854739, 0.8973733424337166, -0.7816245886464664, 0.22537260587342783, -0.8787885822828528, 1.4230446901233393, 0.34987293086009996, 1.3911796291059848, 1.2403794662202954, 0.5114066728728492, -2.0166321273917736, 0.7856861588247765, 0.13691720786003714, -0.7880673590618453, 0.03716769157101709, 0.7799372126487223, 1.7985491905038886, -0.19659818359663062, -0.012702577323151937, -0.8626960422069377, 0.3597157395604989, 0.6265896221927325, -0.9308715158558263, 1.3464372604156218, 0.6498728187409063, -1.6511662689241349, -0.9229299197376384, -1.2478417510711537, 1.5227750396514883, -0.6311981482876451, 1.551260004036639, -0.10502460554637756, -0.8493628839047709, 2.027302413088894, -2.7934070100435475, 0.6446845621352232, 0.22071236826477122, 1.0616860404591533, 0.7467718877024979, 0.0707552703298251, -1.1786996958286515, 0.5243730244208548, 0.39007878937880947, -0.5946194961721954, 0.639070916937189, -0.7160141695559963, 0.2456768588349713, 0.5563854384232808, 0.564420226858298, -0.0690448547947384, -1.2593419532553742, 0.6374531147193259, 1.2207630578986564, 0.11105879218861575, 0.12374607949375441, -2.2355297017644813, 0.9520764800263771, -0.0453887598932331, 0.09024937485326473, -0.3105849048692074, -0.668433153781252], \"xaxis\": \"x3\", \"y\": [-0.3778223188637527, 0.0922801329148354, 0.30314941242763466, -1.7247202757361555, -1.058806603088048, 0.3562706846101683, 0.5893574103570001, 0.4585923583725432, 1.1037945473464486, -0.3797924361831625, -1.0427165172979118, -2.353686639099532, -0.29509732902435676, -1.2329854565647862, -1.126512415797739, -2.7475965594656078, -1.2320765599446821, 1.1960796864242584, -1.5053003537604794, 1.4120424256808577, 0.44528925065892605, 0.9407256226239445, 0.3346734763472071, 0.6271526760473892, 0.8580570503239457, -1.5932250845668334, -1.899147120460595, -0.5867413973285835, -0.9077758388365309, -0.8265399131304081, -0.48541987181432733, -1.9699390955796718, 0.30671395224387316, -0.09814400017825455, 0.6194420460243791, 0.19192157796057446, 0.26127009853054683, 0.5934868937468604, 1.3023689503304985, -0.557661021363899, 1.3935040980784998, 0.6095413707122774, 0.19800162145167038, 0.17773739624827156, 0.1044704890515966, 0.7366235446387637, 0.12357136991878583, 0.09574507787250311, 0.4229303615159778, -0.05638478718449256, 0.0524134147976591, -0.32084851794570013, 3.323544545394268, -1.31951123577791, -1.0284774655531908, -0.4095367186350242, -0.9588002136398506, -0.12650654004935413, -0.860830501797706, -1.1880220044268255, 0.00549830950166235, 2.5233899814560115, -0.3659869477806698, 0.2246642533450928, 2.4174169231965945, -0.7850206563893745, 1.1952085514381636, -1.625831633350626, 0.8500313495956225, 0.1359891984288151, -0.30049628523290484, -0.5408007451983162, 1.156569580879917, -1.130335538700787, 0.009621902777194428, -0.4915624184966093, 0.8101057700385709, -0.3735203108248807, 1.8487969495407632, -1.218057266502291, 0.8398393241662376, 2.4987094763734685, 0.011469559294633237, 1.1906179842714053, 0.06397273787221386, 1.5721334359149062, -0.40219610269343364, -1.5792141027986448, 0.8781210937978811, -0.11279078387832467, -0.7966050137612551, -0.7811050635977146, 1.1377100099162374, 0.9886447210219727, -0.024892387637142906, 0.9431513722593761, -0.11290888417369738, 0.2128077746776085, -1.1045250270455622, -1.376879949847616], \"yaxis\": \"y3\"}, {\"line\": {\"color\": \"rgba(128, 128, 128, 1.0)\", \"dash\": \"solid\", \"shape\": \"linear\", \"width\": 1.3}, \"marker\": {\"size\": 2, \"symbol\": \"circle\"}, \"mode\": \"markers\", \"name\": \"A\", \"text\": \"\", \"type\": \"scatter\", \"x\": [-0.7828650546033424, -0.3596533224921512, 2.434719466250771, -0.9760353510297209, -1.586223995581084, 0.3433342180231897, -0.31836419405528904, -0.5890956005205258, -0.7323000953439843, 0.5769436208430118, 1.0130015446224054, 2.6356901709872482, -0.8638788997042456, -0.018631462990366488, 1.4687779876612514, 0.5617108204276043, 0.4415436167544604, 1.179320520273603, 0.44805899141703515, 0.9478082903689579, -0.5370436644028713, -0.4731704080052558, 0.31223709024066526, -0.5060976754902158, 0.07033654950523442, 0.3960105865413948, -0.424067082278597, 1.0751328588786822, 0.7736680128061073, -0.4259995984742435, 2.3006358449268127, -2.1192105641547876, -0.8880452412793026, 0.3337262950860996, 0.8153607065240488, 1.7043940134934612, 0.920540277767794, 0.4234086995152187, 0.4079448723600171, 1.75499020536987, -0.33330185707420723, -0.9145116511004463, 0.20006830351177876, -2.1140128038847243, -0.5977221954328469, 0.060721644402041634, -0.018137439504961928, 0.3196159992873991, 0.47730693769300037, -0.5384123818186065, 0.093217833984639, -0.09918326283418104, 0.6638592384521873, -1.641643122886323, -1.0076183003204213, -1.0455237773603263, -1.3559854330219154, 1.2553785663067567, 0.04446140211217297, 0.17890724289904997, 0.5141432214794293, 0.6733623595289793, 0.0017206586771053502, 1.7002385173305798, 0.3766576304553358, 1.6828371294794315, 0.12107287487108928, -0.5385881907425488, 0.6373655957718737, 2.1318433715940754, -1.0880384152907472, 0.32166878175520086, 1.4445937515436955, 0.1568411213201166, -1.226161112722581, 0.514702914050513, 1.0750421171304343, -0.9812992268141888, -0.5516496428257325, 0.40064604570951057, -2.1041721784953715, 1.3671390546573465, 0.24634804179867126, -1.0944570399758755, -1.4450080892781683, -0.7421966077271516, -0.6343872745838302, 0.36836371271043256, -0.6519255392459694, -0.2474436412537946, -0.9071546146833869, -1.0249724944144538, -1.6963961761097375, -0.4012714947050643, -0.1521446041864467, -0.4959909750493157, 0.532628405005131, -0.6717570080851565, 0.00844951382232753, -1.0177919469853345], \"xaxis\": \"x4\", \"y\": [-0.3778223188637527, 0.0922801329148354, 0.30314941242763466, -1.7247202757361555, -1.058806603088048, 0.3562706846101683, 0.5893574103570001, 0.4585923583725432, 1.1037945473464486, -0.3797924361831625, -1.0427165172979118, -2.353686639099532, -0.29509732902435676, -1.2329854565647862, -1.126512415797739, -2.7475965594656078, -1.2320765599446821, 1.1960796864242584, -1.5053003537604794, 1.4120424256808577, 0.44528925065892605, 0.9407256226239445, 0.3346734763472071, 0.6271526760473892, 0.8580570503239457, -1.5932250845668334, -1.899147120460595, -0.5867413973285835, -0.9077758388365309, -0.8265399131304081, -0.48541987181432733, -1.9699390955796718, 0.30671395224387316, -0.09814400017825455, 0.6194420460243791, 0.19192157796057446, 0.26127009853054683, 0.5934868937468604, 1.3023689503304985, -0.557661021363899, 1.3935040980784998, 0.6095413707122774, 0.19800162145167038, 0.17773739624827156, 0.1044704890515966, 0.7366235446387637, 0.12357136991878583, 0.09574507787250311, 0.4229303615159778, -0.05638478718449256, 0.0524134147976591, -0.32084851794570013, 3.323544545394268, -1.31951123577791, -1.0284774655531908, -0.4095367186350242, -0.9588002136398506, -0.12650654004935413, -0.860830501797706, -1.1880220044268255, 0.00549830950166235, 2.5233899814560115, -0.3659869477806698, 0.2246642533450928, 2.4174169231965945, -0.7850206563893745, 1.1952085514381636, -1.625831633350626, 0.8500313495956225, 0.1359891984288151, -0.30049628523290484, -0.5408007451983162, 1.156569580879917, -1.130335538700787, 0.009621902777194428, -0.4915624184966093, 0.8101057700385709, -0.3735203108248807, 1.8487969495407632, -1.218057266502291, 0.8398393241662376, 2.4987094763734685, 0.011469559294633237, 1.1906179842714053, 0.06397273787221386, 1.5721334359149062, -0.40219610269343364, -1.5792141027986448, 0.8781210937978811, -0.11279078387832467, -0.7966050137612551, -0.7811050635977146, 1.1377100099162374, 0.9886447210219727, -0.024892387637142906, 0.9431513722593761, -0.11290888417369738, 0.2128077746776085, -1.1045250270455622, -1.376879949847616], \"yaxis\": \"y4\"}, {\"line\": {\"color\": \"rgba(128, 128, 128, 1.0)\", \"dash\": \"solid\", \"shape\": \"linear\", \"width\": 1.3}, \"marker\": {\"size\": 2, \"symbol\": \"circle\"}, \"mode\": \"markers\", \"name\": \"B\", \"text\": \"\", \"type\": \"scatter\", \"x\": [-0.3778223188637527, 0.0922801329148354, 0.30314941242763466, -1.7247202757361555, -1.058806603088048, 0.3562706846101683, 0.5893574103570001, 0.4585923583725432, 1.1037945473464486, -0.3797924361831625, -1.0427165172979118, -2.353686639099532, -0.29509732902435676, -1.2329854565647862, -1.126512415797739, -2.7475965594656078, -1.2320765599446821, 1.1960796864242584, -1.5053003537604794, 1.4120424256808577, 0.44528925065892605, 0.9407256226239445, 0.3346734763472071, 0.6271526760473892, 0.8580570503239457, -1.5932250845668334, -1.899147120460595, -0.5867413973285835, -0.9077758388365309, -0.8265399131304081, -0.48541987181432733, -1.9699390955796718, 0.30671395224387316, -0.09814400017825455, 0.6194420460243791, 0.19192157796057446, 0.26127009853054683, 0.5934868937468604, 1.3023689503304985, -0.557661021363899, 1.3935040980784998, 0.6095413707122774, 0.19800162145167038, 0.17773739624827156, 0.1044704890515966, 0.7366235446387637, 0.12357136991878583, 0.09574507787250311, 0.4229303615159778, -0.05638478718449256, 0.0524134147976591, -0.32084851794570013, 3.323544545394268, -1.31951123577791, -1.0284774655531908, -0.4095367186350242, -0.9588002136398506, -0.12650654004935413, -0.860830501797706, -1.1880220044268255, 0.00549830950166235, 2.5233899814560115, -0.3659869477806698, 0.2246642533450928, 2.4174169231965945, -0.7850206563893745, 1.1952085514381636, -1.625831633350626, 0.8500313495956225, 0.1359891984288151, -0.30049628523290484, -0.5408007451983162, 1.156569580879917, -1.130335538700787, 0.009621902777194428, -0.4915624184966093, 0.8101057700385709, -0.3735203108248807, 1.8487969495407632, -1.218057266502291, 0.8398393241662376, 2.4987094763734685, 0.011469559294633237, 1.1906179842714053, 0.06397273787221386, 1.5721334359149062, -0.40219610269343364, -1.5792141027986448, 0.8781210937978811, -0.11279078387832467, -0.7966050137612551, -0.7811050635977146, 1.1377100099162374, 0.9886447210219727, -0.024892387637142906, 0.9431513722593761, -0.11290888417369738, 0.2128077746776085, -1.1045250270455622, -1.376879949847616], \"xaxis\": \"x5\", \"y\": [-1.316494825844439, 0.2866719465461037, 1.0478572119460632, -0.49355271897014624, -0.3542447919084635, -0.32650917113074646, 1.1327673099908224, -0.8284119403094422, -0.7922051809940646, -0.42267745324087386, -1.0574974112458024, 0.05540325977674381, -1.1224762575973932, -0.017964883564133848, -0.1682330830079046, 1.8673751650772215, 0.08004730349155705, -1.1250216343133097, 1.025612290218689, -0.16745276111172824, 1.1195894693054642, 0.8560878889882733, -0.689496796712005, -0.10834697650456812, -0.7416035670698498, -1.4275386276737139, -0.8358930796699012, -1.6783958713333986, 0.5156163219565989, 0.4071645719782639, 2.6641197458789834, 0.6289898980658927, -2.745439843907141, -2.911319180158229, -0.4990510898715183, 0.3534404282333845, -1.1448283539966881, -0.08782184871280074, 1.286134650626389, -1.0219268738584983, 0.8533706050813746, -0.9101654435552414, -0.1944663516311447, 0.023407873628503623, -0.19119742997980924, -1.0047286399715987, -0.015257653555950003, -0.0056296678451680906, -0.11364674997934227, -0.3164297329600258, -1.1884782853636806, 0.5297264880579176, -0.5977201879104943, -0.10328709441783887, -0.40190680822729946, -0.015150400733030547, 1.6259239440798234, -0.9176223687265888, 0.09035423193074928, 0.5215540259689497, -1.5100934159184967, -0.5617412384064335, 1.9055962539223812, 0.03140965475767426, -1.3191667111676395, 0.15372129450845587, 0.6213905285187237, 1.4181655536798619, 1.1127703081989955, -0.0009139932771381095, 0.37146688251936105, 1.8410188890021395, 0.31324377589728125, 1.7741866034599767, 0.6860842020791837, -0.48426173373315584, -2.3158113012427592, 2.1987352884004943, 0.5909603338530436, 0.06152588978596741, -0.47230935828592624, 0.011882187395418206, 0.057482546270307536, -0.313899116576255, 0.8110275578864159, 0.31186695155541283, 0.017627978391445108, 1.0691785570143704, 1.6416457276834544, 1.4965106491758011, -0.5416788112901813, -0.599576260609268, 0.21003831009666457, 0.15285166599823136, 1.8531387222782865, -1.7774255813400108, 0.24270874088554262, 0.1685323107914805, -0.4263276741178543, -1.1424089489759095], \"yaxis\": \"y5\"}, {\"histfunc\": \"count\", \"histnorm\": \"\", \"marker\": {\"color\": \"rgba(55, 128, 191, 1.0)\", \"line\": {\"color\": \"#4D5663\", \"width\": 1.3}}, \"name\": \"B\", \"nbinsx\": 10, \"opacity\": 0.8, \"orientation\": \"v\", \"type\": \"histogram\", \"x\": [-1.316494825844439, 0.2866719465461037, 1.0478572119460632, -0.49355271897014624, -0.3542447919084635, -0.32650917113074646, 1.1327673099908224, -0.8284119403094422, -0.7922051809940646, -0.42267745324087386, -1.0574974112458024, 0.05540325977674381, -1.1224762575973932, -0.017964883564133848, -0.1682330830079046, 1.8673751650772215, 0.08004730349155705, -1.1250216343133097, 1.025612290218689, -0.16745276111172824, 1.1195894693054642, 0.8560878889882733, -0.689496796712005, -0.10834697650456812, -0.7416035670698498, -1.4275386276737139, -0.8358930796699012, -1.6783958713333986, 0.5156163219565989, 0.4071645719782639, 2.6641197458789834, 0.6289898980658927, -2.745439843907141, -2.911319180158229, -0.4990510898715183, 0.3534404282333845, -1.1448283539966881, -0.08782184871280074, 1.286134650626389, -1.0219268738584983, 0.8533706050813746, -0.9101654435552414, -0.1944663516311447, 0.023407873628503623, -0.19119742997980924, -1.0047286399715987, -0.015257653555950003, -0.0056296678451680906, -0.11364674997934227, -0.3164297329600258, -1.1884782853636806, 0.5297264880579176, -0.5977201879104943, -0.10328709441783887, -0.40190680822729946, -0.015150400733030547, 1.6259239440798234, -0.9176223687265888, 0.09035423193074928, 0.5215540259689497, -1.5100934159184967, -0.5617412384064335, 1.9055962539223812, 0.03140965475767426, -1.3191667111676395, 0.15372129450845587, 0.6213905285187237, 1.4181655536798619, 1.1127703081989955, -0.0009139932771381095, 0.37146688251936105, 1.8410188890021395, 0.31324377589728125, 1.7741866034599767, 0.6860842020791837, -0.48426173373315584, -2.3158113012427592, 2.1987352884004943, 0.5909603338530436, 0.06152588978596741, -0.47230935828592624, 0.011882187395418206, 0.057482546270307536, -0.313899116576255, 0.8110275578864159, 0.31186695155541283, 0.017627978391445108, 1.0691785570143704, 1.6416457276834544, 1.4965106491758011, -0.5416788112901813, -0.599576260609268, 0.21003831009666457, 0.15285166599823136, 1.8531387222782865, -1.7774255813400108, 0.24270874088554262, 0.1685323107914805, -0.4263276741178543, -1.1424089489759095], \"xaxis\": \"x6\", \"yaxis\": \"y6\"}, {\"line\": {\"color\": \"rgba(128, 128, 128, 1.0)\", \"dash\": \"solid\", \"shape\": \"linear\", \"width\": 1.3}, \"marker\": {\"size\": 2, \"symbol\": \"circle\"}, \"mode\": \"markers\", \"name\": \"B\", \"text\": \"\", \"type\": \"scatter\", \"x\": [1.406775720046884, 1.1496996192746953, -0.32630697549626747, -1.296832523493453, -0.5389668297279848, 0.493404219081789, 0.43584985082044786, -0.8214194987178164, 1.0786653759968017, -1.2983206517755435, -2.5881414790267026, -1.7753004429759662, -0.21644596706932792, -1.0042188960197214, 0.5757291561543383, -0.5239132916002543, -0.772747927796187, -0.46812940826066063, 1.4521343103982036, 1.2846326654255793, 0.04504784799893927, -1.893576967991285, 0.3919703444042239, -0.48642321199236016, -0.5437908861394942, -0.2792570281533198, 1.4133221039855208, 1.6976634794530043, 1.4567259108246078, -1.8221214160932686, 0.20003524706278106, 0.1983044868834503, 0.14911029729587455, -1.346467447568015, 0.43398946401134586, 0.22233685214677837, 0.47957669586758106, -1.102331238917154, -0.4998942192434582, -0.521068698854739, 0.8973733424337166, -0.7816245886464664, 0.22537260587342783, -0.8787885822828528, 1.4230446901233393, 0.34987293086009996, 1.3911796291059848, 1.2403794662202954, 0.5114066728728492, -2.0166321273917736, 0.7856861588247765, 0.13691720786003714, -0.7880673590618453, 0.03716769157101709, 0.7799372126487223, 1.7985491905038886, -0.19659818359663062, -0.012702577323151937, -0.8626960422069377, 0.3597157395604989, 0.6265896221927325, -0.9308715158558263, 1.3464372604156218, 0.6498728187409063, -1.6511662689241349, -0.9229299197376384, -1.2478417510711537, 1.5227750396514883, -0.6311981482876451, 1.551260004036639, -0.10502460554637756, -0.8493628839047709, 2.027302413088894, -2.7934070100435475, 0.6446845621352232, 0.22071236826477122, 1.0616860404591533, 0.7467718877024979, 0.0707552703298251, -1.1786996958286515, 0.5243730244208548, 0.39007878937880947, -0.5946194961721954, 0.639070916937189, -0.7160141695559963, 0.2456768588349713, 0.5563854384232808, 0.564420226858298, -0.0690448547947384, -1.2593419532553742, 0.6374531147193259, 1.2207630578986564, 0.11105879218861575, 0.12374607949375441, -2.2355297017644813, 0.9520764800263771, -0.0453887598932331, 0.09024937485326473, -0.3105849048692074, -0.668433153781252], \"xaxis\": \"x7\", \"y\": [-1.316494825844439, 0.2866719465461037, 1.0478572119460632, -0.49355271897014624, -0.3542447919084635, -0.32650917113074646, 1.1327673099908224, -0.8284119403094422, -0.7922051809940646, -0.42267745324087386, -1.0574974112458024, 0.05540325977674381, -1.1224762575973932, -0.017964883564133848, -0.1682330830079046, 1.8673751650772215, 0.08004730349155705, -1.1250216343133097, 1.025612290218689, -0.16745276111172824, 1.1195894693054642, 0.8560878889882733, -0.689496796712005, -0.10834697650456812, -0.7416035670698498, -1.4275386276737139, -0.8358930796699012, -1.6783958713333986, 0.5156163219565989, 0.4071645719782639, 2.6641197458789834, 0.6289898980658927, -2.745439843907141, -2.911319180158229, -0.4990510898715183, 0.3534404282333845, -1.1448283539966881, -0.08782184871280074, 1.286134650626389, -1.0219268738584983, 0.8533706050813746, -0.9101654435552414, -0.1944663516311447, 0.023407873628503623, -0.19119742997980924, -1.0047286399715987, -0.015257653555950003, -0.0056296678451680906, -0.11364674997934227, -0.3164297329600258, -1.1884782853636806, 0.5297264880579176, -0.5977201879104943, -0.10328709441783887, -0.40190680822729946, -0.015150400733030547, 1.6259239440798234, -0.9176223687265888, 0.09035423193074928, 0.5215540259689497, -1.5100934159184967, -0.5617412384064335, 1.9055962539223812, 0.03140965475767426, -1.3191667111676395, 0.15372129450845587, 0.6213905285187237, 1.4181655536798619, 1.1127703081989955, -0.0009139932771381095, 0.37146688251936105, 1.8410188890021395, 0.31324377589728125, 1.7741866034599767, 0.6860842020791837, -0.48426173373315584, -2.3158113012427592, 2.1987352884004943, 0.5909603338530436, 0.06152588978596741, -0.47230935828592624, 0.011882187395418206, 0.057482546270307536, -0.313899116576255, 0.8110275578864159, 0.31186695155541283, 0.017627978391445108, 1.0691785570143704, 1.6416457276834544, 1.4965106491758011, -0.5416788112901813, -0.599576260609268, 0.21003831009666457, 0.15285166599823136, 1.8531387222782865, -1.7774255813400108, 0.24270874088554262, 0.1685323107914805, -0.4263276741178543, -1.1424089489759095], \"yaxis\": \"y7\"}, {\"line\": {\"color\": \"rgba(128, 128, 128, 1.0)\", \"dash\": \"solid\", \"shape\": \"linear\", \"width\": 1.3}, \"marker\": {\"size\": 2, \"symbol\": \"circle\"}, \"mode\": \"markers\", \"name\": \"B\", \"text\": \"\", \"type\": \"scatter\", \"x\": [-0.7828650546033424, -0.3596533224921512, 2.434719466250771, -0.9760353510297209, -1.586223995581084, 0.3433342180231897, -0.31836419405528904, -0.5890956005205258, -0.7323000953439843, 0.5769436208430118, 1.0130015446224054, 2.6356901709872482, -0.8638788997042456, -0.018631462990366488, 1.4687779876612514, 0.5617108204276043, 0.4415436167544604, 1.179320520273603, 0.44805899141703515, 0.9478082903689579, -0.5370436644028713, -0.4731704080052558, 0.31223709024066526, -0.5060976754902158, 0.07033654950523442, 0.3960105865413948, -0.424067082278597, 1.0751328588786822, 0.7736680128061073, -0.4259995984742435, 2.3006358449268127, -2.1192105641547876, -0.8880452412793026, 0.3337262950860996, 0.8153607065240488, 1.7043940134934612, 0.920540277767794, 0.4234086995152187, 0.4079448723600171, 1.75499020536987, -0.33330185707420723, -0.9145116511004463, 0.20006830351177876, -2.1140128038847243, -0.5977221954328469, 0.060721644402041634, -0.018137439504961928, 0.3196159992873991, 0.47730693769300037, -0.5384123818186065, 0.093217833984639, -0.09918326283418104, 0.6638592384521873, -1.641643122886323, -1.0076183003204213, -1.0455237773603263, -1.3559854330219154, 1.2553785663067567, 0.04446140211217297, 0.17890724289904997, 0.5141432214794293, 0.6733623595289793, 0.0017206586771053502, 1.7002385173305798, 0.3766576304553358, 1.6828371294794315, 0.12107287487108928, -0.5385881907425488, 0.6373655957718737, 2.1318433715940754, -1.0880384152907472, 0.32166878175520086, 1.4445937515436955, 0.1568411213201166, -1.226161112722581, 0.514702914050513, 1.0750421171304343, -0.9812992268141888, -0.5516496428257325, 0.40064604570951057, -2.1041721784953715, 1.3671390546573465, 0.24634804179867126, -1.0944570399758755, -1.4450080892781683, -0.7421966077271516, -0.6343872745838302, 0.36836371271043256, -0.6519255392459694, -0.2474436412537946, -0.9071546146833869, -1.0249724944144538, -1.6963961761097375, -0.4012714947050643, -0.1521446041864467, -0.4959909750493157, 0.532628405005131, -0.6717570080851565, 0.00844951382232753, -1.0177919469853345], \"xaxis\": \"x8\", \"y\": [-1.316494825844439, 0.2866719465461037, 1.0478572119460632, -0.49355271897014624, -0.3542447919084635, -0.32650917113074646, 1.1327673099908224, -0.8284119403094422, -0.7922051809940646, -0.42267745324087386, -1.0574974112458024, 0.05540325977674381, -1.1224762575973932, -0.017964883564133848, -0.1682330830079046, 1.8673751650772215, 0.08004730349155705, -1.1250216343133097, 1.025612290218689, -0.16745276111172824, 1.1195894693054642, 0.8560878889882733, -0.689496796712005, -0.10834697650456812, -0.7416035670698498, -1.4275386276737139, -0.8358930796699012, -1.6783958713333986, 0.5156163219565989, 0.4071645719782639, 2.6641197458789834, 0.6289898980658927, -2.745439843907141, -2.911319180158229, -0.4990510898715183, 0.3534404282333845, -1.1448283539966881, -0.08782184871280074, 1.286134650626389, -1.0219268738584983, 0.8533706050813746, -0.9101654435552414, -0.1944663516311447, 0.023407873628503623, -0.19119742997980924, -1.0047286399715987, -0.015257653555950003, -0.0056296678451680906, -0.11364674997934227, -0.3164297329600258, -1.1884782853636806, 0.5297264880579176, -0.5977201879104943, -0.10328709441783887, -0.40190680822729946, -0.015150400733030547, 1.6259239440798234, -0.9176223687265888, 0.09035423193074928, 0.5215540259689497, -1.5100934159184967, -0.5617412384064335, 1.9055962539223812, 0.03140965475767426, -1.3191667111676395, 0.15372129450845587, 0.6213905285187237, 1.4181655536798619, 1.1127703081989955, -0.0009139932771381095, 0.37146688251936105, 1.8410188890021395, 0.31324377589728125, 1.7741866034599767, 0.6860842020791837, -0.48426173373315584, -2.3158113012427592, 2.1987352884004943, 0.5909603338530436, 0.06152588978596741, -0.47230935828592624, 0.011882187395418206, 0.057482546270307536, -0.313899116576255, 0.8110275578864159, 0.31186695155541283, 0.017627978391445108, 1.0691785570143704, 1.6416457276834544, 1.4965106491758011, -0.5416788112901813, -0.599576260609268, 0.21003831009666457, 0.15285166599823136, 1.8531387222782865, -1.7774255813400108, 0.24270874088554262, 0.1685323107914805, -0.4263276741178543, -1.1424089489759095], \"yaxis\": \"y8\"}, {\"line\": {\"color\": \"rgba(128, 128, 128, 1.0)\", \"dash\": \"solid\", \"shape\": \"linear\", \"width\": 1.3}, \"marker\": {\"size\": 2, \"symbol\": \"circle\"}, \"mode\": \"markers\", \"name\": \"C\", \"text\": \"\", \"type\": \"scatter\", \"x\": [-0.3778223188637527, 0.0922801329148354, 0.30314941242763466, -1.7247202757361555, -1.058806603088048, 0.3562706846101683, 0.5893574103570001, 0.4585923583725432, 1.1037945473464486, -0.3797924361831625, -1.0427165172979118, -2.353686639099532, -0.29509732902435676, -1.2329854565647862, -1.126512415797739, -2.7475965594656078, -1.2320765599446821, 1.1960796864242584, -1.5053003537604794, 1.4120424256808577, 0.44528925065892605, 0.9407256226239445, 0.3346734763472071, 0.6271526760473892, 0.8580570503239457, -1.5932250845668334, -1.899147120460595, -0.5867413973285835, -0.9077758388365309, -0.8265399131304081, -0.48541987181432733, -1.9699390955796718, 0.30671395224387316, -0.09814400017825455, 0.6194420460243791, 0.19192157796057446, 0.26127009853054683, 0.5934868937468604, 1.3023689503304985, -0.557661021363899, 1.3935040980784998, 0.6095413707122774, 0.19800162145167038, 0.17773739624827156, 0.1044704890515966, 0.7366235446387637, 0.12357136991878583, 0.09574507787250311, 0.4229303615159778, -0.05638478718449256, 0.0524134147976591, -0.32084851794570013, 3.323544545394268, -1.31951123577791, -1.0284774655531908, -0.4095367186350242, -0.9588002136398506, -0.12650654004935413, -0.860830501797706, -1.1880220044268255, 0.00549830950166235, 2.5233899814560115, -0.3659869477806698, 0.2246642533450928, 2.4174169231965945, -0.7850206563893745, 1.1952085514381636, -1.625831633350626, 0.8500313495956225, 0.1359891984288151, -0.30049628523290484, -0.5408007451983162, 1.156569580879917, -1.130335538700787, 0.009621902777194428, -0.4915624184966093, 0.8101057700385709, -0.3735203108248807, 1.8487969495407632, -1.218057266502291, 0.8398393241662376, 2.4987094763734685, 0.011469559294633237, 1.1906179842714053, 0.06397273787221386, 1.5721334359149062, -0.40219610269343364, -1.5792141027986448, 0.8781210937978811, -0.11279078387832467, -0.7966050137612551, -0.7811050635977146, 1.1377100099162374, 0.9886447210219727, -0.024892387637142906, 0.9431513722593761, -0.11290888417369738, 0.2128077746776085, -1.1045250270455622, -1.376879949847616], \"xaxis\": \"x9\", \"y\": [1.406775720046884, 1.1496996192746953, -0.32630697549626747, -1.296832523493453, -0.5389668297279848, 0.493404219081789, 0.43584985082044786, -0.8214194987178164, 1.0786653759968017, -1.2983206517755435, -2.5881414790267026, -1.7753004429759662, -0.21644596706932792, -1.0042188960197214, 0.5757291561543383, -0.5239132916002543, -0.772747927796187, -0.46812940826066063, 1.4521343103982036, 1.2846326654255793, 0.04504784799893927, -1.893576967991285, 0.3919703444042239, -0.48642321199236016, -0.5437908861394942, -0.2792570281533198, 1.4133221039855208, 1.6976634794530043, 1.4567259108246078, -1.8221214160932686, 0.20003524706278106, 0.1983044868834503, 0.14911029729587455, -1.346467447568015, 0.43398946401134586, 0.22233685214677837, 0.47957669586758106, -1.102331238917154, -0.4998942192434582, -0.521068698854739, 0.8973733424337166, -0.7816245886464664, 0.22537260587342783, -0.8787885822828528, 1.4230446901233393, 0.34987293086009996, 1.3911796291059848, 1.2403794662202954, 0.5114066728728492, -2.0166321273917736, 0.7856861588247765, 0.13691720786003714, -0.7880673590618453, 0.03716769157101709, 0.7799372126487223, 1.7985491905038886, -0.19659818359663062, -0.012702577323151937, -0.8626960422069377, 0.3597157395604989, 0.6265896221927325, -0.9308715158558263, 1.3464372604156218, 0.6498728187409063, -1.6511662689241349, -0.9229299197376384, -1.2478417510711537, 1.5227750396514883, -0.6311981482876451, 1.551260004036639, -0.10502460554637756, -0.8493628839047709, 2.027302413088894, -2.7934070100435475, 0.6446845621352232, 0.22071236826477122, 1.0616860404591533, 0.7467718877024979, 0.0707552703298251, -1.1786996958286515, 0.5243730244208548, 0.39007878937880947, -0.5946194961721954, 0.639070916937189, -0.7160141695559963, 0.2456768588349713, 0.5563854384232808, 0.564420226858298, -0.0690448547947384, -1.2593419532553742, 0.6374531147193259, 1.2207630578986564, 0.11105879218861575, 0.12374607949375441, -2.2355297017644813, 0.9520764800263771, -0.0453887598932331, 0.09024937485326473, -0.3105849048692074, -0.668433153781252], \"yaxis\": \"y9\"}, {\"line\": {\"color\": \"rgba(128, 128, 128, 1.0)\", \"dash\": \"solid\", \"shape\": \"linear\", \"width\": 1.3}, \"marker\": {\"size\": 2, \"symbol\": \"circle\"}, \"mode\": \"markers\", \"name\": \"C\", \"text\": \"\", \"type\": \"scatter\", \"x\": [-1.316494825844439, 0.2866719465461037, 1.0478572119460632, -0.49355271897014624, -0.3542447919084635, -0.32650917113074646, 1.1327673099908224, -0.8284119403094422, -0.7922051809940646, -0.42267745324087386, -1.0574974112458024, 0.05540325977674381, -1.1224762575973932, -0.017964883564133848, -0.1682330830079046, 1.8673751650772215, 0.08004730349155705, -1.1250216343133097, 1.025612290218689, -0.16745276111172824, 1.1195894693054642, 0.8560878889882733, -0.689496796712005, -0.10834697650456812, -0.7416035670698498, -1.4275386276737139, -0.8358930796699012, -1.6783958713333986, 0.5156163219565989, 0.4071645719782639, 2.6641197458789834, 0.6289898980658927, -2.745439843907141, -2.911319180158229, -0.4990510898715183, 0.3534404282333845, -1.1448283539966881, -0.08782184871280074, 1.286134650626389, -1.0219268738584983, 0.8533706050813746, -0.9101654435552414, -0.1944663516311447, 0.023407873628503623, -0.19119742997980924, -1.0047286399715987, -0.015257653555950003, -0.0056296678451680906, -0.11364674997934227, -0.3164297329600258, -1.1884782853636806, 0.5297264880579176, -0.5977201879104943, -0.10328709441783887, -0.40190680822729946, -0.015150400733030547, 1.6259239440798234, -0.9176223687265888, 0.09035423193074928, 0.5215540259689497, -1.5100934159184967, -0.5617412384064335, 1.9055962539223812, 0.03140965475767426, -1.3191667111676395, 0.15372129450845587, 0.6213905285187237, 1.4181655536798619, 1.1127703081989955, -0.0009139932771381095, 0.37146688251936105, 1.8410188890021395, 0.31324377589728125, 1.7741866034599767, 0.6860842020791837, -0.48426173373315584, -2.3158113012427592, 2.1987352884004943, 0.5909603338530436, 0.06152588978596741, -0.47230935828592624, 0.011882187395418206, 0.057482546270307536, -0.313899116576255, 0.8110275578864159, 0.31186695155541283, 0.017627978391445108, 1.0691785570143704, 1.6416457276834544, 1.4965106491758011, -0.5416788112901813, -0.599576260609268, 0.21003831009666457, 0.15285166599823136, 1.8531387222782865, -1.7774255813400108, 0.24270874088554262, 0.1685323107914805, -0.4263276741178543, -1.1424089489759095], \"xaxis\": \"x10\", \"y\": [1.406775720046884, 1.1496996192746953, -0.32630697549626747, -1.296832523493453, -0.5389668297279848, 0.493404219081789, 0.43584985082044786, -0.8214194987178164, 1.0786653759968017, -1.2983206517755435, -2.5881414790267026, -1.7753004429759662, -0.21644596706932792, -1.0042188960197214, 0.5757291561543383, -0.5239132916002543, -0.772747927796187, -0.46812940826066063, 1.4521343103982036, 1.2846326654255793, 0.04504784799893927, -1.893576967991285, 0.3919703444042239, -0.48642321199236016, -0.5437908861394942, -0.2792570281533198, 1.4133221039855208, 1.6976634794530043, 1.4567259108246078, -1.8221214160932686, 0.20003524706278106, 0.1983044868834503, 0.14911029729587455, -1.346467447568015, 0.43398946401134586, 0.22233685214677837, 0.47957669586758106, -1.102331238917154, -0.4998942192434582, -0.521068698854739, 0.8973733424337166, -0.7816245886464664, 0.22537260587342783, -0.8787885822828528, 1.4230446901233393, 0.34987293086009996, 1.3911796291059848, 1.2403794662202954, 0.5114066728728492, -2.0166321273917736, 0.7856861588247765, 0.13691720786003714, -0.7880673590618453, 0.03716769157101709, 0.7799372126487223, 1.7985491905038886, -0.19659818359663062, -0.012702577323151937, -0.8626960422069377, 0.3597157395604989, 0.6265896221927325, -0.9308715158558263, 1.3464372604156218, 0.6498728187409063, -1.6511662689241349, -0.9229299197376384, -1.2478417510711537, 1.5227750396514883, -0.6311981482876451, 1.551260004036639, -0.10502460554637756, -0.8493628839047709, 2.027302413088894, -2.7934070100435475, 0.6446845621352232, 0.22071236826477122, 1.0616860404591533, 0.7467718877024979, 0.0707552703298251, -1.1786996958286515, 0.5243730244208548, 0.39007878937880947, -0.5946194961721954, 0.639070916937189, -0.7160141695559963, 0.2456768588349713, 0.5563854384232808, 0.564420226858298, -0.0690448547947384, -1.2593419532553742, 0.6374531147193259, 1.2207630578986564, 0.11105879218861575, 0.12374607949375441, -2.2355297017644813, 0.9520764800263771, -0.0453887598932331, 0.09024937485326473, -0.3105849048692074, -0.668433153781252], \"yaxis\": \"y10\"}, {\"histfunc\": \"count\", \"histnorm\": \"\", \"marker\": {\"color\": \"rgba(50, 171, 96, 1.0)\", \"line\": {\"color\": \"#4D5663\", \"width\": 1.3}}, \"name\": \"C\", \"nbinsx\": 10, \"opacity\": 0.8, \"orientation\": \"v\", \"type\": \"histogram\", \"x\": [1.406775720046884, 1.1496996192746953, -0.32630697549626747, -1.296832523493453, -0.5389668297279848, 0.493404219081789, 0.43584985082044786, -0.8214194987178164, 1.0786653759968017, -1.2983206517755435, -2.5881414790267026, -1.7753004429759662, -0.21644596706932792, -1.0042188960197214, 0.5757291561543383, -0.5239132916002543, -0.772747927796187, -0.46812940826066063, 1.4521343103982036, 1.2846326654255793, 0.04504784799893927, -1.893576967991285, 0.3919703444042239, -0.48642321199236016, -0.5437908861394942, -0.2792570281533198, 1.4133221039855208, 1.6976634794530043, 1.4567259108246078, -1.8221214160932686, 0.20003524706278106, 0.1983044868834503, 0.14911029729587455, -1.346467447568015, 0.43398946401134586, 0.22233685214677837, 0.47957669586758106, -1.102331238917154, -0.4998942192434582, -0.521068698854739, 0.8973733424337166, -0.7816245886464664, 0.22537260587342783, -0.8787885822828528, 1.4230446901233393, 0.34987293086009996, 1.3911796291059848, 1.2403794662202954, 0.5114066728728492, -2.0166321273917736, 0.7856861588247765, 0.13691720786003714, -0.7880673590618453, 0.03716769157101709, 0.7799372126487223, 1.7985491905038886, -0.19659818359663062, -0.012702577323151937, -0.8626960422069377, 0.3597157395604989, 0.6265896221927325, -0.9308715158558263, 1.3464372604156218, 0.6498728187409063, -1.6511662689241349, -0.9229299197376384, -1.2478417510711537, 1.5227750396514883, -0.6311981482876451, 1.551260004036639, -0.10502460554637756, -0.8493628839047709, 2.027302413088894, -2.7934070100435475, 0.6446845621352232, 0.22071236826477122, 1.0616860404591533, 0.7467718877024979, 0.0707552703298251, -1.1786996958286515, 0.5243730244208548, 0.39007878937880947, -0.5946194961721954, 0.639070916937189, -0.7160141695559963, 0.2456768588349713, 0.5563854384232808, 0.564420226858298, -0.0690448547947384, -1.2593419532553742, 0.6374531147193259, 1.2207630578986564, 0.11105879218861575, 0.12374607949375441, -2.2355297017644813, 0.9520764800263771, -0.0453887598932331, 0.09024937485326473, -0.3105849048692074, -0.668433153781252], \"xaxis\": \"x11\", \"yaxis\": \"y11\"}, {\"line\": {\"color\": \"rgba(128, 128, 128, 1.0)\", \"dash\": \"solid\", \"shape\": \"linear\", \"width\": 1.3}, \"marker\": {\"size\": 2, \"symbol\": \"circle\"}, \"mode\": \"markers\", \"name\": \"C\", \"text\": \"\", \"type\": \"scatter\", \"x\": [-0.7828650546033424, -0.3596533224921512, 2.434719466250771, -0.9760353510297209, -1.586223995581084, 0.3433342180231897, -0.31836419405528904, -0.5890956005205258, -0.7323000953439843, 0.5769436208430118, 1.0130015446224054, 2.6356901709872482, -0.8638788997042456, -0.018631462990366488, 1.4687779876612514, 0.5617108204276043, 0.4415436167544604, 1.179320520273603, 0.44805899141703515, 0.9478082903689579, -0.5370436644028713, -0.4731704080052558, 0.31223709024066526, -0.5060976754902158, 0.07033654950523442, 0.3960105865413948, -0.424067082278597, 1.0751328588786822, 0.7736680128061073, -0.4259995984742435, 2.3006358449268127, -2.1192105641547876, -0.8880452412793026, 0.3337262950860996, 0.8153607065240488, 1.7043940134934612, 0.920540277767794, 0.4234086995152187, 0.4079448723600171, 1.75499020536987, -0.33330185707420723, -0.9145116511004463, 0.20006830351177876, -2.1140128038847243, -0.5977221954328469, 0.060721644402041634, -0.018137439504961928, 0.3196159992873991, 0.47730693769300037, -0.5384123818186065, 0.093217833984639, -0.09918326283418104, 0.6638592384521873, -1.641643122886323, -1.0076183003204213, -1.0455237773603263, -1.3559854330219154, 1.2553785663067567, 0.04446140211217297, 0.17890724289904997, 0.5141432214794293, 0.6733623595289793, 0.0017206586771053502, 1.7002385173305798, 0.3766576304553358, 1.6828371294794315, 0.12107287487108928, -0.5385881907425488, 0.6373655957718737, 2.1318433715940754, -1.0880384152907472, 0.32166878175520086, 1.4445937515436955, 0.1568411213201166, -1.226161112722581, 0.514702914050513, 1.0750421171304343, -0.9812992268141888, -0.5516496428257325, 0.40064604570951057, -2.1041721784953715, 1.3671390546573465, 0.24634804179867126, -1.0944570399758755, -1.4450080892781683, -0.7421966077271516, -0.6343872745838302, 0.36836371271043256, -0.6519255392459694, -0.2474436412537946, -0.9071546146833869, -1.0249724944144538, -1.6963961761097375, -0.4012714947050643, -0.1521446041864467, -0.4959909750493157, 0.532628405005131, -0.6717570080851565, 0.00844951382232753, -1.0177919469853345], \"xaxis\": \"x12\", \"y\": [1.406775720046884, 1.1496996192746953, -0.32630697549626747, -1.296832523493453, -0.5389668297279848, 0.493404219081789, 0.43584985082044786, -0.8214194987178164, 1.0786653759968017, -1.2983206517755435, -2.5881414790267026, -1.7753004429759662, -0.21644596706932792, -1.0042188960197214, 0.5757291561543383, -0.5239132916002543, -0.772747927796187, -0.46812940826066063, 1.4521343103982036, 1.2846326654255793, 0.04504784799893927, -1.893576967991285, 0.3919703444042239, -0.48642321199236016, -0.5437908861394942, -0.2792570281533198, 1.4133221039855208, 1.6976634794530043, 1.4567259108246078, -1.8221214160932686, 0.20003524706278106, 0.1983044868834503, 0.14911029729587455, -1.346467447568015, 0.43398946401134586, 0.22233685214677837, 0.47957669586758106, -1.102331238917154, -0.4998942192434582, -0.521068698854739, 0.8973733424337166, -0.7816245886464664, 0.22537260587342783, -0.8787885822828528, 1.4230446901233393, 0.34987293086009996, 1.3911796291059848, 1.2403794662202954, 0.5114066728728492, -2.0166321273917736, 0.7856861588247765, 0.13691720786003714, -0.7880673590618453, 0.03716769157101709, 0.7799372126487223, 1.7985491905038886, -0.19659818359663062, -0.012702577323151937, -0.8626960422069377, 0.3597157395604989, 0.6265896221927325, -0.9308715158558263, 1.3464372604156218, 0.6498728187409063, -1.6511662689241349, -0.9229299197376384, -1.2478417510711537, 1.5227750396514883, -0.6311981482876451, 1.551260004036639, -0.10502460554637756, -0.8493628839047709, 2.027302413088894, -2.7934070100435475, 0.6446845621352232, 0.22071236826477122, 1.0616860404591533, 0.7467718877024979, 0.0707552703298251, -1.1786996958286515, 0.5243730244208548, 0.39007878937880947, -0.5946194961721954, 0.639070916937189, -0.7160141695559963, 0.2456768588349713, 0.5563854384232808, 0.564420226858298, -0.0690448547947384, -1.2593419532553742, 0.6374531147193259, 1.2207630578986564, 0.11105879218861575, 0.12374607949375441, -2.2355297017644813, 0.9520764800263771, -0.0453887598932331, 0.09024937485326473, -0.3105849048692074, -0.668433153781252], \"yaxis\": \"y12\"}, {\"line\": {\"color\": \"rgba(128, 128, 128, 1.0)\", \"dash\": \"solid\", \"shape\": \"linear\", \"width\": 1.3}, \"marker\": {\"size\": 2, \"symbol\": \"circle\"}, \"mode\": \"markers\", \"name\": \"D\", \"text\": \"\", \"type\": \"scatter\", \"x\": [-0.3778223188637527, 0.0922801329148354, 0.30314941242763466, -1.7247202757361555, -1.058806603088048, 0.3562706846101683, 0.5893574103570001, 0.4585923583725432, 1.1037945473464486, -0.3797924361831625, -1.0427165172979118, -2.353686639099532, -0.29509732902435676, -1.2329854565647862, -1.126512415797739, -2.7475965594656078, -1.2320765599446821, 1.1960796864242584, -1.5053003537604794, 1.4120424256808577, 0.44528925065892605, 0.9407256226239445, 0.3346734763472071, 0.6271526760473892, 0.8580570503239457, -1.5932250845668334, -1.899147120460595, -0.5867413973285835, -0.9077758388365309, -0.8265399131304081, -0.48541987181432733, -1.9699390955796718, 0.30671395224387316, -0.09814400017825455, 0.6194420460243791, 0.19192157796057446, 0.26127009853054683, 0.5934868937468604, 1.3023689503304985, -0.557661021363899, 1.3935040980784998, 0.6095413707122774, 0.19800162145167038, 0.17773739624827156, 0.1044704890515966, 0.7366235446387637, 0.12357136991878583, 0.09574507787250311, 0.4229303615159778, -0.05638478718449256, 0.0524134147976591, -0.32084851794570013, 3.323544545394268, -1.31951123577791, -1.0284774655531908, -0.4095367186350242, -0.9588002136398506, -0.12650654004935413, -0.860830501797706, -1.1880220044268255, 0.00549830950166235, 2.5233899814560115, -0.3659869477806698, 0.2246642533450928, 2.4174169231965945, -0.7850206563893745, 1.1952085514381636, -1.625831633350626, 0.8500313495956225, 0.1359891984288151, -0.30049628523290484, -0.5408007451983162, 1.156569580879917, -1.130335538700787, 0.009621902777194428, -0.4915624184966093, 0.8101057700385709, -0.3735203108248807, 1.8487969495407632, -1.218057266502291, 0.8398393241662376, 2.4987094763734685, 0.011469559294633237, 1.1906179842714053, 0.06397273787221386, 1.5721334359149062, -0.40219610269343364, -1.5792141027986448, 0.8781210937978811, -0.11279078387832467, -0.7966050137612551, -0.7811050635977146, 1.1377100099162374, 0.9886447210219727, -0.024892387637142906, 0.9431513722593761, -0.11290888417369738, 0.2128077746776085, -1.1045250270455622, -1.376879949847616], \"xaxis\": \"x13\", \"y\": [-0.7828650546033424, -0.3596533224921512, 2.434719466250771, -0.9760353510297209, -1.586223995581084, 0.3433342180231897, -0.31836419405528904, -0.5890956005205258, -0.7323000953439843, 0.5769436208430118, 1.0130015446224054, 2.6356901709872482, -0.8638788997042456, -0.018631462990366488, 1.4687779876612514, 0.5617108204276043, 0.4415436167544604, 1.179320520273603, 0.44805899141703515, 0.9478082903689579, -0.5370436644028713, -0.4731704080052558, 0.31223709024066526, -0.5060976754902158, 0.07033654950523442, 0.3960105865413948, -0.424067082278597, 1.0751328588786822, 0.7736680128061073, -0.4259995984742435, 2.3006358449268127, -2.1192105641547876, -0.8880452412793026, 0.3337262950860996, 0.8153607065240488, 1.7043940134934612, 0.920540277767794, 0.4234086995152187, 0.4079448723600171, 1.75499020536987, -0.33330185707420723, -0.9145116511004463, 0.20006830351177876, -2.1140128038847243, -0.5977221954328469, 0.060721644402041634, -0.018137439504961928, 0.3196159992873991, 0.47730693769300037, -0.5384123818186065, 0.093217833984639, -0.09918326283418104, 0.6638592384521873, -1.641643122886323, -1.0076183003204213, -1.0455237773603263, -1.3559854330219154, 1.2553785663067567, 0.04446140211217297, 0.17890724289904997, 0.5141432214794293, 0.6733623595289793, 0.0017206586771053502, 1.7002385173305798, 0.3766576304553358, 1.6828371294794315, 0.12107287487108928, -0.5385881907425488, 0.6373655957718737, 2.1318433715940754, -1.0880384152907472, 0.32166878175520086, 1.4445937515436955, 0.1568411213201166, -1.226161112722581, 0.514702914050513, 1.0750421171304343, -0.9812992268141888, -0.5516496428257325, 0.40064604570951057, -2.1041721784953715, 1.3671390546573465, 0.24634804179867126, -1.0944570399758755, -1.4450080892781683, -0.7421966077271516, -0.6343872745838302, 0.36836371271043256, -0.6519255392459694, -0.2474436412537946, -0.9071546146833869, -1.0249724944144538, -1.6963961761097375, -0.4012714947050643, -0.1521446041864467, -0.4959909750493157, 0.532628405005131, -0.6717570080851565, 0.00844951382232753, -1.0177919469853345], \"yaxis\": \"y13\"}, {\"line\": {\"color\": \"rgba(128, 128, 128, 1.0)\", \"dash\": \"solid\", \"shape\": \"linear\", \"width\": 1.3}, \"marker\": {\"size\": 2, \"symbol\": \"circle\"}, \"mode\": \"markers\", \"name\": \"D\", \"text\": \"\", \"type\": \"scatter\", \"x\": [-1.316494825844439, 0.2866719465461037, 1.0478572119460632, -0.49355271897014624, -0.3542447919084635, -0.32650917113074646, 1.1327673099908224, -0.8284119403094422, -0.7922051809940646, -0.42267745324087386, -1.0574974112458024, 0.05540325977674381, -1.1224762575973932, -0.017964883564133848, -0.1682330830079046, 1.8673751650772215, 0.08004730349155705, -1.1250216343133097, 1.025612290218689, -0.16745276111172824, 1.1195894693054642, 0.8560878889882733, -0.689496796712005, -0.10834697650456812, -0.7416035670698498, -1.4275386276737139, -0.8358930796699012, -1.6783958713333986, 0.5156163219565989, 0.4071645719782639, 2.6641197458789834, 0.6289898980658927, -2.745439843907141, -2.911319180158229, -0.4990510898715183, 0.3534404282333845, -1.1448283539966881, -0.08782184871280074, 1.286134650626389, -1.0219268738584983, 0.8533706050813746, -0.9101654435552414, -0.1944663516311447, 0.023407873628503623, -0.19119742997980924, -1.0047286399715987, -0.015257653555950003, -0.0056296678451680906, -0.11364674997934227, -0.3164297329600258, -1.1884782853636806, 0.5297264880579176, -0.5977201879104943, -0.10328709441783887, -0.40190680822729946, -0.015150400733030547, 1.6259239440798234, -0.9176223687265888, 0.09035423193074928, 0.5215540259689497, -1.5100934159184967, -0.5617412384064335, 1.9055962539223812, 0.03140965475767426, -1.3191667111676395, 0.15372129450845587, 0.6213905285187237, 1.4181655536798619, 1.1127703081989955, -0.0009139932771381095, 0.37146688251936105, 1.8410188890021395, 0.31324377589728125, 1.7741866034599767, 0.6860842020791837, -0.48426173373315584, -2.3158113012427592, 2.1987352884004943, 0.5909603338530436, 0.06152588978596741, -0.47230935828592624, 0.011882187395418206, 0.057482546270307536, -0.313899116576255, 0.8110275578864159, 0.31186695155541283, 0.017627978391445108, 1.0691785570143704, 1.6416457276834544, 1.4965106491758011, -0.5416788112901813, -0.599576260609268, 0.21003831009666457, 0.15285166599823136, 1.8531387222782865, -1.7774255813400108, 0.24270874088554262, 0.1685323107914805, -0.4263276741178543, -1.1424089489759095], \"xaxis\": \"x14\", \"y\": [-0.7828650546033424, -0.3596533224921512, 2.434719466250771, -0.9760353510297209, -1.586223995581084, 0.3433342180231897, -0.31836419405528904, -0.5890956005205258, -0.7323000953439843, 0.5769436208430118, 1.0130015446224054, 2.6356901709872482, -0.8638788997042456, -0.018631462990366488, 1.4687779876612514, 0.5617108204276043, 0.4415436167544604, 1.179320520273603, 0.44805899141703515, 0.9478082903689579, -0.5370436644028713, -0.4731704080052558, 0.31223709024066526, -0.5060976754902158, 0.07033654950523442, 0.3960105865413948, -0.424067082278597, 1.0751328588786822, 0.7736680128061073, -0.4259995984742435, 2.3006358449268127, -2.1192105641547876, -0.8880452412793026, 0.3337262950860996, 0.8153607065240488, 1.7043940134934612, 0.920540277767794, 0.4234086995152187, 0.4079448723600171, 1.75499020536987, -0.33330185707420723, -0.9145116511004463, 0.20006830351177876, -2.1140128038847243, -0.5977221954328469, 0.060721644402041634, -0.018137439504961928, 0.3196159992873991, 0.47730693769300037, -0.5384123818186065, 0.093217833984639, -0.09918326283418104, 0.6638592384521873, -1.641643122886323, -1.0076183003204213, -1.0455237773603263, -1.3559854330219154, 1.2553785663067567, 0.04446140211217297, 0.17890724289904997, 0.5141432214794293, 0.6733623595289793, 0.0017206586771053502, 1.7002385173305798, 0.3766576304553358, 1.6828371294794315, 0.12107287487108928, -0.5385881907425488, 0.6373655957718737, 2.1318433715940754, -1.0880384152907472, 0.32166878175520086, 1.4445937515436955, 0.1568411213201166, -1.226161112722581, 0.514702914050513, 1.0750421171304343, -0.9812992268141888, -0.5516496428257325, 0.40064604570951057, -2.1041721784953715, 1.3671390546573465, 0.24634804179867126, -1.0944570399758755, -1.4450080892781683, -0.7421966077271516, -0.6343872745838302, 0.36836371271043256, -0.6519255392459694, -0.2474436412537946, -0.9071546146833869, -1.0249724944144538, -1.6963961761097375, -0.4012714947050643, -0.1521446041864467, -0.4959909750493157, 0.532628405005131, -0.6717570080851565, 0.00844951382232753, -1.0177919469853345], \"yaxis\": \"y14\"}, {\"line\": {\"color\": \"rgba(128, 128, 128, 1.0)\", \"dash\": \"solid\", \"shape\": \"linear\", \"width\": 1.3}, \"marker\": {\"size\": 2, \"symbol\": \"circle\"}, \"mode\": \"markers\", \"name\": \"D\", \"text\": \"\", \"type\": \"scatter\", \"x\": [1.406775720046884, 1.1496996192746953, -0.32630697549626747, -1.296832523493453, -0.5389668297279848, 0.493404219081789, 0.43584985082044786, -0.8214194987178164, 1.0786653759968017, -1.2983206517755435, -2.5881414790267026, -1.7753004429759662, -0.21644596706932792, -1.0042188960197214, 0.5757291561543383, -0.5239132916002543, -0.772747927796187, -0.46812940826066063, 1.4521343103982036, 1.2846326654255793, 0.04504784799893927, -1.893576967991285, 0.3919703444042239, -0.48642321199236016, -0.5437908861394942, -0.2792570281533198, 1.4133221039855208, 1.6976634794530043, 1.4567259108246078, -1.8221214160932686, 0.20003524706278106, 0.1983044868834503, 0.14911029729587455, -1.346467447568015, 0.43398946401134586, 0.22233685214677837, 0.47957669586758106, -1.102331238917154, -0.4998942192434582, -0.521068698854739, 0.8973733424337166, -0.7816245886464664, 0.22537260587342783, -0.8787885822828528, 1.4230446901233393, 0.34987293086009996, 1.3911796291059848, 1.2403794662202954, 0.5114066728728492, -2.0166321273917736, 0.7856861588247765, 0.13691720786003714, -0.7880673590618453, 0.03716769157101709, 0.7799372126487223, 1.7985491905038886, -0.19659818359663062, -0.012702577323151937, -0.8626960422069377, 0.3597157395604989, 0.6265896221927325, -0.9308715158558263, 1.3464372604156218, 0.6498728187409063, -1.6511662689241349, -0.9229299197376384, -1.2478417510711537, 1.5227750396514883, -0.6311981482876451, 1.551260004036639, -0.10502460554637756, -0.8493628839047709, 2.027302413088894, -2.7934070100435475, 0.6446845621352232, 0.22071236826477122, 1.0616860404591533, 0.7467718877024979, 0.0707552703298251, -1.1786996958286515, 0.5243730244208548, 0.39007878937880947, -0.5946194961721954, 0.639070916937189, -0.7160141695559963, 0.2456768588349713, 0.5563854384232808, 0.564420226858298, -0.0690448547947384, -1.2593419532553742, 0.6374531147193259, 1.2207630578986564, 0.11105879218861575, 0.12374607949375441, -2.2355297017644813, 0.9520764800263771, -0.0453887598932331, 0.09024937485326473, -0.3105849048692074, -0.668433153781252], \"xaxis\": \"x15\", \"y\": [-0.7828650546033424, -0.3596533224921512, 2.434719466250771, -0.9760353510297209, -1.586223995581084, 0.3433342180231897, -0.31836419405528904, -0.5890956005205258, -0.7323000953439843, 0.5769436208430118, 1.0130015446224054, 2.6356901709872482, -0.8638788997042456, -0.018631462990366488, 1.4687779876612514, 0.5617108204276043, 0.4415436167544604, 1.179320520273603, 0.44805899141703515, 0.9478082903689579, -0.5370436644028713, -0.4731704080052558, 0.31223709024066526, -0.5060976754902158, 0.07033654950523442, 0.3960105865413948, -0.424067082278597, 1.0751328588786822, 0.7736680128061073, -0.4259995984742435, 2.3006358449268127, -2.1192105641547876, -0.8880452412793026, 0.3337262950860996, 0.8153607065240488, 1.7043940134934612, 0.920540277767794, 0.4234086995152187, 0.4079448723600171, 1.75499020536987, -0.33330185707420723, -0.9145116511004463, 0.20006830351177876, -2.1140128038847243, -0.5977221954328469, 0.060721644402041634, -0.018137439504961928, 0.3196159992873991, 0.47730693769300037, -0.5384123818186065, 0.093217833984639, -0.09918326283418104, 0.6638592384521873, -1.641643122886323, -1.0076183003204213, -1.0455237773603263, -1.3559854330219154, 1.2553785663067567, 0.04446140211217297, 0.17890724289904997, 0.5141432214794293, 0.6733623595289793, 0.0017206586771053502, 1.7002385173305798, 0.3766576304553358, 1.6828371294794315, 0.12107287487108928, -0.5385881907425488, 0.6373655957718737, 2.1318433715940754, -1.0880384152907472, 0.32166878175520086, 1.4445937515436955, 0.1568411213201166, -1.226161112722581, 0.514702914050513, 1.0750421171304343, -0.9812992268141888, -0.5516496428257325, 0.40064604570951057, -2.1041721784953715, 1.3671390546573465, 0.24634804179867126, -1.0944570399758755, -1.4450080892781683, -0.7421966077271516, -0.6343872745838302, 0.36836371271043256, -0.6519255392459694, -0.2474436412537946, -0.9071546146833869, -1.0249724944144538, -1.6963961761097375, -0.4012714947050643, -0.1521446041864467, -0.4959909750493157, 0.532628405005131, -0.6717570080851565, 0.00844951382232753, -1.0177919469853345], \"yaxis\": \"y15\"}, {\"histfunc\": \"count\", \"histnorm\": \"\", \"marker\": {\"color\": \"rgba(128, 0, 128, 1.0)\", \"line\": {\"color\": \"#4D5663\", \"width\": 1.3}}, \"name\": \"D\", \"nbinsx\": 10, \"opacity\": 0.8, \"orientation\": \"v\", \"type\": \"histogram\", \"x\": [-0.7828650546033424, -0.3596533224921512, 2.434719466250771, -0.9760353510297209, -1.586223995581084, 0.3433342180231897, -0.31836419405528904, -0.5890956005205258, -0.7323000953439843, 0.5769436208430118, 1.0130015446224054, 2.6356901709872482, -0.8638788997042456, -0.018631462990366488, 1.4687779876612514, 0.5617108204276043, 0.4415436167544604, 1.179320520273603, 0.44805899141703515, 0.9478082903689579, -0.5370436644028713, -0.4731704080052558, 0.31223709024066526, -0.5060976754902158, 0.07033654950523442, 0.3960105865413948, -0.424067082278597, 1.0751328588786822, 0.7736680128061073, -0.4259995984742435, 2.3006358449268127, -2.1192105641547876, -0.8880452412793026, 0.3337262950860996, 0.8153607065240488, 1.7043940134934612, 0.920540277767794, 0.4234086995152187, 0.4079448723600171, 1.75499020536987, -0.33330185707420723, -0.9145116511004463, 0.20006830351177876, -2.1140128038847243, -0.5977221954328469, 0.060721644402041634, -0.018137439504961928, 0.3196159992873991, 0.47730693769300037, -0.5384123818186065, 0.093217833984639, -0.09918326283418104, 0.6638592384521873, -1.641643122886323, -1.0076183003204213, -1.0455237773603263, -1.3559854330219154, 1.2553785663067567, 0.04446140211217297, 0.17890724289904997, 0.5141432214794293, 0.6733623595289793, 0.0017206586771053502, 1.7002385173305798, 0.3766576304553358, 1.6828371294794315, 0.12107287487108928, -0.5385881907425488, 0.6373655957718737, 2.1318433715940754, -1.0880384152907472, 0.32166878175520086, 1.4445937515436955, 0.1568411213201166, -1.226161112722581, 0.514702914050513, 1.0750421171304343, -0.9812992268141888, -0.5516496428257325, 0.40064604570951057, -2.1041721784953715, 1.3671390546573465, 0.24634804179867126, -1.0944570399758755, -1.4450080892781683, -0.7421966077271516, -0.6343872745838302, 0.36836371271043256, -0.6519255392459694, -0.2474436412537946, -0.9071546146833869, -1.0249724944144538, -1.6963961761097375, -0.4012714947050643, -0.1521446041864467, -0.4959909750493157, 0.532628405005131, -0.6717570080851565, 0.00844951382232753, -1.0177919469853345], \"xaxis\": \"x16\", \"yaxis\": \"y16\"}],\n",
       "                        {\"bargap\": 0.02, \"legend\": {\"bgcolor\": \"#F5F6F9\", \"font\": {\"color\": \"#4D5663\"}}, \"paper_bgcolor\": \"#F5F6F9\", \"plot_bgcolor\": \"#F5F6F9\", \"showlegend\": false, \"template\": {\"data\": {\"bar\": [{\"error_x\": {\"color\": \"#2a3f5f\"}, \"error_y\": {\"color\": \"#2a3f5f\"}, \"marker\": {\"line\": {\"color\": \"#E5ECF6\", \"width\": 0.5}}, \"type\": \"bar\"}], \"barpolar\": [{\"marker\": {\"line\": {\"color\": \"#E5ECF6\", \"width\": 0.5}}, \"type\": \"barpolar\"}], \"carpet\": [{\"aaxis\": {\"endlinecolor\": \"#2a3f5f\", \"gridcolor\": \"white\", \"linecolor\": \"white\", \"minorgridcolor\": \"white\", \"startlinecolor\": \"#2a3f5f\"}, \"baxis\": {\"endlinecolor\": \"#2a3f5f\", \"gridcolor\": \"white\", \"linecolor\": \"white\", \"minorgridcolor\": \"white\", \"startlinecolor\": \"#2a3f5f\"}, \"type\": \"carpet\"}], \"choropleth\": [{\"colorbar\": {\"outlinewidth\": 0, \"ticks\": \"\"}, \"type\": \"choropleth\"}], \"contour\": [{\"colorbar\": {\"outlinewidth\": 0, \"ticks\": \"\"}, \"colorscale\": [[0.0, \"#0d0887\"], [0.1111111111111111, \"#46039f\"], [0.2222222222222222, \"#7201a8\"], [0.3333333333333333, \"#9c179e\"], [0.4444444444444444, \"#bd3786\"], [0.5555555555555556, \"#d8576b\"], [0.6666666666666666, \"#ed7953\"], [0.7777777777777778, \"#fb9f3a\"], [0.8888888888888888, \"#fdca26\"], [1.0, \"#f0f921\"]], \"type\": \"contour\"}], \"contourcarpet\": [{\"colorbar\": {\"outlinewidth\": 0, \"ticks\": \"\"}, \"type\": \"contourcarpet\"}], \"heatmap\": [{\"colorbar\": {\"outlinewidth\": 0, \"ticks\": \"\"}, \"colorscale\": [[0.0, \"#0d0887\"], [0.1111111111111111, \"#46039f\"], [0.2222222222222222, \"#7201a8\"], [0.3333333333333333, \"#9c179e\"], [0.4444444444444444, \"#bd3786\"], [0.5555555555555556, \"#d8576b\"], [0.6666666666666666, \"#ed7953\"], [0.7777777777777778, \"#fb9f3a\"], [0.8888888888888888, \"#fdca26\"], [1.0, \"#f0f921\"]], \"type\": \"heatmap\"}], \"heatmapgl\": [{\"colorbar\": {\"outlinewidth\": 0, \"ticks\": \"\"}, \"colorscale\": [[0.0, \"#0d0887\"], [0.1111111111111111, \"#46039f\"], [0.2222222222222222, \"#7201a8\"], [0.3333333333333333, \"#9c179e\"], [0.4444444444444444, \"#bd3786\"], [0.5555555555555556, \"#d8576b\"], [0.6666666666666666, \"#ed7953\"], [0.7777777777777778, \"#fb9f3a\"], [0.8888888888888888, \"#fdca26\"], [1.0, \"#f0f921\"]], \"type\": \"heatmapgl\"}], \"histogram\": [{\"marker\": {\"colorbar\": {\"outlinewidth\": 0, \"ticks\": \"\"}}, \"type\": \"histogram\"}], \"histogram2d\": [{\"colorbar\": {\"outlinewidth\": 0, \"ticks\": \"\"}, \"colorscale\": [[0.0, \"#0d0887\"], [0.1111111111111111, \"#46039f\"], [0.2222222222222222, \"#7201a8\"], [0.3333333333333333, \"#9c179e\"], [0.4444444444444444, \"#bd3786\"], [0.5555555555555556, \"#d8576b\"], [0.6666666666666666, \"#ed7953\"], [0.7777777777777778, \"#fb9f3a\"], [0.8888888888888888, \"#fdca26\"], [1.0, \"#f0f921\"]], \"type\": \"histogram2d\"}], \"histogram2dcontour\": [{\"colorbar\": {\"outlinewidth\": 0, \"ticks\": \"\"}, \"colorscale\": [[0.0, \"#0d0887\"], [0.1111111111111111, \"#46039f\"], [0.2222222222222222, \"#7201a8\"], [0.3333333333333333, \"#9c179e\"], [0.4444444444444444, \"#bd3786\"], [0.5555555555555556, \"#d8576b\"], [0.6666666666666666, \"#ed7953\"], [0.7777777777777778, \"#fb9f3a\"], [0.8888888888888888, \"#fdca26\"], [1.0, \"#f0f921\"]], \"type\": \"histogram2dcontour\"}], \"mesh3d\": [{\"colorbar\": {\"outlinewidth\": 0, \"ticks\": \"\"}, \"type\": \"mesh3d\"}], \"parcoords\": [{\"line\": {\"colorbar\": {\"outlinewidth\": 0, \"ticks\": \"\"}}, \"type\": \"parcoords\"}], \"pie\": [{\"automargin\": true, \"type\": \"pie\"}], \"scatter\": [{\"marker\": {\"colorbar\": {\"outlinewidth\": 0, \"ticks\": \"\"}}, \"type\": \"scatter\"}], \"scatter3d\": [{\"line\": {\"colorbar\": {\"outlinewidth\": 0, \"ticks\": \"\"}}, \"marker\": {\"colorbar\": {\"outlinewidth\": 0, \"ticks\": \"\"}}, \"type\": \"scatter3d\"}], \"scattercarpet\": [{\"marker\": {\"colorbar\": {\"outlinewidth\": 0, \"ticks\": \"\"}}, \"type\": \"scattercarpet\"}], \"scattergeo\": [{\"marker\": {\"colorbar\": {\"outlinewidth\": 0, \"ticks\": \"\"}}, \"type\": \"scattergeo\"}], \"scattergl\": [{\"marker\": {\"colorbar\": {\"outlinewidth\": 0, \"ticks\": \"\"}}, \"type\": \"scattergl\"}], \"scattermapbox\": [{\"marker\": {\"colorbar\": {\"outlinewidth\": 0, \"ticks\": \"\"}}, \"type\": \"scattermapbox\"}], \"scatterpolar\": [{\"marker\": {\"colorbar\": {\"outlinewidth\": 0, \"ticks\": \"\"}}, \"type\": \"scatterpolar\"}], \"scatterpolargl\": [{\"marker\": {\"colorbar\": {\"outlinewidth\": 0, \"ticks\": \"\"}}, \"type\": \"scatterpolargl\"}], \"scatterternary\": [{\"marker\": {\"colorbar\": {\"outlinewidth\": 0, \"ticks\": \"\"}}, \"type\": \"scatterternary\"}], \"surface\": [{\"colorbar\": {\"outlinewidth\": 0, \"ticks\": \"\"}, \"colorscale\": [[0.0, \"#0d0887\"], [0.1111111111111111, \"#46039f\"], [0.2222222222222222, \"#7201a8\"], [0.3333333333333333, \"#9c179e\"], [0.4444444444444444, \"#bd3786\"], [0.5555555555555556, \"#d8576b\"], [0.6666666666666666, \"#ed7953\"], [0.7777777777777778, \"#fb9f3a\"], [0.8888888888888888, \"#fdca26\"], [1.0, \"#f0f921\"]], \"type\": \"surface\"}], \"table\": [{\"cells\": {\"fill\": {\"color\": \"#EBF0F8\"}, \"line\": {\"color\": \"white\"}}, \"header\": {\"fill\": {\"color\": \"#C8D4E3\"}, \"line\": {\"color\": \"white\"}}, \"type\": \"table\"}]}, \"layout\": {\"annotationdefaults\": {\"arrowcolor\": \"#2a3f5f\", \"arrowhead\": 0, \"arrowwidth\": 1}, \"coloraxis\": {\"colorbar\": {\"outlinewidth\": 0, \"ticks\": \"\"}}, \"colorscale\": {\"diverging\": [[0, \"#8e0152\"], [0.1, \"#c51b7d\"], [0.2, \"#de77ae\"], [0.3, \"#f1b6da\"], [0.4, \"#fde0ef\"], [0.5, \"#f7f7f7\"], [0.6, \"#e6f5d0\"], [0.7, \"#b8e186\"], [0.8, \"#7fbc41\"], [0.9, \"#4d9221\"], [1, \"#276419\"]], \"sequential\": [[0.0, \"#0d0887\"], [0.1111111111111111, \"#46039f\"], [0.2222222222222222, \"#7201a8\"], [0.3333333333333333, \"#9c179e\"], [0.4444444444444444, \"#bd3786\"], [0.5555555555555556, \"#d8576b\"], [0.6666666666666666, \"#ed7953\"], [0.7777777777777778, \"#fb9f3a\"], [0.8888888888888888, \"#fdca26\"], [1.0, \"#f0f921\"]], \"sequentialminus\": [[0.0, \"#0d0887\"], [0.1111111111111111, \"#46039f\"], [0.2222222222222222, \"#7201a8\"], [0.3333333333333333, \"#9c179e\"], [0.4444444444444444, \"#bd3786\"], [0.5555555555555556, \"#d8576b\"], [0.6666666666666666, \"#ed7953\"], [0.7777777777777778, \"#fb9f3a\"], [0.8888888888888888, \"#fdca26\"], [1.0, \"#f0f921\"]]}, \"colorway\": [\"#636efa\", \"#EF553B\", \"#00cc96\", \"#ab63fa\", \"#FFA15A\", \"#19d3f3\", \"#FF6692\", \"#B6E880\", \"#FF97FF\", \"#FECB52\"], \"font\": {\"color\": \"#2a3f5f\"}, \"geo\": {\"bgcolor\": \"white\", \"lakecolor\": \"white\", \"landcolor\": \"#E5ECF6\", \"showlakes\": true, \"showland\": true, \"subunitcolor\": \"white\"}, \"hoverlabel\": {\"align\": \"left\"}, \"hovermode\": \"closest\", \"mapbox\": {\"style\": \"light\"}, \"paper_bgcolor\": \"white\", \"plot_bgcolor\": \"#E5ECF6\", \"polar\": {\"angularaxis\": {\"gridcolor\": \"white\", \"linecolor\": \"white\", \"ticks\": \"\"}, \"bgcolor\": \"#E5ECF6\", \"radialaxis\": {\"gridcolor\": \"white\", \"linecolor\": \"white\", \"ticks\": \"\"}}, \"scene\": {\"xaxis\": {\"backgroundcolor\": \"#E5ECF6\", \"gridcolor\": \"white\", \"gridwidth\": 2, \"linecolor\": \"white\", \"showbackground\": true, \"ticks\": \"\", \"zerolinecolor\": \"white\"}, \"yaxis\": {\"backgroundcolor\": \"#E5ECF6\", \"gridcolor\": \"white\", \"gridwidth\": 2, \"linecolor\": \"white\", \"showbackground\": true, \"ticks\": \"\", \"zerolinecolor\": \"white\"}, \"zaxis\": {\"backgroundcolor\": \"#E5ECF6\", \"gridcolor\": \"white\", \"gridwidth\": 2, \"linecolor\": \"white\", \"showbackground\": true, \"ticks\": \"\", \"zerolinecolor\": \"white\"}}, \"shapedefaults\": {\"line\": {\"color\": \"#2a3f5f\"}}, \"ternary\": {\"aaxis\": {\"gridcolor\": \"white\", \"linecolor\": \"white\", \"ticks\": \"\"}, \"baxis\": {\"gridcolor\": \"white\", \"linecolor\": \"white\", \"ticks\": \"\"}, \"bgcolor\": \"#E5ECF6\", \"caxis\": {\"gridcolor\": \"white\", \"linecolor\": \"white\", \"ticks\": \"\"}}, \"title\": {\"x\": 0.05}, \"xaxis\": {\"automargin\": true, \"gridcolor\": \"white\", \"linecolor\": \"white\", \"ticks\": \"\", \"title\": {\"standoff\": 15}, \"zerolinecolor\": \"white\", \"zerolinewidth\": 2}, \"yaxis\": {\"automargin\": true, \"gridcolor\": \"white\", \"linecolor\": \"white\", \"ticks\": \"\", \"title\": {\"standoff\": 15}, \"zerolinecolor\": \"white\", \"zerolinewidth\": 2}}}, \"title\": {\"font\": {\"color\": \"#4D5663\"}}, \"xaxis\": {\"anchor\": \"y\", \"domain\": [0.0, 0.2125], \"gridcolor\": \"#E1E5ED\", \"showgrid\": false, \"tickfont\": {\"color\": \"#4D5663\"}, \"title\": {\"font\": {\"color\": \"#4D5663\"}, \"text\": \"\"}, \"zerolinecolor\": \"#E1E5ED\"}, \"xaxis10\": {\"anchor\": \"y10\", \"domain\": [0.2625, 0.475], \"gridcolor\": \"#E1E5ED\", \"showgrid\": false, \"tickfont\": {\"color\": \"#4D5663\"}, \"title\": {\"font\": {\"color\": \"#4D5663\"}, \"text\": \"\"}, \"zerolinecolor\": \"#E1E5ED\"}, \"xaxis11\": {\"anchor\": \"y11\", \"domain\": [0.525, 0.7375], \"gridcolor\": \"#E1E5ED\", \"showgrid\": false, \"tickfont\": {\"color\": \"#4D5663\"}, \"title\": {\"font\": {\"color\": \"#4D5663\"}, \"text\": \"\"}, \"zerolinecolor\": \"#E1E5ED\"}, \"xaxis12\": {\"anchor\": \"y12\", \"domain\": [0.7875, 1.0], \"gridcolor\": \"#E1E5ED\", \"showgrid\": false, \"tickfont\": {\"color\": \"#4D5663\"}, \"title\": {\"font\": {\"color\": \"#4D5663\"}, \"text\": \"\"}, \"zerolinecolor\": \"#E1E5ED\"}, \"xaxis13\": {\"anchor\": \"y13\", \"domain\": [0.0, 0.2125], \"gridcolor\": \"#E1E5ED\", \"showgrid\": false, \"tickfont\": {\"color\": \"#4D5663\"}, \"title\": {\"font\": {\"color\": \"#4D5663\"}, \"text\": \"\"}, \"zerolinecolor\": \"#E1E5ED\"}, \"xaxis14\": {\"anchor\": \"y14\", \"domain\": [0.2625, 0.475], \"gridcolor\": \"#E1E5ED\", \"showgrid\": false, \"tickfont\": {\"color\": \"#4D5663\"}, \"title\": {\"font\": {\"color\": \"#4D5663\"}, \"text\": \"\"}, \"zerolinecolor\": \"#E1E5ED\"}, \"xaxis15\": {\"anchor\": \"y15\", \"domain\": [0.525, 0.7375], \"gridcolor\": \"#E1E5ED\", \"showgrid\": false, \"tickfont\": {\"color\": \"#4D5663\"}, \"title\": {\"font\": {\"color\": \"#4D5663\"}, \"text\": \"\"}, \"zerolinecolor\": \"#E1E5ED\"}, \"xaxis16\": {\"anchor\": \"y16\", \"domain\": [0.7875, 1.0], \"gridcolor\": \"#E1E5ED\", \"showgrid\": false, \"tickfont\": {\"color\": \"#4D5663\"}, \"title\": {\"font\": {\"color\": \"#4D5663\"}, \"text\": \"\"}, \"zerolinecolor\": \"#E1E5ED\"}, \"xaxis2\": {\"anchor\": \"y2\", \"domain\": [0.2625, 0.475], \"gridcolor\": \"#E1E5ED\", \"showgrid\": false, \"tickfont\": {\"color\": \"#4D5663\"}, \"title\": {\"font\": {\"color\": \"#4D5663\"}, \"text\": \"\"}, \"zerolinecolor\": \"#E1E5ED\"}, \"xaxis3\": {\"anchor\": \"y3\", \"domain\": [0.525, 0.7375], \"gridcolor\": \"#E1E5ED\", \"showgrid\": false, \"tickfont\": {\"color\": \"#4D5663\"}, \"title\": {\"font\": {\"color\": \"#4D5663\"}, \"text\": \"\"}, \"zerolinecolor\": \"#E1E5ED\"}, \"xaxis4\": {\"anchor\": \"y4\", \"domain\": [0.7875, 1.0], \"gridcolor\": \"#E1E5ED\", \"showgrid\": false, \"tickfont\": {\"color\": \"#4D5663\"}, \"title\": {\"font\": {\"color\": \"#4D5663\"}, \"text\": \"\"}, \"zerolinecolor\": \"#E1E5ED\"}, \"xaxis5\": {\"anchor\": \"y5\", \"domain\": [0.0, 0.2125], \"gridcolor\": \"#E1E5ED\", \"showgrid\": false, \"tickfont\": {\"color\": \"#4D5663\"}, \"title\": {\"font\": {\"color\": \"#4D5663\"}, \"text\": \"\"}, \"zerolinecolor\": \"#E1E5ED\"}, \"xaxis6\": {\"anchor\": \"y6\", \"domain\": [0.2625, 0.475], \"gridcolor\": \"#E1E5ED\", \"showgrid\": false, \"tickfont\": {\"color\": \"#4D5663\"}, \"title\": {\"font\": {\"color\": \"#4D5663\"}, \"text\": \"\"}, \"zerolinecolor\": \"#E1E5ED\"}, \"xaxis7\": {\"anchor\": \"y7\", \"domain\": [0.525, 0.7375], \"gridcolor\": \"#E1E5ED\", \"showgrid\": false, \"tickfont\": {\"color\": \"#4D5663\"}, \"title\": {\"font\": {\"color\": \"#4D5663\"}, \"text\": \"\"}, \"zerolinecolor\": \"#E1E5ED\"}, \"xaxis8\": {\"anchor\": \"y8\", \"domain\": [0.7875, 1.0], \"gridcolor\": \"#E1E5ED\", \"showgrid\": false, \"tickfont\": {\"color\": \"#4D5663\"}, \"title\": {\"font\": {\"color\": \"#4D5663\"}, \"text\": \"\"}, \"zerolinecolor\": \"#E1E5ED\"}, \"xaxis9\": {\"anchor\": \"y9\", \"domain\": [0.0, 0.2125], \"gridcolor\": \"#E1E5ED\", \"showgrid\": false, \"tickfont\": {\"color\": \"#4D5663\"}, \"title\": {\"font\": {\"color\": \"#4D5663\"}, \"text\": \"\"}, \"zerolinecolor\": \"#E1E5ED\"}, \"yaxis\": {\"anchor\": \"x\", \"domain\": [0.8025, 1.0], \"gridcolor\": \"#E1E5ED\", \"showgrid\": false, \"tickfont\": {\"color\": \"#4D5663\"}, \"title\": {\"font\": {\"color\": \"#4D5663\"}, \"text\": \"\"}, \"zerolinecolor\": \"#E1E5ED\"}, \"yaxis10\": {\"anchor\": \"x10\", \"domain\": [0.2675, 0.465], \"gridcolor\": \"#E1E5ED\", \"showgrid\": false, \"tickfont\": {\"color\": \"#4D5663\"}, \"title\": {\"font\": {\"color\": \"#4D5663\"}, \"text\": \"\"}, \"zerolinecolor\": \"#E1E5ED\"}, \"yaxis11\": {\"anchor\": \"x11\", \"domain\": [0.2675, 0.465], \"gridcolor\": \"#E1E5ED\", \"showgrid\": false, \"tickfont\": {\"color\": \"#4D5663\"}, \"title\": {\"font\": {\"color\": \"#4D5663\"}, \"text\": \"\"}, \"zerolinecolor\": \"#E1E5ED\"}, \"yaxis12\": {\"anchor\": \"x12\", \"domain\": [0.2675, 0.465], \"gridcolor\": \"#E1E5ED\", \"showgrid\": false, \"tickfont\": {\"color\": \"#4D5663\"}, \"title\": {\"font\": {\"color\": \"#4D5663\"}, \"text\": \"\"}, \"zerolinecolor\": \"#E1E5ED\"}, \"yaxis13\": {\"anchor\": \"x13\", \"domain\": [0.0, 0.1975], \"gridcolor\": \"#E1E5ED\", \"showgrid\": false, \"tickfont\": {\"color\": \"#4D5663\"}, \"title\": {\"font\": {\"color\": \"#4D5663\"}, \"text\": \"\"}, \"zerolinecolor\": \"#E1E5ED\"}, \"yaxis14\": {\"anchor\": \"x14\", \"domain\": [0.0, 0.1975], \"gridcolor\": \"#E1E5ED\", \"showgrid\": false, \"tickfont\": {\"color\": \"#4D5663\"}, \"title\": {\"font\": {\"color\": \"#4D5663\"}, \"text\": \"\"}, \"zerolinecolor\": \"#E1E5ED\"}, \"yaxis15\": {\"anchor\": \"x15\", \"domain\": [0.0, 0.1975], \"gridcolor\": \"#E1E5ED\", \"showgrid\": false, \"tickfont\": {\"color\": \"#4D5663\"}, \"title\": {\"font\": {\"color\": \"#4D5663\"}, \"text\": \"\"}, \"zerolinecolor\": \"#E1E5ED\"}, \"yaxis16\": {\"anchor\": \"x16\", \"domain\": [0.0, 0.1975], \"gridcolor\": \"#E1E5ED\", \"showgrid\": false, \"tickfont\": {\"color\": \"#4D5663\"}, \"title\": {\"font\": {\"color\": \"#4D5663\"}, \"text\": \"\"}, \"zerolinecolor\": \"#E1E5ED\"}, \"yaxis2\": {\"anchor\": \"x2\", \"domain\": [0.8025, 1.0], \"gridcolor\": \"#E1E5ED\", \"showgrid\": false, \"tickfont\": {\"color\": \"#4D5663\"}, \"title\": {\"font\": {\"color\": \"#4D5663\"}, \"text\": \"\"}, \"zerolinecolor\": \"#E1E5ED\"}, \"yaxis3\": {\"anchor\": \"x3\", \"domain\": [0.8025, 1.0], \"gridcolor\": \"#E1E5ED\", \"showgrid\": false, \"tickfont\": {\"color\": \"#4D5663\"}, \"title\": {\"font\": {\"color\": \"#4D5663\"}, \"text\": \"\"}, \"zerolinecolor\": \"#E1E5ED\"}, \"yaxis4\": {\"anchor\": \"x4\", \"domain\": [0.8025, 1.0], \"gridcolor\": \"#E1E5ED\", \"showgrid\": false, \"tickfont\": {\"color\": \"#4D5663\"}, \"title\": {\"font\": {\"color\": \"#4D5663\"}, \"text\": \"\"}, \"zerolinecolor\": \"#E1E5ED\"}, \"yaxis5\": {\"anchor\": \"x5\", \"domain\": [0.535, 0.7325], \"gridcolor\": \"#E1E5ED\", \"showgrid\": false, \"tickfont\": {\"color\": \"#4D5663\"}, \"title\": {\"font\": {\"color\": \"#4D5663\"}, \"text\": \"\"}, \"zerolinecolor\": \"#E1E5ED\"}, \"yaxis6\": {\"anchor\": \"x6\", \"domain\": [0.535, 0.7325], \"gridcolor\": \"#E1E5ED\", \"showgrid\": false, \"tickfont\": {\"color\": \"#4D5663\"}, \"title\": {\"font\": {\"color\": \"#4D5663\"}, \"text\": \"\"}, \"zerolinecolor\": \"#E1E5ED\"}, \"yaxis7\": {\"anchor\": \"x7\", \"domain\": [0.535, 0.7325], \"gridcolor\": \"#E1E5ED\", \"showgrid\": false, \"tickfont\": {\"color\": \"#4D5663\"}, \"title\": {\"font\": {\"color\": \"#4D5663\"}, \"text\": \"\"}, \"zerolinecolor\": \"#E1E5ED\"}, \"yaxis8\": {\"anchor\": \"x8\", \"domain\": [0.535, 0.7325], \"gridcolor\": \"#E1E5ED\", \"showgrid\": false, \"tickfont\": {\"color\": \"#4D5663\"}, \"title\": {\"font\": {\"color\": \"#4D5663\"}, \"text\": \"\"}, \"zerolinecolor\": \"#E1E5ED\"}, \"yaxis9\": {\"anchor\": \"x9\", \"domain\": [0.2675, 0.465], \"gridcolor\": \"#E1E5ED\", \"showgrid\": false, \"tickfont\": {\"color\": \"#4D5663\"}, \"title\": {\"font\": {\"color\": \"#4D5663\"}, \"text\": \"\"}, \"zerolinecolor\": \"#E1E5ED\"}},\n",
       "                        {\"showLink\": true, \"linkText\": \"Export to plot.ly\", \"plotlyServerURL\": \"https://plot.ly\", \"responsive\": true}\n",
       "                    ).then(function(){\n",
       "                            \n",
       "var gd = document.getElementById('916080c7-0434-4bf3-bb4d-b036416b8667');\n",
       "var x = new MutationObserver(function (mutations, observer) {{\n",
       "        var display = window.getComputedStyle(gd).display;\n",
       "        if (!display || display === 'none') {{\n",
       "            console.log([gd, 'removed!']);\n",
       "            Plotly.purge(gd);\n",
       "            observer.disconnect();\n",
       "        }}\n",
       "}});\n",
       "\n",
       "// Listen for the removal of the full notebook cells\n",
       "var notebookContainer = gd.closest('#notebook-container');\n",
       "if (notebookContainer) {{\n",
       "    x.observe(notebookContainer, {childList: true});\n",
       "}}\n",
       "\n",
       "// Listen for the clearing of the current output cell\n",
       "var outputEl = gd.closest('.output');\n",
       "if (outputEl) {{\n",
       "    x.observe(outputEl, {childList: true});\n",
       "}}\n",
       "\n",
       "                        })\n",
       "                };\n",
       "                });\n",
       "            </script>\n",
       "        </div>"
      ]
     },
     "metadata": {},
     "output_type": "display_data"
    }
   ],
   "source": [
    "df.scatter_matrix()"
   ]
  },
  {
   "cell_type": "code",
   "execution_count": null,
   "metadata": {},
   "outputs": [],
   "source": []
  }
 ],
 "metadata": {
  "kernelspec": {
   "display_name": "Python 3",
   "language": "python",
   "name": "python3"
  },
  "language_info": {
   "codemirror_mode": {
    "name": "ipython",
    "version": 3
   },
   "file_extension": ".py",
   "mimetype": "text/x-python",
   "name": "python",
   "nbconvert_exporter": "python",
   "pygments_lexer": "ipython3",
   "version": "3.7.6"
  }
 },
 "nbformat": 4,
 "nbformat_minor": 4
}
